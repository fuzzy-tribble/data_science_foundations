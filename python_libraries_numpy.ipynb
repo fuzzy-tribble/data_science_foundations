{
 "cells": [
  {
   "cell_type": "markdown",
   "metadata": {
    "Collapsed": "true"
   },
   "source": [
    "# Python Libraries for Data Science - `numpy`\n",
    "\n",
    "**Purpose:** The purpose of this workbook is to help you get comfortable with the topics outlined below.\n",
    "\n",
    "**Prereqs**\n",
    "* None\n",
    "    \n",
    "**Recomended Usage**\n",
    "* Run each of the cells (Shift+Enter) and edit them as necessary to solidify your understanding\n",
    "* Do any of the exercises that are relevant to helping you understand the material\n",
    "\n",
    "**Topics Covered**\n",
    "* Numpy - creation and manipulation of multidimensional data"
   ]
  },
  {
   "cell_type": "markdown",
   "metadata": {
    "Collapsed": "false"
   },
   "source": [
    "# Workbook Setup"
   ]
  },
  {
   "cell_type": "markdown",
   "metadata": {
    "Collapsed": "true"
   },
   "source": [
    "## Troubleshooting Tips"
   ]
  },
  {
   "cell_type": "markdown",
   "metadata": {
    "Collapsed": "false"
   },
   "source": [
    "If you run into issues running any of the code in this notebook, check your version of Jupyter and IPython as well as any extensions, libraries, etc.\n",
    "\n",
    "```bash\n",
    "!jupyter --version\n",
    "\n",
    "jupyter core     : 4.6.1\n",
    "jupyter-notebook : 6.0.2\n",
    "qtconsole        : not installed\n",
    "ipython          : 7.9.0\n",
    "ipykernel        : 5.1.3\n",
    "jupyter client   : 5.3.4\n",
    "jupyter lab      : 1.2.3\n",
    "nbconvert        : 5.6.1\n",
    "ipywidgets       : not installed\n",
    "nbformat         : 4.4.0\n",
    "traitlets        : 4.3.3\n",
    "```"
   ]
  },
  {
   "cell_type": "code",
   "execution_count": 1,
   "metadata": {
    "Collapsed": "false"
   },
   "outputs": [],
   "source": [
    "# # Run this cell to check the version of Jupyter you are running\n",
    "# !jupyter --version"
   ]
  },
  {
   "cell_type": "code",
   "execution_count": 2,
   "metadata": {
    "Collapsed": "false"
   },
   "outputs": [],
   "source": [
    "# # Run the relevant cell to check what extensions you are using\n",
    "# !jupyter-labextension list\n",
    "# !jupyter-nbextension list"
   ]
  },
  {
   "cell_type": "code",
   "execution_count": 3,
   "metadata": {
    "Collapsed": "false"
   },
   "outputs": [],
   "source": [
    "# # Check ipython version\n",
    "# import sys\n",
    "# print(sys.version)"
   ]
  },
  {
   "cell_type": "markdown",
   "metadata": {
    "Collapsed": "false"
   },
   "source": [
    "## Notebook Configs"
   ]
  },
  {
   "cell_type": "code",
   "execution_count": 4,
   "metadata": {
    "Collapsed": "false"
   },
   "outputs": [],
   "source": [
    "# Reload all modules before executing a new line\n",
    "%load_ext autoreload\n",
    "%autoreload 2\n",
    "\n",
    "# Abide by PEP8 code style\n",
    "%load_ext pycodestyle_magic\n",
    "%pycodestyle_on"
   ]
  },
  {
   "cell_type": "code",
   "execution_count": 5,
   "metadata": {
    "Collapsed": "false"
   },
   "outputs": [],
   "source": [
    "import numpy as np"
   ]
  },
  {
   "cell_type": "code",
   "execution_count": 6,
   "metadata": {
    "Collapsed": "false"
   },
   "outputs": [],
   "source": [
    "# If numpy didn't import you many need install using pip\n",
    "# !pip install numpy"
   ]
  },
  {
   "cell_type": "code",
   "execution_count": 7,
   "metadata": {
    "Collapsed": "false"
   },
   "outputs": [],
   "source": [
    "def print_a(a):\n",
    "    print('Dim: {}, Shape: {}\\n{}'.format(a.ndim, a.shape, a))"
   ]
  },
  {
   "cell_type": "markdown",
   "metadata": {
    "Collapsed": "false",
    "heading_collapsed": true
   },
   "source": [
    "# [`numpy`](https://docs.scipy.org/doc/numpy/reference/)\n",
    "\n",
    "`numpy` (numerical Python) is a widely used library for multi-dimensional data representation and manipulation.\n",
    "\n",
    "[Numpy Cheatsheet (pdf)](https://s3.amazonaws.com/assets.datacamp.com/blog_assets/Numpy_Python_Cheat_Sheet.pdf)\n",
    "\n",
    "[Numpy Docs](https://docs.scipy.org/doc/numpy/reference/)"
   ]
  },
  {
   "cell_type": "markdown",
   "metadata": {
    "Collapsed": "false",
    "heading_collapsed": true,
    "hidden": true
   },
   "source": [
    "## Creating Arrays\n",
    "\n",
    "Creating numpy arrays can be done from Python lists or they can be initialized with a variety of other placeholders like random numbers, ones, zeros, etc."
   ]
  },
  {
   "cell_type": "markdown",
   "metadata": {
    "Collapsed": "false"
   },
   "source": [
    "#### Create arrays from lists\n",
    "\n",
    "```python\n",
    "np.array()\n",
    "```"
   ]
  },
  {
   "cell_type": "code",
   "execution_count": 8,
   "metadata": {
    "Collapsed": "false",
    "hidden": true
   },
   "outputs": [
    {
     "name": "stdout",
     "output_type": "stream",
     "text": [
      "Dim: 1, Shape: (3,)\n",
      "[1 2 3]\n"
     ]
    }
   ],
   "source": [
    "# Create basic 1D array\n",
    "a = np.array([1, 2, 3])\n",
    "print_a(a)"
   ]
  },
  {
   "cell_type": "code",
   "execution_count": 9,
   "metadata": {
    "Collapsed": "false",
    "hidden": true
   },
   "outputs": [
    {
     "name": "stdout",
     "output_type": "stream",
     "text": [
      "Dim: 2, Shape: (2, 3)\n",
      "[[1.5 2.  3. ]\n",
      " [4.  5.  6. ]]\n"
     ]
    }
   ],
   "source": [
    "# Create 2D array with specific data type\n",
    "b = np.array([(1.5, 2, 3), (4, 5, 6)], dtype=float)\n",
    "print_a(b)"
   ]
  },
  {
   "cell_type": "code",
   "execution_count": 10,
   "metadata": {
    "Collapsed": "false",
    "hidden": true
   },
   "outputs": [
    {
     "name": "stdout",
     "output_type": "stream",
     "text": [
      "Dim: 3, Shape: (2, 2, 3)\n",
      "[[[1.5 2.  3. ]\n",
      "  [4.  5.  6. ]]\n",
      "\n",
      " [[3.  2.  1. ]\n",
      "  [4.  5.  6. ]]]\n"
     ]
    }
   ],
   "source": [
    "# Create 3D array\n",
    "c = np.array([[(1.5, 2, 3), (4, 5, 6)], [(3, 2, 1), (4, 5, 6)]], dtype=float)\n",
    "print_a(c)"
   ]
  },
  {
   "cell_type": "markdown",
   "metadata": {
    "Collapsed": "false"
   },
   "source": [
    "#### Create arrays of constant numbers\n",
    "\n",
    "```python\n",
    "np.zeros()\n",
    "np.ones()\n",
    "np.full()\n",
    "```"
   ]
  },
  {
   "cell_type": "code",
   "execution_count": 11,
   "metadata": {
    "Collapsed": "false",
    "hidden": true
   },
   "outputs": [
    {
     "name": "stdout",
     "output_type": "stream",
     "text": [
      "Dim: 2, Shape: (3, 4)\n",
      "[[0. 0. 0. 0.]\n",
      " [0. 0. 0. 0.]\n",
      " [0. 0. 0. 0.]]\n"
     ]
    }
   ],
   "source": [
    "# Create an array of zeros with shape 3 by 4\n",
    "a = np.zeros((3, 4))\n",
    "print_a(a)"
   ]
  },
  {
   "cell_type": "code",
   "execution_count": 12,
   "metadata": {
    "Collapsed": "false",
    "hidden": true
   },
   "outputs": [
    {
     "name": "stdout",
     "output_type": "stream",
     "text": [
      "Dim: 3, Shape: (2, 3, 4)\n",
      "[[[1 1 1 1]\n",
      "  [1 1 1 1]\n",
      "  [1 1 1 1]]\n",
      "\n",
      " [[1 1 1 1]\n",
      "  [1 1 1 1]\n",
      "  [1 1 1 1]]]\n"
     ]
    }
   ],
   "source": [
    "# Create an array of ones with shape 2 x 3 x 4\n",
    "a = np.ones((2, 3, 4), dtype=np.int16)\n",
    "print_a(a)"
   ]
  },
  {
   "cell_type": "code",
   "execution_count": 13,
   "metadata": {
    "Collapsed": "false",
    "hidden": true
   },
   "outputs": [
    {
     "name": "stdout",
     "output_type": "stream",
     "text": [
      "Dim: 2, Shape: (2, 2)\n",
      "[[7 7]\n",
      " [7 7]]\n"
     ]
    }
   ],
   "source": [
    "# Create a 2 by 2 array full of 7s\n",
    "e = np.full((2, 2), 7)\n",
    "print_a(e)"
   ]
  },
  {
   "cell_type": "markdown",
   "metadata": {
    "Collapsed": "false"
   },
   "source": [
    "#### Create arrays of random numbers\n",
    "\n",
    "```python\n",
    "np.random.random() / np.random.rand() / np.random.random_sample\n",
    "```"
   ]
  },
  {
   "cell_type": "markdown",
   "metadata": {
    "Collapsed": "false"
   },
   "source": [
    "*Note: The only difference between `np.random.random()`, `np.random.rand()` and `np.random.random_sample()` is the way the arguments are entered. They all generate samples from the uniform distribution on [0, 1)*"
   ]
  },
  {
   "cell_type": "code",
   "execution_count": 14,
   "metadata": {
    "Collapsed": "false"
   },
   "outputs": [
    {
     "name": "stdout",
     "output_type": "stream",
     "text": [
      "Dim: 2, Shape: (2, 2)\n",
      "[[0.63180187 0.18466373]\n",
      " [0.21697892 0.49285291]]\n"
     ]
    }
   ],
   "source": [
    "# Create an array of random floats shape: 2x2; interval [0.0, 1.0)\n",
    "a = np.random.random((2, 2))\n",
    "print_a(a)"
   ]
  },
  {
   "cell_type": "code",
   "execution_count": 15,
   "metadata": {
    "Collapsed": "false"
   },
   "outputs": [
    {
     "name": "stdout",
     "output_type": "stream",
     "text": [
      "Dim: 1, Shape: (12,)\n",
      "[ 2 -3  2 -1  0 -1 -2  0 -2 -2  1  2]\n"
     ]
    }
   ],
   "source": [
    "# Create an array with random ints of len 12 from -3 to 3\n",
    "a = np.random.randint(-3, 3, size=12)\n",
    "print_a(a)"
   ]
  },
  {
   "cell_type": "markdown",
   "metadata": {
    "Collapsed": "false"
   },
   "source": [
    "When you need to generate a random sample of numbers to fill a matrix you will likely have specific requirements in which case you can consult the documentation regarding which random function to use as there are many ways of generating specific types of random numbers over varying distrubutions, etc."
   ]
  },
  {
   "cell_type": "markdown",
   "metadata": {
    "Collapsed": "false"
   },
   "source": [
    "#### Create empty arrays\n",
    "```python\n",
    "np.empty()\n",
    "```"
   ]
  },
  {
   "cell_type": "code",
   "execution_count": 16,
   "metadata": {
    "Collapsed": "false",
    "hidden": true
   },
   "outputs": [
    {
     "data": {
      "text/plain": [
       "array([[1.39069238e-309, 1.39069238e-309],\n",
       "       [1.39069238e-309, 1.39069238e-309],\n",
       "       [1.39069238e-309, 1.39069238e-309]])"
      ]
     },
     "execution_count": 16,
     "metadata": {},
     "output_type": "execute_result"
    }
   ],
   "source": [
    "# Create an empty array (uninitialized so whatever is in mem loc already stays)\n",
    "np.empty((3, 2))"
   ]
  },
  {
   "cell_type": "markdown",
   "metadata": {
    "Collapsed": "false"
   },
   "source": [
    "#### Create evenly spaced arrays\n",
    "\n",
    "```python\n",
    "np.arange()  # start, stop, step\n",
    "np.linspace()  # start, stop, num quantities\n",
    "```"
   ]
  },
  {
   "cell_type": "markdown",
   "metadata": {
    "Collapsed": "false"
   },
   "source": [
    "Whats the difference?\n",
    "* `arange` gives you control over STEP SIZE\n",
    "* `linspace` gives you control over NUM OF SAMPLES you get"
   ]
  },
  {
   "cell_type": "code",
   "execution_count": 17,
   "metadata": {
    "Collapsed": "false",
    "hidden": true
   },
   "outputs": [
    {
     "name": "stdout",
     "output_type": "stream",
     "text": [
      "Dim: 1, Shape: (3,)\n",
      "[10 15 20]\n"
     ]
    }
   ],
   "source": [
    "# Create an array of evenly spaced values (step value)\n",
    "# from 10 to 25 in steps of 5\n",
    "d = np.arange(10, 25, 5)\n",
    "print_a(d)"
   ]
  },
  {
   "cell_type": "code",
   "execution_count": 18,
   "metadata": {
    "Collapsed": "false",
    "hidden": true
   },
   "outputs": [
    {
     "name": "stdout",
     "output_type": "stream",
     "text": [
      "Dim: 1, Shape: (9,)\n",
      "[0.   0.25 0.5  0.75 1.   1.25 1.5  1.75 2.  ]\n"
     ]
    }
   ],
   "source": [
    "# Create an array of evenly spaced values (number of samples)\n",
    "# 9 numbers from 0 to 2\n",
    "print_a(np.linspace(0, 2, 9))"
   ]
  },
  {
   "cell_type": "markdown",
   "metadata": {
    "Collapsed": "false"
   },
   "source": [
    "#### Create an identity matrix\n",
    "\n",
    "```python\n",
    "np.eye()\n",
    "```"
   ]
  },
  {
   "cell_type": "markdown",
   "metadata": {
    "Collapsed": "false"
   },
   "source": [
    "Identity matrices are useful for many applications in linear algebra, therefore creating identity matrices using this function is very common in data science."
   ]
  },
  {
   "cell_type": "code",
   "execution_count": 19,
   "metadata": {
    "Collapsed": "false",
    "hidden": true
   },
   "outputs": [
    {
     "name": "stdout",
     "output_type": "stream",
     "text": [
      "Dim: 2, Shape: (10, 10)\n",
      "[[1. 0. 0. 0. 0. 0. 0. 0. 0. 0.]\n",
      " [0. 1. 0. 0. 0. 0. 0. 0. 0. 0.]\n",
      " [0. 0. 1. 0. 0. 0. 0. 0. 0. 0.]\n",
      " [0. 0. 0. 1. 0. 0. 0. 0. 0. 0.]\n",
      " [0. 0. 0. 0. 1. 0. 0. 0. 0. 0.]\n",
      " [0. 0. 0. 0. 0. 1. 0. 0. 0. 0.]\n",
      " [0. 0. 0. 0. 0. 0. 1. 0. 0. 0.]\n",
      " [0. 0. 0. 0. 0. 0. 0. 1. 0. 0.]\n",
      " [0. 0. 0. 0. 0. 0. 0. 0. 1. 0.]\n",
      " [0. 0. 0. 0. 0. 0. 0. 0. 0. 1.]]\n"
     ]
    }
   ],
   "source": [
    "# Create a 10X10 identity matrix; diagonal of 1s\n",
    "f = np.eye(10)\n",
    "print_a(f)"
   ]
  },
  {
   "cell_type": "markdown",
   "metadata": {
    "Collapsed": "false"
   },
   "source": [
    "#### Create a mesh grid\n",
    "\n",
    "```python\n",
    "np.mgrid()\n",
    "```"
   ]
  },
  {
   "cell_type": "markdown",
   "metadata": {
    "Collapsed": "false"
   },
   "source": [
    "Meshgrids create a rectangular grid out of two one-dimensional arrays representing the Cartesian axis.\n",
    "\n",
    "<img width=\"300\" src=\"img/meshgrid.png\"></img>\n",
    "\n",
    "For example, if you are wanting to show the speed of a cross-section of a fluid you may want to draw an X by Y gridspace that has values for the speed at each of the different points in the grid."
   ]
  },
  {
   "cell_type": "code",
   "execution_count": 22,
   "metadata": {
    "Collapsed": "false"
   },
   "outputs": [
    {
     "name": "stdout",
     "output_type": "stream",
     "text": [
      "Dim: 2, Shape: (9, 9)\n",
      "[[-4 -4 -4 -4 -4 -4 -4 -4 -4]\n",
      " [-3 -3 -3 -3 -3 -3 -3 -3 -3]\n",
      " [-2 -2 -2 -2 -2 -2 -2 -2 -2]\n",
      " [-1 -1 -1 -1 -1 -1 -1 -1 -1]\n",
      " [ 0  0  0  0  0  0  0  0  0]\n",
      " [ 1  1  1  1  1  1  1  1  1]\n",
      " [ 2  2  2  2  2  2  2  2  2]\n",
      " [ 3  3  3  3  3  3  3  3  3]\n",
      " [ 4  4  4  4  4  4  4  4  4]]\n",
      "Dim: 2, Shape: (9, 9)\n",
      "[[-4 -3 -2 -1  0  1  2  3  4]\n",
      " [-4 -3 -2 -1  0  1  2  3  4]\n",
      " [-4 -3 -2 -1  0  1  2  3  4]\n",
      " [-4 -3 -2 -1  0  1  2  3  4]\n",
      " [-4 -3 -2 -1  0  1  2  3  4]\n",
      " [-4 -3 -2 -1  0  1  2  3  4]\n",
      " [-4 -3 -2 -1  0  1  2  3  4]\n",
      " [-4 -3 -2 -1  0  1  2  3  4]\n",
      " [-4 -3 -2 -1  0  1  2  3  4]]\n"
     ]
    }
   ],
   "source": [
    "# Create a 4x4 rectangular mesh grid\n",
    "x, y = np.mgrid[-4:5, -4:5]\n",
    "print_a(x)\n",
    "print_a(y)"
   ]
  },
  {
   "cell_type": "markdown",
   "metadata": {
    "Collapsed": "false"
   },
   "source": [
    "Now we can index the values in the grid as we would using cartesian coordinates."
   ]
  },
  {
   "cell_type": "code",
   "execution_count": 24,
   "metadata": {
    "Collapsed": "false"
   },
   "outputs": [
    {
     "data": {
      "text/plain": [
       "array([-4, -3, -2, -1,  0,  1,  2,  3,  4])"
      ]
     },
     "execution_count": 24,
     "metadata": {},
     "output_type": "execute_result"
    }
   ],
   "source": [
    "# We can see all of the y-values at x = 0 along the gridspace\n",
    "y[0]"
   ]
  },
  {
   "cell_type": "code",
   "execution_count": 25,
   "metadata": {
    "Collapsed": "false"
   },
   "outputs": [
    {
     "data": {
      "text/plain": [
       "array([-4, -3, -2, -1,  0,  1,  2,  3,  4])"
      ]
     },
     "execution_count": 25,
     "metadata": {},
     "output_type": "execute_result"
    }
   ],
   "source": [
    "# y-values at x = -4\n",
    "y[-4]"
   ]
  },
  {
   "cell_type": "code",
   "execution_count": null,
   "metadata": {
    "Collapsed": "false"
   },
   "outputs": [],
   "source": [
    "# We can see all of the y-values at x = 0 along the gridspace\n",
    "x[0]"
   ]
  },
  {
   "cell_type": "code",
   "execution_count": null,
   "metadata": {
    "Collapsed": "false"
   },
   "outputs": [],
   "source": []
  },
  {
   "cell_type": "code",
   "execution_count": null,
   "metadata": {
    "Collapsed": "false"
   },
   "outputs": [],
   "source": []
  },
  {
   "cell_type": "code",
   "execution_count": 19,
   "metadata": {
    "Collapsed": "false"
   },
   "outputs": [
    {
     "name": "stdout",
     "output_type": "stream",
     "text": [
      "Shape: (5,)\n",
      "[-1.  -0.5  0.   0.5  1. ]\n"
     ]
    }
   ],
   "source": [
    "# Create a meshgrid from -1 to 1 with 5 numbers\n",
    "x = np.mgrid[-1:1:5j]\n",
    "print_a(x)"
   ]
  },
  {
   "cell_type": "code",
   "execution_count": 18,
   "metadata": {
    "Collapsed": "false"
   },
   "outputs": [
    {
     "name": "stdout",
     "output_type": "stream",
     "text": [
      "Shape: (5, 5)\n",
      "[[0 0 0 0 0]\n",
      " [1 1 1 1 1]\n",
      " [2 2 2 2 2]\n",
      " [3 3 3 3 3]\n",
      " [4 4 4 4 4]]\n",
      "Shape: (5, 5)\n",
      "[[0 1 2 3 4]\n",
      " [0 1 2 3 4]\n",
      " [0 1 2 3 4]\n",
      " [0 1 2 3 4]\n",
      " [0 1 2 3 4]]\n"
     ]
    }
   ],
   "source": [
    "# Create a 2 meshgrids with nums from 0 to 5\n",
    "x, y = np.mgrid[0:5, 0:5]\n",
    "print_a(x)\n",
    "print_a(y)"
   ]
  },
  {
   "cell_type": "markdown",
   "metadata": {
    "Collapsed": "true",
    "heading_collapsed": true,
    "hidden": true
   },
   "source": [
    "## I/O\n",
    "\n",
    "```python\n",
    "np.save()\n",
    "np.load()\n",
    "np.savez()\n",
    "```"
   ]
  },
  {
   "cell_type": "markdown",
   "metadata": {
    "Collapsed": "true",
    "heading_collapsed": true,
    "hidden": true
   },
   "source": [
    "### Saving and Loading on Disk"
   ]
  },
  {
   "cell_type": "markdown",
   "metadata": {
    "Collapsed": "false"
   },
   "source": [
    "Save an array as a .npy file"
   ]
  },
  {
   "cell_type": "code",
   "execution_count": 78,
   "metadata": {
    "Collapsed": "false",
    "hidden": true
   },
   "outputs": [],
   "source": [
    "np.save('my_array', a)"
   ]
  },
  {
   "cell_type": "code",
   "execution_count": 79,
   "metadata": {
    "Collapsed": "false",
    "hidden": true
   },
   "outputs": [
    {
     "data": {
      "text/plain": [
       "array([[0.97794309, 0.61588732, 0.03405745, 0.17937364],\n",
       "       [0.43927472, 0.98477142, 0.61058369, 0.51144631]])"
      ]
     },
     "execution_count": 79,
     "metadata": {},
     "output_type": "execute_result"
    }
   ],
   "source": [
    "np.load('my_array.npy')"
   ]
  },
  {
   "cell_type": "markdown",
   "metadata": {
    "Collapsed": "false"
   },
   "source": [
    "Save several arrays in an uncompressed .npz file"
   ]
  },
  {
   "cell_type": "code",
   "execution_count": 80,
   "metadata": {
    "Collapsed": "false",
    "hidden": true
   },
   "outputs": [],
   "source": [
    "np.savez('array.npz', array1=a, array2=b)"
   ]
  },
  {
   "cell_type": "code",
   "execution_count": 81,
   "metadata": {
    "Collapsed": "false",
    "hidden": true
   },
   "outputs": [],
   "source": [
    "my_arrays = np.load('array.npz')"
   ]
  },
  {
   "cell_type": "code",
   "execution_count": 82,
   "metadata": {
    "Collapsed": "false",
    "hidden": true
   },
   "outputs": [
    {
     "data": {
      "text/plain": [
       "array([[0.97794309, 0.61588732, 0.03405745, 0.17937364],\n",
       "       [0.43927472, 0.98477142, 0.61058369, 0.51144631]])"
      ]
     },
     "execution_count": 82,
     "metadata": {},
     "output_type": "execute_result"
    }
   ],
   "source": [
    "my_arrays['array1']"
   ]
  },
  {
   "cell_type": "markdown",
   "metadata": {
    "Collapsed": "true",
    "heading_collapsed": true,
    "hidden": true
   },
   "source": [
    "### Saving and Loading Text Files"
   ]
  },
  {
   "cell_type": "markdown",
   "metadata": {
    "Collapsed": "false"
   },
   "source": [
    "We can also load data from text file (each row must have same # of vals)"
   ]
  },
  {
   "cell_type": "code",
   "execution_count": 8,
   "metadata": {
    "Collapsed": "false",
    "hidden": true
   },
   "outputs": [],
   "source": [
    "# Create the file to run this cell\n",
    "# np.loadtxt(\"myfile.txt\")"
   ]
  },
  {
   "cell_type": "markdown",
   "metadata": {
    "Collapsed": "false"
   },
   "source": [
    "Or load data from a text file with missing values handled in a specific way"
   ]
  },
  {
   "cell_type": "code",
   "execution_count": null,
   "metadata": {
    "Collapsed": "false",
    "hidden": true
   },
   "outputs": [],
   "source": [
    "# Create the file to run this cell\n",
    "# np.genfromtxt(\"my_file.csv\", delimiter=',')"
   ]
  },
  {
   "cell_type": "code",
   "execution_count": 9,
   "metadata": {
    "Collapsed": "false",
    "hidden": true
   },
   "outputs": [],
   "source": [
    "# Create the file to run this cell\n",
    "# np.savetxt(\"myarray.txt\", a, delimiter=\" \")"
   ]
  },
  {
   "cell_type": "markdown",
   "metadata": {
    "Collapsed": "true",
    "heading_collapsed": true,
    "hidden": true
   },
   "source": [
    "## Datatypes\n",
    "\n",
    "```python\n",
    "np.int64, np.float32, np.complex, np.bool, np.object, np.string_, np.unicode_\n",
    "```"
   ]
  },
  {
   "cell_type": "code",
   "execution_count": null,
   "metadata": {
    "Collapsed": "false",
    "hidden": true
   },
   "outputs": [],
   "source": [
    "np.int64  # Signed 64-bit integer type"
   ]
  },
  {
   "cell_type": "code",
   "execution_count": null,
   "metadata": {
    "Collapsed": "false",
    "hidden": true
   },
   "outputs": [],
   "source": [
    "np.float32  # Standard double-precision floating point"
   ]
  },
  {
   "cell_type": "code",
   "execution_count": null,
   "metadata": {
    "Collapsed": "false",
    "hidden": true
   },
   "outputs": [],
   "source": [
    "np.complex  # Complex numbers represented by 128 floats"
   ]
  },
  {
   "cell_type": "code",
   "execution_count": null,
   "metadata": {
    "Collapsed": "false",
    "hidden": true
   },
   "outputs": [],
   "source": [
    "np.bool  # Boolean type storing TRUE and FALSE values"
   ]
  },
  {
   "cell_type": "code",
   "execution_count": null,
   "metadata": {
    "Collapsed": "false",
    "hidden": true
   },
   "outputs": [],
   "source": [
    "np.object  # Python object type"
   ]
  },
  {
   "cell_type": "code",
   "execution_count": null,
   "metadata": {
    "Collapsed": "false",
    "hidden": true
   },
   "outputs": [],
   "source": [
    "np.string_  # Fixed-length string type"
   ]
  },
  {
   "cell_type": "code",
   "execution_count": null,
   "metadata": {
    "Collapsed": "false",
    "hidden": true
   },
   "outputs": [],
   "source": [
    "np.unicode_  # Fixed-length unicode type"
   ]
  },
  {
   "cell_type": "markdown",
   "metadata": {
    "Collapsed": "true",
    "heading_collapsed": true,
    "hidden": true
   },
   "source": [
    "## Inspecting Your Array\n",
    "\n",
    "```python\n",
    "my_array.shape  # array shape\n",
    "my_array.ndim  # num dimensions\n",
    "my_array.size  # num elements\n",
    "len(my_array)  # array length\n",
    "my_array.astype(int)  # convert type\n",
    "```"
   ]
  },
  {
   "cell_type": "code",
   "execution_count": 20,
   "metadata": {
    "Collapsed": "false",
    "hidden": true
   },
   "outputs": [
    {
     "name": "stdout",
     "output_type": "stream",
     "text": [
      "[[0.62049994 0.00231598 0.17504248 0.05006043]\n",
      " [0.68392223 0.70521001 0.93827918 0.42485141]]\n"
     ]
    },
    {
     "data": {
      "text/plain": [
       "(2, 4)"
      ]
     },
     "execution_count": 20,
     "metadata": {},
     "output_type": "execute_result"
    }
   ],
   "source": [
    "print(a)\n",
    "a.shape  # Array dimensions"
   ]
  },
  {
   "cell_type": "code",
   "execution_count": 21,
   "metadata": {
    "Collapsed": "false",
    "hidden": true
   },
   "outputs": [
    {
     "data": {
      "text/plain": [
       "2"
      ]
     },
     "execution_count": 21,
     "metadata": {},
     "output_type": "execute_result"
    }
   ],
   "source": [
    "# Length of array\n",
    "len(a)"
   ]
  },
  {
   "cell_type": "code",
   "execution_count": 22,
   "metadata": {
    "Collapsed": "false"
   },
   "outputs": [
    {
     "data": {
      "text/plain": [
       "4"
      ]
     },
     "execution_count": 22,
     "metadata": {},
     "output_type": "execute_result"
    }
   ],
   "source": [
    "# Length of array\n",
    "len(a[0])"
   ]
  },
  {
   "cell_type": "code",
   "execution_count": 23,
   "metadata": {
    "Collapsed": "false"
   },
   "outputs": [
    {
     "data": {
      "text/plain": [
       "array([[1.5, 2. , 3. ],\n",
       "       [4. , 5. , 6. ]])"
      ]
     },
     "execution_count": 23,
     "metadata": {},
     "output_type": "execute_result"
    }
   ],
   "source": [
    "b"
   ]
  },
  {
   "cell_type": "code",
   "execution_count": 24,
   "metadata": {
    "Collapsed": "false",
    "hidden": true
   },
   "outputs": [
    {
     "data": {
      "text/plain": [
       "2"
      ]
     },
     "execution_count": 24,
     "metadata": {},
     "output_type": "execute_result"
    }
   ],
   "source": [
    "b.ndim  # Number of array dimensions"
   ]
  },
  {
   "cell_type": "code",
   "execution_count": 25,
   "metadata": {
    "Collapsed": "false"
   },
   "outputs": [
    {
     "data": {
      "text/plain": [
       "array([[7, 7],\n",
       "       [7, 7]])"
      ]
     },
     "execution_count": 25,
     "metadata": {},
     "output_type": "execute_result"
    }
   ],
   "source": [
    "e"
   ]
  },
  {
   "cell_type": "code",
   "execution_count": 26,
   "metadata": {
    "Collapsed": "false",
    "hidden": true
   },
   "outputs": [
    {
     "data": {
      "text/plain": [
       "4"
      ]
     },
     "execution_count": 26,
     "metadata": {},
     "output_type": "execute_result"
    }
   ],
   "source": [
    "e.size  # Number of array elements"
   ]
  },
  {
   "cell_type": "code",
   "execution_count": 27,
   "metadata": {
    "Collapsed": "false",
    "hidden": true
   },
   "outputs": [
    {
     "data": {
      "text/plain": [
       "dtype('float64')"
      ]
     },
     "execution_count": 27,
     "metadata": {},
     "output_type": "execute_result"
    }
   ],
   "source": [
    "b.dtype  # Data type of array elements"
   ]
  },
  {
   "cell_type": "code",
   "execution_count": 28,
   "metadata": {
    "Collapsed": "false",
    "hidden": true
   },
   "outputs": [
    {
     "data": {
      "text/plain": [
       "'float64'"
      ]
     },
     "execution_count": 28,
     "metadata": {},
     "output_type": "execute_result"
    }
   ],
   "source": [
    "b.dtype.name  # Name of data type"
   ]
  },
  {
   "cell_type": "code",
   "execution_count": 29,
   "metadata": {
    "Collapsed": "false",
    "hidden": true
   },
   "outputs": [
    {
     "data": {
      "text/plain": [
       "array([[1, 2, 3],\n",
       "       [4, 5, 6]])"
      ]
     },
     "execution_count": 29,
     "metadata": {},
     "output_type": "execute_result"
    }
   ],
   "source": [
    "b.astype(int)  # Convert an array to a different type"
   ]
  },
  {
   "cell_type": "markdown",
   "metadata": {
    "Collapsed": "true",
    "heading_collapsed": true,
    "hidden": true
   },
   "source": [
    "## Array Mathematics"
   ]
  },
  {
   "cell_type": "markdown",
   "metadata": {
    "Collapsed": "true",
    "heading_collapsed": true,
    "hidden": true
   },
   "source": [
    "### Arithmetic Ops\n",
    "\n",
    "There is a feature of numpy called **broadcasting**. It allows mathematical array operations to be performed very quickly (in C instead of Python)"
   ]
  },
  {
   "cell_type": "markdown",
   "metadata": {
    "Collapsed": "false"
   },
   "source": [
    "Broadcasting happens automatically and is generally the fastest approach. \n",
    "\n",
    "It is done using four rules:\n",
    "\n",
    "* All input arrays with ndim smaller than the input array of largest ndim, have 1’s prepended to their shapes.\n",
    "\n",
    "* The size in each dimension of the output shape is the maximum of all the input sizes in that dimension.\n",
    "\n",
    "* An input can be used in the calculation if its size in a particular dimension either matches the output size in that dimension, or has value exactly 1.\n",
    "\n",
    "[More on broadcasting from the docs](https://docs.scipy.org/doc/numpy-1.10.0/user/basics.broadcasting.html)\n",
    "\n",
    "Let's see it in action using the two arrays defined below"
   ]
  },
  {
   "cell_type": "code",
   "execution_count": 30,
   "metadata": {
    "Collapsed": "false"
   },
   "outputs": [
    {
     "name": "stdout",
     "output_type": "stream",
     "text": [
      "Shape: (3,)\n",
      "[1 2 3]\n",
      "Shape: (2, 3)\n",
      "[[1.5 2.  3. ]\n",
      " [4.  5.  6. ]]\n"
     ]
    }
   ],
   "source": [
    "a = np.array([1, 2, 3])\n",
    "b = np.array([[1.5, 2.,  3.], [4.,  5.,  6.]])\n",
    "print_a(a)\n",
    "print_a(b)"
   ]
  },
  {
   "cell_type": "markdown",
   "metadata": {
    "Collapsed": "true",
    "heading_collapsed": true,
    "hidden": true
   },
   "source": [
    "#### Subtraction and Addition"
   ]
  },
  {
   "cell_type": "markdown",
   "metadata": {
    "Collapsed": "false"
   },
   "source": [
    "We can see that the dimension mismatch error doesn't happen b/c array a is broadcast to each from in b"
   ]
  },
  {
   "cell_type": "code",
   "execution_count": 31,
   "metadata": {
    "Collapsed": "false",
    "hidden": true
   },
   "outputs": [
    {
     "name": "stdout",
     "output_type": "stream",
     "text": [
      "Subtraction\n",
      " a - b = g\n",
      "\n",
      " [1 2 3]\n",
      " - \n",
      "[[1.5 2.  3. ]\n",
      " [4.  5.  6. ]]\n",
      " =\n",
      "[[-0.5  0.   0. ]\n",
      " [-3.  -3.  -3. ]]\n"
     ]
    }
   ],
   "source": [
    "g = a - b\n",
    "print('Subtraction\\n a - b = g\\n\\n {}\\n - \\n{}\\n =\\n{}'.format(a, b, g))"
   ]
  },
  {
   "cell_type": "code",
   "execution_count": 32,
   "metadata": {
    "Collapsed": "false",
    "hidden": true
   },
   "outputs": [
    {
     "data": {
      "text/plain": [
       "array([[-0.5,  0. ,  0. ],\n",
       "       [-3. , -3. , -3. ]])"
      ]
     },
     "execution_count": 32,
     "metadata": {},
     "output_type": "execute_result"
    }
   ],
   "source": [
    "np.subtract(a, b)"
   ]
  },
  {
   "cell_type": "code",
   "execution_count": 33,
   "metadata": {
    "Collapsed": "false",
    "hidden": true
   },
   "outputs": [
    {
     "name": "stdout",
     "output_type": "stream",
     "text": [
      "Addition\n",
      " a + b = h\n",
      "\n",
      " [1 2 3]\n",
      " + \n",
      "[[1.5 2.  3. ]\n",
      " [4.  5.  6. ]]\n",
      " =\n",
      "[[2.5 4.  6. ]\n",
      " [5.  7.  9. ]]\n"
     ]
    }
   ],
   "source": [
    "h = b + a\n",
    "print('Addition\\n a + b = h\\n\\n {}\\n + \\n{}\\n =\\n{}'.format(a, b, h))"
   ]
  },
  {
   "cell_type": "code",
   "execution_count": 34,
   "metadata": {
    "Collapsed": "false",
    "hidden": true
   },
   "outputs": [
    {
     "data": {
      "text/plain": [
       "array([[2.5, 4. , 6. ],\n",
       "       [5. , 7. , 9. ]])"
      ]
     },
     "execution_count": 34,
     "metadata": {},
     "output_type": "execute_result"
    }
   ],
   "source": [
    "np.add(b, a)"
   ]
  },
  {
   "cell_type": "markdown",
   "metadata": {
    "Collapsed": "true",
    "heading_collapsed": true,
    "hidden": true
   },
   "source": [
    "#### Division and Multiplication"
   ]
  },
  {
   "cell_type": "code",
   "execution_count": 35,
   "metadata": {
    "Collapsed": "false",
    "hidden": true
   },
   "outputs": [
    {
     "name": "stdout",
     "output_type": "stream",
     "text": [
      "Division\n",
      " a / b = h\n",
      "\n",
      " [1 2 3]\n",
      " / \n",
      "[[1.5 2.  3. ]\n",
      " [4.  5.  6. ]]\n",
      " =\n",
      "[[0.66666667 1.         1.        ]\n",
      " [0.25       0.4        0.5       ]]\n"
     ]
    }
   ],
   "source": [
    "i = a / b\n",
    "print('Division\\n a / b = h\\n\\n {}\\n / \\n{}\\n =\\n{}'.format(a, b, i))"
   ]
  },
  {
   "cell_type": "code",
   "execution_count": 36,
   "metadata": {
    "Collapsed": "false",
    "hidden": true
   },
   "outputs": [
    {
     "data": {
      "text/plain": [
       "array([[0.66666667, 1.        , 1.        ],\n",
       "       [0.25      , 0.4       , 0.5       ]])"
      ]
     },
     "execution_count": 36,
     "metadata": {},
     "output_type": "execute_result"
    }
   ],
   "source": [
    "np.divide(a, b)"
   ]
  },
  {
   "cell_type": "code",
   "execution_count": 37,
   "metadata": {
    "Collapsed": "false",
    "hidden": true
   },
   "outputs": [
    {
     "name": "stdout",
     "output_type": "stream",
     "text": [
      "Multiplication\n",
      " a * b = h\n",
      "\n",
      " [1 2 3]\n",
      " * \n",
      "[[1.5 2.  3. ]\n",
      " [4.  5.  6. ]]\n",
      " =\n",
      "[[ 1.5  4.   9. ]\n",
      " [ 4.  10.  18. ]]\n"
     ]
    }
   ],
   "source": [
    "j = a * b\n",
    "print('Multiplication\\n a * b = h\\n\\n {}\\n * \\n{}\\n =\\n{}'.format(a, b, j))"
   ]
  },
  {
   "cell_type": "code",
   "execution_count": 38,
   "metadata": {
    "Collapsed": "false",
    "hidden": true
   },
   "outputs": [
    {
     "data": {
      "text/plain": [
       "array([[ 1.5,  4. ,  9. ],\n",
       "       [ 4. , 10. , 18. ]])"
      ]
     },
     "execution_count": 38,
     "metadata": {},
     "output_type": "execute_result"
    }
   ],
   "source": [
    "np.multiply(a, b)"
   ]
  },
  {
   "cell_type": "markdown",
   "metadata": {},
   "source": [
    "*Note: If you want to do matrix multiplication you need to use `np.dot()`; the `multiply()` function does element-wise multiplication*"
   ]
  },
  {
   "cell_type": "markdown",
   "metadata": {
    "Collapsed": "true",
    "heading_collapsed": true,
    "hidden": true
   },
   "source": [
    "#### Other Mathy Stuff\n",
    "\n",
    "Exponentiation, square roots, sin, cos, etc"
   ]
  },
  {
   "cell_type": "code",
   "execution_count": 39,
   "metadata": {
    "Collapsed": "false",
    "hidden": true
   },
   "outputs": [
    {
     "name": "stdout",
     "output_type": "stream",
     "text": [
      "[[1.5 2.  3. ]\n",
      " [4.  5.  6. ]]\n"
     ]
    },
    {
     "data": {
      "text/plain": [
       "array([[  4.48168907,   7.3890561 ,  20.08553692],\n",
       "       [ 54.59815003, 148.4131591 , 403.42879349]])"
      ]
     },
     "execution_count": 39,
     "metadata": {},
     "output_type": "execute_result"
    }
   ],
   "source": [
    "print(b)\n",
    "np.exp(b)  # Exponentiation (ie. e^b)"
   ]
  },
  {
   "cell_type": "code",
   "execution_count": 40,
   "metadata": {
    "Collapsed": "false",
    "hidden": true
   },
   "outputs": [
    {
     "name": "stdout",
     "output_type": "stream",
     "text": [
      "[[1.5 2.  3. ]\n",
      " [4.  5.  6. ]]\n"
     ]
    },
    {
     "data": {
      "text/plain": [
       "array([[1.22474487, 1.41421356, 1.73205081],\n",
       "       [2.        , 2.23606798, 2.44948974]])"
      ]
     },
     "execution_count": 40,
     "metadata": {},
     "output_type": "execute_result"
    }
   ],
   "source": [
    "print(b)\n",
    "np.sqrt(b)  # Square root"
   ]
  },
  {
   "cell_type": "code",
   "execution_count": 41,
   "metadata": {
    "Collapsed": "false",
    "hidden": true
   },
   "outputs": [
    {
     "name": "stdout",
     "output_type": "stream",
     "text": [
      "[1 2 3]\n"
     ]
    },
    {
     "data": {
      "text/plain": [
       "array([0.84147098, 0.90929743, 0.14112001])"
      ]
     },
     "execution_count": 41,
     "metadata": {},
     "output_type": "execute_result"
    }
   ],
   "source": [
    "print(a)\n",
    "np.sin(a)  # Print sines of an array"
   ]
  },
  {
   "cell_type": "code",
   "execution_count": 42,
   "metadata": {
    "Collapsed": "false",
    "hidden": true
   },
   "outputs": [
    {
     "name": "stdout",
     "output_type": "stream",
     "text": [
      "[[1.5 2.  3. ]\n",
      " [4.  5.  6. ]]\n"
     ]
    },
    {
     "data": {
      "text/plain": [
       "array([[ 0.0707372 , -0.41614684, -0.9899925 ],\n",
       "       [-0.65364362,  0.28366219,  0.96017029]])"
      ]
     },
     "execution_count": 42,
     "metadata": {},
     "output_type": "execute_result"
    }
   ],
   "source": [
    "print(b)\n",
    "np.cos(b)  # Element-wise cosine"
   ]
  },
  {
   "cell_type": "code",
   "execution_count": 43,
   "metadata": {
    "Collapsed": "false",
    "hidden": true
   },
   "outputs": [
    {
     "name": "stdout",
     "output_type": "stream",
     "text": [
      "[1 2 3]\n"
     ]
    },
    {
     "data": {
      "text/plain": [
       "array([0.        , 0.69314718, 1.09861229])"
      ]
     },
     "execution_count": 43,
     "metadata": {},
     "output_type": "execute_result"
    }
   ],
   "source": [
    "print(a)\n",
    "np.log(a)  # Element-wise natural logarithm"
   ]
  },
  {
   "cell_type": "markdown",
   "metadata": {
    "Collapsed": "true",
    "heading_collapsed": true,
    "hidden": true
   },
   "source": [
    "### Comparison (element-wise and array-wise)\n",
    "\n",
    "```python\n",
    "array_1 == array_2  # element-wise comp\n",
    "np.array_equal()  # test if same shape, same elements values\n",
    "np.array_equiv()  # test if broadcastable shape, same elements values\n",
    "np.allclose() # test if same shape, elements have close enough values\n",
    "```"
   ]
  },
  {
   "cell_type": "code",
   "execution_count": 44,
   "metadata": {
    "Collapsed": "false",
    "hidden": true
   },
   "outputs": [
    {
     "name": "stdout",
     "output_type": "stream",
     "text": [
      "Shape: (3,)\n",
      "[1 2 3]\n"
     ]
    },
    {
     "data": {
      "text/plain": [
       "array([ True, False, False])"
      ]
     },
     "execution_count": 44,
     "metadata": {},
     "output_type": "execute_result"
    }
   ],
   "source": [
    "print_a(a)\n",
    "a < 2  # Element-wise comparison array([True, False, False], dtype=bool)"
   ]
  },
  {
   "cell_type": "code",
   "execution_count": 45,
   "metadata": {
    "Collapsed": "false",
    "hidden": true
   },
   "outputs": [
    {
     "name": "stdout",
     "output_type": "stream",
     "text": [
      "Shape: (3,)\n",
      "[1 2 3]\n",
      "Shape: (2, 3)\n",
      "[[1.5 2.  3. ]\n",
      " [4.  5.  6. ]]\n"
     ]
    },
    {
     "data": {
      "text/plain": [
       "array([[False,  True,  True],\n",
       "       [False, False, False]])"
      ]
     },
     "execution_count": 45,
     "metadata": {},
     "output_type": "execute_result"
    }
   ],
   "source": [
    "print_a(a)\n",
    "print_a(b)\n",
    "a == b  # Element-wise comparison"
   ]
  },
  {
   "cell_type": "markdown",
   "metadata": {
    "Collapsed": "false"
   },
   "source": [
    "Let's take a look at some of the equivalency functions that numpy provides and learn how they are different."
   ]
  },
  {
   "cell_type": "code",
   "execution_count": 46,
   "metadata": {
    "Collapsed": "false",
    "hidden": true
   },
   "outputs": [],
   "source": [
    "a = np.array([1, 2, 3])\n",
    "b = np.array([1, 2, 3])"
   ]
  },
  {
   "cell_type": "code",
   "execution_count": 47,
   "metadata": {
    "Collapsed": "false"
   },
   "outputs": [
    {
     "name": "stdout",
     "output_type": "stream",
     "text": [
      "True\n",
      "True\n",
      "True\n"
     ]
    }
   ],
   "source": [
    "print(np.array_equal(a, b))\n",
    "print(np.array_equiv(a, b))\n",
    "print(np.allclose(a, b))"
   ]
  },
  {
   "cell_type": "markdown",
   "metadata": {
    "Collapsed": "false"
   },
   "source": [
    "Array `a` and `b` are equal in shape and element values."
   ]
  },
  {
   "cell_type": "code",
   "execution_count": 48,
   "metadata": {
    "Collapsed": "false"
   },
   "outputs": [],
   "source": [
    "a = np.array([1, 2, 3])\n",
    "b = np.array([[1, 2, 3], [1, 2, 3]])"
   ]
  },
  {
   "cell_type": "code",
   "execution_count": 49,
   "metadata": {
    "Collapsed": "false"
   },
   "outputs": [
    {
     "name": "stdout",
     "output_type": "stream",
     "text": [
      "False\n",
      "True\n",
      "True\n"
     ]
    }
   ],
   "source": [
    "print(np.array_equal(a, b))\n",
    "print(np.array_equiv(a, b))\n",
    "print(np.allclose(a, b))"
   ]
  },
  {
   "cell_type": "markdown",
   "metadata": {
    "Collapsed": "false"
   },
   "source": [
    "Array `a` and `b` can be broadcasted together and the element values are the same when doing so `array_equiv` and `allclose` are `True`."
   ]
  },
  {
   "cell_type": "code",
   "execution_count": 52,
   "metadata": {
    "Collapsed": "false"
   },
   "outputs": [],
   "source": [
    "a = np.array([1e10, 1e-8])\n",
    "b = np.array([1.00001e10, 1e-9])"
   ]
  },
  {
   "cell_type": "code",
   "execution_count": 53,
   "metadata": {
    "Collapsed": "false"
   },
   "outputs": [
    {
     "name": "stdout",
     "output_type": "stream",
     "text": [
      "False\n",
      "False\n",
      "True\n"
     ]
    }
   ],
   "source": [
    "print(np.array_equal(a, b))\n",
    "print(np.array_equiv(a, b))\n",
    "print(np.allclose(a, b))"
   ]
  },
  {
   "cell_type": "markdown",
   "metadata": {
    "Collapsed": "false"
   },
   "source": [
    "Array `a` and `b` are clearly different but they are very close so `allclose` will return `True`."
   ]
  },
  {
   "cell_type": "markdown",
   "metadata": {
    "Collapsed": "false",
    "heading_collapsed": true,
    "hidden": true
   },
   "source": [
    "### Aggregate Functions\n",
    "\n",
    "```python\n",
    "my_array.sum()\n",
    "my_array.min()\n",
    "my_array.max()\n",
    "my_array.cumsum()\n",
    "my_array.median()\n",
    "my_array.mean()\n",
    "my_array.std()\n",
    "```"
   ]
  },
  {
   "cell_type": "markdown",
   "metadata": {
    "Collapsed": "false"
   },
   "source": [
    "Starting with two arrays `a` and `b` lets demonstrate some aggregation functions."
   ]
  },
  {
   "cell_type": "code",
   "execution_count": 10,
   "metadata": {
    "Collapsed": "false"
   },
   "outputs": [],
   "source": [
    "a = np.array([1, 2, 3])\n",
    "b = np.array([[1, 2, 3], [4, 5, 6]])"
   ]
  },
  {
   "cell_type": "code",
   "execution_count": 55,
   "metadata": {
    "Collapsed": "false",
    "hidden": true
   },
   "outputs": [
    {
     "data": {
      "text/plain": [
       "6"
      ]
     },
     "execution_count": 55,
     "metadata": {},
     "output_type": "execute_result"
    }
   ],
   "source": [
    "a.sum()  # Array-wise sum"
   ]
  },
  {
   "cell_type": "code",
   "execution_count": 56,
   "metadata": {
    "Collapsed": "false",
    "hidden": true
   },
   "outputs": [
    {
     "name": "stdout",
     "output_type": "stream",
     "text": [
      "[1 2 3]\n",
      "\n",
      "1\n",
      "3\n"
     ]
    }
   ],
   "source": [
    "print('{}\\n'.format(a))\n",
    "\n",
    "print(a.min())  # Array-wise minimum value\n",
    "print(a.max())  # Array-wise maximum value"
   ]
  },
  {
   "cell_type": "code",
   "execution_count": 57,
   "metadata": {
    "Collapsed": "false",
    "hidden": true
   },
   "outputs": [
    {
     "name": "stdout",
     "output_type": "stream",
     "text": [
      "[[1 2 0]\n",
      " [4 1 6]]\n",
      "\n",
      "[1 1 0]\n",
      "[4 2 6]\n"
     ]
    }
   ],
   "source": [
    "b[0][2] = 0\n",
    "b[1][1] = 1\n",
    "print('{}\\n'.format(b))\n",
    "\n",
    "print(b.min(axis=0))  # Minimum value of an array row (min along axis)\n",
    "print(b.max(axis=0))  # Maximum value of an array row (max along axis)"
   ]
  },
  {
   "cell_type": "markdown",
   "metadata": {
    "Collapsed": "false"
   },
   "source": [
    "**Note on `axis` indexing**\n",
    "\n",
    "In numpy, axis refers to the dimension along which you want to perform the function.  \n",
    "\n",
    "* For a 2D matrix you can think of axis 0 and axis 1 as the rows and columns of the matrix respectively.\n",
    "* For a higher dimensional matrix each axis refers to a dimension in the shape of the matrix."
   ]
  },
  {
   "cell_type": "code",
   "execution_count": 27,
   "metadata": {
    "Collapsed": "false"
   },
   "outputs": [
    {
     "name": "stdout",
     "output_type": "stream",
     "text": [
      "3\n",
      "(2, 4, 3)\n",
      "[[[3 2 3]\n",
      "  [3 2 3]\n",
      "  [1 2 3]\n",
      "  [3 4 0]]\n",
      "\n",
      " [[0 1 4]\n",
      "  [0 3 3]\n",
      "  [3 0 2]\n",
      "  [2 3 2]]]\n"
     ]
    }
   ],
   "source": [
    "a = np.random.randint(5, size=(2, 4, 3))\n",
    "print(a.ndim)\n",
    "print(a.shape)\n",
    "print(a)"
   ]
  },
  {
   "cell_type": "code",
   "execution_count": 28,
   "metadata": {
    "Collapsed": "false"
   },
   "outputs": [
    {
     "name": "stdout",
     "output_type": "stream",
     "text": [
      "min along axis 0 \n",
      "[[0 1 3]\n",
      " [0 2 3]\n",
      " [1 0 2]\n",
      " [2 3 0]] \n",
      "min along axis 1 \n",
      "[[1 2 0]\n",
      " [0 0 2]] \n",
      "min along axis 2 \n",
      "[[2 2 1 0]\n",
      " [0 0 0 2]] \n"
     ]
    }
   ],
   "source": [
    "print('min along axis 0 \\n{} '.format(a.min(axis=0)))\n",
    "print('min along axis 1 \\n{} '.format(a.min(axis=1)))\n",
    "print('min along axis 2 \\n{} '.format(a.min(axis=2)))"
   ]
  },
  {
   "cell_type": "code",
   "execution_count": 58,
   "metadata": {
    "Collapsed": "false",
    "hidden": true
   },
   "outputs": [
    {
     "name": "stdout",
     "output_type": "stream",
     "text": [
      "[[1 2 0]\n",
      " [4 1 6]]\n",
      "\n",
      "[0 1]\n",
      "[2 6]\n"
     ]
    }
   ],
   "source": [
    "print('{}\\n'.format(b))\n",
    "\n",
    "print(b.min(axis=1))  # Minimum value of an array row (min along axis)\n",
    "print(b.max(axis=1))  # Maximum value of an array row (max along axis)"
   ]
  },
  {
   "cell_type": "code",
   "execution_count": 59,
   "metadata": {
    "Collapsed": "false",
    "hidden": true
   },
   "outputs": [
    {
     "name": "stdout",
     "output_type": "stream",
     "text": [
      "[[1 2 0]\n",
      " [4 1 6]]\n",
      "\n"
     ]
    },
    {
     "data": {
      "text/plain": [
       "array([[ 1,  3,  3],\n",
       "       [ 4,  5, 11]])"
      ]
     },
     "execution_count": 59,
     "metadata": {},
     "output_type": "execute_result"
    }
   ],
   "source": [
    "print('{}\\n'.format(b))\n",
    "b.cumsum(axis=1)  # Cumulative sum of the elements"
   ]
  },
  {
   "cell_type": "code",
   "execution_count": 60,
   "metadata": {
    "Collapsed": "false",
    "hidden": true
   },
   "outputs": [
    {
     "name": "stdout",
     "output_type": "stream",
     "text": [
      "[1 2 3]\n",
      "\n"
     ]
    },
    {
     "data": {
      "text/plain": [
       "2.0"
      ]
     },
     "execution_count": 60,
     "metadata": {},
     "output_type": "execute_result"
    }
   ],
   "source": [
    "print('{}\\n'.format(a))\n",
    "a.mean()  # Mean"
   ]
  },
  {
   "cell_type": "code",
   "execution_count": 61,
   "metadata": {
    "Collapsed": "false",
    "hidden": true
   },
   "outputs": [
    {
     "name": "stdout",
     "output_type": "stream",
     "text": [
      "[[1 2 0]\n",
      " [4 1 6]]\n",
      "\n"
     ]
    },
    {
     "data": {
      "text/plain": [
       "1.5"
      ]
     },
     "execution_count": 61,
     "metadata": {},
     "output_type": "execute_result"
    }
   ],
   "source": [
    "print('{}\\n'.format(b))\n",
    "np.median(b)  # Median"
   ]
  },
  {
   "cell_type": "code",
   "execution_count": 62,
   "metadata": {
    "Collapsed": "false",
    "hidden": true
   },
   "outputs": [
    {
     "name": "stdout",
     "output_type": "stream",
     "text": [
      "[1 2 3]\n",
      "\n"
     ]
    },
    {
     "data": {
      "text/plain": [
       "1.0"
      ]
     },
     "execution_count": 62,
     "metadata": {},
     "output_type": "execute_result"
    }
   ],
   "source": [
    "print('{}\\n'.format(a))\n",
    "np.corrcoef(a)  # Correlation coefficient"
   ]
  },
  {
   "cell_type": "code",
   "execution_count": 63,
   "metadata": {
    "Collapsed": "false",
    "hidden": true
   },
   "outputs": [
    {
     "name": "stdout",
     "output_type": "stream",
     "text": [
      "[[1 2 0]\n",
      " [4 1 6]]\n",
      "\n"
     ]
    },
    {
     "data": {
      "text/plain": [
       "2.0548046676563256"
      ]
     },
     "execution_count": 63,
     "metadata": {},
     "output_type": "execute_result"
    }
   ],
   "source": [
    "print('{}\\n'.format(b))\n",
    "np.std(b)  # Standard deviation"
   ]
  },
  {
   "cell_type": "markdown",
   "metadata": {
    "Collapsed": "true",
    "heading_collapsed": true,
    "hidden": true
   },
   "source": [
    "## Copying\n",
    "\n",
    "```python\n",
    "my_array.view()\n",
    "my_array.copy()\n",
    "```"
   ]
  },
  {
   "cell_type": "markdown",
   "metadata": {
    "Collapsed": "false"
   },
   "source": [
    "Its important that you make sure you know when you are creating an actual copy of your array vs another view of the same array. If you just create another view and start experimenting with the array, you need to know you are changing the actual original array.\n",
    "\n",
    "**Copy / Deep Copy:** When the contents are physically stored in another location, it is called Copy (deep by default). \n",
    "\n",
    "**View / Shallow Copy:** If on the other hand, a different view of the same memory content is provided, we call it as View."
   ]
  },
  {
   "cell_type": "code",
   "execution_count": 11,
   "metadata": {
    "Collapsed": "false"
   },
   "outputs": [
    {
     "name": "stdout",
     "output_type": "stream",
     "text": [
      "Array: [1 2 3] --> mem loc: (140695021199088, False)\n",
      "\n",
      "Array: [1 2 3] --> mem loc: (140695021199088, False)\n",
      "\n"
     ]
    }
   ],
   "source": [
    "print('Array: {} --> mem loc: {}\\n'.format(a, a.__array_interface__['data']))\n",
    "\n",
    "h = a  # Create a view of the array with the same data\n",
    "\n",
    "print('Array: {} --> mem loc: {}\\n'.format(h, h.__array_interface__['data']))"
   ]
  },
  {
   "cell_type": "code",
   "execution_count": 12,
   "metadata": {
    "Collapsed": "false",
    "hidden": true
   },
   "outputs": [
    {
     "name": "stdout",
     "output_type": "stream",
     "text": [
      "Array: [1 2 3] --> mem loc: (140695021199088, False)\n",
      "\n",
      "Array: [1 2 3] --> mem loc: (140695021199088, False)\n",
      "\n"
     ]
    }
   ],
   "source": [
    "print('Array: {} --> mem loc: {}\\n'.format(a, a.__array_interface__['data']))\n",
    "\n",
    "h = a.view()  # Create a view of the array with the same data\n",
    "\n",
    "print('Array: {} --> mem loc: {}\\n'.format(h, h.__array_interface__['data']))"
   ]
  },
  {
   "cell_type": "markdown",
   "metadata": {
    "Collapsed": "false"
   },
   "source": [
    "We can see that `h` is just another view of a. They each point to or reference the same memory location."
   ]
  },
  {
   "cell_type": "code",
   "execution_count": 13,
   "metadata": {
    "Collapsed": "false",
    "hidden": true
   },
   "outputs": [
    {
     "name": "stdout",
     "output_type": "stream",
     "text": [
      "Array: [1 2 3] --> mem loc: (140695021199088, False)\n",
      "\n",
      "Array: [1 2 3] --> mem loc: (140695021943792, False)\n",
      "\n"
     ]
    }
   ],
   "source": [
    "print('Array: {} --> mem loc: {}\\n'.format(a, a.__array_interface__['data']))\n",
    "\n",
    "h = np.copy(a)  # Create a copy of the array\n",
    "\n",
    "print('Array: {} --> mem loc: {}\\n'.format(h, h.__array_interface__['data']))"
   ]
  },
  {
   "cell_type": "code",
   "execution_count": 14,
   "metadata": {
    "Collapsed": "false",
    "hidden": true
   },
   "outputs": [
    {
     "name": "stdout",
     "output_type": "stream",
     "text": [
      "Array: [1 2 3] --> mem loc: (140695021199088, False)\n",
      "\n",
      "Array: [1 2 3] --> mem loc: (140695021943792, False)\n",
      "\n"
     ]
    }
   ],
   "source": [
    "print('Array: {} --> mem loc: {}\\n'.format(a, a.__array_interface__['data']))\n",
    "\n",
    "i = a.copy()  # Create a copy of the array\n",
    "\n",
    "print('Array: {} --> mem loc: {}\\n'.format(h, h.__array_interface__['data']))"
   ]
  },
  {
   "cell_type": "markdown",
   "metadata": {
    "Collapsed": "false"
   },
   "source": [
    "These two examples however create actual copies of the array that are stored in different memory locations."
   ]
  },
  {
   "cell_type": "markdown",
   "metadata": {
    "Collapsed": "true",
    "heading_collapsed": true,
    "hidden": true
   },
   "source": [
    "## Sorting\n",
    "\n",
    "```python\n",
    "my_array.sort()\n",
    "```"
   ]
  },
  {
   "cell_type": "code",
   "execution_count": 68,
   "metadata": {
    "Collapsed": "false",
    "hidden": true
   },
   "outputs": [
    {
     "name": "stdout",
     "output_type": "stream",
     "text": [
      "[2 1 4]\n",
      "[1 2 4]\n"
     ]
    }
   ],
   "source": [
    "a = np.array([2, 1, 4])\n",
    "print(a)\n",
    "\n",
    "a.sort()  # Sort an array in place\n",
    "print(a)"
   ]
  },
  {
   "cell_type": "markdown",
   "metadata": {
    "Collapsed": "false"
   },
   "source": [
    "We can also sort along a specific axis of an array"
   ]
  },
  {
   "cell_type": "code",
   "execution_count": 69,
   "metadata": {
    "Collapsed": "false",
    "hidden": true
   },
   "outputs": [
    {
     "name": "stdout",
     "output_type": "stream",
     "text": [
      "[[[4 8 1]\n",
      "  [5 8 2]]\n",
      "\n",
      " [[1 3 0]\n",
      "  [4 7 6]]]\n",
      "\n",
      "\n",
      "[[[1 3 0]\n",
      "  [4 7 2]]\n",
      "\n",
      " [[4 8 1]\n",
      "  [5 8 6]]]\n"
     ]
    }
   ],
   "source": [
    "c = np.random.randint(0, 9, (2, 2, 3))\n",
    "print('{}\\n\\n'.format(c))\n",
    "\n",
    "c.sort(axis=0)  # Sort the elements of an array's axis\n",
    "print(c)"
   ]
  },
  {
   "cell_type": "markdown",
   "metadata": {
    "Collapsed": "true",
    "heading_collapsed": true,
    "hidden": true
   },
   "source": [
    "## Subsetting, Slicing, Indexing\n",
    "\n",
    "```python\n",
    "my_array[2]\n",
    "my_array[0][1]\n",
    "my_array[0, 1] \n",
    "my_array[0:2, 1]\n",
    "my_array[0:2, ...]\n",
    "```"
   ]
  },
  {
   "cell_type": "markdown",
   "metadata": {
    "Collapsed": "false"
   },
   "source": [
    "**Subsetting** - selecting specific rows and columns within the data\n",
    "\n",
    "**Slicing** - selecting subsets based on a range of values\n",
    "\n",
    "**Indexing** - selecting specific array values"
   ]
  },
  {
   "cell_type": "code",
   "execution_count": 70,
   "metadata": {
    "Collapsed": "false"
   },
   "outputs": [
    {
     "name": "stdout",
     "output_type": "stream",
     "text": [
      "Shape: (3,)\n",
      "[1 2 4]\n",
      "Shape: (2, 3)\n",
      "[[1 2 0]\n",
      " [4 1 6]]\n"
     ]
    }
   ],
   "source": [
    "a = np.array([1, 2, 4])\n",
    "b = np.array([[1, 2, 0], [4, 1, 6]])\n",
    "print_a(a)\n",
    "print_a(b)"
   ]
  },
  {
   "cell_type": "code",
   "execution_count": 71,
   "metadata": {
    "Collapsed": "false",
    "hidden": true
   },
   "outputs": [
    {
     "data": {
      "text/plain": [
       "4"
      ]
     },
     "execution_count": 71,
     "metadata": {},
     "output_type": "execute_result"
    }
   ],
   "source": [
    "a[2]  # Select the element at the 2nd index"
   ]
  },
  {
   "cell_type": "code",
   "execution_count": 72,
   "metadata": {
    "Collapsed": "false"
   },
   "outputs": [
    {
     "data": {
      "text/plain": [
       "2"
      ]
     },
     "execution_count": 72,
     "metadata": {},
     "output_type": "execute_result"
    }
   ],
   "source": [
    "b[0][1]  # Select the 0th element then the 1st element of the 0th"
   ]
  },
  {
   "cell_type": "code",
   "execution_count": 73,
   "metadata": {
    "Collapsed": "false",
    "hidden": true
   },
   "outputs": [
    {
     "data": {
      "text/plain": [
       "array([1])"
      ]
     },
     "execution_count": 73,
     "metadata": {},
     "output_type": "execute_result"
    }
   ],
   "source": [
    "a[a < 2]  # Select elements less than 2"
   ]
  },
  {
   "cell_type": "code",
   "execution_count": 74,
   "metadata": {
    "Collapsed": "false",
    "hidden": true
   },
   "outputs": [
    {
     "data": {
      "text/plain": [
       "array([4, 2, 6, 1])"
      ]
     },
     "execution_count": 74,
     "metadata": {},
     "output_type": "execute_result"
    }
   ],
   "source": [
    "b[[1, 0, 1, 0], [0, 1, 2, 0]]  # Select elements (1,0),(0,1),(1,2) and (0,0)"
   ]
  },
  {
   "cell_type": "code",
   "execution_count": 75,
   "metadata": {
    "Collapsed": "false",
    "hidden": true
   },
   "outputs": [
    {
     "data": {
      "text/plain": [
       "2"
      ]
     },
     "execution_count": 75,
     "metadata": {},
     "output_type": "execute_result"
    }
   ],
   "source": [
    "b[0, 1]  # Select 0th item in first dim, 1st item in second dim"
   ]
  },
  {
   "cell_type": "code",
   "execution_count": 76,
   "metadata": {
    "Collapsed": "false",
    "hidden": true
   },
   "outputs": [
    {
     "data": {
      "text/plain": [
       "array([1, 2])"
      ]
     },
     "execution_count": 76,
     "metadata": {},
     "output_type": "execute_result"
    }
   ],
   "source": [
    "a[0:2]  # Select items between indices 0 and 2"
   ]
  },
  {
   "cell_type": "code",
   "execution_count": 77,
   "metadata": {
    "Collapsed": "false",
    "hidden": true
   },
   "outputs": [
    {
     "data": {
      "text/plain": [
       "array([2, 1])"
      ]
     },
     "execution_count": 77,
     "metadata": {},
     "output_type": "execute_result"
    }
   ],
   "source": [
    "b[0:2, 1]  # Select items at rows 0 and 1 in column 1"
   ]
  },
  {
   "cell_type": "code",
   "execution_count": 78,
   "metadata": {
    "Collapsed": "false",
    "hidden": true
   },
   "outputs": [
    {
     "data": {
      "text/plain": [
       "array([[1, 2, 0]])"
      ]
     },
     "execution_count": 78,
     "metadata": {},
     "output_type": "execute_result"
    }
   ],
   "source": [
    "b[:1]  # Select all items at row 0"
   ]
  },
  {
   "cell_type": "code",
   "execution_count": 81,
   "metadata": {
    "Collapsed": "false"
   },
   "outputs": [
    {
     "data": {
      "text/plain": [
       "array([[1, 2, 0]])"
      ]
     },
     "execution_count": 81,
     "metadata": {},
     "output_type": "execute_result"
    }
   ],
   "source": [
    "b[0:1, :]  # Select all items at row 0"
   ]
  },
  {
   "cell_type": "code",
   "execution_count": 82,
   "metadata": {
    "Collapsed": "false",
    "hidden": true
   },
   "outputs": [
    {
     "data": {
      "text/plain": [
       "array([4, 1, 6])"
      ]
     },
     "execution_count": 82,
     "metadata": {},
     "output_type": "execute_result"
    }
   ],
   "source": [
    "b[1, ...]  # Same as [1,:,:]"
   ]
  },
  {
   "cell_type": "code",
   "execution_count": 83,
   "metadata": {
    "Collapsed": "false",
    "hidden": true
   },
   "outputs": [
    {
     "data": {
      "text/plain": [
       "array([[4, 1, 6, 4],\n",
       "       [1, 2, 0, 1],\n",
       "       [4, 1, 6, 4],\n",
       "       [1, 2, 0, 1]])"
      ]
     },
     "execution_count": 83,
     "metadata": {},
     "output_type": "execute_result"
    }
   ],
   "source": [
    "# Try predicting the output of this one on your own\n",
    "b[[1, 0, 1, 0]][:, [0, 1, 2, 0]]"
   ]
  },
  {
   "cell_type": "markdown",
   "metadata": {
    "Collapsed": "true",
    "heading_collapsed": true,
    "hidden": true
   },
   "source": [
    "## Array Manipulation"
   ]
  },
  {
   "cell_type": "markdown",
   "metadata": {
    "Collapsed": "false"
   },
   "source": [
    "Using the following arrays let's see how we can manipulate them."
   ]
  },
  {
   "cell_type": "code",
   "execution_count": 87,
   "metadata": {
    "Collapsed": "false"
   },
   "outputs": [
    {
     "name": "stdout",
     "output_type": "stream",
     "text": [
      "Shape: (3,)\n",
      "[1 2 4]\n",
      "Shape: (2, 3)\n",
      "[[1 2 0]\n",
      " [4 1 6]]\n",
      "Shape: (3, 1)\n",
      "[[1]\n",
      " [2]\n",
      " [3]]\n",
      "Shape: (2, 3, 1)\n",
      "[[[0]\n",
      "  [0]\n",
      "  [0]]\n",
      "\n",
      " [[0]\n",
      "  [0]\n",
      "  [0]]]\n"
     ]
    }
   ],
   "source": [
    "a = np.array([1, 2, 4])\n",
    "b = np.array([[1, 2, 0], [4, 1, 6]])\n",
    "\n",
    "c = np.array([[1], [2], [3]])\n",
    "d = np.array([[[0], [0], [0]], [[0], [0], [0]]])\n",
    "\n",
    "print_a(a)\n",
    "print_a(b)\n",
    "print_a(c)\n",
    "print_a(d)"
   ]
  },
  {
   "cell_type": "markdown",
   "metadata": {
    "Collapsed": "true",
    "hidden": true
   },
   "source": [
    "### Changing Array Shape\n",
    "\n",
    "```python\n",
    "np.transpose()\n",
    "my_array.ravel()\n",
    "my_array.flatten()\n",
    "my_array.reshape()\n",
    "```"
   ]
  },
  {
   "cell_type": "code",
   "execution_count": 88,
   "metadata": {
    "Collapsed": "false",
    "hidden": true
   },
   "outputs": [
    {
     "data": {
      "text/plain": [
       "array([[1, 4],\n",
       "       [2, 1],\n",
       "       [0, 6]])"
      ]
     },
     "execution_count": 88,
     "metadata": {},
     "output_type": "execute_result"
    }
   ],
   "source": [
    "# Transpose flips the rows and columns\n",
    "i = np.transpose(b)\n",
    "i"
   ]
  },
  {
   "cell_type": "code",
   "execution_count": 89,
   "metadata": {
    "Collapsed": "false"
   },
   "outputs": [
    {
     "data": {
      "text/plain": [
       "array([[1, 2, 0],\n",
       "       [4, 1, 6]])"
      ]
     },
     "execution_count": 89,
     "metadata": {},
     "output_type": "execute_result"
    }
   ],
   "source": [
    "# Transpose again gives back the original array\n",
    "i.T  # alternative to writing out transpose"
   ]
  },
  {
   "cell_type": "code",
   "execution_count": 90,
   "metadata": {
    "Collapsed": "false"
   },
   "outputs": [
    {
     "data": {
      "text/plain": [
       "array([1, 2, 0, 4, 1, 6])"
      ]
     },
     "execution_count": 90,
     "metadata": {},
     "output_type": "execute_result"
    }
   ],
   "source": [
    "# Return a flattened array\n",
    "b.ravel()\n",
    "# b.flatten() # alternative to ravel"
   ]
  },
  {
   "cell_type": "code",
   "execution_count": 95,
   "metadata": {
    "Collapsed": "false",
    "hidden": true
   },
   "outputs": [
    {
     "data": {
      "text/plain": [
       "array([[1, 2],\n",
       "       [0, 4],\n",
       "       [1, 6]])"
      ]
     },
     "execution_count": 95,
     "metadata": {},
     "output_type": "execute_result"
    }
   ],
   "source": [
    "# Return array containing the same data with a new shape\n",
    "b.reshape(3, 2)"
   ]
  },
  {
   "cell_type": "code",
   "execution_count": 98,
   "metadata": {
    "Collapsed": "false"
   },
   "outputs": [
    {
     "data": {
      "text/plain": [
       "array([[1, 2, 0],\n",
       "       [4, 1, 6]])"
      ]
     },
     "execution_count": 98,
     "metadata": {},
     "output_type": "execute_result"
    }
   ],
   "source": [
    "b"
   ]
  },
  {
   "cell_type": "code",
   "execution_count": 102,
   "metadata": {
    "Collapsed": "false"
   },
   "outputs": [
    {
     "data": {
      "text/plain": [
       "array([[1, 2, 0, 4, 1, 6]])"
      ]
     },
     "execution_count": 102,
     "metadata": {},
     "output_type": "execute_result"
    }
   ],
   "source": [
    "# Change shape and size of array in place\n",
    "b.resize((1, 6))\n",
    "b"
   ]
  },
  {
   "cell_type": "code",
   "execution_count": 104,
   "metadata": {
    "Collapsed": "false"
   },
   "outputs": [
    {
     "data": {
      "text/plain": [
       "array([[1, 2, 0],\n",
       "       [4, 1, 6]])"
      ]
     },
     "execution_count": 104,
     "metadata": {},
     "output_type": "execute_result"
    }
   ],
   "source": [
    "b.reshape(2, 3)"
   ]
  },
  {
   "cell_type": "markdown",
   "metadata": {
    "Collapsed": "true",
    "hidden": true
   },
   "source": [
    "### Adding/Removing Elements\n",
    "\n",
    "```python\n",
    "my_array.append()\n",
    "my_array.insert()\n",
    "my_array.delete()\n",
    "```"
   ]
  },
  {
   "cell_type": "code",
   "execution_count": 106,
   "metadata": {
    "Collapsed": "false",
    "hidden": true
   },
   "outputs": [
    {
     "data": {
      "text/plain": [
       "array([1, 2, 4, 3, 3, 3])"
      ]
     },
     "execution_count": 106,
     "metadata": {},
     "output_type": "execute_result"
    }
   ],
   "source": [
    "# Append to array\n",
    "np.append(a, [3, 3, 3])"
   ]
  },
  {
   "cell_type": "code",
   "execution_count": 109,
   "metadata": {
    "Collapsed": "false"
   },
   "outputs": [
    {
     "data": {
      "text/plain": [
       "array([1, 5, 2, 4])"
      ]
     },
     "execution_count": 109,
     "metadata": {},
     "output_type": "execute_result"
    }
   ],
   "source": [
    "# Insert values along the given axis before the given indices\n",
    "np.insert(a, 1, 5)"
   ]
  },
  {
   "cell_type": "code",
   "execution_count": 110,
   "metadata": {
    "Collapsed": "false"
   },
   "outputs": [
    {
     "data": {
      "text/plain": [
       "array([1, 4])"
      ]
     },
     "execution_count": 110,
     "metadata": {},
     "output_type": "execute_result"
    }
   ],
   "source": [
    "# Return a new array with sub-arrays along an axis deleted\n",
    "np.delete(a, [1])"
   ]
  },
  {
   "cell_type": "markdown",
   "metadata": {
    "Collapsed": "true",
    "hidden": true
   },
   "source": [
    "### Combining Arrays\n",
    "\n",
    "```python\n",
    "np.concatenate()\n",
    "np.vstack()\n",
    "np.hstack()\n",
    "np.column_stack()\n",
    "np.row_stack()\n",
    "```"
   ]
  },
  {
   "cell_type": "markdown",
   "metadata": {
    "Collapsed": "false"
   },
   "source": [
    "Let's redefine our arrays again."
   ]
  },
  {
   "cell_type": "code",
   "execution_count": 123,
   "metadata": {
    "Collapsed": "false"
   },
   "outputs": [
    {
     "name": "stdout",
     "output_type": "stream",
     "text": [
      "Shape: (2, 3)\n",
      "[[1 2 4]\n",
      " [1 2 4]]\n",
      "Shape: (2, 3)\n",
      "[[1 2 0]\n",
      " [4 1 6]]\n"
     ]
    }
   ],
   "source": [
    "a = np.array([[1, 2, 4], [1, 2, 4]])\n",
    "b = np.array([[1, 2, 0], [4, 1, 6]])\n",
    "\n",
    "print_a(a)\n",
    "print_a(b)"
   ]
  },
  {
   "cell_type": "code",
   "execution_count": 124,
   "metadata": {
    "Collapsed": "false",
    "hidden": true
   },
   "outputs": [
    {
     "name": "stdout",
     "output_type": "stream",
     "text": [
      "(2, 3)\n"
     ]
    },
    {
     "data": {
      "text/plain": [
       "array([[1, 2, 4],\n",
       "       [1, 2, 4],\n",
       "       [1, 2, 0],\n",
       "       [4, 1, 6]])"
      ]
     },
     "execution_count": 124,
     "metadata": {},
     "output_type": "execute_result"
    }
   ],
   "source": [
    "# Concatenate arrays\n",
    "print(a.shape)\n",
    "np.concatenate((a, b), axis=0)"
   ]
  },
  {
   "cell_type": "markdown",
   "metadata": {
    "Collapsed": "false"
   },
   "source": [
    "Stack arrays vertically (row-wise)"
   ]
  },
  {
   "cell_type": "code",
   "execution_count": 125,
   "metadata": {
    "Collapsed": "false"
   },
   "outputs": [
    {
     "data": {
      "text/plain": [
       "array([[1, 2, 4],\n",
       "       [1, 2, 4],\n",
       "       [1, 2, 0],\n",
       "       [4, 1, 6]])"
      ]
     },
     "execution_count": 125,
     "metadata": {},
     "output_type": "execute_result"
    }
   ],
   "source": [
    "np.vstack((a, b))"
   ]
  },
  {
   "cell_type": "markdown",
   "metadata": {
    "Collapsed": "false"
   },
   "source": [
    "Stack arrays horizontally (column-wise)"
   ]
  },
  {
   "cell_type": "code",
   "execution_count": 126,
   "metadata": {
    "Collapsed": "false"
   },
   "outputs": [
    {
     "data": {
      "text/plain": [
       "array([[1, 2, 4, 1, 2, 0],\n",
       "       [1, 2, 4, 4, 1, 6]])"
      ]
     },
     "execution_count": 126,
     "metadata": {},
     "output_type": "execute_result"
    }
   ],
   "source": [
    "np.hstack((a, b))"
   ]
  },
  {
   "cell_type": "markdown",
   "metadata": {
    "Collapsed": "true",
    "hidden": true
   },
   "source": [
    "### Splitting Arrays\n",
    "\n",
    "```python\n",
    "np.hsplit()\n",
    "np.vsplit()\n",
    "```"
   ]
  },
  {
   "cell_type": "code",
   "execution_count": 128,
   "metadata": {
    "Collapsed": "false"
   },
   "outputs": [
    {
     "data": {
      "text/plain": [
       "[array([[1],\n",
       "        [1]]), array([[2],\n",
       "        [2]]), array([[4],\n",
       "        [4]])]"
      ]
     },
     "execution_count": 128,
     "metadata": {},
     "output_type": "execute_result"
    }
   ],
   "source": [
    "# Split the array horizontally at the 3rd index\n",
    "np.hsplit(a, 3)"
   ]
  },
  {
   "cell_type": "code",
   "execution_count": 129,
   "metadata": {
    "Collapsed": "false",
    "hidden": true
   },
   "outputs": [
    {
     "data": {
      "text/plain": [
       "[array([[1, 2, 4]]), array([[1, 2, 4]])]"
      ]
     },
     "execution_count": 129,
     "metadata": {},
     "output_type": "execute_result"
    }
   ],
   "source": [
    "# Split the array vertically at the 2nd index\n",
    "np.vsplit(a, 2)"
   ]
  },
  {
   "cell_type": "markdown",
   "metadata": {
    "Collapsed": "false",
    "hidden": true
   },
   "source": [
    "# Exercises\n",
    "\n",
    "We all know we don't really learn anything until we have to struggle through doing it :D \n",
    "\n",
    "Roll up your sleeves and dive in."
   ]
  },
  {
   "cell_type": "markdown",
   "metadata": {
    "Collapsed": "false"
   },
   "source": [
    "### Create np array of tuples with date range"
   ]
  },
  {
   "cell_type": "markdown",
   "metadata": {
    "Collapsed": "false"
   },
   "source": [
    "Create a numpy array of tuples with dates from 2019-2030 in the first position followed by 6 random numbers. Do this in the most efficient way.\n",
    "\n",
    "```python\n",
    "data_to_create = [('2019-01-01', 100.  , 104.06,  95.96, 100.34, 22351900, 100.34)\n",
    "                  ('2020-01-01', 101.01, 109.08, 100.5 , 108.31, 11428600, 108.31)\n",
    "                  ('2021-01-01', 110.75, 113.48, 109.05, 109.4 ,  9137200, 109.4 )\n",
    "                  ...\n",
    "                  ('2028-01-01', 313.16, 341.89, 310.3 , 332.  , 10597800, 332.  )\n",
    "                  ('2029-01-01', 355.79, 381.95, 345.75, 381.02,  8905500, 381.02)\n",
    "                  ('2030-01-01', 393.53, 394.5 , 357.  , 362.71,  7784800, 362.71)]\n",
    "```\n",
    "\n",
    "[Numpy Datetime Docs](https://docs.scipy.org/doc/numpy/reference/arrays.datetime.html)"
   ]
  },
  {
   "cell_type": "code",
   "execution_count": 59,
   "metadata": {
    "Collapsed": "false"
   },
   "outputs": [],
   "source": [
    "# TODO try with this\n",
    "# my_data = np.empty((11,))"
   ]
  },
  {
   "cell_type": "code",
   "execution_count": 62,
   "metadata": {
    "Collapsed": "false"
   },
   "outputs": [],
   "source": [
    "my_data = []\n",
    "for i in range(2019, 2030):\n",
    "    random_nums = np.random.random_sample(6)\n",
    "    date = str(i)+'-01-01'\n",
    "#     my_data[i-2019] = (date, *random_nums)\n",
    "    my_data.append((date, *random_nums))"
   ]
  },
  {
   "cell_type": "code",
   "execution_count": 66,
   "metadata": {
    "Collapsed": "false"
   },
   "outputs": [],
   "source": [
    "my_data = np.asarray(my_data)"
   ]
  },
  {
   "cell_type": "markdown",
   "metadata": {
    "Collapsed": "false"
   },
   "source": [
    "### Create a new array with the 3rd fourth and 6th columns as ones, the rest zeros"
   ]
  },
  {
   "cell_type": "code",
   "execution_count": 68,
   "metadata": {
    "Collapsed": "false"
   },
   "outputs": [
    {
     "data": {
      "text/plain": [
       "array([[0., 0., 0., 0., 0., 0., 0., 0., 0., 0.],\n",
       "       [0., 0., 0., 0., 0., 0., 0., 0., 0., 0.],\n",
       "       [0., 0., 0., 0., 0., 0., 0., 0., 0., 0.],\n",
       "       [0., 0., 0., 0., 0., 0., 0., 0., 0., 0.],\n",
       "       [0., 0., 0., 0., 0., 0., 0., 0., 0., 0.]])"
      ]
     },
     "execution_count": 68,
     "metadata": {},
     "output_type": "execute_result"
    }
   ],
   "source": [
    "my_array = np.zeros((5, 10))\n",
    "my_array"
   ]
  },
  {
   "cell_type": "code",
   "execution_count": 73,
   "metadata": {
    "Collapsed": "false"
   },
   "outputs": [
    {
     "data": {
      "text/plain": [
       "array([[0., 0., 1., 0., 0., 1., 0., 0., 0., 0.],\n",
       "       [0., 0., 1., 0., 0., 1., 0., 0., 0., 0.],\n",
       "       [0., 0., 1., 0., 0., 1., 0., 0., 0., 0.],\n",
       "       [0., 0., 1., 0., 0., 1., 0., 0., 0., 0.],\n",
       "       [0., 0., 1., 0., 0., 1., 0., 0., 0., 0.]])"
      ]
     },
     "execution_count": 73,
     "metadata": {},
     "output_type": "execute_result"
    }
   ],
   "source": [
    "my_array[:, 2] = 1\n",
    "my_array[:, 5] = 1\n",
    "my_array"
   ]
  },
  {
   "cell_type": "markdown",
   "metadata": {
    "Collapsed": "false"
   },
   "source": [
    "### Clean up this data (replace all NaNs with 0 and break the array up into three)"
   ]
  },
  {
   "cell_type": "code",
   "execution_count": null,
   "metadata": {
    "Collapsed": "false"
   },
   "outputs": [],
   "source": [
    "data_to_clean = np.array()"
   ]
  },
  {
   "cell_type": "markdown",
   "metadata": {
    "Collapsed": "false"
   },
   "source": [
    "### Flip this array (so rows are columns and columns are rows)"
   ]
  },
  {
   "cell_type": "code",
   "execution_count": 75,
   "metadata": {
    "Collapsed": "false"
   },
   "outputs": [
    {
     "data": {
      "text/plain": [
       "array([[1, 1, 1],\n",
       "       [2, 2, 2]])"
      ]
     },
     "execution_count": 75,
     "metadata": {},
     "output_type": "execute_result"
    }
   ],
   "source": [
    "flip_me = np.array([[1, 1, 1],\n",
    "                    [2, 2, 2]])\n",
    "flip_me"
   ]
  },
  {
   "cell_type": "code",
   "execution_count": 76,
   "metadata": {
    "Collapsed": "false"
   },
   "outputs": [
    {
     "data": {
      "text/plain": [
       "array([[1, 2],\n",
       "       [1, 2],\n",
       "       [1, 2]])"
      ]
     },
     "execution_count": 76,
     "metadata": {},
     "output_type": "execute_result"
    }
   ],
   "source": [
    "flip_me.T"
   ]
  },
  {
   "cell_type": "markdown",
   "metadata": {
    "Collapsed": "false"
   },
   "source": [
    "### Remove all rows with a cumulative sum less than 10"
   ]
  },
  {
   "cell_type": "code",
   "execution_count": 79,
   "metadata": {
    "Collapsed": "false"
   },
   "outputs": [
    {
     "data": {
      "text/plain": [
       "array([[2, 5, 5, 3, 0, 4, 6, 8, 5, 3, 2, 6, 3, 8, 6],\n",
       "       [9, 4, 7, 7, 4, 0, 1, 5, 2, 2, 9, 9, 1, 0, 9],\n",
       "       [3, 7, 4, 7, 0, 3, 8, 1, 0, 4, 7, 1, 8, 4, 0],\n",
       "       [6, 3, 6, 1, 0, 9, 6, 3, 0, 6, 6, 2, 6, 9, 5],\n",
       "       [6, 8, 3, 3, 0, 8, 0, 7, 9, 5, 8, 5, 0, 6, 7],\n",
       "       [5, 1, 2, 4, 6, 6, 1, 0, 9, 2, 5, 4, 0, 9, 3],\n",
       "       [5, 9, 8, 7, 5, 5, 9, 4, 1, 6, 1, 6, 2, 6, 9],\n",
       "       [4, 5, 7, 3, 3, 3, 9, 9, 9, 5, 2, 4, 0, 8, 0],\n",
       "       [0, 2, 9, 0, 4, 2, 8, 8, 6, 8, 7, 6, 9, 1, 1],\n",
       "       [4, 6, 7, 9, 7, 8, 1, 0, 2, 8, 0, 4, 3, 7, 4],\n",
       "       [3, 8, 9, 1, 2, 3, 6, 8, 5, 0, 6, 9, 6, 9, 6],\n",
       "       [3, 0, 4, 3, 0, 7, 7, 8, 5, 8, 5, 1, 7, 5, 8],\n",
       "       [5, 0, 0, 6, 4, 4, 7, 2, 5, 9, 7, 4, 6, 1, 9],\n",
       "       [9, 6, 2, 7, 5, 6, 5, 7, 3, 5, 6, 2, 4, 1, 3],\n",
       "       [8, 7, 2, 8, 0, 1, 6, 8, 2, 8, 8, 3, 7, 4, 7],\n",
       "       [9, 8, 5, 4, 6, 1, 6, 5, 4, 4, 5, 9, 3, 3, 7],\n",
       "       [5, 7, 2, 1, 7, 8, 4, 1, 8, 4, 9, 0, 5, 2, 7],\n",
       "       [6, 2, 6, 5, 1, 7, 4, 8, 2, 4, 7, 3, 7, 9, 9],\n",
       "       [4, 7, 1, 3, 3, 5, 4, 0, 5, 3, 7, 7, 6, 3, 3],\n",
       "       [0, 8, 7, 8, 0, 2, 3, 4, 4, 0, 1, 3, 5, 0, 6]])"
      ]
     },
     "execution_count": 79,
     "metadata": {},
     "output_type": "execute_result"
    }
   ],
   "source": [
    "m = np.random.randint(10, size=(20, 15))\n",
    "m"
   ]
  },
  {
   "cell_type": "code",
   "execution_count": 82,
   "metadata": {
    "Collapsed": "false"
   },
   "outputs": [],
   "source": [
    "# np.delete(m, m.cumsum(axis=0) > 10)"
   ]
  },
  {
   "cell_type": "markdown",
   "metadata": {
    "Collapsed": "false"
   },
   "source": [
    "### Sort the 5th column and 3rd row of this array"
   ]
  },
  {
   "cell_type": "code",
   "execution_count": null,
   "metadata": {
    "Collapsed": "false"
   },
   "outputs": [],
   "source": []
  },
  {
   "cell_type": "markdown",
   "metadata": {
    "Collapsed": "false"
   },
   "source": [
    "### Create a 28x28 square grid of values between 0 and 1"
   ]
  },
  {
   "cell_type": "code",
   "execution_count": 140,
   "metadata": {
    "Collapsed": "false"
   },
   "outputs": [
    {
     "data": {
      "text/plain": [
       "\u001b[0;31mSignature:\u001b[0m \u001b[0mnp\u001b[0m\u001b[0;34m.\u001b[0m\u001b[0mmeshgrid\u001b[0m\u001b[0;34m(\u001b[0m\u001b[0;34m*\u001b[0m\u001b[0mxi\u001b[0m\u001b[0;34m,\u001b[0m \u001b[0;34m**\u001b[0m\u001b[0mkwargs\u001b[0m\u001b[0;34m)\u001b[0m\u001b[0;34m\u001b[0m\u001b[0;34m\u001b[0m\u001b[0m\n",
       "\u001b[0;31mDocstring:\u001b[0m\n",
       "Return coordinate matrices from coordinate vectors.\n",
       "\n",
       "Make N-D coordinate arrays for vectorized evaluations of\n",
       "N-D scalar/vector fields over N-D grids, given\n",
       "one-dimensional coordinate arrays x1, x2,..., xn.\n",
       "\n",
       ".. versionchanged:: 1.9\n",
       "   1-D and 0-D cases are allowed.\n",
       "\n",
       "Parameters\n",
       "----------\n",
       "x1, x2,..., xn : array_like\n",
       "    1-D arrays representing the coordinates of a grid.\n",
       "indexing : {'xy', 'ij'}, optional\n",
       "    Cartesian ('xy', default) or matrix ('ij') indexing of output.\n",
       "    See Notes for more details.\n",
       "\n",
       "    .. versionadded:: 1.7.0\n",
       "sparse : bool, optional\n",
       "    If True a sparse grid is returned in order to conserve memory.\n",
       "    Default is False.\n",
       "\n",
       "    .. versionadded:: 1.7.0\n",
       "copy : bool, optional\n",
       "    If False, a view into the original arrays are returned in order to\n",
       "    conserve memory.  Default is True.  Please note that\n",
       "    ``sparse=False, copy=False`` will likely return non-contiguous\n",
       "    arrays.  Furthermore, more than one element of a broadcast array\n",
       "    may refer to a single memory location.  If you need to write to the\n",
       "    arrays, make copies first.\n",
       "\n",
       "    .. versionadded:: 1.7.0\n",
       "\n",
       "Returns\n",
       "-------\n",
       "X1, X2,..., XN : ndarray\n",
       "    For vectors `x1`, `x2`,..., 'xn' with lengths ``Ni=len(xi)`` ,\n",
       "    return ``(N1, N2, N3,...Nn)`` shaped arrays if indexing='ij'\n",
       "    or ``(N2, N1, N3,...Nn)`` shaped arrays if indexing='xy'\n",
       "    with the elements of `xi` repeated to fill the matrix along\n",
       "    the first dimension for `x1`, the second for `x2` and so on.\n",
       "\n",
       "Notes\n",
       "-----\n",
       "This function supports both indexing conventions through the indexing\n",
       "keyword argument.  Giving the string 'ij' returns a meshgrid with\n",
       "matrix indexing, while 'xy' returns a meshgrid with Cartesian indexing.\n",
       "In the 2-D case with inputs of length M and N, the outputs are of shape\n",
       "(N, M) for 'xy' indexing and (M, N) for 'ij' indexing.  In the 3-D case\n",
       "with inputs of length M, N and P, outputs are of shape (N, M, P) for\n",
       "'xy' indexing and (M, N, P) for 'ij' indexing.  The difference is\n",
       "illustrated by the following code snippet::\n",
       "\n",
       "    xv, yv = np.meshgrid(x, y, sparse=False, indexing='ij')\n",
       "    for i in range(nx):\n",
       "        for j in range(ny):\n",
       "            # treat xv[i,j], yv[i,j]\n",
       "\n",
       "    xv, yv = np.meshgrid(x, y, sparse=False, indexing='xy')\n",
       "    for i in range(nx):\n",
       "        for j in range(ny):\n",
       "            # treat xv[j,i], yv[j,i]\n",
       "\n",
       "In the 1-D and 0-D case, the indexing and sparse keywords have no effect.\n",
       "\n",
       "See Also\n",
       "--------\n",
       "index_tricks.mgrid : Construct a multi-dimensional \"meshgrid\"\n",
       "                 using indexing notation.\n",
       "index_tricks.ogrid : Construct an open multi-dimensional \"meshgrid\"\n",
       "                 using indexing notation.\n",
       "\n",
       "Examples\n",
       "--------\n",
       ">>> nx, ny = (3, 2)\n",
       ">>> x = np.linspace(0, 1, nx)\n",
       ">>> y = np.linspace(0, 1, ny)\n",
       ">>> xv, yv = np.meshgrid(x, y)\n",
       ">>> xv\n",
       "array([[0. , 0.5, 1. ],\n",
       "       [0. , 0.5, 1. ]])\n",
       ">>> yv\n",
       "array([[0.,  0.,  0.],\n",
       "       [1.,  1.,  1.]])\n",
       ">>> xv, yv = np.meshgrid(x, y, sparse=True)  # make sparse output arrays\n",
       ">>> xv\n",
       "array([[0. ,  0.5,  1. ]])\n",
       ">>> yv\n",
       "array([[0.],\n",
       "       [1.]])\n",
       "\n",
       "`meshgrid` is very useful to evaluate functions on a grid.\n",
       "\n",
       ">>> import matplotlib.pyplot as plt\n",
       ">>> x = np.arange(-5, 5, 0.1)\n",
       ">>> y = np.arange(-5, 5, 0.1)\n",
       ">>> xx, yy = np.meshgrid(x, y, sparse=True)\n",
       ">>> z = np.sin(xx**2 + yy**2) / (xx**2 + yy**2)\n",
       ">>> h = plt.contourf(x,y,z)\n",
       ">>> plt.show()\n",
       "\u001b[0;31mFile:\u001b[0m      /usr/local/lib/python3.7/site-packages/numpy/lib/function_base.py\n",
       "\u001b[0;31mType:\u001b[0m      function\n"
      ]
     },
     "metadata": {},
     "output_type": "display_data"
    }
   ],
   "source": [
    "np.meshgrid?"
   ]
  },
  {
   "cell_type": "code",
   "execution_count": 139,
   "metadata": {
    "Collapsed": "false"
   },
   "outputs": [
    {
     "data": {
      "text/plain": [
       "\u001b[0;31mType:\u001b[0m        MGridClass\n",
       "\u001b[0;31mString form:\u001b[0m <numpy.lib.index_tricks.MGridClass object at 0x108ca8610>\n",
       "\u001b[0;31mFile:\u001b[0m        /usr/local/lib/python3.7/site-packages/numpy/lib/index_tricks.py\n",
       "\u001b[0;31mDocstring:\u001b[0m  \n",
       "`nd_grid` instance which returns a dense multi-dimensional \"meshgrid\".\n",
       "\n",
       "An instance of `numpy.lib.index_tricks.nd_grid` which returns an dense\n",
       "(or fleshed out) mesh-grid when indexed, so that each returned argument\n",
       "has the same shape.  The dimensions and number of the output arrays are\n",
       "equal to the number of indexing dimensions.  If the step length is not a\n",
       "complex number, then the stop is not inclusive.\n",
       "\n",
       "However, if the step length is a **complex number** (e.g. 5j), then\n",
       "the integer part of its magnitude is interpreted as specifying the\n",
       "number of points to create between the start and stop values, where\n",
       "the stop value **is inclusive**.\n",
       "\n",
       "Returns\n",
       "----------\n",
       "mesh-grid `ndarrays` all of the same dimensions\n",
       "\n",
       "See Also\n",
       "--------\n",
       "numpy.lib.index_tricks.nd_grid : class of `ogrid` and `mgrid` objects\n",
       "ogrid : like mgrid but returns open (not fleshed out) mesh grids\n",
       "r_ : array concatenator\n",
       "\n",
       "Examples\n",
       "--------\n",
       ">>> np.mgrid[0:5,0:5]\n",
       "array([[[0, 0, 0, 0, 0],\n",
       "        [1, 1, 1, 1, 1],\n",
       "        [2, 2, 2, 2, 2],\n",
       "        [3, 3, 3, 3, 3],\n",
       "        [4, 4, 4, 4, 4]],\n",
       "       [[0, 1, 2, 3, 4],\n",
       "        [0, 1, 2, 3, 4],\n",
       "        [0, 1, 2, 3, 4],\n",
       "        [0, 1, 2, 3, 4],\n",
       "        [0, 1, 2, 3, 4]]])\n",
       ">>> np.mgrid[-1:1:5j]\n",
       "array([-1. , -0.5,  0. ,  0.5,  1. ])\n"
      ]
     },
     "metadata": {},
     "output_type": "display_data"
    }
   ],
   "source": [
    "np.mgrid?"
   ]
  },
  {
   "cell_type": "markdown",
   "metadata": {
    "Collapsed": "true"
   },
   "source": [
    "### Create a column of 12 linearly spaced values between 1 and 3 then concatenate it to the existing array"
   ]
  },
  {
   "cell_type": "code",
   "execution_count": 106,
   "metadata": {
    "Collapsed": "false"
   },
   "outputs": [
    {
     "data": {
      "text/plain": [
       "array([[6, 3, 3],\n",
       "       [2, 0, 8],\n",
       "       [8, 0, 8],\n",
       "       [5, 1, 3],\n",
       "       [1, 9, 6],\n",
       "       [5, 6, 1],\n",
       "       [6, 4, 2],\n",
       "       [8, 2, 1],\n",
       "       [7, 8, 7],\n",
       "       [4, 7, 8],\n",
       "       [8, 2, 7],\n",
       "       [1, 1, 0]])"
      ]
     },
     "execution_count": 106,
     "metadata": {},
     "output_type": "execute_result"
    }
   ],
   "source": [
    "existing_array = np.random.randint(10, size=(12, 3))\n",
    "existing_array"
   ]
  },
  {
   "cell_type": "code",
   "execution_count": 136,
   "metadata": {
    "Collapsed": "false"
   },
   "outputs": [
    {
     "name": "stdout",
     "output_type": "stream",
     "text": [
      "[[ 1.          3.09090909  5.18181818  7.27272727  9.36363636 11.45454545\n",
      "  13.54545455 15.63636364 17.72727273 19.81818182 21.90909091 24.        ]]\n",
      "[[ 1.        ]\n",
      " [ 3.09090909]\n",
      " [ 5.18181818]\n",
      " [ 7.27272727]\n",
      " [ 9.36363636]\n",
      " [11.45454545]\n",
      " [13.54545455]\n",
      " [15.63636364]\n",
      " [17.72727273]\n",
      " [19.81818182]\n",
      " [21.90909091]\n",
      " [24.        ]]\n"
     ]
    }
   ],
   "source": [
    "my_array = np.asarray([np.linspace(1, 24, num=12)])\n",
    "print(my_array)\n",
    "print(my_array.T)"
   ]
  },
  {
   "cell_type": "code",
   "execution_count": 137,
   "metadata": {
    "Collapsed": "false"
   },
   "outputs": [
    {
     "name": "stdout",
     "output_type": "stream",
     "text": [
      "(12, 3)\n",
      "(1, 12)\n"
     ]
    }
   ],
   "source": [
    "print(existing_array.shape)\n",
    "print(my_array.shape)"
   ]
  },
  {
   "cell_type": "code",
   "execution_count": 138,
   "metadata": {
    "Collapsed": "false"
   },
   "outputs": [
    {
     "data": {
      "text/plain": [
       "array([[ 6.        ,  3.        ,  3.        ,  1.        ],\n",
       "       [ 2.        ,  0.        ,  8.        ,  3.09090909],\n",
       "       [ 8.        ,  0.        ,  8.        ,  5.18181818],\n",
       "       [ 5.        ,  1.        ,  3.        ,  7.27272727],\n",
       "       [ 1.        ,  9.        ,  6.        ,  9.36363636],\n",
       "       [ 5.        ,  6.        ,  1.        , 11.45454545],\n",
       "       [ 6.        ,  4.        ,  2.        , 13.54545455],\n",
       "       [ 8.        ,  2.        ,  1.        , 15.63636364],\n",
       "       [ 7.        ,  8.        ,  7.        , 17.72727273],\n",
       "       [ 4.        ,  7.        ,  8.        , 19.81818182],\n",
       "       [ 8.        ,  2.        ,  7.        , 21.90909091],\n",
       "       [ 1.        ,  1.        ,  0.        , 24.        ]])"
      ]
     },
     "execution_count": 138,
     "metadata": {},
     "output_type": "execute_result"
    }
   ],
   "source": [
    "np.concatenate((existing_array, my_array.T), axis=1)"
   ]
  },
  {
   "cell_type": "markdown",
   "metadata": {
    "Collapsed": "true"
   },
   "source": [
    "# Answers\n",
    "\n",
    "Many of the exercises will have several correct answers. I tried to pick the fastest and most memory efficient answers but if you think you have a better one 1) prove it using the `%timeit` magic then 2) let me know!"
   ]
  },
  {
   "cell_type": "code",
   "execution_count": null,
   "metadata": {
    "Collapsed": "false"
   },
   "outputs": [],
   "source": []
  }
 ],
 "metadata": {
  "kernelspec": {
   "display_name": "Python 3",
   "language": "python",
   "name": "python3"
  },
  "language_info": {
   "codemirror_mode": {
    "name": "ipython",
    "version": 3
   },
   "file_extension": ".py",
   "mimetype": "text/x-python",
   "name": "python",
   "nbconvert_exporter": "python",
   "pygments_lexer": "ipython3",
   "version": "3.7.5"
  },
  "latex_envs": {
   "LaTeX_envs_menu_present": true,
   "autoclose": false,
   "autocomplete": true,
   "bibliofile": "biblio.bib",
   "cite_by": "apalike",
   "current_citInitial": 1,
   "eqLabelWithNumbers": true,
   "eqNumInitial": 1,
   "hotkeys": {
    "equation": "Ctrl-E",
    "itemize": "Ctrl-I"
   },
   "labels_anchors": false,
   "latex_user_defs": false,
   "report_style_numbering": false,
   "user_envs_cfg": false
  }
 },
 "nbformat": 4,
 "nbformat_minor": 4
}
