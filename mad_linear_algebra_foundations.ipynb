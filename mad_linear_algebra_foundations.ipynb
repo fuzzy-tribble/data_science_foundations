{
 "cells": [
  {
   "cell_type": "markdown",
   "metadata": {
    "Collapsed": "true"
   },
   "source": [
    "# M.A.D. Linear Algebra: Foundations\n",
    "\n",
    "<span style=\"color:red;\">**M.A.D.** => **M**achine **L**earning and **D**ata Science<span>\n",
    "\n",
    "**Purpose:** The purpose of this workbook is to help you get comfortable with the topics outlined below.\n",
    "\n",
    "**Prereqs**\n",
    "* `numpy` is used throughout this workbook (checkout my Numpy Workbook if you need to brush up)\n",
    "* `matplotlib` is used throughout this workbook (checkout my Matplotlib Workbook if you need to brush up)\n",
    "    \n",
    "**Recomended Usage**\n",
    "* Run each of the cells (Shift+Enter) and edit them as necessary to solidify your understanding\n",
    "* Do any of the exercises that are relevant to helping you understand the material\n",
    "\n",
    "**Topics Covered**\n",
    "* Representing Problems and Data with Matrices\n",
    "* Linear Algebra Fundamentals (linearity, matrix math, transpose, identity, determinant, etc)\n",
    "* Computational Linear Algebra Considerations\n",
    "* Practical Applications in Data Science (dimensionality reduction, ...)"
   ]
  },
  {
   "cell_type": "markdown",
   "metadata": {
    "Collapsed": "false"
   },
   "source": [
    "# Workbook Setup"
   ]
  },
  {
   "cell_type": "markdown",
   "metadata": {
    "Collapsed": "true"
   },
   "source": [
    "## Troubleshooting Tips"
   ]
  },
  {
   "cell_type": "markdown",
   "metadata": {
    "Collapsed": "false"
   },
   "source": [
    "If you run into issues running any of the code in this notebook, check your version of Jupyter, extensions, etc.\n",
    "\n",
    "```bash\n",
    "!jupyter --version\n",
    "\n",
    "jupyter core     : 4.6.1\n",
    "jupyter-notebook : 6.0.2\n",
    "qtconsole        : not installed\n",
    "ipython          : 7.9.0\n",
    "ipykernel        : 5.1.3\n",
    "jupyter client   : 5.3.4\n",
    "jupyter lab      : 1.2.3\n",
    "nbconvert        : 5.6.1\n",
    "ipywidgets       : not installed\n",
    "nbformat         : 4.4.0\n",
    "traitlets        : 4.3.3\n",
    "```\n",
    "\n",
    "```bash\n",
    "!jupyter-labextension list\n",
    "\n",
    "JupyterLab v1.2.3\n",
    "Known labextensions:\n",
    "   app dir: /usr/local/share/jupyter/lab\n",
    "        @aquirdturtle/collapsible_headings v0.5.0  enabled  OK\n",
    "        @jupyter-widgets/jupyterlab-manager v1.1.0  enabled  OK\n",
    "        @jupyterlab/git v0.8.2  enabled  OK\n",
    "        @jupyterlab/github v1.0.1  enabled  OK\n",
    "        jupyterlab-flake8 v0.4.0  enabled  OK\n",
    "\n",
    "Uninstalled core extensions:\n",
    "    @jupyterlab/github\n",
    "    jupyterlab-flake8\n",
    "```"
   ]
  },
  {
   "cell_type": "code",
   "execution_count": 1,
   "metadata": {
    "Collapsed": "false"
   },
   "outputs": [],
   "source": [
    "# Run this cell to check the version of Jupyter you are running\n",
    "#!jupyter --version"
   ]
  },
  {
   "cell_type": "code",
   "execution_count": 2,
   "metadata": {
    "Collapsed": "false"
   },
   "outputs": [],
   "source": [
    "# Run one of these cells to check what extensions you are using\n",
    "#!jupyter-labextension list\n",
    "#!jupyter-nbextension list"
   ]
  },
  {
   "cell_type": "markdown",
   "metadata": {
    "Collapsed": "true"
   },
   "source": [
    "## Notebook Configs"
   ]
  },
  {
   "cell_type": "code",
   "execution_count": 2,
   "metadata": {
    "Collapsed": "false"
   },
   "outputs": [],
   "source": [
    "# AUTO GENERATED CELL FOR NOTEBOOK SETUP\n",
    "\n",
    "# NOTEBOOK WIDE MAGICS\n",
    "\n",
    "# Reload all modules before executing a new line\n",
    "%load_ext autoreload\n",
    "%autoreload 2\n",
    "\n",
    "# Abide by PEP8 code style\n",
    "# %load_ext pycodestyle_magic\n",
    "# %pycodestyle_on\n",
    "\n",
    "# LIBRARY SPECIFIC MAGICS - UNCOMMENT AS NEEDED\n",
    "\n",
    "# Plot all matplotlib plots in output cell and save on close\n",
    "%matplotlib inline"
   ]
  },
  {
   "cell_type": "code",
   "execution_count": 3,
   "metadata": {
    "Collapsed": "false"
   },
   "outputs": [],
   "source": [
    "import numpy as np\n",
    "\n",
    "import matplotlib as mpl\n",
    "import matplotlib.pyplot as plt\n",
    "\n",
    "from mpl_toolkits.mplot3d import Axes3D\n",
    "\n",
    "from IPython.display import YouTubeVideo"
   ]
  },
  {
   "cell_type": "code",
   "execution_count": 3,
   "metadata": {
    "Collapsed": "false"
   },
   "outputs": [],
   "source": [
    "def print_a(a):\n",
    "    print('Dim: {}\\nShape: {}\\n{}'.format(a.ndim, a.shape, a))"
   ]
  },
  {
   "cell_type": "code",
   "execution_count": 4,
   "metadata": {
    "Collapsed": "false"
   },
   "outputs": [],
   "source": [
    "def plot_2d_vectors(vectors=None, labels=None, colors=None, title=None):\n",
    "    '''A custom vector plotting function that makes it easy to plot 2D vectors'''\n",
    "\n",
    "    # TODO ADD KWARGS THAT CAN BE PASSED INTO THE SET FUNCTION\n",
    "\n",
    "    # TODO input data checks\n",
    "    # type(vectors) -> list of int tuple\n",
    "    # type(vector_labels) -> list of strings\n",
    "    # len(vectors) == len(vector_labels)\n",
    "    # title == None | string\n",
    "    # etc\n",
    "    \n",
    "    fig, ax = plt.subplots(1)\n",
    "\n",
    "    origin = [0], [0]\n",
    "    xmin, xmax = 0, 0\n",
    "    ymin, ymax = 0, 0\n",
    "\n",
    "    if colors == None:\n",
    "        color_list = ['r', 'g', 'b', 'c', 'm', 'y', 'k']\n",
    "        colors = np.random.choice(color_list, len(vectors))\n",
    "\n",
    "    if labels == None:\n",
    "        labels = ['V'+str(i) for i in range(len(vectors))]\n",
    "\n",
    "    for i in range(len(vectors)):\n",
    "        ax.quiver(*origin, *vectors[i], color=colors[i], label=labels[i], units='xy', scale=1)\n",
    "\n",
    "        if vectors[i][0] < xmin:\n",
    "            xmin = vectors[i][0]\n",
    "        elif vectors[i][0] > xmax:\n",
    "            xmax = vectors[i][0]\n",
    "\n",
    "        if vectors[i][1] < ymin:\n",
    "            ymin = vectors[i][1]\n",
    "        elif vectors[i][1] > ymax:\n",
    "            ymax = vectors[i][1]\n",
    "\n",
    "    buffer = 2\n",
    "    plt.xlim(xmin - buffer, xmax + buffer)\n",
    "    plt.ylim(ymin - buffer, ymax + buffer)\n",
    "\n",
    "    plt.grid()\n",
    "\n",
    "    if title != None:\n",
    "        plt.title(title)\n",
    "\n",
    "    plt.legend()"
   ]
  },
  {
   "cell_type": "code",
   "execution_count": 5,
   "metadata": {
    "Collapsed": "false"
   },
   "outputs": [],
   "source": [
    "def plot_3d_vectors(vectors=None, labels=None, colors=None, title=None):\n",
    "    fig = plt.figure()\n",
    "    ax = fig.add_subplot(111, projection='3d')\n",
    "\n",
    "    origin = [0], [0], [0]\n",
    "    xmin, xmax = 0, 0\n",
    "    ymin, ymax = 0, 0\n",
    "    zmin, zmax = 0, 0\n",
    "\n",
    "    if colors == None:\n",
    "        color_list = ['r', 'g', 'b', 'c', 'm', 'y', 'k']\n",
    "        colors = np.random.choice(color_list, len(vectors))\n",
    "\n",
    "    if labels == None:\n",
    "        labels = ['V'+str(i) for i in range(len(vectors))]\n",
    "\n",
    "    for i in range(len(vectors)):\n",
    "        ax.quiver3D(*origin, *vectors[i], color=colors[i], label=labels[i])\n",
    "\n",
    "        if vectors[i][0] < xmin:\n",
    "            xmin = vectors[i][0]\n",
    "        elif vectors[i][0] > xmax:\n",
    "            xmax = vectors[i][0]\n",
    "\n",
    "        if vectors[i][1] < ymin:\n",
    "            ymin = vectors[i][1]\n",
    "        elif vectors[i][1] > ymax:\n",
    "            ymax = vectors[i][1]\n",
    "\n",
    "        if vectors[i][2] < zmin:\n",
    "            zmin = vectors[i][2]\n",
    "        elif vectors[i][2] > zmax:\n",
    "            zmax = vectors[i][2]\n",
    "\n",
    "    print('xlim: {}, {}'.format(xmin, xmax))\n",
    "    print('ylim: {}, {}'.format(ymin, ymax))\n",
    "    print('zlim: {}, {}'.format(zmin, zmax))\n",
    "\n",
    "    buffer = 2\n",
    "    ax.set_xlim([xmin - buffer, xmax + buffer])\n",
    "    ax.set_ylim([ymin - buffer, ymax + buffer])\n",
    "    ax.set_zlim([zmin - buffer, zmax + buffer])\n",
    "    \n",
    "    ax.set_xlabel('x')\n",
    "    ax.set_ylabel('y')\n",
    "    ax.set_zlabel('z')\n",
    "\n",
    "    plt.grid()\n",
    "\n",
    "    if title != None:\n",
    "        plt.title(title)\n",
    "\n",
    "    plt.legend()"
   ]
  },
  {
   "cell_type": "markdown",
   "metadata": {
    "Collapsed": "false",
    "heading_collapsed": true
   },
   "source": [
    "# Representing Problems and Data with Matrices\n",
    "\n",
    "Matrices are a really convenient way to represent many kinds of problems like graphs, pictures, dynamic fluids problems, and so many more."
   ]
  },
  {
   "cell_type": "markdown",
   "metadata": {
    "Collapsed": "false"
   },
   "source": [
    "## Learning Materials"
   ]
  },
  {
   "cell_type": "markdown",
   "metadata": {
    "Collapsed": "false"
   },
   "source": [
    "Watch the video below to understand the concepts then do the exercises that follow."
   ]
  },
  {
   "cell_type": "code",
   "execution_count": 5,
   "metadata": {
    "Collapsed": "false"
   },
   "outputs": [
    {
     "data": {
      "image/jpeg": "[encoded data removed]",
      "text/html": [
       "\n",
       "        <iframe\n",
       "            width=\"600\"\n",
       "            height=\"350\"\n",
       "            src=\"https://www.youtube.com/embed/fNk_zzaMoSs?start=0\"\n",
       "            frameborder=\"0\"\n",
       "            allowfullscreen\n",
       "        ></iframe>\n",
       "        "
      ],
      "text/plain": [
       "<IPython.lib.display.YouTubeVideo at 0x11c0869d0>"
      ]
     },
     "execution_count": 5,
     "metadata": {},
     "output_type": "execute_result"
    }
   ],
   "source": [
    "# Vector representations of data\n",
    "YouTubeVideo(\"fNk_zzaMoSs\", width=600, height=350, start=0)"
   ]
  },
  {
   "cell_type": "markdown",
   "metadata": {
    "Collapsed": "false"
   },
   "source": [
    "### Key Points from the Video\n",
    "* vectors\n",
    "* scalars\n",
    "* vector representations of data\n",
    "* vector addition\n",
    "* scalar multiplication"
   ]
  },
  {
   "cell_type": "markdown",
   "metadata": {
    "Collapsed": "false"
   },
   "source": [
    "### Common Confusion Points"
   ]
  },
  {
   "cell_type": "markdown",
   "metadata": {
    "Collapsed": "false"
   },
   "source": [
    "<img width=\"300\" src=\"img/scalar-vector-matrix.svg\"></img>\n",
    "\n",
    "**Scalar vs Vector**\n",
    "\n",
    "A *scalar* is just a magnitude (or value). It has no direction associated with it.\n",
    "\n",
    "A *vector* has both a magnitude and direction.\n",
    "\n",
    "**Vector vs Matrix vs Tensor**\n",
    "\n",
    "All of these words are used to represent multidimensional data\n",
    "\n",
    "A *matrix* is a grid of n × m numbers surrounded by brackets\n",
    "\n",
    "A *vector* is a matrix with just one row or column\n",
    "\n",
    "A *tensor* is a term used to describe a generalized matrix\n",
    "- Rank 0 Tensor: has a magnitude and no direction (also called a scalar)\n",
    "- Rank 1 Tensor: has a magnitude and 1 direction (also called a vector)\n",
    "- Rank 2 Tensor: has a magnitude and 2 directions"
   ]
  },
  {
   "cell_type": "markdown",
   "metadata": {
    "Collapsed": "false"
   },
   "source": [
    "## Applications and Examples"
   ]
  },
  {
   "cell_type": "markdown",
   "metadata": {
    "Collapsed": "false"
   },
   "source": [
    "### Networks as Matrices\n",
    "\n",
    "Networks (frequently called graphs) can be represented using matrices. There are several ways to encode a graph to a matrix, here are some common ones."
   ]
  },
  {
   "cell_type": "markdown",
   "metadata": {
    "Collapsed": "false"
   },
   "source": [
    "#### Adjacency Matrix"
   ]
  },
  {
   "cell_type": "markdown",
   "metadata": {
    "Collapsed": "false"
   },
   "source": [
    "An **adjacency matrix** is a square matrix used to a finite graph like this one:\n",
    "\n",
    "![adjancy_matrix](img/adj_matrix.gif)\n",
    "\n",
    "[Source](http://mathworld.wolfram.com/AdjacencyMatrix.html)\n",
    "\n",
    "The elements of the matrix indicate whether pairs of vertices are adjacent (connected) or not in the graph. Prove to yourself that these matrices represent the connected edges (\"edges\" are what we call the lines) of the graph."
   ]
  },
  {
   "cell_type": "markdown",
   "metadata": {
    "Collapsed": "false"
   },
   "source": [
    "We can do this in explore it in too using the networkx package."
   ]
  },
  {
   "cell_type": "code",
   "execution_count": 14,
   "metadata": {
    "Collapsed": "false"
   },
   "outputs": [],
   "source": [
    "import networkx as nx"
   ]
  },
  {
   "cell_type": "code",
   "execution_count": 15,
   "metadata": {
    "Collapsed": "false"
   },
   "outputs": [],
   "source": [
    "M1 = np.array([[0, 0, 0, 1],\n",
    "               [0, 0, 0, 1],\n",
    "               [0, 0, 0, 1],\n",
    "               [1, 1, 1, 0]])"
   ]
  },
  {
   "cell_type": "code",
   "execution_count": 16,
   "metadata": {
    "Collapsed": "false"
   },
   "outputs": [
    {
     "data": {
      "image/png": "[encoded data removed]",
      "text/plain": [
       "<Figure size 432x288 with 1 Axes>"
      ]
     },
     "metadata": {},
     "output_type": "display_data"
    }
   ],
   "source": [
    "graph = nx.from_numpy_matrix(M1)\n",
    "nx.draw_circular(graph)"
   ]
  },
  {
   "cell_type": "markdown",
   "metadata": {
    "Collapsed": "false"
   },
   "source": [
    "We can also represent weighted graphs and directional graphs using matricies. Feel free to google around and explore these encodings on your own."
   ]
  },
  {
   "cell_type": "markdown",
   "metadata": {
    "Collapsed": "true"
   },
   "source": [
    "#### Laplacian Matrix\n",
    "\n",
    "The Laplacian Matrix is another popular matrix representation of a graph. It is the degree matrix minus the adjacency matrix:\n",
    "\n",
    "<img src=\"img/laplacian.png\" width=\"600\" ></img>\n",
    "\n",
    "[Source](https://en.wikipedia.org/wiki/Laplacian_matrix)\n",
    "\n",
    "When a graph is represented like this we can extract many useful properties of the graph like the sparsest cuts, non-cyclic, subsets and more."
   ]
  },
  {
   "cell_type": "markdown",
   "metadata": {
    "Collapsed": "true"
   },
   "source": [
    "### Neural Networks\n",
    "\n",
    "A neural network is also built from a combination of multiple matrices."
   ]
  },
  {
   "cell_type": "markdown",
   "metadata": {
    "Collapsed": "false"
   },
   "source": [
    "Normally, we see neural networks drawn like the image below. They consist of an input layer, some number of hidden layers, and an output layer (the degree of connectivity between nodes can vary).\n",
    "\n",
    "<img width=\"400\" src=\"img/ann.png\"></img>\n",
    "\n",
    "[Source](https://towardsdatascience.com/applied-deep-learning-part-1-artificial-neural-networks-d7834f67a4f6)"
   ]
  },
  {
   "cell_type": "markdown",
   "metadata": {
    "Collapsed": "false"
   },
   "source": [
    "If we take a deeper look at the network, we see that the input layer is a matrix of input data. \n",
    "\n",
    "For this example lets say its a greyscale image that is 28x28 pixels that we flatten into a 784x1 array to feed into the network. Let's learn the steps through the one foward pass of a fully connected network:\n",
    "\n",
    "<img src=\"img/9.png\" width=\"300\"/>\n",
    "\n",
    "**Data comes in...**\n",
    "\n",
    "Input data shape: 784 x 1\n",
    "\n",
    "$layer_1 => i^0 = [i_0 ... i_n]$\n",
    "\n",
    "**Data flows forward to the first hidden layer...**\n",
    "\n",
    "$layer_2 => a^{(0)} = \\sigma (w_0 a_0 + ... + w_n a_n)$\n",
    "\n",
    "**Data flows forward to the $\\mathbf n^{th}$ hidden layer...**\n",
    "\n",
    "\n",
    "**Data comes out in one of 10**\n",
    "\n",
    "The the input data is weighted (each connection or edge of the network is weighted, multiplied by the activation  )Then each hidden layer that follows are activation nodes. The data runs through the network ..."
   ]
  },
  {
   "cell_type": "markdown",
   "metadata": {
    "Collapsed": "false"
   },
   "source": [
    "<img src=\"img/network_matrix.png\" width=\"300\" />"
   ]
  },
  {
   "cell_type": "markdown",
   "metadata": {
    "Collapsed": "false",
    "hidden": true
   },
   "source": [
    "<div>\n",
    "    <img src=\"img/matrix_network_3blue1brown.png\" alt=\"Network Matrix Representation\" title=\"Matrix Network Representation\" width=\"60%\" height=\"60%\" />\n",
    "    <figcaption>\n",
    "        <a href=\"https://www.youtube.com/watch?v=aircAruvnKk\">3Blue1Brown</a>\n",
    "    </figcaption>\n",
    "</div>"
   ]
  },
  {
   "cell_type": "markdown",
   "metadata": {
    "Collapsed": "true"
   },
   "source": [
    "## Videos and Images as Matrices\n",
    "\n",
    "Videos are just made up of multiple frames of images. An image and anything we can represent as an image is just a 3D matrix: `l x w x color`"
   ]
  },
  {
   "cell_type": "code",
   "execution_count": 215,
   "metadata": {
    "Collapsed": "false"
   },
   "outputs": [],
   "source": [
    "import matplotlib.image as mpimg"
   ]
  },
  {
   "cell_type": "code",
   "execution_count": 217,
   "metadata": {
    "Collapsed": "false"
   },
   "outputs": [
    {
     "name": "stdout",
     "output_type": "stream",
     "text": [
      "Image Shape: (681, 1024, 3)\n",
      "[[[0.3647059  0.34117648 0.1254902 ]\n",
      "  [0.3764706  0.34509805 0.1254902 ]\n",
      "  [0.39215687 0.36078432 0.13725491]\n",
      "  ...\n",
      "  [0.22352941 0.21176471 0.05882353]\n",
      "  [0.21960784 0.20392157 0.04705882]\n",
      "  [0.21568628 0.2        0.04313726]]\n",
      "\n",
      " [[0.36862746 0.34117648 0.1254902 ]\n",
      "  [0.38431373 0.34901962 0.1254902 ]\n",
      "  [0.39607844 0.35686275 0.13333334]\n",
      "  ...\n",
      "  [0.21960784 0.21176471 0.05490196]\n",
      "  [0.22352941 0.21176471 0.04705882]\n",
      "  [0.22352941 0.20784314 0.04313726]]\n",
      "\n",
      " [[0.37254903 0.34901962 0.12941177]\n",
      "  [0.3764706  0.34509805 0.12156863]\n",
      "  [0.38039216 0.34901962 0.1254902 ]\n",
      "  ...\n",
      "  [0.22352941 0.21176471 0.05882353]\n",
      "  [0.22352941 0.21176471 0.04313726]\n",
      "  [0.22745098 0.20784314 0.04313726]]\n",
      "\n",
      " ...\n",
      "\n",
      " [[0.654902   0.50980395 0.3882353 ]\n",
      "  [0.6666667  0.5176471  0.36862746]\n",
      "  [0.65882355 0.5019608  0.34901962]\n",
      "  ...\n",
      "  [0.54509807 0.41960785 0.1764706 ]\n",
      "  [0.56078434 0.43529412 0.18039216]\n",
      "  [0.5764706  0.44705883 0.2       ]]\n",
      "\n",
      " [[0.7137255  0.5647059  0.42745098]\n",
      "  [0.7254902  0.5686275  0.4117647 ]\n",
      "  [0.72156864 0.57254905 0.40392157]\n",
      "  ...\n",
      "  [0.54509807 0.42352942 0.18039216]\n",
      "  [0.5764706  0.45490196 0.19215687]\n",
      "  [0.59607846 0.4745098  0.21176471]]\n",
      "\n",
      " [[0.7647059  0.6156863  0.4745098 ]\n",
      "  [0.75686276 0.6        0.44705883]\n",
      "  [0.7529412  0.60784316 0.4392157 ]\n",
      "  ...\n",
      "  [0.54509807 0.43137255 0.17254902]\n",
      "  [0.57254905 0.44705883 0.2       ]\n",
      "  [0.5764706  0.4509804  0.21960784]]]\n",
      "[[0.3647059  0.34117648 0.1254902 ]\n",
      " [0.3764706  0.34509805 0.1254902 ]\n",
      " [0.39215687 0.36078432 0.13725491]\n",
      " ...\n",
      " [0.22352941 0.21176471 0.05882353]\n",
      " [0.21960784 0.20392157 0.04705882]\n",
      " [0.21568628 0.2        0.04313726]]\n"
     ]
    },
    {
     "data": {
      "text/plain": [
       "<matplotlib.image.AxesImage at 0x12aafd550>"
      ]
     },
     "execution_count": 217,
     "metadata": {},
     "output_type": "execute_result"
    },
    {
     "data": {
      "image/png": "[encoded data removed]",
      "text/plain": [
       "<Figure size 432x288 with 1 Axes>"
      ]
     },
     "metadata": {
      "needs_background": "light"
     },
     "output_type": "display_data"
    }
   ],
   "source": [
    "img_fox = mpimg.imread('img/fox.png')\n",
    "print('Image Shape: {}'.format(img_fox.shape))\n",
    "print(img_fox)\n",
    "\n",
    "print(img_fox[0])\n",
    "plt.imshow(img_fox)"
   ]
  },
  {
   "cell_type": "markdown",
   "metadata": {
    "Collapsed": "false"
   },
   "source": [
    "Images as matrices extends to sound, feel and other things as matrices also. If there is a time component then we can think of each matrix representing the data at a particular time. \n",
    "\n",
    "If we can draw sound as an image (like below) it follows that we can use matrices to represent a multitude of things.\n",
    "\n",
    "<img src=\"img/sound_image.png\" width=\"600\"></img>\n",
    "\n",
    "[Source](https://towardsdatascience.com/sound-classification-using-images-68d4770df426)"
   ]
  },
  {
   "cell_type": "markdown",
   "metadata": {
    "Collapsed": "true"
   },
   "source": [
    "## Systems of Motion as Matrices\n",
    "\n",
    "Physical system like fluid flow, motion, and more can also be represented using matrices.\n",
    "\n",
    "Say we want to describe motion along two lines using the equations $-2x + 3y$ and $3x - 6y$. We can represent the system of equations as a matrix ${\\displaystyle M ={\\begin{pmatrix}-2&3\\\\3&-6\\end{pmatrix}}}$"
   ]
  },
  {
   "cell_type": "markdown",
   "metadata": {
    "Collapsed": "false"
   },
   "source": [
    "https://www.mathsisfun.com/algebra/systems-linear-equations.html"
   ]
  },
  {
   "cell_type": "code",
   "execution_count": null,
   "metadata": {
    "Collapsed": "false"
   },
   "outputs": [],
   "source": []
  },
  {
   "cell_type": "markdown",
   "metadata": {
    "Collapsed": "false"
   },
   "source": [
    "# Linear Algebra Fundamentals\n",
    "\n",
    "The fundamentals of working with systems of linear equations and their properties"
   ]
  },
  {
   "cell_type": "markdown",
   "metadata": {
    "Collapsed": "false"
   },
   "source": [
    "## A Review of Vectors\n",
    "\n",
    "* vectors and scalars\n",
    "* vector representations of data\n",
    "* vector addition\n",
    "* scalar multiplication"
   ]
  },
  {
   "cell_type": "markdown",
   "metadata": {
    "Collapsed": "false"
   },
   "source": [
    "### Learning Material"
   ]
  },
  {
   "cell_type": "markdown",
   "metadata": {
    "Collapsed": "true"
   },
   "source": [
    "### Applications and Examples"
   ]
  },
  {
   "cell_type": "markdown",
   "metadata": {
    "Collapsed": "false"
   },
   "source": [
    "Create this vector in numpy, show its dimension and shape, plot the row vectors.\n",
    "\n",
    "$$\n",
    "{\\displaystyle \\mathbf {A} ={\\begin{pmatrix}1&3\\\\2&-2\\end{pmatrix}}}\n",
    "$$"
   ]
  },
  {
   "cell_type": "code",
   "execution_count": 164,
   "metadata": {
    "Collapsed": "false"
   },
   "outputs": [
    {
     "name": "stdout",
     "output_type": "stream",
     "text": [
      "[[ 1  3]\n",
      " [ 2 -2]]\n",
      "2\n",
      "(2, 2)\n"
     ]
    }
   ],
   "source": [
    "A = np.array([[1, 3],\n",
    "              [2, -2]])\n",
    "print(A)\n",
    "print(A.ndim)\n",
    "print(A.shape)"
   ]
  },
  {
   "cell_type": "code",
   "execution_count": 165,
   "metadata": {
    "Collapsed": "false"
   },
   "outputs": [
    {
     "data": {
      "image/png": "[encoded data removed]",
      "text/plain": [
       "<Figure size 432x288 with 1 Axes>"
      ]
     },
     "metadata": {
      "needs_background": "light"
     },
     "output_type": "display_data"
    }
   ],
   "source": [
    "plot_2d_vectors(A)"
   ]
  },
  {
   "cell_type": "markdown",
   "metadata": {
    "Collapsed": "false"
   },
   "source": [
    "Multiply the matrix by any scalar, see how it scales the vector.\n",
    "\n",
    "$$\n",
    "{\\displaystyle cA =c{\\begin{pmatrix}1&3\\\\2&-2\\end{pmatrix}}={\\begin{pmatrix}1c&3c\\\\2c&-2c\\end{pmatrix}}}\n",
    "$$\n",
    "\n",
    "*Remember: multiplying a matrix by a scalar multiplies each element in the matrix by that scalar*"
   ]
  },
  {
   "cell_type": "code",
   "execution_count": 168,
   "metadata": {
    "Collapsed": "false"
   },
   "outputs": [
    {
     "name": "stdout",
     "output_type": "stream",
     "text": [
      "[[ 2  6]\n",
      " [ 4 -4]]\n"
     ]
    },
    {
     "data": {
      "image/png": "[encoded data removed]",
      "text/plain": [
       "<Figure size 432x288 with 1 Axes>"
      ]
     },
     "metadata": {
      "needs_background": "light"
     },
     "output_type": "display_data"
    }
   ],
   "source": [
    "# Change this scalar and see how it scales the vectors\n",
    "c = 2\n",
    "Ac = A*c\n",
    "print(Ac)\n",
    "plot_2d_vectors([A[0], A[1], Ac[0], Ac[1]], labels=['A_row0', 'A_row1', 'Ac_row0', 'Ac_row1'])"
   ]
  },
  {
   "cell_type": "markdown",
   "metadata": {
    "Collapsed": "false"
   },
   "source": [
    "Complete the vector addition below using numpy, plot the first row vector in A, B, and A+B\n",
    "\n",
    "$$\n",
    "{\\displaystyle A + B = {\\begin{pmatrix}1&3\\\\2&-2\\end{pmatrix}} + {\\begin{pmatrix}1&0\\\\0&-1\\end{pmatrix}} = {\\begin{pmatrix}1+1&3+0\\\\2+0&-2+-1\\end{pmatrix}} = ?}\n",
    "$$"
   ]
  },
  {
   "cell_type": "code",
   "execution_count": 174,
   "metadata": {
    "Collapsed": "false"
   },
   "outputs": [
    {
     "data": {
      "text/plain": [
       "array([[ 1,  0],\n",
       "       [ 0, -1]])"
      ]
     },
     "execution_count": 174,
     "metadata": {},
     "output_type": "execute_result"
    }
   ],
   "source": [
    "B = np.array([[1, 0],\n",
    "              [0, -1]])\n",
    "B"
   ]
  },
  {
   "cell_type": "code",
   "execution_count": 175,
   "metadata": {
    "Collapsed": "false"
   },
   "outputs": [
    {
     "data": {
      "text/plain": [
       "array([[ 2,  3],\n",
       "       [ 2, -3]])"
      ]
     },
     "execution_count": 175,
     "metadata": {},
     "output_type": "execute_result"
    }
   ],
   "source": [
    "AB_sum = A+B\n",
    "AB_sum"
   ]
  },
  {
   "cell_type": "code",
   "execution_count": 176,
   "metadata": {
    "Collapsed": "false"
   },
   "outputs": [
    {
     "data": {
      "image/png": "[encoded data removed]",
      "text/plain": [
       "<Figure size 432x288 with 1 Axes>"
      ]
     },
     "metadata": {
      "needs_background": "light"
     },
     "output_type": "display_data"
    }
   ],
   "source": [
    "plot_2d_vectors([A[0], B[0], AB_sum[0]], labels=['A_row0', 'B_row0', 'AB_row0'])"
   ]
  },
  {
   "cell_type": "markdown",
   "metadata": {
    "Collapsed": "false"
   },
   "source": [
    "## Understanding Linearity and Linear Combinations\n",
    "\n",
    "* Linearity, linear transformations\n",
    "* Linear dependence / independence\n",
    "* Span\n",
    "* Basis"
   ]
  },
  {
   "cell_type": "markdown",
   "metadata": {
    "Collapsed": "false"
   },
   "source": [
    "### Learning Material"
   ]
  },
  {
   "cell_type": "markdown",
   "metadata": {
    "Collapsed": "false"
   },
   "source": [
    "Watch the videos to understand and visualize the concepts then make sure you understand the following key points.\n",
    "\n",
    "**Key Points from the Video**\n",
    "\n",
    "* Anytime you are adding or scaling vectors you are performing **linear transformations**.\n",
    "* The **span** of two given vectors is the set of all possible vectors that you can reach with linear combinations of those to vectors. It forms what you can think of as the plane of those vectors.\n",
    "* The **basis** of a vector space is a subset of vectors in that are linearly independent and span the vector space\n",
    "* Two vectors are **linearly dependent** if one can be expressed as a linear combination of the other; ie its linearly dependent if its already in the span of the others\n",
    "> $\\vec{u} = a \\vec{v} + b \\vec{w}$, where a and b are scalar values\n",
    "* Two vectors are **linearly independent** if they add a new dimension to the span\n",
    "* Collections of vectors can be thought of and represented using points on a graph"
   ]
  },
  {
   "cell_type": "code",
   "execution_count": 183,
   "metadata": {
    "Collapsed": "false"
   },
   "outputs": [
    {
     "data": {
      "image/jpeg": "[encoded data removed]",
      "text/html": [
       "\n",
       "        <iframe\n",
       "            width=\"600\"\n",
       "            height=\"350\"\n",
       "            src=\"https://www.youtube.com/embed/k7RM-ot2NWY?start=0\"\n",
       "            frameborder=\"0\"\n",
       "            allowfullscreen\n",
       "        ></iframe>\n",
       "        "
      ],
      "text/plain": [
       "<IPython.lib.display.YouTubeVideo at 0x11fb5dd10>"
      ]
     },
     "execution_count": 183,
     "metadata": {},
     "output_type": "execute_result"
    }
   ],
   "source": [
    "# Span, basis, linearity\n",
    "YouTubeVideo(\"k7RM-ot2NWY\", width=600, height=350, start=0)"
   ]
  },
  {
   "cell_type": "markdown",
   "metadata": {
    "Collapsed": "false"
   },
   "source": [
    "**Key Points from the Video**\n",
    "\n",
    "* Linear transformations are transformations in which 1) the gridllines remain parallel and evenly spaced and 2) origin remains fixed\n",
    "* Some "
   ]
  },
  {
   "cell_type": "code",
   "execution_count": 182,
   "metadata": {
    "Collapsed": "false"
   },
   "outputs": [
    {
     "data": {
      "image/jpeg": "[encoded data removed]",
      "text/html": [
       "\n",
       "        <iframe\n",
       "            width=\"600\"\n",
       "            height=\"350\"\n",
       "            src=\"https://www.youtube.com/embed/kYB8IZa5AuE?start=0\"\n",
       "            frameborder=\"0\"\n",
       "            allowfullscreen\n",
       "        ></iframe>\n",
       "        "
      ],
      "text/plain": [
       "<IPython.lib.display.YouTubeVideo at 0x11fc03590>"
      ]
     },
     "execution_count": 182,
     "metadata": {},
     "output_type": "execute_result"
    }
   ],
   "source": [
    "# Linear Transformation\n",
    "YouTubeVideo(\"kYB8IZa5AuE\", width=600, height=350, start=0)"
   ]
  },
  {
   "cell_type": "code",
   "execution_count": null,
   "metadata": {
    "Collapsed": "false"
   },
   "outputs": [],
   "source": [
    "# 3D Linear Transformations\n",
    "YouTubeVideo(\"rHLEWRxRGiM\", width=600, height=350, start=0)"
   ]
  },
  {
   "cell_type": "markdown",
   "metadata": {
    "Collapsed": "true"
   },
   "source": [
    "### Exercises and Examples"
   ]
  },
  {
   "cell_type": "markdown",
   "metadata": {
    "Collapsed": "false"
   },
   "source": [
    "Determine if the following vectors are linearly dependent or independent."
   ]
  },
  {
   "cell_type": "markdown",
   "metadata": {
    "Collapsed": "false"
   },
   "source": [
    "Determine the span of this vector space"
   ]
  },
  {
   "cell_type": "markdown",
   "metadata": {
    "Collapsed": "false"
   },
   "source": [
    "What are the basis vectors for the following"
   ]
  },
  {
   "cell_type": "markdown",
   "metadata": {
    "Collapsed": "false"
   },
   "source": [
    "Come up with 2 more vectors that span the vector space described by the vectors below"
   ]
  },
  {
   "cell_type": "markdown",
   "metadata": {
    "Collapsed": "false"
   },
   "source": [
    "Write the following equation as a matrix\n",
    "\n",
    "2i+3j"
   ]
  },
  {
   "cell_type": "markdown",
   "metadata": {
    "Collapsed": "false"
   },
   "source": [
    "The following are some examples of linear tranformations\n",
    "\n",
    "Rotation = \n",
    "Reflection\n",
    "Scaling\n",
    "Shear\n",
    "\n",
    "V = -1i + 2j\n",
    "\n",
    "Show that T(V) = -1(T(i)) + 2(T(j))"
   ]
  },
  {
   "cell_type": "markdown",
   "metadata": {
    "Collapsed": "false"
   },
   "source": [
    "Solve this system of equations\n",
    "\n",
    "-2x + 3y\n",
    "3x + -2y"
   ]
  },
  {
   "cell_type": "markdown",
   "metadata": {
    "Collapsed": "false"
   },
   "source": []
  },
  {
   "cell_type": "markdown",
   "metadata": {
    "Collapsed": "false"
   },
   "source": [
    "## Matrices as Linear Transformations"
   ]
  },
  {
   "cell_type": "markdown",
   "metadata": {
    "Collapsed": "false"
   },
   "source": [
    "### Learning Material"
   ]
  },
  {
   "cell_type": "code",
   "execution_count": 184,
   "metadata": {
    "Collapsed": "false"
   },
   "outputs": [
    {
     "data": {
      "image/jpeg": "[encoded data removed]",
      "text/html": [
       "\n",
       "        <iframe\n",
       "            width=\"600\"\n",
       "            height=\"350\"\n",
       "            src=\"https://www.youtube.com/embed/Ip3X9LOh2dk?start=0\"\n",
       "            frameborder=\"0\"\n",
       "            allowfullscreen\n",
       "        ></iframe>\n",
       "        "
      ],
      "text/plain": [
       "<IPython.lib.display.YouTubeVideo at 0x11f85b690>"
      ]
     },
     "execution_count": 184,
     "metadata": {},
     "output_type": "execute_result"
    }
   ],
   "source": [
    "# Determinant\n",
    "YouTubeVideo(\"Ip3X9LOh2dk\", width=600, height=350, start=0)"
   ]
  },
  {
   "cell_type": "code",
   "execution_count": 180,
   "metadata": {
    "Collapsed": "false"
   },
   "outputs": [
    {
     "data": {
      "image/jpeg": "[encoded data removed]",
      "text/html": [
       "\n",
       "        <iframe\n",
       "            width=\"600\"\n",
       "            height=\"350\"\n",
       "            src=\"https://www.youtube.com/embed/XkY2DOUCWMU?start=0\"\n",
       "            frameborder=\"0\"\n",
       "            allowfullscreen\n",
       "        ></iframe>\n",
       "        "
      ],
      "text/plain": [
       "<IPython.lib.display.YouTubeVideo at 0x11fc22050>"
      ]
     },
     "execution_count": 180,
     "metadata": {},
     "output_type": "execute_result"
    }
   ],
   "source": [
    "# Matrix multiplication\n",
    "YouTubeVideo(\"XkY2DOUCWMU\", width=600, height=350, start=0)"
   ]
  },
  {
   "cell_type": "code",
   "execution_count": null,
   "metadata": {
    "Collapsed": "false"
   },
   "outputs": [],
   "source": [
    "# Inverse Matrices\n",
    "YouTubeVideo(\"uQhTuRlWMxw\", width=600, height=350, start=0)"
   ]
  },
  {
   "cell_type": "code",
   "execution_count": null,
   "metadata": {
    "Collapsed": "false"
   },
   "outputs": [],
   "source": []
  },
  {
   "cell_type": "markdown",
   "metadata": {
    "Collapsed": "false"
   },
   "source": [
    "**Orthogonal**\n",
    "\n",
    "Orthogonal vectors are vectors that are at right angles from each other; it then follows that they are linearly independent.\n",
    "\n",
    "**Orthonormal**\n",
    "\n",
    "Orthonormal vectors are orthogonal and normalized (ie unit vectors)\n",
    "\n",
    "**Dimensionality**\n",
    "Dimensionality may seem straight forward but sometimes it can get confusing in numpy..."
   ]
  },
  {
   "cell_type": "markdown",
   "metadata": {
    "Collapsed": "false"
   },
   "source": [
    "## Understanding Linearity\n",
    "\n",
    "We frequenly talk about linearity and linear transformations...but what does this mean how do we know and why is it important?"
   ]
  },
  {
   "cell_type": "code",
   "execution_count": 55,
   "metadata": {
    "Collapsed": "false"
   },
   "outputs": [
    {
     "name": "stdout",
     "output_type": "stream",
     "text": [
      "V0\n",
      "Dims: 1\n",
      "Shape:(2,)\n",
      " [1 2]\n",
      "V0\n",
      "Dims: 2\n",
      "Shape:(1, 2)\n",
      " [[1 2]]\n",
      "V0\n",
      "Dims: 2\n",
      "Shape:(2, 1)\n",
      " [[1]\n",
      " [2]]\n"
     ]
    }
   ],
   "source": [
    "# Dimensionality\n",
    "\n",
    "V0 = np.array([1, 2])  # 1D array\n",
    "V1 = np.array([[1, 2]])  # 2D array (1 row, 2 columns)\n",
    "V2 = np.array([[1], [2]])  # 2D array (1 rows, 2 column)\n",
    "\n",
    "print('V0\\nDims: {}\\nShape:{}\\n {}'.format(V0.ndim, V0.shape, V0))\n",
    "print('V0\\nDims: {}\\nShape:{}\\n {}'.format(V1.ndim, V1.shape, V1))\n",
    "print('V0\\nDims: {}\\nShape:{}\\n {}'.format(V2.ndim, V2.shape, V2))"
   ]
  },
  {
   "cell_type": "markdown",
   "metadata": {
    "Collapsed": "true"
   },
   "source": [
    "#### Linear Dependence and Independence\n",
    "\n",
    "A set of vectors are **linearly dependent** if at least one of the vectors in the set can be defined as a **linear combination of the others**; otherwise its **linearly independent**."
   ]
  },
  {
   "cell_type": "markdown",
   "metadata": {
    "Collapsed": "false"
   },
   "source": [
    "We can think of linear independence as the minimum number of vectors that are needed to describe a space (or space).\n",
    "\n",
    "In the case of 1 dimension, we only need one vector to describe the space fully. Every other vector in 1D space can be defined as a linear combination of that vector.\n",
    "\n",
    "Take this example below. The vectors shown are linearly dependent because they can be expressed as a linear combination of the other ($V2$ is $V$ times 2)."
   ]
  },
  {
   "cell_type": "code",
   "execution_count": 24,
   "metadata": {
    "Collapsed": "false"
   },
   "outputs": [
    {
     "name": "stdout",
     "output_type": "stream",
     "text": [
      "[[1 0]]\n",
      "[[2 0]]\n"
     ]
    },
    {
     "data": {
      "image/png": "[encoded data removed]",
      "text/plain": [
       "<Figure size 432x288 with 1 Axes>"
      ]
     },
     "metadata": {
      "needs_background": "light"
     },
     "output_type": "display_data"
    }
   ],
   "source": [
    "V0 = np.array([[1, 0]])\n",
    "print(V0)\n",
    "\n",
    "V1 = V0*2\n",
    "print(V1)\n",
    "\n",
    "plot_2d_vectors([V0[0], V1[0]], colors=['r', 'b'])"
   ]
  },
  {
   "cell_type": "code",
   "execution_count": 42,
   "metadata": {
    "Collapsed": "false"
   },
   "outputs": [
    {
     "name": "stdout",
     "output_type": "stream",
     "text": [
      "2\n",
      "(1, 2)\n"
     ]
    }
   ],
   "source": [
    "print(V0.ndim)\n",
    "print(V0.shape)"
   ]
  },
  {
   "cell_type": "markdown",
   "metadata": {
    "Collapsed": "false"
   },
   "source": [
    "In 2D space, the standard basis (called i and j or x and y respectively) are linearly independent. Every other vector in the the xy vector space can be described as some linear combination of those two."
   ]
  },
  {
   "cell_type": "code",
   "execution_count": 25,
   "metadata": {
    "Collapsed": "false"
   },
   "outputs": [],
   "source": [
    "# TODO"
   ]
  },
  {
   "cell_type": "code",
   "execution_count": 17,
   "metadata": {
    "Collapsed": "false"
   },
   "outputs": [
    {
     "data": {
      "text/plain": [
       "1.0"
      ]
     },
     "execution_count": 17,
     "metadata": {},
     "output_type": "execute_result"
    }
   ],
   "source": [
    "np.linalg.det(np.array([[1, 0],\n",
    "                        [0, 1]]))"
   ]
  },
  {
   "cell_type": "markdown",
   "metadata": {
    "Collapsed": "true"
   },
   "source": [
    "#### Linear Transformations\n",
    "\n",
    "If we think of the set of vectors in a vector space as a grid of points. A linear transformation is one that\n",
    "\n",
    "1) keeps the origin fixed and \n",
    "\n",
    "2) keeps all gridlines parallen and evenly spaced\n",
    "\n",
    "More formally, linear transformations follow these rules\n",
    "\n",
    "T(u+v) = T(u) + T(v)\n",
    "T(cu) = cT(u)\n",
    "\n",
    "Below are some examples of linear and non-linear transformations. are **linear transformations** that we can perform on a matrix (eg rotation, scaling, reflection, etc) that will preserve its linearity."
   ]
  },
  {
   "cell_type": "markdown",
   "metadata": {
    "Collapsed": "false"
   },
   "source": [
    "The following operations preserve linearity of the vector ${\\displaystyle V={\\begin{bmatrix}x&y\\end{bmatrix}}}$, where $x$ and $y$ are both integers"
   ]
  },
  {
   "cell_type": "code",
   "execution_count": 34,
   "metadata": {
    "Collapsed": "false"
   },
   "outputs": [],
   "source": [
    "# M = np.mgrid?"
   ]
  },
  {
   "cell_type": "code",
   "execution_count": 25,
   "metadata": {
    "Collapsed": "false"
   },
   "outputs": [
    {
     "name": "stdout",
     "output_type": "stream",
     "text": [
      "Dim: 2\n",
      "Shape: (1, 2)\n",
      "[[2 2]]\n"
     ]
    },
    {
     "data": {
      "image/png": "[encoded data removed]",
      "text/plain": [
       "<Figure size 432x288 with 1 Axes>"
      ]
     },
     "metadata": {
      "needs_background": "light"
     },
     "output_type": "display_data"
    }
   ],
   "source": [
    "# Linear transformations of gridspace\n",
    "\n",
    "# Rotation\n",
    "t_rotation = np.array([[0, 1],\n",
    "                       [1, 0]])\n",
    "\n",
    "# Reflection\n",
    "t_reflection = np.array([[1, 0],\n",
    "                         [0, -1]])\n",
    "\n",
    "# Scaling\n",
    "t_scaling = 3*np.eye((2, 2))\n",
    "\n",
    "# Shear\n",
    "t_shear = np.array([[1, 1],\n",
    "                    [0, 1]])"
   ]
  },
  {
   "cell_type": "code",
   "execution_count": null,
   "metadata": {
    "Collapsed": "false"
   },
   "outputs": [],
   "source": [
    "# None-Linear transformations of gridspace\n",
    "\n",
    "# Sine\n",
    "# t_sin = sin(M)"
   ]
  },
  {
   "cell_type": "markdown",
   "metadata": {
    "Collapsed": "false"
   },
   "source": [
    "Because we can easily visualize 1D, 2D and 3D matrices its easy to see visually when linearity is preserved. But for larger matrices we need math to help us out. \n",
    "\n",
    "We'll learn more about this later but tow matrices are linearly independent if their dot product is 0. Let's check."
   ]
  },
  {
   "cell_type": "code",
   "execution_count": 312,
   "metadata": {
    "Collapsed": "false"
   },
   "outputs": [
    {
     "data": {
      "text/plain": [
       "4.5"
      ]
     },
     "execution_count": 312,
     "metadata": {},
     "output_type": "execute_result"
    }
   ],
   "source": [
    "# Are all of our matrices above linearly independent?\n",
    "print(V.dot(V1))\n",
    "print(V.dot(V2))\n",
    "print(V.dot(V3))"
   ]
  },
  {
   "cell_type": "markdown",
   "metadata": {
    "Collapsed": "false"
   },
   "source": [
    "Yes! Great, now lets check for a bigger matrix we cannot visually check."
   ]
  },
  {
   "cell_type": "code",
   "execution_count": null,
   "metadata": {
    "Collapsed": "false"
   },
   "outputs": [],
   "source": [
    "# Define matrix\n",
    "M = np.array([[2, 3],\n",
    "              [1, 4]])\n",
    "\n",
    "# Test vector addition\n",
    "M1 = M+np.full()\n",
    "\n",
    "# Test scalar multiplication\n",
    "M2 = M*3\n",
    "\n",
    "print(np.dot(M, M1))\n",
    "print(np.dot(M, M2))"
   ]
  },
  {
   "cell_type": "markdown",
   "metadata": {
    "Collapsed": "false",
    "heading_collapsed": true
   },
   "source": [
    "## Matrix Math\n",
    "\n",
    "The arithmetic operations that we are all familiar with can be applied to matrices."
   ]
  },
  {
   "cell_type": "markdown",
   "metadata": {
    "Collapsed": "false",
    "hidden": true
   },
   "source": [
    "### Addition and Subtraction\n",
    "\n",
    "Two vectors V1 and V2 at 90 degrees (pi/2) from each other."
   ]
  },
  {
   "cell_type": "code",
   "execution_count": 18,
   "metadata": {
    "Collapsed": "false"
   },
   "outputs": [],
   "source": [
    "# Define perpendicular vectors V1 and V2\n",
    "V1 = np.array([2, 0])\n",
    "V2 = np.array([0, 3])"
   ]
  },
  {
   "cell_type": "code",
   "execution_count": 19,
   "metadata": {
    "Collapsed": "false"
   },
   "outputs": [
    {
     "name": "stdout",
     "output_type": "stream",
     "text": [
      "Vector plot V1 ([2 0]) and V2 ([0 3])\n"
     ]
    },
    {
     "data": {
      "image/png": "[encoded data removed]",
      "text/plain": [
       "<Figure size 432x288 with 1 Axes>"
      ]
     },
     "metadata": {
      "needs_background": "light"
     },
     "output_type": "display_data"
    }
   ],
   "source": [
    "# Visualize them\n",
    "print('Vector plot V1 ({}) and V2 ({})'.format(V1, V2))\n",
    "plot_2d_vectors(vectors=[V1, V2], labels=['V1', 'V2'], colors=['r', 'g'])"
   ]
  },
  {
   "cell_type": "markdown",
   "metadata": {
    "Collapsed": "false"
   },
   "source": [
    "Vector addition"
   ]
  },
  {
   "cell_type": "code",
   "execution_count": 20,
   "metadata": {
    "Collapsed": "false"
   },
   "outputs": [
    {
     "data": {
      "text/plain": [
       "array([2, 3])"
      ]
     },
     "execution_count": 20,
     "metadata": {},
     "output_type": "execute_result"
    }
   ],
   "source": [
    "# Add V1 and V2\n",
    "V_add = V1+V2\n",
    "V_add"
   ]
  },
  {
   "cell_type": "code",
   "execution_count": 22,
   "metadata": {
    "Collapsed": "false"
   },
   "outputs": [
    {
     "name": "stdout",
     "output_type": "stream",
     "text": [
      "Vector plot V1 ([2 0]) + V2 ([0 3]) = V_add ([2 3])\n"
     ]
    },
    {
     "data": {
      "image/png": "[encoded data removed]",
      "text/plain": [
       "<Figure size 432x288 with 1 Axes>"
      ]
     },
     "metadata": {
      "needs_background": "light"
     },
     "output_type": "display_data"
    }
   ],
   "source": [
    "# Visualize them\n",
    "print('Vector plot V1 ({}) + V2 ({}) = V_add ({})'.format(V1, V2, V_add))\n",
    "plot_2d_vectors([V1, V2, V_add], labels=['V1', 'V2', 'V_add'], colors=['r', 'g', 'b'])"
   ]
  },
  {
   "cell_type": "code",
   "execution_count": 23,
   "metadata": {
    "Collapsed": "false"
   },
   "outputs": [],
   "source": [
    "# Subtract V1 and V2\n",
    "V_sub = V1-V2"
   ]
  },
  {
   "cell_type": "code",
   "execution_count": 24,
   "metadata": {
    "Collapsed": "false",
    "hidden": true
   },
   "outputs": [
    {
     "name": "stdout",
     "output_type": "stream",
     "text": [
      "Vector plot V1 ([2 0]) - V2 ([0 3]) = V_sub ([ 2 -3])\n"
     ]
    },
    {
     "data": {
      "image/png": "[encoded data removed]",
      "text/plain": [
       "<Figure size 432x288 with 1 Axes>"
      ]
     },
     "metadata": {
      "needs_background": "light"
     },
     "output_type": "display_data"
    }
   ],
   "source": [
    "# Visualize them\n",
    "print('Vector plot V1 ({}) - V2 ({}) = V_sub ({})'.format(V1, V2, V_sub))\n",
    "plot_2d_vectors([V1, V2, V_sub], labels=['V1', 'V2', 'V_sub'], colors=['r', 'g', 'b'])"
   ]
  },
  {
   "cell_type": "markdown",
   "metadata": {
    "Collapsed": "false"
   },
   "source": [
    "We can visualize 3D vectors and their operations too."
   ]
  },
  {
   "cell_type": "code",
   "execution_count": 80,
   "metadata": {
    "Collapsed": "false"
   },
   "outputs": [],
   "source": [
    "# 3D Vectors\n",
    "V1 = np.array([2, 0, 0])\n",
    "V2 = np.array([0, 0, 3])\n",
    "V_add = V1+V2\n",
    "V_sub = V1-V2"
   ]
  },
  {
   "cell_type": "code",
   "execution_count": 81,
   "metadata": {
    "Collapsed": "false",
    "hidden": true
   },
   "outputs": [
    {
     "name": "stdout",
     "output_type": "stream",
     "text": [
      "Vector plot V1 ([2 0 0]), V2 ([0 0 3]), V_add ([2 0 3]), V_sub ([ 2  0 -3])\n",
      "xlim: 0, 2\n",
      "ylim: 0, 0\n",
      "zlim: -3, 3\n"
     ]
    },
    {
     "data": {
      "image/png": "[encoded data removed]",
      "text/plain": [
       "<Figure size 432x288 with 1 Axes>"
      ]
     },
     "metadata": {
      "needs_background": "light"
     },
     "output_type": "display_data"
    }
   ],
   "source": [
    "# Visualize them\n",
    "print('Vector plot V1 ({}), V2 ({}), V_add ({}), V_sub ({})'.format(V1, V2, V_add, V_sub))\n",
    "plot_3d_vectors([V1, V2, V_add, V_sub], labels=['V1', 'V2', 'V_add', 'V_sub'], colors=['r', 'g', 'b', 'c'])"
   ]
  },
  {
   "cell_type": "markdown",
   "metadata": {
    "Collapsed": "false"
   },
   "source": [
    "For higher order matrices, we can just check their element-wise results"
   ]
  },
  {
   "cell_type": "code",
   "execution_count": 35,
   "metadata": {
    "Collapsed": "false"
   },
   "outputs": [
    {
     "data": {
      "text/plain": [
       "array([[1., 1., 1., 1., 1., 1., 1., 1., 1., 1.],\n",
       "       [1., 1., 1., 1., 1., 1., 1., 1., 1., 1.],\n",
       "       [1., 1., 1., 1., 1., 1., 1., 1., 1., 1.],\n",
       "       [1., 1., 1., 1., 1., 1., 1., 1., 1., 1.],\n",
       "       [1., 1., 1., 1., 1., 1., 1., 1., 1., 1.],\n",
       "       [1., 1., 1., 1., 1., 1., 1., 1., 1., 1.],\n",
       "       [1., 1., 1., 1., 1., 1., 1., 1., 1., 1.],\n",
       "       [1., 1., 1., 1., 1., 1., 1., 1., 1., 1.],\n",
       "       [1., 1., 1., 1., 1., 1., 1., 1., 1., 1.],\n",
       "       [1., 1., 1., 1., 1., 1., 1., 1., 1., 1.]])"
      ]
     },
     "execution_count": 35,
     "metadata": {},
     "output_type": "execute_result"
    }
   ],
   "source": [
    "M1 = np.ones((10, 10))\n",
    "M1"
   ]
  },
  {
   "cell_type": "code",
   "execution_count": 38,
   "metadata": {
    "Collapsed": "false"
   },
   "outputs": [
    {
     "data": {
      "text/plain": [
       "array([[8, 8, 8, 8, 8, 8, 8, 8, 8, 8],\n",
       "       [8, 8, 8, 8, 8, 8, 8, 8, 8, 8],\n",
       "       [8, 8, 8, 8, 8, 8, 8, 8, 8, 8],\n",
       "       [8, 8, 8, 8, 8, 8, 8, 8, 8, 8],\n",
       "       [8, 8, 8, 8, 8, 8, 8, 8, 8, 8],\n",
       "       [8, 8, 8, 8, 8, 8, 8, 8, 8, 8],\n",
       "       [8, 8, 8, 8, 8, 8, 8, 8, 8, 8],\n",
       "       [8, 8, 8, 8, 8, 8, 8, 8, 8, 8],\n",
       "       [8, 8, 8, 8, 8, 8, 8, 8, 8, 8],\n",
       "       [8, 8, 8, 8, 8, 8, 8, 8, 8, 8]])"
      ]
     },
     "execution_count": 38,
     "metadata": {},
     "output_type": "execute_result"
    }
   ],
   "source": [
    "M2 = np.full((10, 10), 8)\n",
    "M2"
   ]
  },
  {
   "cell_type": "code",
   "execution_count": 39,
   "metadata": {
    "Collapsed": "false"
   },
   "outputs": [
    {
     "data": {
      "text/plain": [
       "array([[7., 7., 7., 7., 7., 7., 7., 7., 7., 7.],\n",
       "       [7., 7., 7., 7., 7., 7., 7., 7., 7., 7.],\n",
       "       [7., 7., 7., 7., 7., 7., 7., 7., 7., 7.],\n",
       "       [7., 7., 7., 7., 7., 7., 7., 7., 7., 7.],\n",
       "       [7., 7., 7., 7., 7., 7., 7., 7., 7., 7.],\n",
       "       [7., 7., 7., 7., 7., 7., 7., 7., 7., 7.],\n",
       "       [7., 7., 7., 7., 7., 7., 7., 7., 7., 7.],\n",
       "       [7., 7., 7., 7., 7., 7., 7., 7., 7., 7.],\n",
       "       [7., 7., 7., 7., 7., 7., 7., 7., 7., 7.],\n",
       "       [7., 7., 7., 7., 7., 7., 7., 7., 7., 7.]])"
      ]
     },
     "execution_count": 39,
     "metadata": {},
     "output_type": "execute_result"
    }
   ],
   "source": [
    "M2-M1"
   ]
  },
  {
   "cell_type": "markdown",
   "metadata": {
    "Collapsed": "false"
   },
   "source": [
    "Note: Numpy has a feature called broadcasting in which if you try and perform operations on a matrix in which the dimensions are different, the single matrix column will be broadcast across each column of the other. More on broadcasting later...for now just know that it exists."
   ]
  },
  {
   "cell_type": "code",
   "execution_count": 45,
   "metadata": {
    "Collapsed": "false"
   },
   "outputs": [
    {
     "data": {
      "text/plain": [
       "array([[8],\n",
       "       [8],\n",
       "       [8],\n",
       "       [8],\n",
       "       [8],\n",
       "       [8],\n",
       "       [8],\n",
       "       [8],\n",
       "       [8],\n",
       "       [8]])"
      ]
     },
     "execution_count": 45,
     "metadata": {},
     "output_type": "execute_result"
    }
   ],
   "source": [
    "M2 = np.full((10, 1), 8)\n",
    "M2"
   ]
  },
  {
   "cell_type": "code",
   "execution_count": 47,
   "metadata": {
    "Collapsed": "false"
   },
   "outputs": [
    {
     "data": {
      "text/plain": [
       "array([[7., 7., 7., 7., 7., 7., 7., 7., 7., 7.],\n",
       "       [7., 7., 7., 7., 7., 7., 7., 7., 7., 7.],\n",
       "       [7., 7., 7., 7., 7., 7., 7., 7., 7., 7.],\n",
       "       [7., 7., 7., 7., 7., 7., 7., 7., 7., 7.],\n",
       "       [7., 7., 7., 7., 7., 7., 7., 7., 7., 7.],\n",
       "       [7., 7., 7., 7., 7., 7., 7., 7., 7., 7.],\n",
       "       [7., 7., 7., 7., 7., 7., 7., 7., 7., 7.],\n",
       "       [7., 7., 7., 7., 7., 7., 7., 7., 7., 7.],\n",
       "       [7., 7., 7., 7., 7., 7., 7., 7., 7., 7.],\n",
       "       [7., 7., 7., 7., 7., 7., 7., 7., 7., 7.]])"
      ]
     },
     "execution_count": 47,
     "metadata": {},
     "output_type": "execute_result"
    }
   ],
   "source": [
    "M2-M1"
   ]
  },
  {
   "cell_type": "markdown",
   "metadata": {
    "Collapsed": "false",
    "heading_collapsed": true
   },
   "source": [
    "## Properties of Matrices\n",
    "\n",
    "* Transpose, Identity, Determinant, Inverse\n",
    "* Cross Product, Dot Product\n",
    "* Eigenvalues and Eigenvectors"
   ]
  },
  {
   "cell_type": "markdown",
   "metadata": {
    "Collapsed": "false"
   },
   "source": [
    "### Transpose and Identity\n",
    "\n",
    "The **transpose** ${\\displaystyle \\mathbf {A} ^{\\operatorname {T} }}$ of a matrix ${\\displaystyle \\mathbf {A} }$ can be obtained by reflecting the elements along its main diagonal.\n",
    "\n",
    "An **identity** matrix ${\\displaystyle \\mathbf {I} }$ is a square matrix with 1s along the diagonal and 0s everywhere else.\n",
    "\n",
    "Important Properties\n",
    "* ${\\displaystyle IA=AI=A}$, multiply the identity matrix by a vector and its doesn't do anything\n",
    "* A matrix is **symetric** if ${\\displaystyle \\mathbf {A} ^{\\operatorname {T} }=\\mathbf {A} .}$"
   ]
  },
  {
   "cell_type": "markdown",
   "metadata": {
    "Collapsed": "true"
   },
   "source": [
    "#### Transpose"
   ]
  },
  {
   "cell_type": "markdown",
   "metadata": {
    "Collapsed": "false"
   },
   "source": [
    "$$\n",
    "{\\displaystyle {\\begin{bmatrix}1&2\\end{bmatrix}}^{\\operatorname {T} }=\\,{\\begin{bmatrix}1\\\\2\\end{bmatrix}}}\n",
    "$$"
   ]
  },
  {
   "cell_type": "code",
   "execution_count": 12,
   "metadata": {
    "Collapsed": "false"
   },
   "outputs": [
    {
     "name": "stdout",
     "output_type": "stream",
     "text": [
      "[[1 2]]\n",
      "[[1]\n",
      " [2]]\n"
     ]
    }
   ],
   "source": [
    "B = np.array([[1, 2]])\n",
    "print(B)\n",
    "print(np.transpose(B))"
   ]
  },
  {
   "cell_type": "markdown",
   "metadata": {
    "Collapsed": "false"
   },
   "source": [
    "<img src=\"img/Matrix_transpose.gif\" alt=\"matrix transpose\" width=\"100\"/>"
   ]
  },
  {
   "cell_type": "code",
   "execution_count": 74,
   "metadata": {
    "Collapsed": "false"
   },
   "outputs": [
    {
     "name": "stdout",
     "output_type": "stream",
     "text": [
      "[[1 2]\n",
      " [3 4]\n",
      " [5 6]]\n",
      "[[1 3 5]\n",
      " [2 4 6]]\n"
     ]
    }
   ],
   "source": [
    "A = np.array([[1, 2],\n",
    "              [3, 4],\n",
    "              [5, 6]\n",
    "             ])\n",
    "print(A)\n",
    "print(np.transpose(A))"
   ]
  },
  {
   "cell_type": "markdown",
   "metadata": {
    "Collapsed": "true"
   },
   "source": [
    "#### Identity"
   ]
  },
  {
   "cell_type": "code",
   "execution_count": 86,
   "metadata": {
    "Collapsed": "false"
   },
   "outputs": [
    {
     "data": {
      "text/plain": [
       "array([[1., 0., 0.],\n",
       "       [0., 1., 0.],\n",
       "       [0., 0., 1.]])"
      ]
     },
     "execution_count": 86,
     "metadata": {},
     "output_type": "execute_result"
    }
   ],
   "source": [
    "I = np.eye(3)\n",
    "I"
   ]
  },
  {
   "cell_type": "code",
   "execution_count": 87,
   "metadata": {
    "Collapsed": "false"
   },
   "outputs": [
    {
     "name": "stdout",
     "output_type": "stream",
     "text": [
      "xlim: 0, 1.0\n",
      "ylim: 0, 1.0\n",
      "zlim: 0, 1.0\n"
     ]
    },
    {
     "data": {
      "image/png": "[encoded data removed]",
      "text/plain": [
       "<Figure size 432x288 with 1 Axes>"
      ]
     },
     "metadata": {
      "needs_background": "light"
     },
     "output_type": "display_data"
    }
   ],
   "source": [
    "plot_3d_vectors(vectors=I, labels=['row1', 'row2', 'row3'], colors=['r', 'g', 'b'])"
   ]
  },
  {
   "cell_type": "markdown",
   "metadata": {
    "Collapsed": "true"
   },
   "source": [
    "#### Properties"
   ]
  },
  {
   "cell_type": "markdown",
   "metadata": {
    "Collapsed": "false"
   },
   "source": [
    "${\\displaystyle IA=AI=A}$, multiply the identity matrix by a vector and its doesn't do anything"
   ]
  },
  {
   "cell_type": "code",
   "execution_count": 105,
   "metadata": {
    "Collapsed": "false"
   },
   "outputs": [
    {
     "name": "stdout",
     "output_type": "stream",
     "text": [
      "[[1 2]\n",
      " [3 4]]\n",
      "[[1 3]\n",
      " [2 4]]\n"
     ]
    }
   ],
   "source": [
    "# Define A and A_transpose\n",
    "A = np.array([[1, 2],\n",
    "              [3, 4]])\n",
    "A_t = np.transpose(A)\n",
    "\n",
    "print(A)\n",
    "print(A_t)"
   ]
  },
  {
   "cell_type": "code",
   "execution_count": 93,
   "metadata": {
    "Collapsed": "false"
   },
   "outputs": [
    {
     "data": {
      "text/plain": [
       "array([[1., 0.],\n",
       "       [0., 1.]])"
      ]
     },
     "execution_count": 93,
     "metadata": {},
     "output_type": "execute_result"
    }
   ],
   "source": [
    "# Define identity matrix of same dimensions of A\n",
    "A_i = np.eye(A.ndim)\n",
    "A_i"
   ]
  },
  {
   "cell_type": "code",
   "execution_count": 94,
   "metadata": {
    "Collapsed": "false"
   },
   "outputs": [
    {
     "data": {
      "text/plain": [
       "array([[ 5, 11],\n",
       "       [11, 25]])"
      ]
     },
     "execution_count": 94,
     "metadata": {},
     "output_type": "execute_result"
    }
   ],
   "source": [
    "# A times A_transpose = I\n",
    "np.dot(A, A_t)"
   ]
  },
  {
   "cell_type": "code",
   "execution_count": 99,
   "metadata": {
    "Collapsed": "false"
   },
   "outputs": [
    {
     "name": "stdout",
     "output_type": "stream",
     "text": [
      "[[ True  True]\n",
      " [ True  True]]\n",
      "[[ True  True]\n",
      " [ True  True]]\n"
     ]
    }
   ],
   "source": [
    "# AI = IA = A\n",
    "print(A == np.dot(A, A_i))\n",
    "print(A == np.dot(A_i, A))"
   ]
  },
  {
   "cell_type": "markdown",
   "metadata": {
    "Collapsed": "false"
   },
   "source": [
    "A matrix is **symetric** if ${\\displaystyle \\mathbf {A} ^{\\operatorname {T} }=\\mathbf {A} .}$"
   ]
  },
  {
   "cell_type": "code",
   "execution_count": 106,
   "metadata": {
    "Collapsed": "false"
   },
   "outputs": [
    {
     "data": {
      "text/plain": [
       "array([[ True,  True,  True],\n",
       "       [ True,  True,  True],\n",
       "       [ True,  True,  True]])"
      ]
     },
     "execution_count": 106,
     "metadata": {},
     "output_type": "execute_result"
    }
   ],
   "source": [
    "# Symmetric = S_transpose = S\n",
    "S = np.array([[1, 7, 3],\n",
    "              [7, 4, -5],\n",
    "              [3, -5, 6]])\n",
    "S == S.T"
   ]
  },
  {
   "cell_type": "markdown",
   "metadata": {
    "Collapsed": "false"
   },
   "source": [
    "### Determinant and Inverse\n",
    "\n",
    "The **determinant** of a matrix is a scalar number that can be calculated from a square matrix.\n",
    "\n",
    "The **inverse** of ${\\displaystyle \\mathbf {A} }$, ${\\displaystyle \\mathbf {A} ^{\\operatorname {-1} }}$ exists only when the product of the two is ${\\displaystyle \\mathbf {I} }$ (the identity matrix).\n",
    "\n",
    "Important Properties\n",
    "* ${\\displaystyle \\det (A) = 0}$, det is 0 if matrix $A$ is not invertible\n",
    "* ${\\displaystyle \\det (I) = 1}$, determinant of identity matrix is 1\n",
    "* ${\\displaystyle \\det (A^{T}) = \\det (A)}$, determinant of $A^{T}$ is the same as the determinant of $A$\n",
    "* ${\\displaystyle \\det (I) = 1}$, determinant of identity matrix is 1\n",
    "* ${\\displaystyle \\det (A^{-1}) = [\\det (A)]^{-1}}$\n",
    "* ${\\displaystyle \\det (AB) = \\det (A) \\det (B)}$, for square matrices of equal size "
   ]
  },
  {
   "cell_type": "markdown",
   "metadata": {
    "Collapsed": "false"
   },
   "source": [
    "#### Determinant"
   ]
  },
  {
   "cell_type": "markdown",
   "metadata": {
    "Collapsed": "false"
   },
   "source": [
    "Geometrically, the determinant can be thought of as the [scaling factor of the linear transformation described by the matrix](https://www.youtube.com/watch?v=Ip3X9LOh2dk&vl=en).\n",
    "\n",
    "It is calculated using this formula:\n",
    "${\\displaystyle {\\begin{aligned}|A|={\\begin{vmatrix}a&b\\\\c&d\\end{vmatrix}}=ad-bc.\\end{aligned}}}$\n",
    "\n",
    "The determinant of larger matrices is just the sum of the determinant of the smaller matrices.\n",
    "\n",
    "<img width=\"500\" src=\"img/determinant.svg\"></img>\n",
    "\n",
    "[Source](https://en.wikipedia.org/wiki/Determinant)\n",
    "\n",
    "Luckily, we can let the computer calculate this for us....but we need to have a firm grasp on what it means."
   ]
  },
  {
   "cell_type": "code",
   "execution_count": 88,
   "metadata": {
    "Collapsed": "false"
   },
   "outputs": [
    {
     "name": "stdout",
     "output_type": "stream",
     "text": [
      "[[1 1]\n",
      " [0 1]]\n",
      "1.0\n"
     ]
    }
   ],
   "source": [
    "A = np.array([[1, 1],[0, 1]])\n",
    "A_det = np.linalg.det(A)\n",
    "print(A)\n",
    "print(A_det)"
   ]
  },
  {
   "cell_type": "code",
   "execution_count": 92,
   "metadata": {
    "Collapsed": "false"
   },
   "outputs": [
    {
     "name": "stdout",
     "output_type": "stream",
     "text": [
      "[[3 0]\n",
      " [0 2]]\n",
      "6.0\n"
     ]
    }
   ],
   "source": [
    "B = np.array([[3, 0],[0, 2]])\n",
    "print(B)\n",
    "print(np.linalg.det(B))"
   ]
  },
  {
   "cell_type": "markdown",
   "metadata": {
    "Collapsed": "false"
   },
   "source": [
    "#### Inverse"
   ]
  },
  {
   "cell_type": "markdown",
   "metadata": {
    "Collapsed": "false"
   },
   "source": [
    "#### Compute the inverse"
   ]
  },
  {
   "cell_type": "markdown",
   "metadata": {
    "Collapsed": "false"
   },
   "source": [
    "Say we have a matrix\n",
    "\n",
    "${\\displaystyle \\mathbf {A} ={\\begin{pmatrix}4&7\\\\2&6\\end{pmatrix}}}$"
   ]
  },
  {
   "cell_type": "code",
   "execution_count": 48,
   "metadata": {
    "Collapsed": "false"
   },
   "outputs": [
    {
     "name": "stdout",
     "output_type": "stream",
     "text": [
      "[[4 7]\n",
      " [2 6]]\n"
     ]
    }
   ],
   "source": [
    "A = np.array([[4, 7],[2,6]])\n",
    "print(A)"
   ]
  },
  {
   "cell_type": "markdown",
   "metadata": {
    "Collapsed": "false"
   },
   "source": [
    "And calculate its inverse\n",
    "\n",
    "${\\displaystyle \\mathbf {B} ={\\begin{pmatrix}.6&-.7\\\\-.2&.4\\end{pmatrix}}}$"
   ]
  },
  {
   "cell_type": "code",
   "execution_count": 51,
   "metadata": {
    "Collapsed": "false"
   },
   "outputs": [
    {
     "name": "stdout",
     "output_type": "stream",
     "text": [
      "[[ 0.6 -0.7]\n",
      " [-0.2  0.4]]\n"
     ]
    }
   ],
   "source": [
    "B = np.linalg.inv(A)\n",
    "print(B)"
   ]
  },
  {
   "cell_type": "markdown",
   "metadata": {
    "Collapsed": "false"
   },
   "source": [
    "We can verify that A and B are inverses by checking their product is the identity matrix.\n",
    "\n",
    "${\\displaystyle \\mathbf {I} ={\\begin{pmatrix}1&0\\\\0&1\\end{pmatrix}}}$"
   ]
  },
  {
   "cell_type": "code",
   "execution_count": 50,
   "metadata": {
    "Collapsed": "false"
   },
   "outputs": [
    {
     "name": "stdout",
     "output_type": "stream",
     "text": [
      "[[1 0]\n",
      " [0 1]]\n",
      "[[1 0]\n",
      " [0 1]]\n"
     ]
    }
   ],
   "source": [
    "print(np.matmul(A, B).astype(int))\n",
    "print(np.matmul(B, A).astype(int))"
   ]
  },
  {
   "cell_type": "markdown",
   "metadata": {
    "Collapsed": "true"
   },
   "source": [
    "#### Properties"
   ]
  },
  {
   "cell_type": "markdown",
   "metadata": {
    "Collapsed": "false"
   },
   "source": [
    "If the **determinant of M != 0**"
   ]
  },
  {
   "cell_type": "code",
   "execution_count": 53,
   "metadata": {
    "Collapsed": "false"
   },
   "outputs": [
    {
     "data": {
      "text/plain": [
       "10.000000000000002"
      ]
     },
     "execution_count": 53,
     "metadata": {},
     "output_type": "execute_result"
    }
   ],
   "source": [
    "# Det NOT equal 0 => inverse exists\n",
    "A = np.array([[4, 7],[2, 6]])\n",
    "np.linalg.det(A)"
   ]
  },
  {
   "cell_type": "code",
   "execution_count": 54,
   "metadata": {
    "Collapsed": "false"
   },
   "outputs": [
    {
     "data": {
      "text/plain": [
       "array([[ 0.6, -0.7],\n",
       "       [-0.2,  0.4]])"
      ]
     },
     "execution_count": 54,
     "metadata": {},
     "output_type": "execute_result"
    }
   ],
   "source": [
    "# inverse exists\n",
    "np.linalg.inv(A)"
   ]
  },
  {
   "cell_type": "markdown",
   "metadata": {
    "Collapsed": "false"
   },
   "source": [
    "**If the determinant of $M$ (an $n x n$ matrix) is 0**\n",
    "* no inverse exists\n",
    "* rows and columns are dependent"
   ]
  },
  {
   "cell_type": "code",
   "execution_count": 112,
   "metadata": {
    "Collapsed": "false"
   },
   "outputs": [
    {
     "name": "stdout",
     "output_type": "stream",
     "text": [
      "[[ 1  2  3]\n",
      " [ 2  4  6]\n",
      " [ 4  8 12]]\n",
      "0.0\n"
     ]
    }
   ],
   "source": [
    "M = np.array([[1, 2, 3],\n",
    "              [2, 4, 6],\n",
    "              [4, 8, 12]])\n",
    "print(M)\n",
    "print(np.linalg.det(M))"
   ]
  },
  {
   "cell_type": "code",
   "execution_count": 115,
   "metadata": {
    "Collapsed": "false"
   },
   "outputs": [],
   "source": [
    "# Will throw error\n",
    "# No inverse exists; its a singular matrix\n",
    "# print(np.linalg.inv(M))"
   ]
  },
  {
   "cell_type": "markdown",
   "metadata": {
    "Collapsed": "false"
   },
   "source": [
    "The determinant of $A^{T}$ is the same as the determinant of $A$\n",
    "\n",
    "${\\displaystyle \\det (A^{T}) = \\det (A)}$"
   ]
  },
  {
   "cell_type": "code",
   "execution_count": 119,
   "metadata": {
    "Collapsed": "false"
   },
   "outputs": [
    {
     "data": {
      "text/plain": [
       "False"
      ]
     },
     "execution_count": 119,
     "metadata": {},
     "output_type": "execute_result"
    }
   ],
   "source": [
    "np.linalg.det(A) == np.linalg.det(A.T)"
   ]
  },
  {
   "cell_type": "code",
   "execution_count": 118,
   "metadata": {
    "Collapsed": "false"
   },
   "outputs": [
    {
     "data": {
      "text/plain": [
       "True"
      ]
     },
     "execution_count": 118,
     "metadata": {},
     "output_type": "execute_result"
    }
   ],
   "source": [
    "np.linalg.det(M) == np.linalg.det(M.T)"
   ]
  },
  {
   "cell_type": "markdown",
   "metadata": {
    "Collapsed": "false"
   },
   "source": [
    "The determinant of the identity matrix is 1\n",
    "\n",
    "${\\displaystyle \\det (I) = 1}$"
   ]
  },
  {
   "cell_type": "code",
   "execution_count": 122,
   "metadata": {
    "Collapsed": "false"
   },
   "outputs": [
    {
     "data": {
      "text/plain": [
       "1.0"
      ]
     },
     "execution_count": 122,
     "metadata": {},
     "output_type": "execute_result"
    }
   ],
   "source": [
    "np.linalg.det(np.eye(10))"
   ]
  },
  {
   "cell_type": "markdown",
   "metadata": {
    "Collapsed": "false"
   },
   "source": [
    "The determinant is distributable\n",
    "\n",
    "${\\displaystyle \\det (A^{-1}) = [\\det (A)]^{-1}}$\n",
    "\n",
    "${\\displaystyle \\det (AB) = \\det (A) \\det (B)}$, if A and B are square matrices of equal size"
   ]
  },
  {
   "cell_type": "code",
   "execution_count": 123,
   "metadata": {
    "Collapsed": "false"
   },
   "outputs": [
    {
     "ename": "NameError",
     "evalue": "name 'A_inv' is not defined",
     "output_type": "error",
     "traceback": [
      "\u001b[0;31m---------------------------------------------------------------------------\u001b[0m",
      "\u001b[0;31mNameError\u001b[0m                                 Traceback (most recent call last)",
      "\u001b[0;32m<ipython-input-123-4d466f9517b0>\u001b[0m in \u001b[0;36m<module>\u001b[0;34m\u001b[0m\n\u001b[0;32m----> 1\u001b[0;31m \u001b[0mnp\u001b[0m\u001b[0;34m.\u001b[0m\u001b[0mlinalg\u001b[0m\u001b[0;34m.\u001b[0m\u001b[0mdet\u001b[0m\u001b[0;34m(\u001b[0m\u001b[0mA_inv\u001b[0m\u001b[0;34m)\u001b[0m \u001b[0;34m==\u001b[0m \u001b[0mnp\u001b[0m\u001b[0;34m.\u001b[0m\u001b[0mlinalg\u001b[0m\u001b[0;34m.\u001b[0m\u001b[0minv\u001b[0m\u001b[0;34m(\u001b[0m\u001b[0mnp\u001b[0m\u001b[0;34m.\u001b[0m\u001b[0mlinalg\u001b[0m\u001b[0;34m.\u001b[0m\u001b[0mdet\u001b[0m\u001b[0;34m(\u001b[0m\u001b[0mA\u001b[0m\u001b[0;34m)\u001b[0m\u001b[0;34m)\u001b[0m\u001b[0;34m\u001b[0m\u001b[0;34m\u001b[0m\u001b[0m\n\u001b[0m",
      "\u001b[0;31mNameError\u001b[0m: name 'A_inv' is not defined"
     ]
    }
   ],
   "source": [
    "np.linalg.det(A_inv) == np.linalg.inv(np.linalg.det(A))"
   ]
  },
  {
   "cell_type": "markdown",
   "metadata": {
    "Collapsed": "false",
    "hidden": true
   },
   "source": [
    "### Cross Products and Dot Products\n",
    "\n",
    "The **cross product** `a × b` is defined as a vector `c` that is perpendicular (orthogonal) to both `a` and `b`.\n",
    "\n",
    "The **dot product** (or scalar product) `a · b` takes to matricies and gives a single scalar number."
   ]
  },
  {
   "cell_type": "markdown",
   "metadata": {
    "Collapsed": "true"
   },
   "source": [
    "#### Cross Product"
   ]
  },
  {
   "cell_type": "markdown",
   "metadata": {
    "Collapsed": "false"
   },
   "source": [
    "It will also has a direction given by the right-hand rule and a magnitude **equal to the area of the parallelogram** that the vectors span.\n",
    "\n",
    "![matrix_network](img/vector_cross_product.png)"
   ]
  },
  {
   "cell_type": "markdown",
   "metadata": {
    "Collapsed": "false",
    "hidden": true
   },
   "source": [
    "**Starting with a 2D example to make visualization easier**"
   ]
  },
  {
   "cell_type": "markdown",
   "metadata": {
    "Collapsed": "false",
    "hidden": true
   },
   "source": [
    "In Python, we create the above image by defining a and b, then c as the cross product between the two."
   ]
  },
  {
   "cell_type": "code",
   "execution_count": 114,
   "metadata": {
    "Collapsed": "false",
    "hidden": true
   },
   "outputs": [
    {
     "name": "stdout",
     "output_type": "stream",
     "text": [
      "vectors a, b, and c: [[2 3]], [[ 1 -3]], [-9]\n"
     ]
    }
   ],
   "source": [
    "# Define vector a and vector b\n",
    "a = np.array([[2, 3]])\n",
    "b = np.array([[1, -3]])\n",
    "\n",
    "# Compute their cross product and assign it to c\n",
    "c = np.cross(a,b)\n",
    "\n",
    "print('vectors a, b, and c: {}, {}, {}'.format(a, b, c))"
   ]
  },
  {
   "cell_type": "code",
   "execution_count": 115,
   "metadata": {
    "Collapsed": "false",
    "hidden": true
   },
   "outputs": [
    {
     "name": "stdout",
     "output_type": "stream",
     "text": [
      "Dimension of vector a is 2 (shape (1, 2))\n",
      "Dimension of vector b is 2 (shape (1, 2))\n",
      "Dimension of vector c is 1 (shape (1,))\n"
     ]
    }
   ],
   "source": [
    "# Print out the shape (ie dimensions) of a, b, and c\n",
    "print('Dimension of vector a is {} (shape {})'.format(a.ndim, a.shape))\n",
    "print('Dimension of vector b is {} (shape {})'.format(b.ndim, b.shape))\n",
    "print('Dimension of vector c is {} (shape {})'.format(c.ndim, c.shape))"
   ]
  },
  {
   "cell_type": "code",
   "execution_count": 116,
   "metadata": {
    "Collapsed": "false",
    "hidden": true
   },
   "outputs": [
    {
     "data": {
      "image/png": "[encoded data removed]",
      "text/plain": [
       "<Figure size 432x288 with 1 Axes>"
      ]
     },
     "metadata": {
      "needs_background": "light"
     },
     "output_type": "display_data"
    }
   ],
   "source": [
    "plot_2d_vectors(vectors=[[2, 3], [1, -3], [-9, 0]], labels=['a', 'b', 'c'], colors=['b', 'r', 'g'])"
   ]
  },
  {
   "cell_type": "markdown",
   "metadata": {
    "Collapsed": "true",
    "hidden": true
   },
   "source": [
    "#### Dot Product"
   ]
  },
  {
   "cell_type": "markdown",
   "metadata": {
    "Collapsed": "false"
   },
   "source": [
    "You can take the dot product of any two matricies that share the inner dimension."
   ]
  },
  {
   "cell_type": "markdown",
   "metadata": {
    "Collapsed": "false",
    "hidden": true
   },
   "source": [
    "To multiply two vectors it makes sense to multiply their lengths together but only when they point in the same direction, so we only use the component that is pointed in the same direction (ie. cos(theta))\n",
    "\n",
    "a · b = |a| × |b| × cos(θ)\n",
    "\n",
    "a · b = |a| × |b| × cos(90°)\n",
    "a · b = |a| × |b| × 0\n",
    "a · b = 0\n",
    "or we can calculate it this way:\n",
    "\n",
    "a · b = ax × bx + ay × by\n",
    "\n",
    "a · b = -12 × 12 + 16 × 9\n",
    "a · b = -144 + 144\n",
    "a · b = 0\n",
    "\n",
    "Algebraically the dot product is the sum of products:\n",
    "\n",
    "$$\n",
    "{\\displaystyle {\\begin{bmatrix}\\color {red}1&\\color {red}3&\\color {red}-5\\end{bmatrix}}{\\begin{bmatrix}\\color {blue}4\\\\\\color {blue}-2\\\\\\color {blue}-1\\end{bmatrix}}=\\color {purple}3}.\n",
    "$$"
   ]
  },
  {
   "cell_type": "markdown",
   "metadata": {
    "Collapsed": "false",
    "hidden": true
   },
   "source": [
    "Geometrically, the dot product is the magnitude of the vectors cos the angle between them or ${\\displaystyle \\mathbf {a} \\cdot \\mathbf {b} =\\|\\mathbf {a} \\|\\ \\|\\mathbf {b} \\|\\cos \\theta ,}$. Geometrically it looks like this:\n",
    "\n",
    "<img src=\"img/scalar_projection.png\" alt=\"scalar projection\" width=\"200\"/>"
   ]
  },
  {
   "cell_type": "markdown",
   "metadata": {
    "Collapsed": "false",
    "hidden": true
   },
   "source": [
    "We will use these vectors in the examples that follow"
   ]
  },
  {
   "cell_type": "code",
   "execution_count": 123,
   "metadata": {
    "Collapsed": "false",
    "hidden": true
   },
   "outputs": [
    {
     "name": "stdout",
     "output_type": "stream",
     "text": [
      "(1, 2) 2\n",
      "(2, 1) 2\n",
      "(3, 1) 2\n",
      "(1, 3) 2\n"
     ]
    }
   ],
   "source": [
    "d = np.array([[2, 3]]); print(d.shape, d.ndim)\n",
    "e = np.array([[1], [5]]); print(e.shape, e.ndim)\n",
    "f = np.array([[1], [3], [-5]]); print(f.shape, f.ndim)\n",
    "g = np.array([[4, -2, -1]]); print(g.shape, g.ndim)"
   ]
  },
  {
   "cell_type": "markdown",
   "metadata": {
    "Collapsed": "false",
    "hidden": true
   },
   "source": [
    "You see we can get the dot product of the `(1x2)` and `(2x1)` matrix because they share the inner dimension `2`"
   ]
  },
  {
   "cell_type": "code",
   "execution_count": 120,
   "metadata": {
    "Collapsed": "false",
    "hidden": true
   },
   "outputs": [
    {
     "name": "stdout",
     "output_type": "stream",
     "text": [
      "d dot e: [[17]]\n",
      "g dot g: [[  4  -2  -1]\n",
      " [ 12  -6  -3]\n",
      " [-20  10   5]]\n",
      "e dot g: [[  4  -2  -1]\n",
      " [ 20 -10  -5]]\n"
     ]
    }
   ],
   "source": [
    "d_dot_e = np.dot(d,e); print('d dot e: {}'.format(d_dot_e))\n",
    "f_dot_g = np.dot(f,g); print('g dot g: {}'.format(f_dot_g))\n",
    "e_dot_g = np.dot(e,g); print('e dot g: {}'.format(e_dot_g))"
   ]
  },
  {
   "cell_type": "markdown",
   "metadata": {
    "Collapsed": "false",
    "hidden": true
   },
   "source": [
    "In the example below we can see that the dot product of two perpendicular vectors is 0."
   ]
  },
  {
   "cell_type": "code",
   "execution_count": 121,
   "metadata": {
    "Collapsed": "false",
    "hidden": true
   },
   "outputs": [
    {
     "data": {
      "text/plain": [
       "0"
      ]
     },
     "execution_count": 121,
     "metadata": {},
     "output_type": "execute_result"
    }
   ],
   "source": [
    "# Dot product of orthogonal vectors is 0\n",
    "a = np.array([-12, 16])\n",
    "b = np.array([12,9])\n",
    "c = np.dot(a,b);c"
   ]
  },
  {
   "cell_type": "code",
   "execution_count": 129,
   "metadata": {
    "Collapsed": "false"
   },
   "outputs": [
    {
     "data": {
      "image/png": "[encoded data removed]",
      "text/plain": [
       "<Figure size 432x288 with 1 Axes>"
      ]
     },
     "metadata": {
      "needs_background": "light"
     },
     "output_type": "display_data"
    }
   ],
   "source": [
    "plot_2d_vectors([a, b], labels=['a', 'b'])"
   ]
  },
  {
   "cell_type": "markdown",
   "metadata": {
    "Collapsed": "false",
    "hidden": true
   },
   "source": [
    "But not the `3x1` and `2x1` because they don't share an inner dimension (1 ne 2)"
   ]
  },
  {
   "cell_type": "code",
   "execution_count": 131,
   "metadata": {
    "Collapsed": "false"
   },
   "outputs": [
    {
     "ename": "ValueError",
     "evalue": "shapes (2,1) and (3,1) not aligned: 1 (dim 1) != 3 (dim 0)",
     "output_type": "error",
     "traceback": [
      "\u001b[0;31m---------------------------------------------------------------------------\u001b[0m",
      "\u001b[0;31mValueError\u001b[0m                                Traceback (most recent call last)",
      "\u001b[0;32m<ipython-input-131-43b0771377ed>\u001b[0m in \u001b[0;36m<module>\u001b[0;34m\u001b[0m\n\u001b[0;32m----> 1\u001b[0;31m \u001b[0mnp\u001b[0m\u001b[0;34m.\u001b[0m\u001b[0mdot\u001b[0m\u001b[0;34m(\u001b[0m\u001b[0me\u001b[0m\u001b[0;34m,\u001b[0m\u001b[0mf\u001b[0m\u001b[0;34m)\u001b[0m\u001b[0;34m\u001b[0m\u001b[0;34m\u001b[0m\u001b[0m\n\u001b[0m",
      "\u001b[0;32m<__array_function__ internals>\u001b[0m in \u001b[0;36mdot\u001b[0;34m(*args, **kwargs)\u001b[0m\n",
      "\u001b[0;31mValueError\u001b[0m: shapes (2,1) and (3,1) not aligned: 1 (dim 1) != 3 (dim 0)"
     ]
    }
   ],
   "source": [
    "np.dot(e,f)"
   ]
  },
  {
   "cell_type": "code",
   "execution_count": 132,
   "metadata": {
    "Collapsed": "false",
    "hidden": true
   },
   "outputs": [
    {
     "name": "stdout",
     "output_type": "stream",
     "text": [
      "Dimension of vector e is 2 (shape (2, 1))\n",
      "Dimension of vector f is 2 (shape (3, 1))\n"
     ]
    }
   ],
   "source": [
    "# Print out the shape (ie dimensions) of e, f\n",
    "print('Dimension of vector e is {} (shape {})'.format(e.ndim, e.shape))\n",
    "print('Dimension of vector f is {} (shape {})'.format(f.ndim, f.shape))"
   ]
  },
  {
   "cell_type": "markdown",
   "metadata": {
    "Collapsed": "false"
   },
   "source": [
    "## Eigenvalues and Eigenvectors\n",
    "\n",
    "`v` is an eigenvector of a square matrix `A` if it stretches but doesn't change the direction of `A`; the eigenvalue ($\\lambda$) is the scaling factor.\n",
    "\n",
    "More formally, we can say that if you multiply a matrix, `A` by an eigenvector, `v`, then the vector `Av` will be a number (scalar) times the original `v`.\n",
    "\n",
    "$$\n",
    "{\\displaystyle A\\mathbf {v} =\\lambda \\mathbf {v}}\n",
    "$$"
   ]
  },
  {
   "cell_type": "code",
   "execution_count": 128,
   "metadata": {
    "Collapsed": "false"
   },
   "outputs": [
    {
     "data": {
      "image/png": "[encoded data removed]",
      "text/plain": [
       "<Figure size 432x288 with 1 Axes>"
      ]
     },
     "metadata": {
      "needs_background": "light"
     },
     "output_type": "display_data"
    }
   ],
   "source": [
    "# See that ...\n",
    "i = [1, 0]\n",
    "j = [0, 1]\n",
    "plot_2d_vectors(vectors=[i, j, k], labels=['i', 'j', 'k'], colors=['r', 'g', 'b'])"
   ]
  },
  {
   "cell_type": "code",
   "execution_count": 129,
   "metadata": {
    "Collapsed": "false"
   },
   "outputs": [
    {
     "ename": "LinAlgError",
     "evalue": "Last 2 dimensions of the array must be square",
     "output_type": "error",
     "traceback": [
      "\u001b[0;31m---------------------------------------------------------------------------\u001b[0m",
      "\u001b[0;31mLinAlgError\u001b[0m                               Traceback (most recent call last)",
      "\u001b[0;32m<ipython-input-129-d3f266a81b10>\u001b[0m in \u001b[0;36m<module>\u001b[0;34m\u001b[0m\n\u001b[0;32m----> 1\u001b[0;31m \u001b[0meig_vals\u001b[0m\u001b[0;34m,\u001b[0m \u001b[0meig_vects\u001b[0m \u001b[0;34m=\u001b[0m \u001b[0mnp\u001b[0m\u001b[0;34m.\u001b[0m\u001b[0mlinalg\u001b[0m\u001b[0;34m.\u001b[0m\u001b[0meig\u001b[0m\u001b[0;34m(\u001b[0m\u001b[0;34m[\u001b[0m\u001b[0mi\u001b[0m\u001b[0;34m,\u001b[0m \u001b[0mj\u001b[0m\u001b[0;34m,\u001b[0m \u001b[0mk\u001b[0m\u001b[0;34m]\u001b[0m\u001b[0;34m)\u001b[0m\u001b[0;34m\u001b[0m\u001b[0;34m\u001b[0m\u001b[0m\n\u001b[0m\u001b[1;32m      2\u001b[0m \u001b[0mprint\u001b[0m\u001b[0;34m(\u001b[0m\u001b[0meig_vals\u001b[0m\u001b[0;34m)\u001b[0m\u001b[0;34m\u001b[0m\u001b[0;34m\u001b[0m\u001b[0m\n\u001b[1;32m      3\u001b[0m \u001b[0mprint\u001b[0m\u001b[0;34m(\u001b[0m\u001b[0meig_vects\u001b[0m\u001b[0;34m)\u001b[0m\u001b[0;34m\u001b[0m\u001b[0;34m\u001b[0m\u001b[0m\n",
      "\u001b[0;32m<__array_function__ internals>\u001b[0m in \u001b[0;36meig\u001b[0;34m(*args, **kwargs)\u001b[0m\n",
      "\u001b[0;32m/usr/local/lib/python3.7/site-packages/numpy/linalg/linalg.py\u001b[0m in \u001b[0;36meig\u001b[0;34m(a)\u001b[0m\n\u001b[1;32m   1302\u001b[0m     \u001b[0ma\u001b[0m\u001b[0;34m,\u001b[0m \u001b[0mwrap\u001b[0m \u001b[0;34m=\u001b[0m \u001b[0m_makearray\u001b[0m\u001b[0;34m(\u001b[0m\u001b[0ma\u001b[0m\u001b[0;34m)\u001b[0m\u001b[0;34m\u001b[0m\u001b[0;34m\u001b[0m\u001b[0m\n\u001b[1;32m   1303\u001b[0m     \u001b[0m_assertRankAtLeast2\u001b[0m\u001b[0;34m(\u001b[0m\u001b[0ma\u001b[0m\u001b[0;34m)\u001b[0m\u001b[0;34m\u001b[0m\u001b[0;34m\u001b[0m\u001b[0m\n\u001b[0;32m-> 1304\u001b[0;31m     \u001b[0m_assertNdSquareness\u001b[0m\u001b[0;34m(\u001b[0m\u001b[0ma\u001b[0m\u001b[0;34m)\u001b[0m\u001b[0;34m\u001b[0m\u001b[0;34m\u001b[0m\u001b[0m\n\u001b[0m\u001b[1;32m   1305\u001b[0m     \u001b[0m_assertFinite\u001b[0m\u001b[0;34m(\u001b[0m\u001b[0ma\u001b[0m\u001b[0;34m)\u001b[0m\u001b[0;34m\u001b[0m\u001b[0;34m\u001b[0m\u001b[0m\n\u001b[1;32m   1306\u001b[0m     \u001b[0mt\u001b[0m\u001b[0;34m,\u001b[0m \u001b[0mresult_t\u001b[0m \u001b[0;34m=\u001b[0m \u001b[0m_commonType\u001b[0m\u001b[0;34m(\u001b[0m\u001b[0ma\u001b[0m\u001b[0;34m)\u001b[0m\u001b[0;34m\u001b[0m\u001b[0;34m\u001b[0m\u001b[0m\n",
      "\u001b[0;32m/usr/local/lib/python3.7/site-packages/numpy/linalg/linalg.py\u001b[0m in \u001b[0;36m_assertNdSquareness\u001b[0;34m(*arrays)\u001b[0m\n\u001b[1;32m    211\u001b[0m         \u001b[0mm\u001b[0m\u001b[0;34m,\u001b[0m \u001b[0mn\u001b[0m \u001b[0;34m=\u001b[0m \u001b[0ma\u001b[0m\u001b[0;34m.\u001b[0m\u001b[0mshape\u001b[0m\u001b[0;34m[\u001b[0m\u001b[0;34m-\u001b[0m\u001b[0;36m2\u001b[0m\u001b[0;34m:\u001b[0m\u001b[0;34m]\u001b[0m\u001b[0;34m\u001b[0m\u001b[0;34m\u001b[0m\u001b[0m\n\u001b[1;32m    212\u001b[0m         \u001b[0;32mif\u001b[0m \u001b[0mm\u001b[0m \u001b[0;34m!=\u001b[0m \u001b[0mn\u001b[0m\u001b[0;34m:\u001b[0m\u001b[0;34m\u001b[0m\u001b[0;34m\u001b[0m\u001b[0m\n\u001b[0;32m--> 213\u001b[0;31m             \u001b[0;32mraise\u001b[0m \u001b[0mLinAlgError\u001b[0m\u001b[0;34m(\u001b[0m\u001b[0;34m'Last 2 dimensions of the array must be square'\u001b[0m\u001b[0;34m)\u001b[0m\u001b[0;34m\u001b[0m\u001b[0;34m\u001b[0m\u001b[0m\n\u001b[0m\u001b[1;32m    214\u001b[0m \u001b[0;34m\u001b[0m\u001b[0m\n\u001b[1;32m    215\u001b[0m \u001b[0;32mdef\u001b[0m \u001b[0m_assertFinite\u001b[0m\u001b[0;34m(\u001b[0m\u001b[0;34m*\u001b[0m\u001b[0marrays\u001b[0m\u001b[0;34m)\u001b[0m\u001b[0;34m:\u001b[0m\u001b[0;34m\u001b[0m\u001b[0;34m\u001b[0m\u001b[0m\n",
      "\u001b[0;31mLinAlgError\u001b[0m: Last 2 dimensions of the array must be square"
     ]
    }
   ],
   "source": [
    "eig_vals, eig_vects = np.linalg.eig([i, j, k])\n",
    "print(eig_vals)\n",
    "print(eig_vects)"
   ]
  },
  {
   "cell_type": "markdown",
   "metadata": {
    "Collapsed": "false"
   },
   "source": [
    "Let's take the matrix ${\\displaystyle A={\\begin{bmatrix}2&1\\\\1&2\\end{bmatrix}}}$ and calculate its eigenvalues and eigenvectors."
   ]
  },
  {
   "cell_type": "markdown",
   "metadata": {
    "Collapsed": "false"
   },
   "source": [
    "For example, we have a matrix ${\\displaystyle A={\\begin{bmatrix}2&1\\\\1&2\\end{bmatrix}}}$"
   ]
  },
  {
   "cell_type": "code",
   "execution_count": 201,
   "metadata": {
    "Collapsed": "false"
   },
   "outputs": [
    {
     "data": {
      "text/plain": [
       "array([[2, 1],\n",
       "       [1, 2]])"
      ]
     },
     "execution_count": 201,
     "metadata": {},
     "output_type": "execute_result"
    }
   ],
   "source": [
    "A = np.array([[2, 1], [1, 2]])\n",
    "A"
   ]
  },
  {
   "cell_type": "code",
   "execution_count": null,
   "metadata": {
    "Collapsed": "false"
   },
   "outputs": [],
   "source": [
    "eig_vals, eig_vects = np.linalg.eig([[1, 1], [1, 1]])\n",
    "print(eig_vals)\n",
    "print(eig_vects)"
   ]
  },
  {
   "cell_type": "markdown",
   "metadata": {
    "Collapsed": "false"
   },
   "source": [
    "Let the computer calculate the eigenvalues and vectors"
   ]
  },
  {
   "cell_type": "code",
   "execution_count": 202,
   "metadata": {
    "Collapsed": "false"
   },
   "outputs": [
    {
     "name": "stdout",
     "output_type": "stream",
     "text": [
      "[3. 1.]\n",
      "[[ 0.70710678 -0.70710678]\n",
      " [ 0.70710678  0.70710678]]\n"
     ]
    }
   ],
   "source": [
    "eig_vals, eig_vects = np.linalg.eig(A)\n",
    "print(eig_vals)\n",
    "print(eig_vects)"
   ]
  },
  {
   "cell_type": "markdown",
   "metadata": {
    "Collapsed": "false"
   },
   "source": [
    "But let prove to ourselves that the calculations are correct. To do that, we need to prove that $A\\mathbf {v} =\\lambda \\mathbf {v}$ or the matrix times the eigenvector is equal to some scaing factor lambda times that eigenvector.\n",
    "\n",
    "First let's rearrange the equation\n",
    "\n",
    "$$\n",
    "A v=\\lambda v\n",
    "$$\n",
    "\n",
    "move everything to one side of the equation\n",
    "\n",
    "$$\n",
    "A v - \\lambda v = 0\n",
    "$$\n",
    "\n",
    "factor out the eigenvector $v$\n",
    "\n",
    "$$\n",
    "(A-\\lambda I)v=0\n",
    "$$\n",
    "\n",
    "we know $v$ isn't the zero vector so that leaves the other part of the equation that must equal 0\n",
    "\n",
    "$$\n",
    "{\\displaystyle |A-\\lambda I|={\\begin{vmatrix}2-\\lambda &1\\\\1&2-\\lambda \\end{vmatrix}}=3-4\\lambda +\\lambda ^{2}}\n",
    "$$\n"
   ]
  },
  {
   "cell_type": "markdown",
   "metadata": {
    "Collapsed": "false"
   },
   "source": [
    "Let start with the first eigenvalue $\\lambda = 3$ then calculate the determinant of $A - \\lambda I$ or as its commonly written $|A-\\lambda I|$\n",
    "\n",
    "$$\n",
    "{\\displaystyle |A-\\lambda I|={\\begin{vmatrix}2-\\lambda &1\\\\1&2-\\lambda \\end{vmatrix}}=3-4\\lambda +\\lambda ^{2}}\n",
    "$$\n",
    "\n",
    "$$\n",
    "{\\displaystyle |A-3I|=3-4(3) + 3^{2} = 0}\n",
    "$$"
   ]
  },
  {
   "cell_type": "code",
   "execution_count": 151,
   "metadata": {
    "Collapsed": "false"
   },
   "outputs": [
    {
     "data": {
      "text/plain": [
       "0.0"
      ]
     },
     "execution_count": 151,
     "metadata": {},
     "output_type": "execute_result"
    }
   ],
   "source": [
    "# Prove the 1st eigenvalue (eig_vals[0]) is an eigenvalue\n",
    "I = np.eye(2, 2)\n",
    "np.linalg.det(A-(eig_vals[0]*I))"
   ]
  },
  {
   "cell_type": "code",
   "execution_count": 152,
   "metadata": {
    "Collapsed": "false"
   },
   "outputs": [
    {
     "data": {
      "text/plain": [
       "0.0"
      ]
     },
     "execution_count": 152,
     "metadata": {},
     "output_type": "execute_result"
    }
   ],
   "source": [
    "# Prove the 2nd eigenvalue (eig_vals[1]) is an eigenvalue\n",
    "I = np.eye(2, 2)\n",
    "np.linalg.det(A-(eig_vals[1]*I))"
   ]
  },
  {
   "cell_type": "markdown",
   "metadata": {
    "Collapsed": "false"
   },
   "source": [
    "We can double check to make sure that the original vector `A` is a linear combination of the eigenvector scaled by the eigenvalues."
   ]
  },
  {
   "cell_type": "code",
   "execution_count": 140,
   "metadata": {
    "Collapsed": "false"
   },
   "outputs": [
    {
     "data": {
      "text/plain": [
       "array([[-0.70710678,  0.89442719],\n",
       "       [ 0.70710678, -1.78885438]])"
      ]
     },
     "execution_count": 140,
     "metadata": {},
     "output_type": "execute_result"
    }
   ],
   "source": []
  },
  {
   "cell_type": "code",
   "execution_count": 139,
   "metadata": {
    "Collapsed": "false"
   },
   "outputs": [
    {
     "data": {
      "image/png": "[encoded data removed]",
      "text/plain": [
       "<Figure size 432x288 with 1 Axes>"
      ]
     },
     "metadata": {
      "needs_background": "light"
     },
     "output_type": "display_data"
    }
   ],
   "source": [
    "plot_2d_vectors([[-2, -3], eig_vects[0]], labels=['A1', 'eig_vec1'], colors=['r', 'b'])"
   ]
  },
  {
   "cell_type": "markdown",
   "metadata": {
    "Collapsed": "false"
   },
   "source": [
    "https://medium.com/fintechexplained/what-are-eigenvalues-and-eigenvectors-a-must-know-concept-for-machine-learning-80d0fd330e47"
   ]
  },
  {
   "cell_type": "code",
   "execution_count": null,
   "metadata": {
    "Collapsed": "false"
   },
   "outputs": [],
   "source": [
    "# Explain Embeddings here?"
   ]
  },
  {
   "cell_type": "code",
   "execution_count": null,
   "metadata": {
    "Collapsed": "false"
   },
   "outputs": [],
   "source": []
  },
  {
   "cell_type": "markdown",
   "metadata": {
    "Collapsed": "true",
    "heading_collapsed": true
   },
   "source": [
    "# Computational Linear Algebra Considerations\n",
    "\n",
    "Computational linear algebra calculations on large datasets can be time and memoty intensive, here are some techniques help monitor computational resources."
   ]
  },
  {
   "cell_type": "markdown",
   "metadata": {
    "Collapsed": "false",
    "hidden": true
   },
   "source": [
    "Optimizing a computer to perform calculations means we need to learn to optimize their memory efficieny and speed. Luckily, libraries take care of most of this for us but it helps to be mindful of what they are doing. In this section we are going to just skim the surface.."
   ]
  },
  {
   "cell_type": "markdown",
   "metadata": {
    "Collapsed": "false"
   },
   "source": [
    "Memory Usage Tools"
   ]
  },
  {
   "cell_type": "code",
   "execution_count": null,
   "metadata": {
    "Collapsed": "false"
   },
   "outputs": [],
   "source": [
    "import psutil"
   ]
  },
  {
   "cell_type": "code",
   "execution_count": null,
   "metadata": {
    "Collapsed": "false"
   },
   "outputs": [],
   "source": [
    "process = psutil.Process(os.getpid())\n",
    "t = process.memory_info()"
   ]
  },
  {
   "cell_type": "code",
   "execution_count": null,
   "metadata": {
    "Collapsed": "false"
   },
   "outputs": [],
   "source": [
    "t.vms, t.rss"
   ]
  },
  {
   "cell_type": "code",
   "execution_count": null,
   "metadata": {
    "Collapsed": "false"
   },
   "outputs": [],
   "source": [
    "def mem_usage():\n",
    "    process = psutil.Process(os.getpid())\n",
    "    return process.memory_info().rss / psutil.virtual_memory().total"
   ]
  },
  {
   "cell_type": "code",
   "execution_count": null,
   "metadata": {
    "Collapsed": "false"
   },
   "outputs": [],
   "source": [
    "mem_usage()"
   ]
  },
  {
   "cell_type": "markdown",
   "metadata": {
    "Collapsed": "false"
   },
   "source": [
    "Timing Tools"
   ]
  },
  {
   "cell_type": "code",
   "execution_count": null,
   "metadata": {
    "Collapsed": "false"
   },
   "outputs": [],
   "source": [
    "%%timeit"
   ]
  },
  {
   "cell_type": "markdown",
   "metadata": {
    "Collapsed": "true",
    "hidden": true
   },
   "source": [
    "## Broadcasting\n",
    "\n",
    "In order to perform matrix operations quickly matrix libraries use broadcasting in which the calculations are performed more efficiently and in C rather than Python."
   ]
  },
  {
   "cell_type": "markdown",
   "metadata": {
    "Collapsed": "true"
   },
   "source": [
    "### General Broadcasting Rules\n",
    "\n",
    "NumPy compares array shapes element-wise (starting with the trailing dims)\n",
    "\n",
    "Two dimensions are compatible when\n",
    "\n",
    "they are equal, or\n",
    "one of them is 1"
   ]
  },
  {
   "cell_type": "markdown",
   "metadata": {
    "Collapsed": "false"
   },
   "source": [
    "```\n",
    "Image  (3d array): 256 x 256 x 3\n",
    "Scale  (1d array):             3\n",
    "Result (3d array): 256 x 256 x 3\n",
    "```\n",
    "\n",
    "When either of the dimensions compared is one, the other is used. In other words, dimensions with size 1 are stretched or “copied” to match the other."
   ]
  },
  {
   "cell_type": "markdown",
   "metadata": {
    "Collapsed": "false"
   },
   "source": [
    "```\n",
    "A      (4d array):  8 x 1 x 6 x 1\n",
    "B      (3d array):      7 x 1 x 5\n",
    "Result (4d array):  8 x 7 x 6 x 5\n",
    "```"
   ]
  },
  {
   "cell_type": "markdown",
   "metadata": {
    "Collapsed": "false"
   },
   "source": [
    "Element-wise operation for same dims"
   ]
  },
  {
   "cell_type": "code",
   "execution_count": 6,
   "metadata": {
    "Collapsed": "false",
    "hidden": true
   },
   "outputs": [
    {
     "data": {
      "text/plain": [
       "array([2., 4., 6.])"
      ]
     },
     "execution_count": 6,
     "metadata": {},
     "output_type": "execute_result"
    }
   ],
   "source": [
    "a = np.array([1.0, 2.0, 3.0])\n",
    "b = np.array([2.0, 2.0, 2.0])\n",
    "a * b"
   ]
  },
  {
   "cell_type": "markdown",
   "metadata": {
    "Collapsed": "false"
   },
   "source": [
    "Scalar spread across dims"
   ]
  },
  {
   "cell_type": "code",
   "execution_count": 7,
   "metadata": {
    "Collapsed": "false"
   },
   "outputs": [
    {
     "data": {
      "text/plain": [
       "array([2., 4., 6.])"
      ]
     },
     "execution_count": 7,
     "metadata": {},
     "output_type": "execute_result"
    }
   ],
   "source": [
    "a = np.array([1.0, 2.0, 3.0])\n",
    "b = 2.0\n",
    "a * b"
   ]
  },
  {
   "cell_type": "code",
   "execution_count": 18,
   "metadata": {
    "Collapsed": "false"
   },
   "outputs": [
    {
     "name": "stdout",
     "output_type": "stream",
     "text": [
      "[0 1 2 3]\n",
      "(4,)\n"
     ]
    }
   ],
   "source": [
    "x = np.arange(4)\n",
    "print(x)\n",
    "print(x.shape)"
   ]
  },
  {
   "cell_type": "code",
   "execution_count": 19,
   "metadata": {
    "Collapsed": "false"
   },
   "outputs": [
    {
     "name": "stdout",
     "output_type": "stream",
     "text": [
      "[1. 1. 1. 1. 1.]\n",
      "(5,)\n"
     ]
    }
   ],
   "source": [
    "y = np.ones(5)\n",
    "print(y)\n",
    "print(y.shape)"
   ]
  },
  {
   "cell_type": "code",
   "execution_count": 17,
   "metadata": {
    "Collapsed": "false"
   },
   "outputs": [
    {
     "ename": "ValueError",
     "evalue": "operands could not be broadcast together with shapes (4,) (5,) ",
     "output_type": "error",
     "traceback": [
      "\u001b[0;31m---------------------------------------------------------------------------\u001b[0m",
      "\u001b[0;31mValueError\u001b[0m                                Traceback (most recent call last)",
      "\u001b[0;32m<ipython-input-17-cd60f97aa77f>\u001b[0m in \u001b[0;36m<module>\u001b[0;34m\u001b[0m\n\u001b[0;32m----> 1\u001b[0;31m \u001b[0mx\u001b[0m \u001b[0;34m+\u001b[0m \u001b[0my\u001b[0m\u001b[0;34m\u001b[0m\u001b[0;34m\u001b[0m\u001b[0m\n\u001b[0m",
      "\u001b[0;31mValueError\u001b[0m: operands could not be broadcast together with shapes (4,) (5,) "
     ]
    }
   ],
   "source": [
    "x + y"
   ]
  },
  {
   "cell_type": "code",
   "execution_count": 21,
   "metadata": {
    "Collapsed": "false"
   },
   "outputs": [
    {
     "name": "stdout",
     "output_type": "stream",
     "text": [
      "[[0]\n",
      " [1]\n",
      " [2]\n",
      " [3]]\n",
      "(4, 1)\n"
     ]
    }
   ],
   "source": [
    "xx = x.reshape(4, 1)\n",
    "print(xx)\n",
    "print(xx.shape)"
   ]
  },
  {
   "cell_type": "code",
   "execution_count": 22,
   "metadata": {
    "Collapsed": "false"
   },
   "outputs": [
    {
     "data": {
      "text/plain": [
       "array([[1., 1., 1., 1., 1.],\n",
       "       [2., 2., 2., 2., 2.],\n",
       "       [3., 3., 3., 3., 3.],\n",
       "       [4., 4., 4., 4., 4.]])"
      ]
     },
     "execution_count": 22,
     "metadata": {},
     "output_type": "execute_result"
    }
   ],
   "source": [
    "xx + y"
   ]
  },
  {
   "cell_type": "code",
   "execution_count": 24,
   "metadata": {
    "Collapsed": "false"
   },
   "outputs": [
    {
     "name": "stdout",
     "output_type": "stream",
     "text": [
      "[[1. 1. 1. 1.]\n",
      " [1. 1. 1. 1.]\n",
      " [1. 1. 1. 1.]]\n",
      "(3, 4)\n"
     ]
    }
   ],
   "source": [
    "z = np.ones((3, 4))\n",
    "print(z)\n",
    "print(z.shape)"
   ]
  },
  {
   "cell_type": "code",
   "execution_count": 25,
   "metadata": {
    "Collapsed": "false"
   },
   "outputs": [
    {
     "data": {
      "text/plain": [
       "array([[1., 2., 3., 4.],\n",
       "       [1., 2., 3., 4.],\n",
       "       [1., 2., 3., 4.]])"
      ]
     },
     "execution_count": 25,
     "metadata": {},
     "output_type": "execute_result"
    }
   ],
   "source": [
    "x + z"
   ]
  },
  {
   "cell_type": "markdown",
   "metadata": {
    "Collapsed": "true"
   },
   "source": [
    "# Practical Applications in Data Science\n",
    "\n",
    "Using the foundational concepts we just learned, let's dive into practical applications like dimensionality reduction techniques, etc."
   ]
  },
  {
   "cell_type": "markdown",
   "metadata": {
    "Collapsed": "false"
   },
   "source": [
    "## Dimensionality Reduction\n",
    "\n",
    "Frequently in data science disciplines we will need to **reduce the dimensionality of a matrix**. This means we find an equivalent or close to equivalent representation of it that is smaller (ie. less memory and less time intensive)"
   ]
  },
  {
   "cell_type": "markdown",
   "metadata": {
    "Collapsed": "false"
   },
   "source": [
    "There are several methods for dimensionality reduction....\n",
    "\n",
    "* **Factorization / Decomposition:** We could factor the matrix, or break it down into the product of lower dimensional matrices.\n",
    "* PCA ..."
   ]
  },
  {
   "cell_type": "code",
   "execution_count": null,
   "metadata": {
    "Collapsed": "false"
   },
   "outputs": [],
   "source": []
  },
  {
   "cell_type": "markdown",
   "metadata": {
    "Collapsed": "false",
    "hidden": true
   },
   "source": [
    "## Dimensionality Reduction\n",
    "\n",
    "Frequently data scientists will work with what are called sparse matrices (matrices with lots of zeros). In order to more efficiently store sparse matrices we can store just the non-zero values.\n",
    "\n",
    "*I highly recoment checking out the Principle Component Analysis Workbook for more details on dimensionality reduction if its relevant to you.*"
   ]
  },
  {
   "cell_type": "markdown",
   "metadata": {
    "Collapsed": "false"
   },
   "source": [
    "Some data structures better suited for efficiently working with sparse matrices:\n",
    "\n",
    "* Dictionary of Keys. A dictionary is used where a row and column index is mapped to a value.\n",
    "\n",
    "* List of Lists. Each row of the matrix is stored as a list, with each sublist containing the column index and the value.\n",
    "\n",
    "* Coordinate List. A list of tuples is stored with each tuple containing the row index, column index, and the value.\n",
    "\n",
    "* Compressed Sparse Row. The sparse matrix is represented using three one-dimensional arrays for the non-zero values, the extents of the rows, and the column indexes.\n",
    "\n",
    "* Compressed Sparse Column. The same as the Compressed Sparse Row method except the column indices are compressed and read first before the row indices."
   ]
  },
  {
   "cell_type": "code",
   "execution_count": 29,
   "metadata": {
    "Collapsed": "false",
    "hidden": true
   },
   "outputs": [],
   "source": [
    "from scipy.sparse import csr_matrix"
   ]
  },
  {
   "cell_type": "code",
   "execution_count": 30,
   "metadata": {
    "Collapsed": "false"
   },
   "outputs": [
    {
     "name": "stdout",
     "output_type": "stream",
     "text": [
      "[[1 0 0 1 0 0]\n",
      " [0 0 2 0 0 1]\n",
      " [0 0 0 2 0 0]]\n"
     ]
    }
   ],
   "source": [
    "# create dense matrix\n",
    "A = np.array([[1, 0, 0, 1, 0, 0], [0, 0, 2, 0, 0, 1], [0, 0, 0, 2, 0, 0]])\n",
    "print(A)"
   ]
  },
  {
   "cell_type": "code",
   "execution_count": 31,
   "metadata": {
    "Collapsed": "false"
   },
   "outputs": [
    {
     "name": "stdout",
     "output_type": "stream",
     "text": [
      "  (0, 0)\t1\n",
      "  (0, 3)\t1\n",
      "  (1, 2)\t2\n",
      "  (1, 5)\t1\n",
      "  (2, 3)\t2\n"
     ]
    }
   ],
   "source": [
    "# convert to sparse matrix (CSR method)\n",
    "S = csr_matrix(A)\n",
    "print(S)"
   ]
  },
  {
   "cell_type": "code",
   "execution_count": 32,
   "metadata": {
    "Collapsed": "false"
   },
   "outputs": [
    {
     "name": "stdout",
     "output_type": "stream",
     "text": [
      "[[1 0 0 1 0 0]\n",
      " [0 0 2 0 0 1]\n",
      " [0 0 0 2 0 0]]\n"
     ]
    }
   ],
   "source": [
    "# reconstruct dense matrix\n",
    "B = S.todense()\n",
    "print(B)"
   ]
  },
  {
   "cell_type": "code",
   "execution_count": null,
   "metadata": {
    "Collapsed": "false"
   },
   "outputs": [],
   "source": []
  },
  {
   "cell_type": "code",
   "execution_count": null,
   "metadata": {
    "Collapsed": "false"
   },
   "outputs": [],
   "source": []
  },
  {
   "cell_type": "markdown",
   "metadata": {
    "Collapsed": "false"
   },
   "source": [
    "### Clustering"
   ]
  },
  {
   "cell_type": "markdown",
   "metadata": {
    "Collapsed": "false"
   },
   "source": [
    "### <span style=\"color:red;\">Singular Value Decomposition (SVD)</span>"
   ]
  },
  {
   "cell_type": "code",
   "execution_count": 74,
   "metadata": {
    "Collapsed": "false"
   },
   "outputs": [
    {
     "data": {
      "text/plain": [
       "array([[ 3,  0,  2],\n",
       "       [ 2,  0, -2],\n",
       "       [ 0,  1,  1]])"
      ]
     },
     "execution_count": 74,
     "metadata": {},
     "output_type": "execute_result"
    }
   ],
   "source": [
    "M = np.array([[3, 0, 2], [2, 0, -2], [0, 1, 1]])\n",
    "M"
   ]
  },
  {
   "cell_type": "code",
   "execution_count": 75,
   "metadata": {
    "Collapsed": "false"
   },
   "outputs": [
    {
     "name": "stdout",
     "output_type": "stream",
     "text": [
      "[[-0.95123459  0.23048583 -0.20500982]\n",
      " [-0.28736244 -0.90373717  0.31730421]\n",
      " [-0.11214087  0.36074286  0.92589903]]\n",
      "[3.72021075 2.87893436 0.93368567]\n",
      "[[-0.9215684  -0.03014369 -0.38704398]\n",
      " [-0.38764928  0.1253043   0.91325071]\n",
      " [ 0.02096953  0.99166032 -0.12716166]]\n"
     ]
    }
   ],
   "source": [
    "U, S, Vtranspose = np.linalg.svd(M)\n",
    "print(U)\n",
    "print(S)\n",
    "print(Vtranspose)"
   ]
  },
  {
   "cell_type": "markdown",
   "metadata": {
    "Collapsed": "true"
   },
   "source": [
    "# Exercises"
   ]
  },
  {
   "cell_type": "markdown",
   "metadata": {
    "Collapsed": "false",
    "heading_collapsed": true
   },
   "source": [
    "# Additional Resources"
   ]
  },
  {
   "cell_type": "markdown",
   "metadata": {
    "Collapsed": "false"
   },
   "source": [
    "[Linear Algebra Playlist (by 1blue3brown)](https://www.youtube.com/playlist?list=PLZHQObOWTQDPD3MizzM2xVFitgF8hE_ab)\n",
    "\n",
    "[Understanding Linearity and Linear Transformations (by Khan Academy)](https://www.khanacademy.org/math/linear-algebra/matrix-transformations/linear-transformations/a/visualizing-linear-transformations)\n",
    "\n",
    "[Numerical Linear Algebra (by Rachel Thomas, Fastai)](https://nbviewer.jupyter.org/github/fastai/numerical-linear-algebra/tree/master/)"
   ]
  },
  {
   "cell_type": "code",
   "execution_count": null,
   "metadata": {
    "Collapsed": "false"
   },
   "outputs": [],
   "source": []
  }
 ],
 "metadata": {
  "kernelspec": {
   "display_name": "Python 3",
   "language": "python",
   "name": "python3"
  },
  "language_info": {
   "codemirror_mode": {
    "name": "ipython",
    "version": 3
   },
   "file_extension": ".py",
   "mimetype": "text/x-python",
   "name": "python",
   "nbconvert_exporter": "python",
   "pygments_lexer": "ipython3",
   "version": "3.7.5"
  },
  "latex_envs": {
   "LaTeX_envs_menu_present": true,
   "autoclose": false,
   "autocomplete": true,
   "bibliofile": "biblio.bib",
   "cite_by": "apalike",
   "current_citInitial": 1,
   "eqLabelWithNumbers": true,
   "eqNumInitial": 1,
   "hotkeys": {
    "equation": "Ctrl-E",
    "itemize": "Ctrl-I"
   },
   "labels_anchors": false,
   "latex_user_defs": false,
   "report_style_numbering": false,
   "user_envs_cfg": false
  }
 },
 "nbformat": 4,
 "nbformat_minor": 4
}
