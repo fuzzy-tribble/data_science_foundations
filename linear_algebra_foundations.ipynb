{
 "cells": [
  {
   "cell_type": "markdown",
   "metadata": {
    "Collapsed": "false"
   },
   "source": [
    "# Linear Algebra Foundations for Machine Learning and Data Science\n",
    "\n",
    "**Purpose:** The purpose of this workbook is to help you get comfortable with the topics outlined below.\n",
    "\n",
    "**Prereqs**\n",
    "* Python Fundamentals Workbook or a good grasp of basic Python\n",
    "* Numpy Workbook or a good grasp of creating and manipulating numpy arrays\n",
    "* Matplotlib Workbook or a good grasp of plotting using matplotlib\n",
    "    \n",
    "**Recomended Usage**\n",
    "* Run each of the cells (Shift+Enter) and edit them as necessary to solidify your understanding\n",
    "* Do any of the exercises that are relevant to helping you understand the material\n",
    "\n",
    "**Topics Covered**\n",
    "* Matrix Representations of Data (graphs/networks, systems of equations)\n",
    "* Matrix Math (vector addition/subtraction, scalar multiplication, vector multiplication - cross and dot products)\n",
    "* Linearity and Transformations (transformations, linear dependence, span, basis)\n",
    "* Properties of Matrices (transpose, identity, determinant, inverse, rank, column space, null space, eigenvectors)"
   ]
  },
  {
   "cell_type": "markdown",
   "metadata": {
    "Collapsed": "true"
   },
   "source": [
    "# Workbook Setup"
   ]
  },
  {
   "cell_type": "code",
   "execution_count": 4,
   "metadata": {
    "Collapsed": "false"
   },
   "outputs": [],
   "source": [
    "# Reload all modules before executing a new line\n",
    "%load_ext autoreload\n",
    "%autoreload 2\n",
    "\n",
    "# Abide by PEP8 code style\n",
    "# %load_ext pycodestyle_magic\n",
    "# %pycodestyle_on\n",
    "\n",
    "# Plot all matplotlib plots in output cell and save on close\n",
    "%matplotlib inline\n",
    "\n",
    "%load_ext tikzmagic"
   ]
  },
  {
   "cell_type": "code",
   "execution_count": 5,
   "metadata": {
    "Collapsed": "false"
   },
   "outputs": [],
   "source": [
    "import numpy as np\n",
    "\n",
    "import matplotlib as mpl\n",
    "import matplotlib.pyplot as plt\n",
    "import matplotlib.gridspec as gridspec\n",
    "\n",
    "from mpl_toolkits.mplot3d import Axes3D\n",
    "\n",
    "from IPython.display import YouTubeVideo"
   ]
  },
  {
   "cell_type": "markdown",
   "metadata": {
    "Collapsed": "true"
   },
   "source": [
    "## Helper Functions\n",
    "\n",
    "Run these cells to have the helper functions available throughout the workbook. No need to worry about how they were implemented."
   ]
  },
  {
   "cell_type": "code",
   "execution_count": 6,
   "metadata": {
    "Collapsed": "false"
   },
   "outputs": [],
   "source": [
    "def print_a(a):\n",
    "    print('Dim: {}\\nShape: {}\\n{}'.format(a.ndim, a.shape, a))"
   ]
  },
  {
   "cell_type": "code",
   "execution_count": 7,
   "metadata": {
    "Collapsed": "false"
   },
   "outputs": [],
   "source": [
    "def plot_2d_vectors(vectors=None, labels=None, colors=None, title=None):\n",
    "    '''A custom vector plotting function that makes it easy to plot 2D vectors'''\n",
    "\n",
    "    # TODO ADD KWARGS THAT CAN BE PASSED INTO THE SET FUNCTION\n",
    "\n",
    "    # TODO input data checks\n",
    "    # type(vectors) -> list of int tuple\n",
    "    # type(vector_labels) -> list of strings\n",
    "    # len(vectors) == len(vector_labels)\n",
    "    # title == None | string\n",
    "    # etc\n",
    "    \n",
    "    fig, ax = plt.subplots(1)\n",
    "\n",
    "    origin = [0], [0]\n",
    "    xmin, xmax = 0, 0\n",
    "    ymin, ymax = 0, 0\n",
    "\n",
    "    if colors == None:\n",
    "        color_list = ['r', 'g', 'b', 'c', 'm', 'y', 'k']\n",
    "        colors = np.random.choice(color_list, len(vectors))\n",
    "\n",
    "    if labels == None:\n",
    "        labels = ['V'+str(i) for i in range(len(vectors))]\n",
    "\n",
    "    for i in range(len(vectors)):\n",
    "        ax.quiver(*origin, *vectors[i], color=colors[i], label=labels[i], units='xy', scale=1)\n",
    "\n",
    "        if vectors[i][0] < xmin:\n",
    "            xmin = vectors[i][0]\n",
    "        elif vectors[i][0] > xmax:\n",
    "            xmax = vectors[i][0]\n",
    "\n",
    "        if vectors[i][1] < ymin:\n",
    "            ymin = vectors[i][1]\n",
    "        elif vectors[i][1] > ymax:\n",
    "            ymax = vectors[i][1]\n",
    "\n",
    "    buffer = 2\n",
    "    plt.xlim(xmin - buffer, xmax + buffer)\n",
    "    plt.ylim(ymin - buffer, ymax + buffer)\n",
    "\n",
    "    plt.grid()\n",
    "\n",
    "    if title != None:\n",
    "        plt.title(title)\n",
    "\n",
    "    plt.legend()"
   ]
  },
  {
   "cell_type": "code",
   "execution_count": 8,
   "metadata": {
    "Collapsed": "false"
   },
   "outputs": [],
   "source": [
    "def plot_3d_vectors(vectors=None, labels=None, colors=None, title=None):\n",
    "    fig = plt.figure()\n",
    "    ax = fig.add_subplot(111, projection='3d')\n",
    "\n",
    "    origin = [0], [0], [0]\n",
    "    xmin, xmax = 0, 0\n",
    "    ymin, ymax = 0, 0\n",
    "    zmin, zmax = 0, 0\n",
    "\n",
    "    if colors == None:\n",
    "        color_list = ['r', 'g', 'b', 'c', 'm', 'y', 'k']\n",
    "        colors = np.random.choice(color_list, len(vectors))\n",
    "\n",
    "    if labels == None:\n",
    "        labels = ['V'+str(i) for i in range(len(vectors))]\n",
    "\n",
    "    for i in range(len(vectors)):\n",
    "        ax.quiver3D(*origin, *vectors[i], color=colors[i], label=labels[i])\n",
    "\n",
    "        if vectors[i][0] < xmin:\n",
    "            xmin = vectors[i][0]\n",
    "        elif vectors[i][0] > xmax:\n",
    "            xmax = vectors[i][0]\n",
    "\n",
    "        if vectors[i][1] < ymin:\n",
    "            ymin = vectors[i][1]\n",
    "        elif vectors[i][1] > ymax:\n",
    "            ymax = vectors[i][1]\n",
    "\n",
    "        if vectors[i][2] < zmin:\n",
    "            zmin = vectors[i][2]\n",
    "        elif vectors[i][2] > zmax:\n",
    "            zmax = vectors[i][2]\n",
    "\n",
    "    print('xlim: {}, {}'.format(xmin, xmax))\n",
    "    print('ylim: {}, {}'.format(ymin, ymax))\n",
    "    print('zlim: {}, {}'.format(zmin, zmax))\n",
    "\n",
    "    buffer = 2\n",
    "    ax.set_xlim([xmin - buffer, xmax + buffer])\n",
    "    ax.set_ylim([ymin - buffer, ymax + buffer])\n",
    "    ax.set_zlim([zmin - buffer, zmax + buffer])\n",
    "    \n",
    "    ax.set_xlabel('x')\n",
    "    ax.set_ylabel('y')\n",
    "    ax.set_zlabel('z')\n",
    "\n",
    "    plt.grid()\n",
    "\n",
    "    if title != None:\n",
    "        plt.title(title)\n",
    "\n",
    "    plt.legend()"
   ]
  },
  {
   "cell_type": "markdown",
   "metadata": {
    "Collapsed": "true",
    "heading_collapsed": true
   },
   "source": [
    "# 1.0 Matrix Representations of Data\n",
    "\n",
    "Matrices are a really convenient way to represent many kinds of problems like graphs, pictures, dynamic fluids problems, and more. \n",
    "\n",
    "Watch the lesson and run through the examples that follow it. This lesson covers the following topics:\n",
    "\n",
    "* Vocabulary (scalar, vector, matrix, tensor)\n",
    "* Matrix/vector representations of data\n",
    "* Matrix/vector Math (vector addition/subtraction, scalar multiplication, vector product (cross product), scalar product (dot product), matrix-vector multiplication)"
   ]
  },
  {
   "cell_type": "markdown",
   "metadata": {
    "Collapsed": "true"
   },
   "source": [
    "## Lesson"
   ]
  },
  {
   "cell_type": "markdown",
   "metadata": {
    "Collapsed": "false"
   },
   "source": [
    "*Quicktip: Play the video in 2x speed if this first lesson is too basic for you*"
   ]
  },
  {
   "cell_type": "code",
   "execution_count": 3,
   "metadata": {
    "Collapsed": "false"
   },
   "outputs": [
    {
     "data": {
      "image/jpeg": "[encoded data removed]",
      "text/html": [
       "\n",
       "        <iframe\n",
       "            width=\"600\"\n",
       "            height=\"350\"\n",
       "            src=\"https://www.youtube.com/embed/fNk_zzaMoSs?start=0\"\n",
       "            frameborder=\"0\"\n",
       "            allowfullscreen\n",
       "        ></iframe>\n",
       "        "
      ],
      "text/plain": [
       "<IPython.lib.display.YouTubeVideo at 0x11421fc50>"
      ]
     },
     "execution_count": 3,
     "metadata": {},
     "output_type": "execute_result"
    }
   ],
   "source": [
    "# Video: Vectors, what even are they?\n",
    "# https://www.youtube.com/watch?v=fNk_zzaMoSs&list=PLZHQObOWTQDPD3MizzM2xVFitgF8hE_ab&index=2&t=0s\n",
    "YouTubeVideo(\"fNk_zzaMoSs\", width=600, height=350, start=0)"
   ]
  },
  {
   "cell_type": "markdown",
   "metadata": {
    "Collapsed": "false"
   },
   "source": [
    "The words **vector**, **matrix** and **tensor** get thrown around a lot in data science and I wanted to offer some clarification on the distinction between them.\n",
    "\n",
    "<img width=\"300\" src=\"img/scalar-vector-matrix.svg\"></img>\n",
    "\n",
    "**Scalar vs Vector**\n",
    "\n",
    "A *scalar* is just a magnitude (or value). It has no direction associated with it.\n",
    "\n",
    "A *vector* has both a magnitude and direction.\n",
    "\n",
    "**Vector vs Matrix vs Tensor**\n",
    "\n",
    "All of these words are used to represent multidimensional data\n",
    "\n",
    "A *matrix* is a grid of n × m numbers surrounded by brackets\n",
    "\n",
    "A *vector* is a matrix with just one row or column\n",
    "\n",
    "A *tensor* is a term used to describe a generalized matrix\n",
    "- Rank 0 Tensor: has a magnitude and no direction (also called a scalar)\n",
    "- Rank 1 Tensor: has a magnitude and 1 direction (also called a vector)\n",
    "- Rank 2 Tensor: has a magnitude and 2 directions"
   ]
  },
  {
   "cell_type": "markdown",
   "metadata": {
    "Collapsed": "true"
   },
   "source": [
    "### Networks as Matrices\n",
    "\n",
    "Networks (frequently called graphs) can be represented using matrices. There are several ways to encode a graph to a matrix, here are some common ones."
   ]
  },
  {
   "cell_type": "markdown",
   "metadata": {
    "Collapsed": "true"
   },
   "source": [
    "#### Adjacency Matrix"
   ]
  },
  {
   "cell_type": "markdown",
   "metadata": {
    "Collapsed": "false"
   },
   "source": [
    "An **adjacency matrix** is a square matrix used to a finite graph like this one:\n",
    "\n",
    "![adjancy_matrix](img/adj_matrix.gif)\n",
    "\n",
    "[Source](http://mathworld.wolfram.com/AdjacencyMatrix.html)\n",
    "\n",
    "The elements of the matrix indicate whether pairs of vertices are adjacent (connected) or not in the graph. Prove to yourself that these matrices represent the connected edges (\"edges\" are what we call the lines) of the graph."
   ]
  },
  {
   "cell_type": "markdown",
   "metadata": {
    "Collapsed": "false"
   },
   "source": [
    "We can do this in explore it in too using the networkx package."
   ]
  },
  {
   "cell_type": "code",
   "execution_count": 4,
   "metadata": {
    "Collapsed": "false"
   },
   "outputs": [],
   "source": [
    "import networkx as nx"
   ]
  },
  {
   "cell_type": "code",
   "execution_count": 5,
   "metadata": {
    "Collapsed": "false"
   },
   "outputs": [],
   "source": [
    "M1 = np.array([[0, 0, 0, 1],\n",
    "               [0, 0, 0, 1],\n",
    "               [0, 0, 0, 1],\n",
    "               [1, 1, 1, 0]])"
   ]
  },
  {
   "cell_type": "code",
   "execution_count": 6,
   "metadata": {
    "Collapsed": "false"
   },
   "outputs": [
    {
     "data": {
      "image/png": "[encoded data removed]",
      "text/plain": [
       "<Figure size 432x288 with 1 Axes>"
      ]
     },
     "metadata": {},
     "output_type": "display_data"
    }
   ],
   "source": [
    "graph = nx.from_numpy_matrix(M1)\n",
    "nx.draw_circular(graph)"
   ]
  },
  {
   "cell_type": "markdown",
   "metadata": {
    "Collapsed": "false"
   },
   "source": [
    "We can also represent weighted graphs and directional graphs using matricies. Feel free to google around and explore these encodings on your own."
   ]
  },
  {
   "cell_type": "markdown",
   "metadata": {
    "Collapsed": "true"
   },
   "source": [
    "#### Laplacian Matrix\n",
    "\n",
    "The Laplacian Matrix is another popular matrix representation of a graph. It is the degree matrix minus the adjacency matrix:\n",
    "\n",
    "<img src=\"img/laplacian.png\" width=\"600\" ></img>\n",
    "\n",
    "[Source](https://en.wikipedia.org/wiki/Laplacian_matrix)\n",
    "\n",
    "When a graph is represented like this we can extract many useful properties of the graph like the sparsest cuts, non-cyclic, subsets and more."
   ]
  },
  {
   "cell_type": "markdown",
   "metadata": {
    "Collapsed": "true"
   },
   "source": [
    "### Neural Networks as Matrices\n",
    "\n",
    "A neural network is also built from combinations of matrices. We can see below that each layer is a linear combination of the previous layer that goes through an activation function (sigmoid in the case shown below)."
   ]
  },
  {
   "cell_type": "markdown",
   "metadata": {
    "Collapsed": "false",
    "hidden": true
   },
   "source": [
    "<div>\n",
    "    <img src=\"img/matrix_network_3blue1brown.png\" alt=\"Network Matrix Representation\" title=\"Matrix Network Representation\" width=\"60%\" height=\"60%\" />\n",
    "    <figcaption>\n",
    "        <a href=\"https://www.youtube.com/watch?v=aircAruvnKk\">3Blue1Brown</a>\n",
    "    </figcaption>\n",
    "</div>"
   ]
  },
  {
   "cell_type": "markdown",
   "metadata": {
    "Collapsed": "true"
   },
   "source": [
    "### Videos and Images as Matrices\n",
    "\n",
    "Videos are just made up of multiple frames of images. An image and anything we can represent as an image is just a 3D matrix: `l x w x color`"
   ]
  },
  {
   "cell_type": "code",
   "execution_count": 7,
   "metadata": {
    "Collapsed": "false"
   },
   "outputs": [],
   "source": [
    "import matplotlib.image as mpimg"
   ]
  },
  {
   "cell_type": "markdown",
   "metadata": {
    "Collapsed": "false"
   },
   "source": [
    "We can see this image of a fox is just a 681x1024x3 matrix."
   ]
  },
  {
   "cell_type": "code",
   "execution_count": 8,
   "metadata": {
    "Collapsed": "false"
   },
   "outputs": [
    {
     "name": "stdout",
     "output_type": "stream",
     "text": [
      "Image Shape: (681, 1024, 3)\n"
     ]
    },
    {
     "data": {
      "text/plain": [
       "<matplotlib.image.AxesImage at 0x1221e6d10>"
      ]
     },
     "execution_count": 8,
     "metadata": {},
     "output_type": "execute_result"
    },
    {
     "data": {
      "image/png": "[encoded data removed]",
      "text/plain": [
       "<Figure size 432x288 with 1 Axes>"
      ]
     },
     "metadata": {
      "needs_background": "light"
     },
     "output_type": "display_data"
    }
   ],
   "source": [
    "img_fox = mpimg.imread('img/fox.png')\n",
    "print('Image Shape: {}'.format(img_fox.shape))\n",
    "plt.imshow(img_fox)"
   ]
  },
  {
   "cell_type": "markdown",
   "metadata": {
    "Collapsed": "false"
   },
   "source": [
    "If you think about it, we can represent lots of things in \"images\" like this. We've all seen image-like representations of a variety of sensory things like sound and pressure and more.\n",
    "\n",
    "Here is an example of sound images that can be represented as matrices.\n",
    "\n",
    "<img src=\"img/sound_image.png\" width=\"600\"></img>\n",
    "\n",
    "[Source](https://towardsdatascience.com/sound-classification-using-images-68d4770df426)"
   ]
  },
  {
   "cell_type": "markdown",
   "metadata": {
    "Collapsed": "true"
   },
   "source": [
    "### Physical Systems as Matrices\n",
    "\n",
    "Physical systems like fluid flow, motion, and more can also be represented using matrices also."
   ]
  },
  {
   "cell_type": "markdown",
   "metadata": {
    "Collapsed": "false"
   },
   "source": [
    "Say we want to describe motion along two lines using the equations $-2x + 3y$ and $3x - 6y$. We can describe these two equations using a 2x2 matrix\n",
    "\n",
    "${\\displaystyle M ={\\begin{pmatrix}-2&3\\\\3&-6\\end{pmatrix}}}$\n",
    "\n",
    "Then use the matrix $M$ to solve for various things like the intersection of the lines, etc."
   ]
  },
  {
   "cell_type": "markdown",
   "metadata": {
    "Collapsed": "true"
   },
   "source": [
    "### Vector Addition and Subtraction\n",
    "\n",
    "We learned that vector addition is also done element-wise."
   ]
  },
  {
   "cell_type": "markdown",
   "metadata": {
    "Collapsed": "false"
   },
   "source": [
    "We can see the vector addition of $A$ and $B$ shown below\n",
    "\n",
    "$$\n",
    "{\\displaystyle A + B = {\\begin{pmatrix}1&3\\\\2&-2\\end{pmatrix}} + {\\begin{pmatrix}1&0\\\\0&-1\\end{pmatrix}} = {\\begin{pmatrix}1+1&3+0\\\\2+0&-2+-1\\end{pmatrix}} = {\\begin{pmatrix}2&3\\\\2&-3\\end{pmatrix}}}\n",
    "$$"
   ]
  },
  {
   "cell_type": "code",
   "execution_count": 16,
   "metadata": {
    "Collapsed": "false"
   },
   "outputs": [
    {
     "data": {
      "text/plain": [
       "array([[ 1,  3],\n",
       "       [ 2, -2]])"
      ]
     },
     "execution_count": 16,
     "metadata": {},
     "output_type": "execute_result"
    }
   ],
   "source": [
    "A = np.array([[1, 3],\n",
    "              [2, -2]])\n",
    "A"
   ]
  },
  {
   "cell_type": "code",
   "execution_count": 17,
   "metadata": {
    "Collapsed": "false"
   },
   "outputs": [
    {
     "data": {
      "text/plain": [
       "array([[ 1,  0],\n",
       "       [ 0, -1]])"
      ]
     },
     "execution_count": 17,
     "metadata": {},
     "output_type": "execute_result"
    }
   ],
   "source": [
    "B = np.array([[1, 0],\n",
    "              [0, -1]])\n",
    "B"
   ]
  },
  {
   "cell_type": "code",
   "execution_count": 18,
   "metadata": {
    "Collapsed": "false"
   },
   "outputs": [
    {
     "data": {
      "text/plain": [
       "array([[ 2,  3],\n",
       "       [ 2, -3]])"
      ]
     },
     "execution_count": 18,
     "metadata": {},
     "output_type": "execute_result"
    }
   ],
   "source": [
    "AB_sum = A+B\n",
    "AB_sum"
   ]
  },
  {
   "cell_type": "markdown",
   "metadata": {
    "Collapsed": "false"
   },
   "source": [
    "We can also look at the addition of vectors visually by plotting them.\n",
    "\n",
    "*Note: Since this is a 2x2 matrix and it wasn't explicitly said, we assumed rows as vectors but generally columns are used as the vector (i, j, k) as in the videos. Since addition is element-wise it doesn't matter which we chose to display in this graphic.*"
   ]
  },
  {
   "cell_type": "code",
   "execution_count": 19,
   "metadata": {
    "Collapsed": "false"
   },
   "outputs": [
    {
     "data": {
      "image/png": "[encoded data removed]",
      "text/plain": [
       "<Figure size 432x288 with 1 Axes>"
      ]
     },
     "metadata": {
      "needs_background": "light"
     },
     "output_type": "display_data"
    }
   ],
   "source": [
    "plot_2d_vectors([A[0], B[0], AB_sum[0]], labels=['A_row0', 'B_row0', 'AB_row0'])"
   ]
  },
  {
   "cell_type": "markdown",
   "metadata": {
    "Collapsed": "false"
   },
   "source": [
    "&#11088; **Pause and Ponder** &#11088;\n",
    "\n",
    "Vector subtraction works the same as vector addition. Try vector subtraction (or addition of a negative) below and explore the outcome."
   ]
  },
  {
   "cell_type": "code",
   "execution_count": 131,
   "metadata": {
    "Collapsed": "false"
   },
   "outputs": [],
   "source": [
    "# TRY IT HERE"
   ]
  },
  {
   "cell_type": "code",
   "execution_count": 128,
   "metadata": {
    "Collapsed": "false"
   },
   "outputs": [],
   "source": [
    "# Define perpendicular vectors V1 and V2\n",
    "V1 = np.array([2, 0])\n",
    "V2 = np.array([0, 3])\n",
    "V_add = V1+V2\n",
    "V_sub = V1-V2"
   ]
  },
  {
   "cell_type": "code",
   "execution_count": 129,
   "metadata": {
    "Collapsed": "false"
   },
   "outputs": [
    {
     "name": "stdout",
     "output_type": "stream",
     "text": [
      "Vector plot V1 ([2 0]) + V2 ([0 3]) = V_add ([2 3])\n"
     ]
    },
    {
     "data": {
      "image/png": "[encoded data removed]",
      "text/plain": [
       "<Figure size 432x288 with 1 Axes>"
      ]
     },
     "metadata": {
      "needs_background": "light"
     },
     "output_type": "display_data"
    }
   ],
   "source": [
    "# Visualize addition\n",
    "V_add = V1+V2\n",
    "print('Vector plot V1 ({}) + V2 ({}) = V_add ({})'.format(V1, V2, V_add))\n",
    "plot_2d_vectors([V1, V2, V_add], labels=['V1', 'V2', 'V_add'], colors=['r', 'g', 'b'])"
   ]
  },
  {
   "cell_type": "code",
   "execution_count": 130,
   "metadata": {
    "Collapsed": "false",
    "hidden": true
   },
   "outputs": [
    {
     "name": "stdout",
     "output_type": "stream",
     "text": [
      "Vector plot V1 ([2 0]) - V2 ([0 3]) = V_sub ([ 2 -3])\n"
     ]
    },
    {
     "data": {
      "image/png": "[encoded data removed]",
      "text/plain": [
       "<Figure size 432x288 with 1 Axes>"
      ]
     },
     "metadata": {
      "needs_background": "light"
     },
     "output_type": "display_data"
    }
   ],
   "source": [
    "# Visualize subtraction\n",
    "print('Vector plot V1 ({}) - V2 ({}) = V_sub ({})'.format(V1, V2, V_sub))\n",
    "plot_2d_vectors([V1, V2, V_sub], labels=['V1', 'V2', 'V_sub'], colors=['r', 'g', 'b'])"
   ]
  },
  {
   "cell_type": "markdown",
   "metadata": {
    "Collapsed": "false"
   },
   "source": [
    "We can visualize 3D vectors and their operations too."
   ]
  },
  {
   "cell_type": "code",
   "execution_count": 80,
   "metadata": {
    "Collapsed": "false"
   },
   "outputs": [],
   "source": [
    "# 3D Vectors\n",
    "V1 = np.array([2, 0, 0])\n",
    "V2 = np.array([0, 0, 3])\n",
    "V_add = V1+V2\n",
    "V_sub = V1-V2"
   ]
  },
  {
   "cell_type": "code",
   "execution_count": 81,
   "metadata": {
    "Collapsed": "false",
    "hidden": true
   },
   "outputs": [
    {
     "name": "stdout",
     "output_type": "stream",
     "text": [
      "Vector plot V1 ([2 0 0]), V2 ([0 0 3]), V_add ([2 0 3]), V_sub ([ 2  0 -3])\n",
      "xlim: 0, 2\n",
      "ylim: 0, 0\n",
      "zlim: -3, 3\n"
     ]
    },
    {
     "data": {
      "image/png": "[encoded data removed]",
      "text/plain": [
       "<Figure size 432x288 with 1 Axes>"
      ]
     },
     "metadata": {
      "needs_background": "light"
     },
     "output_type": "display_data"
    }
   ],
   "source": [
    "# Visualize them\n",
    "print('Vector plot V1 ({}), V2 ({}), V_add ({}), V_sub ({})'.format(V1, V2, V_add, V_sub))\n",
    "plot_3d_vectors([V1, V2, V_add, V_sub], labels=['V1', 'V2', 'V_add', 'V_sub'], colors=['r', 'g', 'b', 'c'])"
   ]
  },
  {
   "cell_type": "markdown",
   "metadata": {
    "Collapsed": "true"
   },
   "source": [
    "### Scalar Multiplication\n",
    "\n",
    "We learned that multiplying a matrix by a scalar just scales the matrix or vector. To do this each element in the matrix is multiplied by that element."
   ]
  },
  {
   "cell_type": "markdown",
   "metadata": {
    "Collapsed": "false"
   },
   "source": [
    "We can see this example the matrix $A$ is being multiplied by the scalar $c$\n",
    "\n",
    "$$\n",
    "{\\displaystyle cA =c{\\begin{pmatrix}1&3\\\\2&-2\\end{pmatrix}}={\\begin{pmatrix}1c&3c\\\\2c&-2c\\end{pmatrix}}}\n",
    "$$\n",
    "\n",
    "In Python scalar multiplication looks like this, you will see in the vector plot that each vector is scaled."
   ]
  },
  {
   "cell_type": "code",
   "execution_count": 10,
   "metadata": {
    "Collapsed": "false"
   },
   "outputs": [],
   "source": [
    "A = np.array([[1, 3], [2, -2]])"
   ]
  },
  {
   "cell_type": "code",
   "execution_count": 15,
   "metadata": {
    "Collapsed": "false"
   },
   "outputs": [
    {
     "name": "stdout",
     "output_type": "stream",
     "text": [
      "[[ 2  6]\n",
      " [ 4 -4]]\n"
     ]
    },
    {
     "data": {
      "image/png": "[encoded data removed]",
      "text/plain": [
       "<Figure size 432x288 with 1 Axes>"
      ]
     },
     "metadata": {
      "needs_background": "light"
     },
     "output_type": "display_data"
    }
   ],
   "source": [
    "# Change this scalar and see how it scales the vectors\n",
    "c = 2\n",
    "Ac = A*c\n",
    "print(Ac)\n",
    "plot_2d_vectors([A[0], A[1], Ac[0], Ac[1]], labels=['A_row0', 'A_row1', 'Ac_row0', 'Ac_row1'])"
   ]
  },
  {
   "cell_type": "markdown",
   "metadata": {
    "Collapsed": "true",
    "hidden": true
   },
   "source": [
    "### Vector Multiplication (Cross Products and Dot Products)\n",
    "\n",
    "The cross product and dot product describe two ways of multiplying vectors.\n",
    "\n",
    "The **cross product** (or vector product) `a × b` is defined as a vector `c` that is perpendicular (orthogonal) to both `a` and `b`.\n",
    "\n",
    "The **dot product** (or scalar product) `a · b` takes to matricies and gives a single scalar number.\n",
    "\n",
    "*Note: Previously we talked about multiplying a scalar by a vector in which case we perform the product on each element of the vector, in the case of multiplying two vectors however, we follow a different rule.*"
   ]
  },
  {
   "cell_type": "code",
   "execution_count": 154,
   "metadata": {
    "Collapsed": "false"
   },
   "outputs": [
    {
     "data": {
      "image/jpeg": "[encoded data removed]",
      "text/html": [
       "\n",
       "        <iframe\n",
       "            width=\"600\"\n",
       "            height=\"350\"\n",
       "            src=\"https://www.youtube.com/embed/eu6i7WJeinw?start=0\"\n",
       "            frameborder=\"0\"\n",
       "            allowfullscreen\n",
       "        ></iframe>\n",
       "        "
      ],
      "text/plain": [
       "<IPython.lib.display.YouTubeVideo at 0x126a23910>"
      ]
     },
     "execution_count": 154,
     "metadata": {},
     "output_type": "execute_result"
    }
   ],
   "source": [
    "# Video: Cross Products\n",
    "# https://www.youtube.com/watch?v=eu6i7WJeinw&list=PLZHQObOWTQDPD3MizzM2xVFitgF8hE_ab&index=11&t=0s\n",
    "YouTubeVideo(\"eu6i7WJeinw\", width=600, height=350, start=0)"
   ]
  },
  {
   "cell_type": "markdown",
   "metadata": {
    "Collapsed": "false"
   },
   "source": [
    "**Video Summary**\n",
    "\n",
    "* The cross product is **defined only for 3-dimensional vectors**\n",
    "\n",
    "* Geometrically, the cross product of two vectors is the **area of the parallelogram perpendicular in the direction determined by the right hand rule**\n",
    "\n",
    "![matrix_network](img/vector_cross_product.png)\n",
    "\n",
    "* Algebraically, the cross product ${\\displaystyle \\mathbf {a\\times b} ={\\begin{vmatrix}\\mathbf {i} &\\mathbf {j} &\\mathbf {k} \\\\a_{1}&a_{2}&a_{3}\\\\b_{1}&b_{2}&b_{3}\\\\\\end{vmatrix}}}$ is as follows\n",
    "\n",
    "> ${\\displaystyle {\\begin{aligned}\\mathbf {a\\times b} &={\\begin{vmatrix}a_{2}&a_{3}\\\\b_{2}&b_{3}\\end{vmatrix}}\\mathbf {i} -{\\begin{vmatrix}a_{1}&a_{3}\\\\b_{1}&b_{3}\\end{vmatrix}}\\mathbf {j} +{\\begin{vmatrix}a_{1}&a_{2}\\\\b_{1}&b_{2}\\end{vmatrix}}\\mathbf {k} =(a_{2}b_{3}-a_{3}b_{2})\\mathbf {i} -(a_{1}b_{3}-a_{3}b_{1})\\mathbf {j} +(a_{1}b_{2}-a_{2}b_{1})\\mathbf {k} ,\\end{aligned}}}$\n",
    "\n",
    "* The order of cross product matters; its determined by the right hand rule.\n",
    "\n",
    "* The cross product is zero if two vectors are in the same direction (or exact oposite direction) from one another OR if either vector is 0."
   ]
  },
  {
   "cell_type": "code",
   "execution_count": 160,
   "metadata": {
    "Collapsed": "false"
   },
   "outputs": [
    {
     "data": {
      "image/jpeg": "[encoded data removed]",
      "text/html": [
       "\n",
       "        <iframe\n",
       "            width=\"600\"\n",
       "            height=\"350\"\n",
       "            src=\"https://www.youtube.com/embed/LyGKycYT2v0?start=0\"\n",
       "            frameborder=\"0\"\n",
       "            allowfullscreen\n",
       "        ></iframe>\n",
       "        "
      ],
      "text/plain": [
       "<IPython.lib.display.YouTubeVideo at 0x1269748d0>"
      ]
     },
     "execution_count": 160,
     "metadata": {},
     "output_type": "execute_result"
    }
   ],
   "source": [
    "# Video: Dot Products\n",
    "# https://www.youtube.com/watch?v=LyGKycYT2v0&list=PLZHQObOWTQDPD3MizzM2xVFitgF8hE_ab&index=10&t=0s\n",
    "YouTubeVideo(\"LyGKycYT2v0\", width=600, height=350, start=0)"
   ]
  },
  {
   "cell_type": "markdown",
   "metadata": {
    "Collapsed": "false"
   },
   "source": [
    "**Video Summary**\n",
    "\n",
    "* The dot product is **defined only for two vectors with equal dimensions**\n",
    "\n",
    "* Geometrically, the dot product is the **magnitude of the vectors cos the angle between them** or ${\\displaystyle \\mathbf {a} \\cdot \\mathbf {b} =\\|\\mathbf {a} \\|\\ \\|\\mathbf {b} \\|\\cos \\theta ,}$\n",
    "\n",
    "><img src=\"img/scalar_projection.png\" alt=\"scalar projection\" width=\"200\"/>\n",
    "\n",
    "* Algebraically the dot product ${\\displaystyle \\mathbf {a} \\cdot \\mathbf {b}}$ is the **sum of products**:\n",
    "> ${\\displaystyle {a \\cdot b = a_x b_x + a_y b_y}}$\n",
    "\n",
    "* The dot product is positive when the vectors are in generally same direction\n",
    "\n",
    "* The dot product is negative when the vectors are in generally the opposite direction\n",
    "\n",
    "* The dot product is 0 when the vectors are perpendicular"
   ]
  },
  {
   "cell_type": "markdown",
   "metadata": {
    "Collapsed": "true"
   },
   "source": [
    "#### Cross Product Examples\n",
    "\n",
    "`np.cross()`"
   ]
  },
  {
   "cell_type": "code",
   "execution_count": 157,
   "metadata": {
    "Collapsed": "false",
    "hidden": true
   },
   "outputs": [
    {
     "name": "stdout",
     "output_type": "stream",
     "text": [
      "vectors a, b, and c: [[2 3]], [[ 1 -3]], [-9]\n"
     ]
    }
   ],
   "source": [
    "# Define vector a and vector b\n",
    "a = np.array([[2, 3]])\n",
    "b = np.array([[1, -3]])\n",
    "\n",
    "# Compute their cross product and assign it to c\n",
    "c = np.cross(a,b)\n",
    "\n",
    "print('vectors a, b, and c: {}, {}, {}'.format(a, b, c))"
   ]
  },
  {
   "cell_type": "code",
   "execution_count": 159,
   "metadata": {
    "Collapsed": "false",
    "hidden": true
   },
   "outputs": [
    {
     "data": {
      "image/png": "[encoded data removed]",
      "text/plain": [
       "<Figure size 432x288 with 1 Axes>"
      ]
     },
     "metadata": {
      "needs_background": "light"
     },
     "output_type": "display_data"
    }
   ],
   "source": [
    "plot_2d_vectors(vectors=[[2, 3], [1, -3], [-9, 0]], labels=['a', 'b', 'c'], colors=['b', 'r', 'g'])"
   ]
  },
  {
   "cell_type": "markdown",
   "metadata": {
    "Collapsed": "true",
    "hidden": true
   },
   "source": [
    "#### Dot Product Examples\n",
    "\n",
    "`np.dot()`"
   ]
  },
  {
   "cell_type": "markdown",
   "metadata": {
    "Collapsed": "false",
    "hidden": true
   },
   "source": [
    "We will use these vectors in the examples that follow"
   ]
  },
  {
   "cell_type": "code",
   "execution_count": 161,
   "metadata": {
    "Collapsed": "false",
    "hidden": true
   },
   "outputs": [
    {
     "name": "stdout",
     "output_type": "stream",
     "text": [
      "(1, 2) 2\n",
      "(2, 1) 2\n",
      "(3, 1) 2\n",
      "(1, 3) 2\n"
     ]
    }
   ],
   "source": [
    "d = np.array([[2, 3]]); print(d.shape, d.ndim)\n",
    "e = np.array([[1], [5]]); print(e.shape, e.ndim)\n",
    "f = np.array([[1], [3], [-5]]); print(f.shape, f.ndim)\n",
    "g = np.array([[4, -2, -1]]); print(g.shape, g.ndim)"
   ]
  },
  {
   "cell_type": "markdown",
   "metadata": {
    "Collapsed": "false",
    "hidden": true
   },
   "source": [
    "You see we can get the dot product of the `(1x2)` and `(2x1)` matrix because they share the inner dimension `2`"
   ]
  },
  {
   "cell_type": "code",
   "execution_count": 162,
   "metadata": {
    "Collapsed": "false",
    "hidden": true
   },
   "outputs": [
    {
     "name": "stdout",
     "output_type": "stream",
     "text": [
      "d dot e: [[17]]\n",
      "g dot g: [[  4  -2  -1]\n",
      " [ 12  -6  -3]\n",
      " [-20  10   5]]\n",
      "e dot g: [[  4  -2  -1]\n",
      " [ 20 -10  -5]]\n"
     ]
    }
   ],
   "source": [
    "d_dot_e = np.dot(d,e); print('d dot e: {}'.format(d_dot_e))\n",
    "f_dot_g = np.dot(f,g); print('g dot g: {}'.format(f_dot_g))\n",
    "e_dot_g = np.dot(e,g); print('e dot g: {}'.format(e_dot_g))"
   ]
  },
  {
   "cell_type": "markdown",
   "metadata": {
    "Collapsed": "false",
    "hidden": true
   },
   "source": [
    "In the example below we can see that the dot product of two perpendicular vectors is 0."
   ]
  },
  {
   "cell_type": "code",
   "execution_count": 121,
   "metadata": {
    "Collapsed": "false",
    "hidden": true
   },
   "outputs": [
    {
     "data": {
      "text/plain": [
       "0"
      ]
     },
     "execution_count": 121,
     "metadata": {},
     "output_type": "execute_result"
    }
   ],
   "source": [
    "# Dot product of orthogonal vectors is 0\n",
    "a = np.array([-12, 16])\n",
    "b = np.array([12,9])\n",
    "c = np.dot(a,b);c"
   ]
  },
  {
   "cell_type": "code",
   "execution_count": 129,
   "metadata": {
    "Collapsed": "false"
   },
   "outputs": [
    {
     "data": {
      "image/png": "[encoded data removed]",
      "text/plain": [
       "<Figure size 432x288 with 1 Axes>"
      ]
     },
     "metadata": {
      "needs_background": "light"
     },
     "output_type": "display_data"
    }
   ],
   "source": [
    "plot_2d_vectors([a, b], labels=['a', 'b'])"
   ]
  },
  {
   "cell_type": "markdown",
   "metadata": {
    "Collapsed": "false",
    "hidden": true
   },
   "source": [
    "But not the `3x1` and `2x1` because they don't the same dimensions"
   ]
  },
  {
   "cell_type": "code",
   "execution_count": 131,
   "metadata": {
    "Collapsed": "false"
   },
   "outputs": [
    {
     "ename": "ValueError",
     "evalue": "shapes (2,1) and (3,1) not aligned: 1 (dim 1) != 3 (dim 0)",
     "output_type": "error",
     "traceback": [
      "\u001b[0;31m---------------------------------------------------------------------------\u001b[0m",
      "\u001b[0;31mValueError\u001b[0m                                Traceback (most recent call last)",
      "\u001b[0;32m<ipython-input-131-43b0771377ed>\u001b[0m in \u001b[0;36m<module>\u001b[0;34m\u001b[0m\n\u001b[0;32m----> 1\u001b[0;31m \u001b[0mnp\u001b[0m\u001b[0;34m.\u001b[0m\u001b[0mdot\u001b[0m\u001b[0;34m(\u001b[0m\u001b[0me\u001b[0m\u001b[0;34m,\u001b[0m\u001b[0mf\u001b[0m\u001b[0;34m)\u001b[0m\u001b[0;34m\u001b[0m\u001b[0;34m\u001b[0m\u001b[0m\n\u001b[0m",
      "\u001b[0;32m<__array_function__ internals>\u001b[0m in \u001b[0;36mdot\u001b[0;34m(*args, **kwargs)\u001b[0m\n",
      "\u001b[0;31mValueError\u001b[0m: shapes (2,1) and (3,1) not aligned: 1 (dim 1) != 3 (dim 0)"
     ]
    }
   ],
   "source": [
    "np.dot(e,f)"
   ]
  },
  {
   "cell_type": "code",
   "execution_count": 132,
   "metadata": {
    "Collapsed": "false",
    "hidden": true
   },
   "outputs": [
    {
     "name": "stdout",
     "output_type": "stream",
     "text": [
      "Dimension of vector e is 2 (shape (2, 1))\n",
      "Dimension of vector f is 2 (shape (3, 1))\n"
     ]
    }
   ],
   "source": [
    "# Print out the shape (ie dimensions) of e, f\n",
    "print('Dimension of vector e is {} (shape {})'.format(e.ndim, e.shape))\n",
    "print('Dimension of vector f is {} (shape {})'.format(f.ndim, f.shape))"
   ]
  },
  {
   "cell_type": "markdown",
   "metadata": {
    "Collapsed": "true"
   },
   "source": [
    "### Matrix-Vector Multiplication"
   ]
  },
  {
   "cell_type": "markdown",
   "metadata": {
    "Collapsed": "false"
   },
   "source": [
    "So far we've learned that multiplying a scalar by a vector or matrix just multiplies the scalar element-wise. We then learned that if we are multiplying two vectors we can use the cross or dot product. Now we will see how to multiply a matrix and a vector.\n",
    "\n",
    "${\\displaystyle {\\begin{bmatrix}a&b\\\\c&d\\end{bmatrix}} {\\begin{bmatrix}x\\\\y\\end{bmatrix}} = {\\begin{bmatrix}ax+by\\\\cx+dy\\end{bmatrix}}}$"
   ]
  },
  {
   "cell_type": "markdown",
   "metadata": {
    "Collapsed": "false"
   },
   "source": [
    "This should look pretty familiar, actually for matrix vector multiplication, what we are doing is taking the dot product of each column vector in the matrix! So we already know how to do this...let's check out an example."
   ]
  },
  {
   "cell_type": "code",
   "execution_count": 31,
   "metadata": {
    "Collapsed": "false"
   },
   "outputs": [
    {
     "name": "stdout",
     "output_type": "stream",
     "text": [
      "[[1 2]\n",
      " [4 3]\n",
      " [5 1]]\n",
      "[2 3]\n"
     ]
    }
   ],
   "source": [
    "M = np.array([[1, 2],\n",
    "              [4, 3],\n",
    "              [5, 1]])\n",
    "V = np.array([2, 3])\n",
    "print(M)\n",
    "print(V)"
   ]
  },
  {
   "cell_type": "code",
   "execution_count": 32,
   "metadata": {
    "Collapsed": "false"
   },
   "outputs": [
    {
     "name": "stdout",
     "output_type": "stream",
     "text": [
      "(3, 2)\n",
      "(2,)\n"
     ]
    }
   ],
   "source": [
    "print(M.shape)\n",
    "print(V.shape)"
   ]
  },
  {
   "cell_type": "code",
   "execution_count": 35,
   "metadata": {
    "Collapsed": "false"
   },
   "outputs": [
    {
     "name": "stdout",
     "output_type": "stream",
     "text": [
      "[ 8 17 13]\n",
      "(3,)\n"
     ]
    }
   ],
   "source": [
    "result = np.dot(M, V)\n",
    "print(result)\n",
    "print(result.shape)"
   ]
  },
  {
   "cell_type": "markdown",
   "metadata": {
    "Collapsed": "false"
   },
   "source": [
    "We see that M is a `3x2` matrix and V is a `2x1` and the result is a `3x1` matrix."
   ]
  },
  {
   "cell_type": "markdown",
   "metadata": {},
   "source": [
    "The shapes of matrices/vectors is actually really important when multiplying them...\n",
    "\n",
    "As rule when we do matrix multiplication, we can say that they must share an inner dimension and the result matrix dimensions will equal the outer dimension.\n",
    "\n",
    "For example if we multiply a `4x2` and `2x3`\n",
    "- they share the inner dimension (2) so we can multiply them\n",
    "- the dimension of the result will be the outer dimension (4x3)\n",
    "\n",
    "For example if we multiply a `5x4` and `4x2`\n",
    "- they share the inner dimension (4) so we can multiply them\n",
    "- the dimension of the result will be the outer dimension (5x2)"
   ]
  },
  {
   "cell_type": "markdown",
   "metadata": {
    "Collapsed": "true"
   },
   "source": [
    "## Check for Understanding and Practice Problems\n",
    "\n",
    "Complete the following exercises to check your understanding of the concepts in this section.\n",
    "\n",
    "*Note: Answers are available in the appendix.*"
   ]
  },
  {
   "cell_type": "markdown",
   "metadata": {
    "Collapsed": "true"
   },
   "source": [
    "### 1.1 Plot the following column vectors of the matrix"
   ]
  },
  {
   "cell_type": "markdown",
   "metadata": {
    "Collapsed": "false"
   },
   "source": [
    "$$\n",
    "{\\displaystyle M ={\\begin{pmatrix}-2&1\\\\1&3\\end{pmatrix}}}\n",
    "$$\n",
    "\n",
    "*Hint: Use the plot_2d_vectors() function from the Helper Functions in the Workbook Setup section if you don't want to use raw matplotlib.*"
   ]
  },
  {
   "cell_type": "code",
   "execution_count": 6,
   "metadata": {
    "Collapsed": "false"
   },
   "outputs": [],
   "source": [
    "# YOUR ANSWER HERE"
   ]
  },
  {
   "cell_type": "markdown",
   "metadata": {
    "Collapsed": "true"
   },
   "source": [
    "### 1.2 Scale the vectors by 2 and plot the result. What would the result be if you scaled them by a negative number (ie. -2) instead?"
   ]
  },
  {
   "cell_type": "markdown",
   "metadata": {
    "Collapsed": "false"
   },
   "source": [
    "$$\n",
    "{\\displaystyle M ={\\begin{pmatrix}-2&1\\\\1&3\\end{pmatrix}}}\n",
    "$$\n",
    "\n",
    "*Hint: What is 2M? What is -2M?*"
   ]
  },
  {
   "cell_type": "code",
   "execution_count": null,
   "metadata": {
    "Collapsed": "false"
   },
   "outputs": [],
   "source": [
    "# YOUR ANSWER HERE"
   ]
  },
  {
   "cell_type": "markdown",
   "metadata": {
    "Collapsed": "true"
   },
   "source": [
    "### 1.3 Draw the adjancy matrix for the following graph"
   ]
  },
  {
   "cell_type": "code",
   "execution_count": 49,
   "metadata": {
    "Collapsed": "false"
   },
   "outputs": [
    {
     "data": {
      "image/png": "[encoded data removed]"
     },
     "metadata": {},
     "output_type": "display_data"
    }
   ],
   "source": [
    "%%tikz\n",
    "\\def \\n {4}\n",
    "\\def \\radius {3cm}\n",
    "\\def \\margin {8} % margin in angles, depends on the radius\n",
    "\n",
    "\\foreach \\s in {0,...,\\n}\n",
    "{\n",
    "  \\node[draw, circle] at ({360/\\n * (\\s - 1)}:\\radius) {$\\s$};\n",
    "  \\draw[-, >=latex] ({360/\\n * (\\s - 1)+\\margin}:\\radius) \n",
    "    arc ({360/\\n * (\\s - 1)+\\margin}:{360/\\n * (\\s)-\\margin}:\\radius);\n",
    "}"
   ]
  },
  {
   "cell_type": "code",
   "execution_count": 7,
   "metadata": {
    "Collapsed": "false"
   },
   "outputs": [],
   "source": [
    "# YOUR ANSWER HERE"
   ]
  },
  {
   "cell_type": "markdown",
   "metadata": {
    "Collapsed": "true"
   },
   "source": [
    "### 1.4 Write the following system of equations as a matrix"
   ]
  },
  {
   "cell_type": "markdown",
   "metadata": {
    "Collapsed": "false"
   },
   "source": [
    "$$\n",
    "2x - 1y = 6\\\\\n",
    "-1x + 5y = 4\n",
    "$$"
   ]
  },
  {
   "cell_type": "code",
   "execution_count": 8,
   "metadata": {
    "Collapsed": "false"
   },
   "outputs": [],
   "source": [
    "# YOUR ANSWER HERE"
   ]
  },
  {
   "cell_type": "markdown",
   "metadata": {
    "Collapsed": "true"
   },
   "source": [
    "### 1.5 Plot the cross section of the fluid represented by the matrix M"
   ]
  },
  {
   "cell_type": "markdown",
   "metadata": {
    "Collapsed": "false"
   },
   "source": [
    "X and Y are the coordinate points while U is the speed of the fluid.\n",
    "\n",
    "\n",
    "*Hint: Plot each vector as a point.*"
   ]
  },
  {
   "cell_type": "code",
   "execution_count": 105,
   "metadata": {
    "Collapsed": "false"
   },
   "outputs": [
    {
     "data": {
      "text/plain": [
       "array([[-31.        , -29.00083299, -27.0849646 , ..., -27.0849646 ,\n",
       "        -29.00083299, -31.        ],\n",
       "       [-30.79591837, -28.79675135, -26.88088297, ..., -26.88088297,\n",
       "        -28.79675135, -30.79591837],\n",
       "       [-30.59183673, -28.59266972, -26.67680133, ..., -26.67680133,\n",
       "        -28.59266972, -30.59183673],\n",
       "       ...,\n",
       "       [-21.40816327, -19.40899625, -17.49312786, ..., -17.49312786,\n",
       "        -19.40899625, -21.40816327],\n",
       "       [-21.20408163, -19.20491462, -17.28904623, ..., -17.28904623,\n",
       "        -19.20491462, -21.20408163],\n",
       "       [-21.        , -19.00083299, -17.0849646 , ..., -17.0849646 ,\n",
       "        -19.00083299, -21.        ]])"
      ]
     },
     "execution_count": 105,
     "metadata": {},
     "output_type": "execute_result"
    }
   ],
   "source": [
    "w = 5\n",
    "Y, X = np.mgrid[-w:w:50j, -w:w:50j]\n",
    "U = -1 - X**2 + Y\n",
    "U"
   ]
  },
  {
   "cell_type": "code",
   "execution_count": null,
   "metadata": {
    "Collapsed": "false"
   },
   "outputs": [],
   "source": [
    "# YOUR ANSWER HERE"
   ]
  },
  {
   "cell_type": "markdown",
   "metadata": {
    "Collapsed": "true"
   },
   "source": [
    "### 1.6 Perform the following operation on the matrix"
   ]
  },
  {
   "cell_type": "markdown",
   "metadata": {
    "Collapsed": "false"
   },
   "source": [
    "$$\n",
    "Ax = ?\n",
    "$$\n",
    "\n",
    "Where $A$ and $x$ as follows\n",
    "\n",
    "$$\n",
    "{\\displaystyle A ={\\begin{pmatrix}-2&1&3\\\\1&3&2\\\\3&8&1\\end{pmatrix}}}\n",
    "$$\n",
    "\n",
    "$$\n",
    "{\\displaystyle x =2}\n",
    "$$"
   ]
  },
  {
   "cell_type": "code",
   "execution_count": 108,
   "metadata": {
    "Collapsed": "false"
   },
   "outputs": [],
   "source": [
    "# YOUR ANSWER HERE"
   ]
  },
  {
   "cell_type": "markdown",
   "metadata": {
    "Collapsed": "true"
   },
   "source": [
    "### 1.7 Write the following system of equations as a matrix"
   ]
  },
  {
   "cell_type": "markdown",
   "metadata": {
    "Collapsed": "false"
   },
   "source": [
    "$$\n",
    "4x_0 + 2x_1 - 4x_2 = 0\\\\\n",
    "2x_0 - 9x_1 + 1x_2 = 2\\\\\n",
    "1x_0 + 5x_1 + 2x_2 = 12\\\\\n",
    "$$"
   ]
  },
  {
   "cell_type": "code",
   "execution_count": null,
   "metadata": {
    "Collapsed": "false"
   },
   "outputs": [],
   "source": [
    "# YOUR ANSWER HERE"
   ]
  },
  {
   "cell_type": "markdown",
   "metadata": {
    "Collapsed": "true"
   },
   "source": [
    "### 1.8 Find the result of vector addition defined by the vector below"
   ]
  },
  {
   "cell_type": "markdown",
   "metadata": {
    "Collapsed": "false"
   },
   "source": [
    "$$\n",
    "V + W = ?\n",
    "$$\n",
    "\n",
    "Where $V$ and $W$ are as follows\n",
    "\n",
    "$$\n",
    "{\\displaystyle V ={\\begin{pmatrix}3\\\\6\\end{pmatrix}}}\n",
    "$$\n",
    "\n",
    "$$\n",
    "{\\displaystyle W ={\\begin{pmatrix}-2\\\\2\\end{pmatrix}}}\n",
    "$$"
   ]
  },
  {
   "cell_type": "code",
   "execution_count": null,
   "metadata": {
    "Collapsed": "false"
   },
   "outputs": [],
   "source": [
    "# YOUR ANSWER HERE"
   ]
  },
  {
   "cell_type": "markdown",
   "metadata": {
    "Collapsed": "true"
   },
   "source": [
    "### 1.9 Find the cross product $U \\times V$ and interpret the result"
   ]
  },
  {
   "cell_type": "markdown",
   "metadata": {
    "Collapsed": "false"
   },
   "source": [
    "Find the cross product ${\\displaystyle U \\times V}$ where $U$ and $V$ are as follows\n",
    "\n",
    "$$\n",
    "{\\displaystyle U ={\\begin{pmatrix}2\\\\1\\end{pmatrix}}}\n",
    "$$\n",
    "\n",
    "$$\n",
    "{\\displaystyle V ={\\begin{pmatrix}-2\\\\-1\\end{pmatrix}}}\n",
    "$$"
   ]
  },
  {
   "cell_type": "code",
   "execution_count": 2,
   "metadata": {
    "Collapsed": "false"
   },
   "outputs": [],
   "source": [
    "# YOUR ANSWER HERE"
   ]
  },
  {
   "cell_type": "markdown",
   "metadata": {
    "Collapsed": "false"
   },
   "source": [
    "&#11088; **Pause and Ponder** &#11088;\n",
    "What would the cross product be if the vectors were perpendicular to each other?"
   ]
  },
  {
   "cell_type": "markdown",
   "metadata": {
    "Collapsed": "true"
   },
   "source": [
    "### 1.10 Find the vector V such that $U \\cdot V = 0$"
   ]
  },
  {
   "cell_type": "markdown",
   "metadata": {
    "Collapsed": "false"
   },
   "source": [
    "$$\n",
    "{\\displaystyle U \\cdot ? = 0 }\n",
    "$$\n",
    "\n",
    "Where $U = {\\begin{pmatrix}2&0\\end{pmatrix}}$"
   ]
  },
  {
   "cell_type": "code",
   "execution_count": 1,
   "metadata": {
    "Collapsed": "false"
   },
   "outputs": [],
   "source": [
    "# YOUR ANSWER HERE"
   ]
  },
  {
   "cell_type": "markdown",
   "metadata": {
    "Collapsed": "true"
   },
   "source": [
    "# 2.0 Linearity and Transformations\n",
    "\n",
    "We will be talking about linearity, linear dependence/independence and linear transformations a lot moving forward make sure you spend enough time in this lesson understanding the concepts and being able to do the exercises.\n",
    "\n",
    "Watch the lesson and run through the examples that follow. This lesson covers the following topics:\n",
    "\n",
    "* Linearity, linear transformations\n",
    "* Linear dependence / independence\n",
    "* Span\n",
    "* Basis\n",
    "* Orthogonal\n",
    "* Orthonormal"
   ]
  },
  {
   "cell_type": "markdown",
   "metadata": {
    "Collapsed": "true"
   },
   "source": [
    "## Lesson"
   ]
  },
  {
   "cell_type": "code",
   "execution_count": 126,
   "metadata": {
    "Collapsed": "false"
   },
   "outputs": [
    {
     "data": {
      "image/jpeg": "[encoded data removed]",
      "text/html": [
       "\n",
       "        <iframe\n",
       "            width=\"600\"\n",
       "            height=\"350\"\n",
       "            src=\"https://www.youtube.com/embed/k7RM-ot2NWY?start=0\"\n",
       "            frameborder=\"0\"\n",
       "            allowfullscreen\n",
       "        ></iframe>\n",
       "        "
      ],
      "text/plain": [
       "<IPython.lib.display.YouTubeVideo at 0x125895bd0>"
      ]
     },
     "execution_count": 126,
     "metadata": {},
     "output_type": "execute_result"
    }
   ],
   "source": [
    "# Video: Linear Combinations, span and basis vectors\n",
    "# https://www.youtube.com/watch?v=k7RM-ot2NWY&list=PLZHQObOWTQDPD3MizzM2xVFitgF8hE_ab&index=3&t=0s\n",
    "YouTubeVideo(\"k7RM-ot2NWY\", width=600, height=350, start=0)"
   ]
  },
  {
   "cell_type": "markdown",
   "metadata": {
    "Collapsed": "false"
   },
   "source": [
    "**Video Summary**\n",
    "\n",
    "* Collections of vectors can be thought of and represented using points on a graph\n",
    "\n",
    "* The **span** of two given vectors is all of their linear combinations; the set of all possible vectors that you can reach with linear combinations of those to vectors. It forms what you can think of as the plane of those vectors.\n",
    "\n",
    "* The **basis** of a vector space is a subset of vectors in that are linearly independent and span the vector space\n",
    "\n",
    "* Two vectors are **linearly dependent** if one can be expressed as a linear combination of the other; ie its linearly dependent if its already in the span of the others\n",
    "> $\\vec{u} = a \\vec{v} + b \\vec{w}$, where a and b are scalar values\n",
    "\n",
    "* Two vectors are **linearly independent** if they add a new dimension to the span\n",
    "> $\\vec{u} \\ne a \\vec{v} + b \\vec{w}$, for all scalars a and b\n",
    "\n",
    "*Note: another way that is common to think of linearly independent vectors $\\vec{v}$, $\\vec{w}$, and $\\vec{u}$ is that the only solution to $a\\vec{v} + b\\vec{w} + c\\vec{u} = 0$ is $a = b = c = 0$*\n"
   ]
  },
  {
   "cell_type": "code",
   "execution_count": 127,
   "metadata": {
    "Collapsed": "false"
   },
   "outputs": [
    {
     "data": {
      "image/jpeg": "[encoded data removed]",
      "text/html": [
       "\n",
       "        <iframe\n",
       "            width=\"600\"\n",
       "            height=\"350\"\n",
       "            src=\"https://www.youtube.com/embed/kYB8IZa5AuE?start=0\"\n",
       "            frameborder=\"0\"\n",
       "            allowfullscreen\n",
       "        ></iframe>\n",
       "        "
      ],
      "text/plain": [
       "<IPython.lib.display.YouTubeVideo at 0x1266a6f90>"
      ]
     },
     "execution_count": 127,
     "metadata": {},
     "output_type": "execute_result"
    }
   ],
   "source": [
    "# Video: Linear transformations and matrices\n",
    "# https://www.youtube.com/watch?v=kYB8IZa5AuE&list=PLZHQObOWTQDPD3MizzM2xVFitgF8hE_ab&index=4&t=0s\n",
    "YouTubeVideo(\"kYB8IZa5AuE\", width=600, height=350, start=0)"
   ]
  },
  {
   "cell_type": "markdown",
   "metadata": {
    "Collapsed": "false"
   },
   "source": [
    "**Video Summary**\n",
    "\n",
    "* Anytime you are adding or scaling vectors you are performing **linear transformations**\n",
    "\n",
    "* Matrix vector multiplication can be thought of as the **transformation of a vector by a matrix**\n",
    "\n",
    "* Linear transformations keep gridlines **parallel and evenly spaced**\n",
    "\n",
    "A few extra vocabulary words that were not covered in the video but you will need to know\n",
    "\n",
    "* **Orthogonal vectors** are vectors that are at right angles from each other; it then follows that they are linearly independent.\n",
    "\n",
    "* **Orthonormal vectors** are orthogonal and normalized (ie unit vectors)"
   ]
  },
  {
   "cell_type": "markdown",
   "metadata": {
    "Collapsed": "false"
   },
   "source": [
    "**Additional Optional Videos**\n",
    "\n",
    "The following videos offer a bit more insight if you'd like to take the time to watch them. They are not necessary for finishing the lesson but are short and may help your understanding."
   ]
  },
  {
   "cell_type": "code",
   "execution_count": 156,
   "metadata": {
    "Collapsed": "false"
   },
   "outputs": [],
   "source": [
    "# Video: Transformations between dimensions\n",
    "# https://www.youtube.com/watch?v=v8VSDg_WQlA&list=PLZHQObOWTQDPD3MizzM2xVFitgF8hE_ab&index=9&t=0s\n",
    "# YouTubeVideo(\"v8VSDg_WQlA\", width=600, height=350, start=0)"
   ]
  },
  {
   "cell_type": "code",
   "execution_count": 12,
   "metadata": {
    "Collapsed": "false"
   },
   "outputs": [],
   "source": [
    "# Video: 3D linear transformations\n",
    "# https://www.youtube.com/watch?v=rHLEWRxRGiM&list=PLZHQObOWTQDPD3MizzM2xVFitgF8hE_ab&index=6&t=0s\n",
    "# YouTubeVideo(\"rHLEWRxRGiM\", width=600, height=350, start=0)"
   ]
  },
  {
   "cell_type": "markdown",
   "metadata": {
    "Collapsed": "true"
   },
   "source": [
    "## Check for Understanding and Practice Problems\n",
    "\n",
    "Complete the following exercises to check your understanding of the concepts in this section.\n",
    "\n",
    "*Note: Answers are available in the appendix.*"
   ]
  },
  {
   "cell_type": "markdown",
   "metadata": {
    "Collapsed": "true"
   },
   "source": [
    "### 2.1 Which of the following sets of vectors form a basis in 3-dimensional vectorspace ($\\mathbf {R^3}$)?"
   ]
  },
  {
   "cell_type": "markdown",
   "metadata": {
    "Collapsed": "false"
   },
   "source": [
    "$$\n",
    "{\\displaystyle S_1 ={\\begin{bmatrix}1\\\\5\\\\9\\end{bmatrix}},{\\begin{bmatrix}2\\\\6\\\\10\\end{bmatrix}},{\\begin{bmatrix}3\\\\7\\\\11\\end{bmatrix}},{\\begin{bmatrix}4\\\\8\\\\12\\end{bmatrix}}}\n",
    "$$\n",
    "\n",
    "$$\n",
    "{\\displaystyle S_2 ={\\begin{bmatrix}2\\\\1\\\\1\\end{bmatrix}},{\\begin{bmatrix}4\\\\2\\\\2\\end{bmatrix}}}\n",
    "$$\n",
    "\n",
    "$$\n",
    "{\\displaystyle S_3 ={\\begin{bmatrix}1\\\\4\\\\7\\end{bmatrix}},{\\begin{bmatrix}2\\\\5\\\\8\\end{bmatrix}},{\\begin{bmatrix}3\\\\6\\\\9\\end{bmatrix}}}\n",
    "$$"
   ]
  },
  {
   "cell_type": "markdown",
   "metadata": {
    "Collapsed": "false"
   },
   "source": [
    "We know from the lesson that a basis is any linearly independent vectors that span the vectorspace. The vectorspace in this case is $\\mathbf{R^3}$ so we are looking for three linearly independent vectors. \n",
    "\n",
    "In this case we don't even have to check for linear independence because we can see from visual inspection that \n",
    "\n",
    "* $S_1$ contains four vectors, one more than is necessary to describe the basis of the vectorspace $\\mathbf{R^3}$\n",
    "\n",
    "* $S_2$ contains two vectors, ...\n",
    "\n",
    "* $S_3$ contains three vectors, ..."
   ]
  },
  {
   "cell_type": "code",
   "execution_count": 36,
   "metadata": {
    "Collapsed": "false"
   },
   "outputs": [],
   "source": [
    "# YOUR ANSWER HERE"
   ]
  },
  {
   "cell_type": "markdown",
   "metadata": {
    "Collapsed": "true"
   },
   "source": [
    "### 2.2 Are the following vectors linearly independent? Demonstrate how you know."
   ]
  },
  {
   "cell_type": "markdown",
   "metadata": {
    "Collapsed": "false"
   },
   "source": [
    "Consider the following vectors\n",
    "\n",
    "$$\n",
    "{\\displaystyle S = {\\begin{bmatrix}1\\\\0\\\\-1\\end{bmatrix}},{\\begin{bmatrix}2\\\\1\\\\-1\\end{bmatrix}},{\\begin{bmatrix}-2\\\\1\\\\4\\end{bmatrix}}}\n",
    "$$\n",
    "\n",
    "Determine if they are linearly independent."
   ]
  },
  {
   "cell_type": "markdown",
   "metadata": {
    "Collapsed": "false"
   },
   "source": [
    "If the vectors are linearly independent, the only solution to $a\\vec{v} + b\\vec{w} + c\\vec{u} = 0$ is $a = b = c = 0$\n",
    "\n",
    "\n",
    "Consider the linear combination of vectors\n",
    "\n",
    "$$\n",
    "{\\displaystyle {\\begin{bmatrix}1\\\\0\\\\-1\\end{bmatrix}}x_1 + {\\begin{bmatrix}2\\\\1\\\\-1\\end{bmatrix}}x_2 + {\\begin{bmatrix}-2\\\\1\\\\4\\end{bmatrix}}x_3 = {\\begin{bmatrix}0\\\\0\\\\0\\end{bmatrix}}}\n",
    "$$\n",
    "\n",
    "or written in matrix form\n",
    "\n",
    "$$\n",
    "{\\displaystyle {\\begin{bmatrix}1&2&-2\\\\0&1&1\\\\-1&-1&4\\end{bmatrix}}{\\begin{bmatrix}x_1\\\\x_2\\\\x_3\\end{bmatrix}}={\\begin{bmatrix}0\\\\0\\\\0\\end{bmatrix}}}\n",
    "$$"
   ]
  },
  {
   "cell_type": "code",
   "execution_count": 51,
   "metadata": {
    "Collapsed": "false"
   },
   "outputs": [
    {
     "data": {
      "text/plain": [
       "array([0., 0., 0.])"
      ]
     },
     "execution_count": 51,
     "metadata": {},
     "output_type": "execute_result"
    }
   ],
   "source": [
    "a = np.array([[1, 2, -2],\n",
    "              [0, 1, 1],\n",
    "              [-1, -1, 4]])\n",
    "b = np.zeros(a.shape[0])\n",
    "\n",
    "np.linalg.solve(a, b)"
   ]
  },
  {
   "cell_type": "markdown",
   "metadata": {
    "Collapsed": "false"
   },
   "source": [
    "The only solution is is $x_1 = x_2 = x_3 = 0$ so they are linearly independent!\n",
    "\n",
    "*Note: there is a better way to check linear dependence using the determinant which we will learn in the next lesson. We could use `linalg.solve()` but if we ask it to solve for x given a and b where the column vectors of a do not have a unique solution...*"
   ]
  },
  {
   "cell_type": "code",
   "execution_count": 37,
   "metadata": {
    "Collapsed": "false"
   },
   "outputs": [],
   "source": [
    "# YOUR ANSWER HERE"
   ]
  },
  {
   "cell_type": "markdown",
   "metadata": {
    "Collapsed": "true"
   },
   "source": [
    "### 2.3 Are the column vectors of the matrix linearly independent? Demonstrate how you know."
   ]
  },
  {
   "cell_type": "markdown",
   "metadata": {
    "Collapsed": "false"
   },
   "source": [
    "Consider the column vectors of the matrix below, are they all linearly independent?\n",
    "\n",
    "$$\n",
    "{\\displaystyle a = {\\begin{bmatrix}1&2&3\\\\4&5&6\\\\7&8&9\\end{bmatrix}}}\n",
    "$$"
   ]
  },
  {
   "cell_type": "code",
   "execution_count": 52,
   "metadata": {
    "Collapsed": "false"
   },
   "outputs": [
    {
     "name": "stdout",
     "output_type": "stream",
     "text": [
      "[[1 2 3]\n",
      " [4 5 6]\n",
      " [7 8 9]]\n",
      "[0. 0. 0.]\n"
     ]
    }
   ],
   "source": [
    "a = np.array([[1, 2, 3],\n",
    "              [4, 5, 6],\n",
    "              [7, 8, 9]])\n",
    "b = np.zeros(a.shape[0])\n",
    "print(a)\n",
    "print(b)\n",
    "\n",
    "# Will throw an error because there isn't a unique solution\n",
    "# np.linalg.solve(a, b)"
   ]
  },
  {
   "cell_type": "code",
   "execution_count": 38,
   "metadata": {
    "Collapsed": "false"
   },
   "outputs": [],
   "source": [
    "# YOUR ANSWER HERE"
   ]
  },
  {
   "cell_type": "markdown",
   "metadata": {
    "Collapsed": "true"
   },
   "source": [
    "### 2.4 Perform matrix vector multiplication"
   ]
  },
  {
   "cell_type": "markdown",
   "metadata": {
    "Collapsed": "false"
   },
   "source": [
    "$$\n",
    "{\\displaystyle M\\vec{a} = {\\begin{bmatrix}1&2&3\\\\4&5&6\\\\7&8&9\\end{bmatrix}}{\\begin{bmatrix}4\\\\2\\\\1\\end{bmatrix}}}\n",
    "$$"
   ]
  },
  {
   "cell_type": "code",
   "execution_count": 57,
   "metadata": {
    "Collapsed": "false"
   },
   "outputs": [
    {
     "name": "stdout",
     "output_type": "stream",
     "text": [
      "Dim: 2\n",
      "Shape: (3, 3)\n",
      "[[1 2 3]\n",
      " [4 5 6]\n",
      " [7 8 9]]\n",
      "Dim: 1\n",
      "Shape: (3,)\n",
      "[4 2 1]\n",
      "Dim: 1\n",
      "Shape: (3,)\n",
      "[11 32 53]\n"
     ]
    }
   ],
   "source": [
    "M = np.array([[1, 2, 3],\n",
    "              [4, 5, 6],\n",
    "              [7, 8, 9]])\n",
    "a = np.array([4, 2, 1])\n",
    "print_a(M)\n",
    "print_a(a)\n",
    "\n",
    "result = np.dot(M, a)\n",
    "print_a(result)"
   ]
  },
  {
   "cell_type": "code",
   "execution_count": 53,
   "metadata": {
    "Collapsed": "false"
   },
   "outputs": [],
   "source": [
    "# YOUR ANSWER HERE"
   ]
  },
  {
   "cell_type": "markdown",
   "metadata": {
    "Collapsed": "true"
   },
   "source": [
    "### 2.5 Draw the linear transformation of any vector described by the matrix below"
   ]
  },
  {
   "cell_type": "markdown",
   "metadata": {
    "Collapsed": "false"
   },
   "source": [
    "$$\n",
    "{\\displaystyle M = {\\begin{bmatrix}0&-1\\\\1&0\\end{bmatrix}}}\n",
    "$$"
   ]
  },
  {
   "cell_type": "code",
   "execution_count": 65,
   "metadata": {
    "Collapsed": "false"
   },
   "outputs": [
    {
     "data": {
      "image/png": "[encoded data removed]",
      "text/plain": [
       "<Figure size 432x288 with 1 Axes>"
      ]
     },
     "metadata": {
      "needs_background": "light"
     },
     "output_type": "display_data"
    }
   ],
   "source": [
    "M = np.array([[0, -1], [1, 0]])\n",
    "\n",
    "V0 = np.array([1, 1])\n",
    "V1 = np.dot(M, V0)\n",
    "\n",
    "V2 = np.array([-1, 0])\n",
    "V3 = np.dot(M, V2)\n",
    "\n",
    "plot_2d_vectors([V0, V1, V2, V3])"
   ]
  },
  {
   "cell_type": "markdown",
   "metadata": {
    "Collapsed": "false"
   },
   "source": [
    "Looks like this matrix rotates vectors by 90 degrees."
   ]
  },
  {
   "cell_type": "code",
   "execution_count": 58,
   "metadata": {
    "Collapsed": "false"
   },
   "outputs": [],
   "source": [
    "# YOUR ANSWER HERE"
   ]
  },
  {
   "cell_type": "markdown",
   "metadata": {
    "Collapsed": "true"
   },
   "source": [
    "### 2.6 Draw the linear transformation of any vector described by the matrix below"
   ]
  },
  {
   "cell_type": "markdown",
   "metadata": {
    "Collapsed": "false"
   },
   "source": [
    "$$\n",
    "{\\displaystyle M = {\\begin{bmatrix}1&0\\\\0&-1\\end{bmatrix}}}\n",
    "$$"
   ]
  },
  {
   "cell_type": "code",
   "execution_count": 68,
   "metadata": {
    "Collapsed": "false"
   },
   "outputs": [
    {
     "data": {
      "image/png": "[encoded data removed]",
      "text/plain": [
       "<Figure size 432x288 with 1 Axes>"
      ]
     },
     "metadata": {
      "needs_background": "light"
     },
     "output_type": "display_data"
    }
   ],
   "source": [
    "M = np.array([[1, 0], [0, -1]])\n",
    "\n",
    "V0 = np.array([1, 1])\n",
    "V1 = np.dot(M, V0)\n",
    "\n",
    "V2 = np.array([-1, -2])\n",
    "V3 = np.dot(M, V2)\n",
    "\n",
    "plot_2d_vectors([V0, V1, V2, V3])"
   ]
  },
  {
   "cell_type": "markdown",
   "metadata": {
    "Collapsed": "false"
   },
   "source": [
    "This matrix reflects vectors over the x axis."
   ]
  },
  {
   "cell_type": "code",
   "execution_count": 58,
   "metadata": {
    "Collapsed": "false"
   },
   "outputs": [],
   "source": [
    "# YOUR ANSWER HERE"
   ]
  },
  {
   "cell_type": "markdown",
   "metadata": {
    "Collapsed": "true"
   },
   "source": [
    "### 2.7 Draw the linear transformation of any vector described by the matrix below"
   ]
  },
  {
   "cell_type": "markdown",
   "metadata": {
    "Collapsed": "false"
   },
   "source": [
    "$$\n",
    "{\\displaystyle M = {\\begin{bmatrix}2&0\\\\0&2\\end{bmatrix}}}\n",
    "$$"
   ]
  },
  {
   "cell_type": "code",
   "execution_count": 70,
   "metadata": {
    "Collapsed": "false"
   },
   "outputs": [
    {
     "data": {
      "image/png": "[encoded data removed]",
      "text/plain": [
       "<Figure size 432x288 with 1 Axes>"
      ]
     },
     "metadata": {
      "needs_background": "light"
     },
     "output_type": "display_data"
    }
   ],
   "source": [
    "M = np.array([[2, 0], [0, 2]])\n",
    "\n",
    "V0 = np.array([1, 0])\n",
    "V1 = np.dot(M, V0)\n",
    "\n",
    "plot_2d_vectors([V0, V1])"
   ]
  },
  {
   "cell_type": "markdown",
   "metadata": {
    "Collapsed": "false"
   },
   "source": [
    "This matrix scales the vector."
   ]
  },
  {
   "cell_type": "code",
   "execution_count": 58,
   "metadata": {
    "Collapsed": "false"
   },
   "outputs": [],
   "source": [
    "# YOUR ANSWER HERE"
   ]
  },
  {
   "cell_type": "code",
   "execution_count": 71,
   "metadata": {
    "Collapsed": "false"
   },
   "outputs": [],
   "source": [
    "# YOUR ANSWER HERE"
   ]
  },
  {
   "cell_type": "markdown",
   "metadata": {
    "Collapsed": "true",
    "heading_collapsed": true
   },
   "source": [
    "# 3.0 Properties of Matrices\n",
    "\n",
    "Matrices have certain properties that can tell us a variety of things about the matrix. In this lesson we will learn about these properties so that in the following lessons we can use them for calculations and understanding our data better.\n",
    "\n",
    "Complete the lesson and the examples that follow. This lesson covers the following topics:\n",
    "\n",
    "* Transpose and Identity\n",
    "* Determinant and Inverse\n",
    "* Rank, Column Space, Null Space\n",
    "* Eigenvectors and Eigenvalues"
   ]
  },
  {
   "cell_type": "markdown",
   "metadata": {
    "Collapsed": "true"
   },
   "source": [
    "## Lesson"
   ]
  },
  {
   "cell_type": "markdown",
   "metadata": {
    "Collapsed": "true"
   },
   "source": [
    "### Transpose and Identity\n",
    "\n",
    "The **transpose** of a matrix ${\\displaystyle \\mathbf {A} }$ (denoted ${\\displaystyle \\mathbf {A} ^{\\operatorname {T} }}$) can be obtained by reflecting the elements along its main diagonal.\n",
    "\n",
    "An **identity** matrix (denoted ${\\displaystyle \\mathbf {I} }$) is a square matrix with 1s along the diagonal and 0s everywhere else"
   ]
  },
  {
   "cell_type": "markdown",
   "metadata": {
    "Collapsed": "false"
   },
   "source": [
    "Important Properties\n",
    "* ${\\displaystyle IA=AI=A}$, multiply the identity matrix by a vector and its doesn't do anything\n",
    "* A matrix is **symetric** if ${\\displaystyle \\mathbf {A} ^{\\operatorname {T} }=\\mathbf {A} .}$"
   ]
  },
  {
   "cell_type": "markdown",
   "metadata": {
    "Collapsed": "true"
   },
   "source": [
    "#### Transpose Examples"
   ]
  },
  {
   "cell_type": "markdown",
   "metadata": {
    "Collapsed": "false"
   },
   "source": [
    "$$\n",
    "{\\displaystyle {\\begin{bmatrix}1&2\\end{bmatrix}}^{\\operatorname {T} }=\\,{\\begin{bmatrix}1\\\\2\\end{bmatrix}}}\n",
    "$$"
   ]
  },
  {
   "cell_type": "code",
   "execution_count": 132,
   "metadata": {
    "Collapsed": "false"
   },
   "outputs": [
    {
     "name": "stdout",
     "output_type": "stream",
     "text": [
      "[[1 2]]\n",
      "[[1]\n",
      " [2]]\n"
     ]
    }
   ],
   "source": [
    "B = np.array([[1, 2]])\n",
    "print(B)\n",
    "print(np.transpose(B))"
   ]
  },
  {
   "cell_type": "markdown",
   "metadata": {
    "Collapsed": "false"
   },
   "source": [
    "<img src=\"img/Matrix_transpose.gif\" alt=\"matrix transpose\" width=\"100\"/>"
   ]
  },
  {
   "cell_type": "code",
   "execution_count": 133,
   "metadata": {
    "Collapsed": "false"
   },
   "outputs": [
    {
     "name": "stdout",
     "output_type": "stream",
     "text": [
      "[[1 2]\n",
      " [3 4]\n",
      " [5 6]]\n",
      "[[1 3 5]\n",
      " [2 4 6]]\n"
     ]
    }
   ],
   "source": [
    "A = np.array([[1, 2],\n",
    "              [3, 4],\n",
    "              [5, 6]\n",
    "             ])\n",
    "print(A)\n",
    "print(np.transpose(A))"
   ]
  },
  {
   "cell_type": "markdown",
   "metadata": {
    "Collapsed": "false"
   },
   "source": [
    "That's it for understanding transpose....just flip it along the main diagonal!"
   ]
  },
  {
   "cell_type": "markdown",
   "metadata": {
    "Collapsed": "true"
   },
   "source": [
    "#### Identity Examples"
   ]
  },
  {
   "cell_type": "markdown",
   "metadata": {
    "Collapsed": "false"
   },
   "source": [
    "Numpy has a shortcut for creating identity matrices."
   ]
  },
  {
   "cell_type": "code",
   "execution_count": 135,
   "metadata": {
    "Collapsed": "false"
   },
   "outputs": [
    {
     "data": {
      "text/plain": [
       "array([[1., 0., 0.],\n",
       "       [0., 1., 0.],\n",
       "       [0., 0., 1.]])"
      ]
     },
     "execution_count": 135,
     "metadata": {},
     "output_type": "execute_result"
    }
   ],
   "source": [
    "I = np.eye(3)\n",
    "I"
   ]
  },
  {
   "cell_type": "markdown",
   "metadata": {
    "Collapsed": "false"
   },
   "source": [
    "We can see that the identity matrix visually looks like the unit vectors for each dimension."
   ]
  },
  {
   "cell_type": "code",
   "execution_count": 136,
   "metadata": {
    "Collapsed": "false"
   },
   "outputs": [
    {
     "name": "stdout",
     "output_type": "stream",
     "text": [
      "xlim: 0, 1.0\n",
      "ylim: 0, 1.0\n",
      "zlim: 0, 1.0\n"
     ]
    },
    {
     "data": {
      "image/png": "[encoded data removed]",
      "text/plain": [
       "<Figure size 432x288 with 1 Axes>"
      ]
     },
     "metadata": {
      "needs_background": "light"
     },
     "output_type": "display_data"
    }
   ],
   "source": [
    "plot_3d_vectors(vectors=I, labels=['row1', 'row2', 'row3'], colors=['r', 'g', 'b'])"
   ]
  },
  {
   "cell_type": "markdown",
   "metadata": {
    "Collapsed": "true"
   },
   "source": [
    "#### Properties"
   ]
  },
  {
   "cell_type": "markdown",
   "metadata": {
    "Collapsed": "false"
   },
   "source": [
    "${\\displaystyle IA=AI=A}$, multiply the identity matrix by a vector and its doesn't change the original vector. Let's see an example"
   ]
  },
  {
   "cell_type": "code",
   "execution_count": 146,
   "metadata": {
    "Collapsed": "false"
   },
   "outputs": [
    {
     "name": "stdout",
     "output_type": "stream",
     "text": [
      "[1 3]\n",
      "[[1.]]\n"
     ]
    }
   ],
   "source": [
    "A = np.array([1, 3])\n",
    "\n",
    "I = np.eye(A.ndim)\n",
    "\n",
    "print(A)\n",
    "print(I)"
   ]
  },
  {
   "cell_type": "code",
   "execution_count": 148,
   "metadata": {
    "Collapsed": "false"
   },
   "outputs": [
    {
     "data": {
      "text/plain": [
       "array([[1., 3.]])"
      ]
     },
     "execution_count": 148,
     "metadata": {},
     "output_type": "execute_result"
    }
   ],
   "source": [
    "A*I"
   ]
  },
  {
   "cell_type": "markdown",
   "metadata": {
    "Collapsed": "false"
   },
   "source": [
    "We can also say that a matrix is **symetric** if ${\\displaystyle \\mathbf {A} ^{\\operatorname {T} }=\\mathbf {A} .}$ In the case of the matrix below, we can see that it's symetric in this case because its small but it helps to have a quick mathematical trick to be able to check for larger matrices. Luckily, we can just numpy to check the equality of the transpose to check for symetry."
   ]
  },
  {
   "cell_type": "code",
   "execution_count": 106,
   "metadata": {
    "Collapsed": "false"
   },
   "outputs": [
    {
     "data": {
      "text/plain": [
       "array([[ True,  True,  True],\n",
       "       [ True,  True,  True],\n",
       "       [ True,  True,  True]])"
      ]
     },
     "execution_count": 106,
     "metadata": {},
     "output_type": "execute_result"
    }
   ],
   "source": [
    "# Symmetric = S_transpose = S\n",
    "S = np.array([[1, 7, 3],\n",
    "              [7, 4, -5],\n",
    "              [3, -5, 6]])\n",
    "S == S.T"
   ]
  },
  {
   "cell_type": "markdown",
   "metadata": {
    "Collapsed": "true"
   },
   "source": [
    "### Determinant and Inverse\n",
    "\n",
    "The **determinant** of a matrix ${\\displaystyle \\mathbf {A} }$ (denoted ${\\displaystyle \\mathbf {{\\begin{vmatrix}A\\end{vmatrix}}} }$) is a scalar number that can be calculated from a square matrix as follows\n",
    "> ${\\displaystyle {\\begin{vmatrix}a&b\\\\c&d\\end{vmatrix}} = ad - bc}$\n",
    "\n",
    "The **inverse** of ${\\displaystyle \\mathbf {A} }$ (denoted ${\\displaystyle \\mathbf {A} ^{\\operatorname {-1} }}$) exists only when the product of the two is ${\\displaystyle \\mathbf {I} }$ (the identity matrix)."
   ]
  },
  {
   "cell_type": "markdown",
   "metadata": {
    "Collapsed": "false"
   },
   "source": [
    "Important Properties\n",
    "* ${\\displaystyle \\det (A) = 0}$, det is 0 if matrix $A$ is not invertible\n",
    "* ${\\displaystyle \\det (I) = 1}$, determinant of identity matrix is 1\n",
    "* ${\\displaystyle \\det (A^{T}) = \\det (A)}$, determinant of $A^{T}$ is the same as the determinant of $A$\n",
    "* ${\\displaystyle \\det (A^{-1}) = [\\det (A)]^{-1}}$\n",
    "* ${\\displaystyle \\det (AB) = \\det (A) \\det (B)}$, for square matrices of equal size "
   ]
  },
  {
   "cell_type": "code",
   "execution_count": 149,
   "metadata": {
    "Collapsed": "false"
   },
   "outputs": [
    {
     "data": {
      "image/jpeg": "[encoded data removed]",
      "text/html": [
       "\n",
       "        <iframe\n",
       "            width=\"600\"\n",
       "            height=\"350\"\n",
       "            src=\"https://www.youtube.com/embed/Ip3X9LOh2dk?start=0\"\n",
       "            frameborder=\"0\"\n",
       "            allowfullscreen\n",
       "        ></iframe>\n",
       "        "
      ],
      "text/plain": [
       "<IPython.lib.display.YouTubeVideo at 0x1268c2290>"
      ]
     },
     "execution_count": 149,
     "metadata": {},
     "output_type": "execute_result"
    }
   ],
   "source": [
    "# Video: Determinants\n",
    "# https://www.youtube.com/watch?v=Ip3X9LOh2dk&list=PLZHQObOWTQDPD3MizzM2xVFitgF8hE_ab&index=7&t=0s\n",
    "YouTubeVideo(\"Ip3X9LOh2dk\", width=600, height=350, start=0)"
   ]
  },
  {
   "cell_type": "markdown",
   "metadata": {
    "Collapsed": "false"
   },
   "source": [
    "**Video Summary**\n",
    "\n",
    "* The **determinant** of a transformation can be thought of as the factor by which a linear transformation changes any area\n",
    "\n",
    "* Checking if the determinant of a transformation is zero (**det(T) = 0**) tells us whether the transformation squishes the matrix into a smaller dimension.\n",
    "\n",
    "* If the **determinant is a negative number** the transformation is flipping/inverting space; the absolute value of the determinant however will tells you the factor by which areas are scaled.\n",
    "\n",
    "* The columns of a matrix A are **linearly dependent if the det = 0** (this is called a **singular matrix**)\n",
    "\n",
    "*Note: Don't worry about the term \"linearly dependent\" right now. We'll get to that in the next section. Just keep in the back of your head that calculating if the determinant is zero can tell us about linear dependence.*"
   ]
  },
  {
   "cell_type": "code",
   "execution_count": 150,
   "metadata": {
    "Collapsed": "false"
   },
   "outputs": [
    {
     "data": {
      "image/jpeg": "[encoded data removed]",
      "text/html": [
       "\n",
       "        <iframe\n",
       "            width=\"600\"\n",
       "            height=\"350\"\n",
       "            src=\"https://www.youtube.com/embed/uQhTuRlWMxw?start=0\"\n",
       "            frameborder=\"0\"\n",
       "            allowfullscreen\n",
       "        ></iframe>\n",
       "        "
      ],
      "text/plain": [
       "<IPython.lib.display.YouTubeVideo at 0x1268c2850>"
      ]
     },
     "execution_count": 150,
     "metadata": {},
     "output_type": "execute_result"
    }
   ],
   "source": [
    "# Video: Inverse\n",
    "# https://www.youtube.com/watch?v=uQhTuRlWMxw&list=PLZHQObOWTQDPD3MizzM2xVFitgF8hE_ab&index=8&t=0s\n",
    "YouTubeVideo(\"uQhTuRlWMxw\", width=600, height=350, start=0)"
   ]
  },
  {
   "cell_type": "markdown",
   "metadata": {
    "Collapsed": "false"
   },
   "source": [
    "**Video Summary**\n",
    "\n",
    "* We can think of the inverse as the transformation that gives us the \"opposite\" of transformation or \"undoes\" it\n",
    "\n",
    "* If determinant doesn't equal 0, the inverse exists; you can think of this geometrically as not being able to unsquish a line\n",
    "\n",
    "* The **rank** of a matrix is the number of dimensions in the output of a transformation; the number of dimensions in the **column space**\n",
    "\n",
    "* The **column space** of a matrix is the set of all possible outputs for your matrix; the span of the columns of your matrix\n",
    "\n",
    "* The **null space** of a matrix is the set of vectors that lands on the origin "
   ]
  },
  {
   "cell_type": "markdown",
   "metadata": {
    "Collapsed": "true"
   },
   "source": [
    "#### Determinant Examples"
   ]
  },
  {
   "cell_type": "markdown",
   "metadata": {
    "Collapsed": "false"
   },
   "source": [
    "Geometrically, the determinant can be thought of as the scaling factor of the linear transformation described by the matrix.\n",
    "\n",
    "It is calculated using this formula:\n",
    "${\\displaystyle {\\begin{aligned}|A|={\\begin{vmatrix}a&b\\\\c&d\\end{vmatrix}}=ad-bc.\\end{aligned}}}$\n",
    "\n",
    "The determinant of larger matrices is just the sum of the determinant of the smaller matrices (think of the empty squares as the rows and columns we are ignoring in each sum).\n",
    "\n",
    "<img width=\"500\" src=\"img/determinant.svg\"></img>\n",
    "\n",
    "[Source](https://en.wikipedia.org/wiki/Determinant)\n",
    "\n",
    "Luckily, you don't really have to remember that or calculate it...we can let the computer calculate it for us. Just make sure you understand what the determinant is calculating."
   ]
  },
  {
   "cell_type": "code",
   "execution_count": 151,
   "metadata": {
    "Collapsed": "false"
   },
   "outputs": [
    {
     "name": "stdout",
     "output_type": "stream",
     "text": [
      "[[1 1]\n",
      " [0 1]]\n",
      "1.0\n"
     ]
    }
   ],
   "source": [
    "A = np.array([[1, 1],[0, 1]])\n",
    "A_det = np.linalg.det(A)\n",
    "print(A)\n",
    "print(A_det)"
   ]
  },
  {
   "cell_type": "code",
   "execution_count": 152,
   "metadata": {
    "Collapsed": "false"
   },
   "outputs": [
    {
     "name": "stdout",
     "output_type": "stream",
     "text": [
      "[[3 0]\n",
      " [0 2]]\n",
      "6.0\n"
     ]
    }
   ],
   "source": [
    "B = np.array([[3, 0],[0, 2]])\n",
    "print(B)\n",
    "print(np.linalg.det(B))"
   ]
  },
  {
   "cell_type": "markdown",
   "metadata": {
    "Collapsed": "true"
   },
   "source": [
    "#### Inverse Examples"
   ]
  },
  {
   "cell_type": "markdown",
   "metadata": {
    "Collapsed": "false"
   },
   "source": [
    "Say we have a matrix\n",
    "\n",
    "${\\displaystyle \\mathbf {A} ={\\begin{pmatrix}4&7\\\\2&6\\end{pmatrix}}}$"
   ]
  },
  {
   "cell_type": "code",
   "execution_count": 48,
   "metadata": {
    "Collapsed": "false"
   },
   "outputs": [
    {
     "name": "stdout",
     "output_type": "stream",
     "text": [
      "[[4 7]\n",
      " [2 6]]\n"
     ]
    }
   ],
   "source": [
    "A = np.array([[4, 7],[2,6]])\n",
    "print(A)"
   ]
  },
  {
   "cell_type": "markdown",
   "metadata": {
    "Collapsed": "false"
   },
   "source": [
    "And calculate its inverse\n",
    "\n",
    "${\\displaystyle \\mathbf {B} ={\\begin{pmatrix}.6&-.7\\\\-.2&.4\\end{pmatrix}}}$"
   ]
  },
  {
   "cell_type": "code",
   "execution_count": 51,
   "metadata": {
    "Collapsed": "false"
   },
   "outputs": [
    {
     "name": "stdout",
     "output_type": "stream",
     "text": [
      "[[ 0.6 -0.7]\n",
      " [-0.2  0.4]]\n"
     ]
    }
   ],
   "source": [
    "B = np.linalg.inv(A)\n",
    "print(B)"
   ]
  },
  {
   "cell_type": "markdown",
   "metadata": {
    "Collapsed": "false"
   },
   "source": [
    "We can verify that A and B are inverses by checking their product is the identity matrix.\n",
    "\n",
    "${\\displaystyle \\mathbf {I} ={\\begin{pmatrix}1&0\\\\0&1\\end{pmatrix}}}$"
   ]
  },
  {
   "cell_type": "code",
   "execution_count": 50,
   "metadata": {
    "Collapsed": "false"
   },
   "outputs": [
    {
     "name": "stdout",
     "output_type": "stream",
     "text": [
      "[[1 0]\n",
      " [0 1]]\n",
      "[[1 0]\n",
      " [0 1]]\n"
     ]
    }
   ],
   "source": [
    "print(np.matmul(A, B).astype(int))\n",
    "print(np.matmul(B, A).astype(int))"
   ]
  },
  {
   "cell_type": "markdown",
   "metadata": {
    "Collapsed": "false"
   },
   "source": [
    "&#11088; **Pause and Ponder** &#11088;\n",
    "\n",
    "Recall from the video what this means geometrically...why do we get the identity matrix (ie. the matrix that does \"nothing\")?"
   ]
  },
  {
   "cell_type": "markdown",
   "metadata": {
    "Collapsed": "true"
   },
   "source": [
    "### Eigenvalues and Eigenvectors\n",
    "\n",
    "`v` is an eigenvector of a square matrix `A` if it stretches but doesn't change the direction of `A`; the eigenvalue ($\\lambda$) is the scaling factor.\n",
    "\n",
    "More formally, we can say that if you multiply a matrix, `A` by an eigenvector, `v`, then the vector `Av` will be a number (scalar) times the original `v`.\n",
    "\n",
    "$$\n",
    "{\\displaystyle A\\mathbf {v} =\\lambda \\mathbf {v}}\n",
    "$$"
   ]
  },
  {
   "cell_type": "code",
   "execution_count": 16,
   "metadata": {
    "Collapsed": "false"
   },
   "outputs": [
    {
     "data": {
      "image/jpeg": "[encoded data removed]",
      "text/html": [
       "\n",
       "        <iframe\n",
       "            width=\"600\"\n",
       "            height=\"350\"\n",
       "            src=\"https://www.youtube.com/embed/PFDu9oVAE-g?start=0\"\n",
       "            frameborder=\"0\"\n",
       "            allowfullscreen\n",
       "        ></iframe>\n",
       "        "
      ],
      "text/plain": [
       "<IPython.lib.display.YouTubeVideo at 0x11dcd5290>"
      ]
     },
     "execution_count": 16,
     "metadata": {},
     "output_type": "execute_result"
    }
   ],
   "source": [
    "# Video: Eigenvectors and Eigenvalues\n",
    "# https://www.youtube.com/watch?v=PFDu9oVAE-g&list=PLZHQObOWTQDPD3MizzM2xVFitgF8hE_ab&index=15&t=0s\n",
    "YouTubeVideo(\"PFDu9oVAE-g\", width=600, height=350, start=0)"
   ]
  },
  {
   "cell_type": "code",
   "execution_count": 128,
   "metadata": {
    "Collapsed": "false"
   },
   "outputs": [
    {
     "data": {
      "image/png": "[encoded data removed]",
      "text/plain": [
       "<Figure size 432x288 with 1 Axes>"
      ]
     },
     "metadata": {
      "needs_background": "light"
     },
     "output_type": "display_data"
    }
   ],
   "source": [
    "# See that ...\n",
    "i = [1, 0]\n",
    "j = [0, 1]\n",
    "plot_2d_vectors(vectors=[i, j, k], labels=['i', 'j', 'k'], colors=['r', 'g', 'b'])"
   ]
  },
  {
   "cell_type": "code",
   "execution_count": 101,
   "metadata": {
    "Collapsed": "false"
   },
   "outputs": [
    {
     "ename": "NameError",
     "evalue": "name 'i' is not defined",
     "output_type": "error",
     "traceback": [
      "\u001b[0;31m---------------------------------------------------------------------------\u001b[0m",
      "\u001b[0;31mNameError\u001b[0m                                 Traceback (most recent call last)",
      "\u001b[0;32m<ipython-input-101-d3f266a81b10>\u001b[0m in \u001b[0;36m<module>\u001b[0;34m\u001b[0m\n\u001b[0;32m----> 1\u001b[0;31m \u001b[0meig_vals\u001b[0m\u001b[0;34m,\u001b[0m \u001b[0meig_vects\u001b[0m \u001b[0;34m=\u001b[0m \u001b[0mnp\u001b[0m\u001b[0;34m.\u001b[0m\u001b[0mlinalg\u001b[0m\u001b[0;34m.\u001b[0m\u001b[0meig\u001b[0m\u001b[0;34m(\u001b[0m\u001b[0;34m[\u001b[0m\u001b[0mi\u001b[0m\u001b[0;34m,\u001b[0m \u001b[0mj\u001b[0m\u001b[0;34m,\u001b[0m \u001b[0mk\u001b[0m\u001b[0;34m]\u001b[0m\u001b[0;34m)\u001b[0m\u001b[0;34m\u001b[0m\u001b[0;34m\u001b[0m\u001b[0m\n\u001b[0m\u001b[1;32m      2\u001b[0m \u001b[0mprint\u001b[0m\u001b[0;34m(\u001b[0m\u001b[0meig_vals\u001b[0m\u001b[0;34m)\u001b[0m\u001b[0;34m\u001b[0m\u001b[0;34m\u001b[0m\u001b[0m\n\u001b[1;32m      3\u001b[0m \u001b[0mprint\u001b[0m\u001b[0;34m(\u001b[0m\u001b[0meig_vects\u001b[0m\u001b[0;34m)\u001b[0m\u001b[0;34m\u001b[0m\u001b[0;34m\u001b[0m\u001b[0m\n",
      "\u001b[0;31mNameError\u001b[0m: name 'i' is not defined"
     ]
    }
   ],
   "source": [
    "eig_vals, eig_vects = np.linalg.eig([i, j, k])\n",
    "print(eig_vals)\n",
    "print(eig_vects)"
   ]
  },
  {
   "cell_type": "markdown",
   "metadata": {
    "Collapsed": "false"
   },
   "source": [
    "Let's take the matrix ${\\displaystyle A={\\begin{bmatrix}2&1\\\\1&2\\end{bmatrix}}}$ and calculate its eigenvalues and eigenvectors."
   ]
  },
  {
   "cell_type": "markdown",
   "metadata": {
    "Collapsed": "false"
   },
   "source": [
    "For example, we have a matrix ${\\displaystyle A={\\begin{bmatrix}2&1\\\\1&2\\end{bmatrix}}}$"
   ]
  },
  {
   "cell_type": "code",
   "execution_count": 201,
   "metadata": {
    "Collapsed": "false"
   },
   "outputs": [
    {
     "data": {
      "text/plain": [
       "array([[2, 1],\n",
       "       [1, 2]])"
      ]
     },
     "execution_count": 201,
     "metadata": {},
     "output_type": "execute_result"
    }
   ],
   "source": [
    "A = np.array([[2, 1], [1, 2]])\n",
    "A"
   ]
  },
  {
   "cell_type": "code",
   "execution_count": null,
   "metadata": {
    "Collapsed": "false"
   },
   "outputs": [],
   "source": [
    "eig_vals, eig_vects = np.linalg.eig([[1, 1], [1, 1]])\n",
    "print(eig_vals)\n",
    "print(eig_vects)"
   ]
  },
  {
   "cell_type": "markdown",
   "metadata": {
    "Collapsed": "false"
   },
   "source": [
    "Let the computer calculate the eigenvalues and vectors"
   ]
  },
  {
   "cell_type": "code",
   "execution_count": 202,
   "metadata": {
    "Collapsed": "false"
   },
   "outputs": [
    {
     "name": "stdout",
     "output_type": "stream",
     "text": [
      "[3. 1.]\n",
      "[[ 0.70710678 -0.70710678]\n",
      " [ 0.70710678  0.70710678]]\n"
     ]
    }
   ],
   "source": [
    "eig_vals, eig_vects = np.linalg.eig(A)\n",
    "print(eig_vals)\n",
    "print(eig_vects)"
   ]
  },
  {
   "cell_type": "markdown",
   "metadata": {
    "Collapsed": "false"
   },
   "source": [
    "But let prove to ourselves that the calculations are correct. To do that, we need to prove that $A\\mathbf {v} =\\lambda \\mathbf {v}$ or the matrix times the eigenvector is equal to some scaing factor lambda times that eigenvector.\n",
    "\n",
    "First let's rearrange the equation\n",
    "\n",
    "$$\n",
    "A v=\\lambda v\n",
    "$$\n",
    "\n",
    "move everything to one side of the equation\n",
    "\n",
    "$$\n",
    "A v - \\lambda v = 0\n",
    "$$\n",
    "\n",
    "factor out the eigenvector $v$\n",
    "\n",
    "$$\n",
    "(A-\\lambda I)v=0\n",
    "$$\n",
    "\n",
    "we know $v$ isn't the zero vector so that leaves the other part of the equation that must equal 0\n",
    "\n",
    "$$\n",
    "{\\displaystyle |A-\\lambda I|={\\begin{vmatrix}2-\\lambda &1\\\\1&2-\\lambda \\end{vmatrix}}=3-4\\lambda +\\lambda ^{2}}\n",
    "$$\n"
   ]
  },
  {
   "cell_type": "markdown",
   "metadata": {
    "Collapsed": "false"
   },
   "source": [
    "Let start with the first eigenvalue $\\lambda = 3$ then calculate the determinant of $A - \\lambda I$ or as its commonly written $|A-\\lambda I|$\n",
    "\n",
    "$$\n",
    "{\\displaystyle |A-\\lambda I|={\\begin{vmatrix}2-\\lambda &1\\\\1&2-\\lambda \\end{vmatrix}}=3-4\\lambda +\\lambda ^{2}}\n",
    "$$\n",
    "\n",
    "$$\n",
    "{\\displaystyle |A-3I|=3-4(3) + 3^{2} = 0}\n",
    "$$"
   ]
  },
  {
   "cell_type": "code",
   "execution_count": 151,
   "metadata": {
    "Collapsed": "false"
   },
   "outputs": [
    {
     "data": {
      "text/plain": [
       "0.0"
      ]
     },
     "execution_count": 151,
     "metadata": {},
     "output_type": "execute_result"
    }
   ],
   "source": [
    "# Prove the 1st eigenvalue (eig_vals[0]) is an eigenvalue\n",
    "I = np.eye(2, 2)\n",
    "np.linalg.det(A-(eig_vals[0]*I))"
   ]
  },
  {
   "cell_type": "code",
   "execution_count": 152,
   "metadata": {
    "Collapsed": "false"
   },
   "outputs": [
    {
     "data": {
      "text/plain": [
       "0.0"
      ]
     },
     "execution_count": 152,
     "metadata": {},
     "output_type": "execute_result"
    }
   ],
   "source": [
    "# Prove the 2nd eigenvalue (eig_vals[1]) is an eigenvalue\n",
    "I = np.eye(2, 2)\n",
    "np.linalg.det(A-(eig_vals[1]*I))"
   ]
  },
  {
   "cell_type": "markdown",
   "metadata": {
    "Collapsed": "false"
   },
   "source": [
    "We can double check to make sure that the original vector `A` is a linear combination of the eigenvector scaled by the eigenvalues."
   ]
  },
  {
   "cell_type": "code",
   "execution_count": 139,
   "metadata": {
    "Collapsed": "false"
   },
   "outputs": [
    {
     "data": {
      "image/png": "[encoded data removed]",
      "text/plain": [
       "<Figure size 432x288 with 1 Axes>"
      ]
     },
     "metadata": {
      "needs_background": "light"
     },
     "output_type": "display_data"
    }
   ],
   "source": [
    "plot_2d_vectors([[-2, -3], eig_vects[0]], labels=['A1', 'eig_vec1'], colors=['r', 'b'])"
   ]
  },
  {
   "cell_type": "markdown",
   "metadata": {
    "Collapsed": "true"
   },
   "source": [
    "## Check for Understanding and Practice Problems\n",
    "\n",
    "Complete the following exercises to check your understanding of the concepts in this section.\n",
    "\n",
    "*Note: Answers are available in the appendix.*"
   ]
  },
  {
   "cell_type": "markdown",
   "metadata": {
    "Collapsed": "true"
   },
   "source": [
    "### 3.1 Find the transpose of the matrix"
   ]
  },
  {
   "cell_type": "markdown",
   "metadata": {
    "Collapsed": "false"
   },
   "source": [
    "$$\n",
    "{\\displaystyle M = {\\begin{bmatrix}1&2&3\\\\4&5&6\\end{bmatrix}}}\n",
    "$$"
   ]
  },
  {
   "cell_type": "code",
   "execution_count": 87,
   "metadata": {
    "Collapsed": "false"
   },
   "outputs": [
    {
     "name": "stdout",
     "output_type": "stream",
     "text": [
      "[[1 2 3]\n",
      " [4 5 6]]\n",
      "[[1 4]\n",
      " [2 5]\n",
      " [3 6]]\n"
     ]
    }
   ],
   "source": [
    "M = np.array([[1, 2, 3],\n",
    "              [4, 5, 6]])\n",
    "print(M)\n",
    "print(M.T)"
   ]
  },
  {
   "cell_type": "code",
   "execution_count": 75,
   "metadata": {
    "Collapsed": "false"
   },
   "outputs": [],
   "source": [
    "# YOUR ANSWER HERE"
   ]
  },
  {
   "cell_type": "markdown",
   "metadata": {
    "Collapsed": "true"
   },
   "source": [
    "### 3.2 Find the corresponding identity matrix"
   ]
  },
  {
   "cell_type": "markdown",
   "metadata": {
    "Collapsed": "false"
   },
   "source": [
    "$$\n",
    "{\\displaystyle M = {\\begin{bmatrix}1&2&3\\\\4&5&6\\\\7&8&9\\end{bmatrix}}}\n",
    "$$"
   ]
  },
  {
   "cell_type": "code",
   "execution_count": 81,
   "metadata": {
    "Collapsed": "false"
   },
   "outputs": [
    {
     "data": {
      "text/plain": [
       "array([[1., 0., 0.],\n",
       "       [0., 1., 0.],\n",
       "       [0., 0., 1.]])"
      ]
     },
     "execution_count": 81,
     "metadata": {},
     "output_type": "execute_result"
    }
   ],
   "source": [
    "M = np.array([[1, 2, 3],\n",
    "              [4, 5, 6],\n",
    "              [7, 8, 9]])\n",
    "np.eye(M.shape[0])"
   ]
  },
  {
   "cell_type": "markdown",
   "metadata": {
    "Collapsed": "false"
   },
   "source": [
    "&#11088; **Pause and Ponder** &#11088;\n",
    "\n",
    "Can you find the identity matrix of a non-square matrix? Try it and take note of what happens when you try using numpy"
   ]
  },
  {
   "cell_type": "code",
   "execution_count": 82,
   "metadata": {
    "Collapsed": "false"
   },
   "outputs": [
    {
     "data": {
      "text/plain": [
       "array([[1., 0., 0.],\n",
       "       [0., 1., 0.]])"
      ]
     },
     "execution_count": 82,
     "metadata": {},
     "output_type": "execute_result"
    }
   ],
   "source": [
    "np.eye(2, 3)"
   ]
  },
  {
   "cell_type": "code",
   "execution_count": 83,
   "metadata": {
    "Collapsed": "false"
   },
   "outputs": [
    {
     "data": {
      "text/plain": [
       "array([[1., 0.],\n",
       "       [0., 1.],\n",
       "       [0., 0.],\n",
       "       [0., 0.],\n",
       "       [0., 0.]])"
      ]
     },
     "execution_count": 83,
     "metadata": {},
     "output_type": "execute_result"
    }
   ],
   "source": [
    "np.eye(5, 2)"
   ]
  },
  {
   "cell_type": "code",
   "execution_count": 76,
   "metadata": {
    "Collapsed": "false"
   },
   "outputs": [],
   "source": [
    "# YOUR ANSWER HERE"
   ]
  },
  {
   "cell_type": "markdown",
   "metadata": {
    "Collapsed": "true"
   },
   "source": [
    "### 3.3 Find the determinant of the matrix. Interpret the results"
   ]
  },
  {
   "cell_type": "markdown",
   "metadata": {
    "Collapsed": "false"
   },
   "source": [
    "$$\n",
    "{\\displaystyle M = {\\begin{bmatrix}2&-3&0\\\\2&-5&0\\\\0&0&3\\end{bmatrix}}}\n",
    "$$"
   ]
  },
  {
   "cell_type": "markdown",
   "metadata": {
    "Collapsed": "false"
   },
   "source": [
    "We can find the determinant using `np.linalg.det()`"
   ]
  },
  {
   "cell_type": "code",
   "execution_count": 88,
   "metadata": {
    "Collapsed": "false"
   },
   "outputs": [
    {
     "data": {
      "text/plain": [
       "-12.0"
      ]
     },
     "execution_count": 88,
     "metadata": {},
     "output_type": "execute_result"
    }
   ],
   "source": [
    "M = np.array([[2, -3, 0],\n",
    "              [2, -5, 0],\n",
    "              [0, 0, 3]])\n",
    "np.linalg.det(M)"
   ]
  },
  {
   "cell_type": "markdown",
   "metadata": {
    "Collapsed": "false"
   },
   "source": [
    "The determinant is negative which has the geometric interpretation of flipping space. Because the determinant isn't zero, we can also say that the columns are linearly independent."
   ]
  },
  {
   "cell_type": "code",
   "execution_count": 77,
   "metadata": {
    "Collapsed": "false"
   },
   "outputs": [],
   "source": [
    "# YOUR ANSWER HERE"
   ]
  },
  {
   "cell_type": "markdown",
   "metadata": {
    "Collapsed": "true"
   },
   "source": [
    "### 3.4 Find the determinant of the matrix"
   ]
  },
  {
   "cell_type": "markdown",
   "metadata": {
    "Collapsed": "false"
   },
   "source": [
    "$$\n",
    "{\\displaystyle M = {\\begin{bmatrix}2&-3&0\\\\2&-5&0\\end{bmatrix}}}\n",
    "$$"
   ]
  },
  {
   "cell_type": "markdown",
   "metadata": {
    "Collapsed": "false"
   },
   "source": [
    "This is a non-square matrix!! No determinant is defined."
   ]
  },
  {
   "cell_type": "code",
   "execution_count": 74,
   "metadata": {
    "Collapsed": "false"
   },
   "outputs": [],
   "source": [
    "# YOUR ANSWER HERE"
   ]
  },
  {
   "cell_type": "markdown",
   "metadata": {
    "Collapsed": "true"
   },
   "source": [
    "### 3.5 Find the inverse of the matrix"
   ]
  },
  {
   "cell_type": "markdown",
   "metadata": {
    "Collapsed": "false"
   },
   "source": [
    "$$\n",
    "{\\displaystyle M = {\\begin{bmatrix}2&-4&-1\\\\1&-2&-2\\\\0&0&3\\end{bmatrix}}}\n",
    "$$"
   ]
  },
  {
   "cell_type": "code",
   "execution_count": 96,
   "metadata": {
    "Collapsed": "false"
   },
   "outputs": [
    {
     "data": {
      "text/plain": [
       "0.0"
      ]
     },
     "execution_count": 96,
     "metadata": {},
     "output_type": "execute_result"
    }
   ],
   "source": [
    "M = np.array([[2, -4, 0],\n",
    "              [1, -2, 0],\n",
    "              [0, 0, 3]])\n",
    "np.linalg.det(M)"
   ]
  },
  {
   "cell_type": "markdown",
   "metadata": {
    "Collapsed": "false"
   },
   "source": [
    "We know that a matrix is invertible if the determinant is non-zero, unfortunately in this case looks like the determinant is zero (ie. not all columns are linearly independent)"
   ]
  },
  {
   "cell_type": "code",
   "execution_count": 98,
   "metadata": {
    "Collapsed": "false"
   },
   "outputs": [],
   "source": [
    "# Trying to take the inverse will fail\n",
    "# np.linalg.inv(M)"
   ]
  },
  {
   "cell_type": "code",
   "execution_count": 89,
   "metadata": {
    "Collapsed": "false"
   },
   "outputs": [],
   "source": [
    "# YOUR ANSWER HERE"
   ]
  },
  {
   "cell_type": "markdown",
   "metadata": {
    "Collapsed": "true"
   },
   "source": [
    "### 3.6 Find the inverse of the matrix"
   ]
  },
  {
   "cell_type": "markdown",
   "metadata": {
    "Collapsed": "false"
   },
   "source": [
    "$$\n",
    "{\\displaystyle M = {\\begin{bmatrix}2&-4&-1\\\\1&3&-2\\\\0&0&3\\end{bmatrix}}}\n",
    "$$"
   ]
  },
  {
   "cell_type": "code",
   "execution_count": 99,
   "metadata": {
    "Collapsed": "false"
   },
   "outputs": [
    {
     "data": {
      "text/plain": [
       "29.99999999999999"
      ]
     },
     "execution_count": 99,
     "metadata": {},
     "output_type": "execute_result"
    }
   ],
   "source": [
    "M = np.array([[2, -4, -1],\n",
    "              [1, 3, -2],\n",
    "              [0, 0, 3]])\n",
    "np.linalg.det(M)"
   ]
  },
  {
   "cell_type": "markdown",
   "metadata": {
    "Collapsed": "false"
   },
   "source": [
    "Non-zero determinant so the matrix has an inverse."
   ]
  },
  {
   "cell_type": "code",
   "execution_count": 100,
   "metadata": {
    "Collapsed": "false"
   },
   "outputs": [
    {
     "data": {
      "text/plain": [
       "array([[ 0.3       ,  0.4       ,  0.36666667],\n",
       "       [-0.1       ,  0.2       ,  0.1       ],\n",
       "       [ 0.        ,  0.        ,  0.33333333]])"
      ]
     },
     "execution_count": 100,
     "metadata": {},
     "output_type": "execute_result"
    }
   ],
   "source": [
    "np.linalg.inv(M)"
   ]
  },
  {
   "cell_type": "code",
   "execution_count": 90,
   "metadata": {
    "Collapsed": "false"
   },
   "outputs": [],
   "source": [
    "# YOUR ANSWER HERE"
   ]
  },
  {
   "cell_type": "markdown",
   "metadata": {
    "Collapsed": "true"
   },
   "source": [
    "### 3.7 Calculate the eigenvectors and eigenvalues of the matrix"
   ]
  },
  {
   "cell_type": "markdown",
   "metadata": {
    "Collapsed": "false"
   },
   "source": [
    "$$\n",
    "{\\displaystyle M = {\\begin{bmatrix}2&-4&-1\\\\1&-2&-2\\\\0&0&3\\end{bmatrix}}}\n",
    "$$"
   ]
  },
  {
   "cell_type": "code",
   "execution_count": 107,
   "metadata": {
    "Collapsed": "false"
   },
   "outputs": [
    {
     "data": {
      "text/plain": [
       "array([[ 2, -4, -1],\n",
       "       [ 1, -2, -2],\n",
       "       [ 0,  0,  3]])"
      ]
     },
     "execution_count": 107,
     "metadata": {},
     "output_type": "execute_result"
    }
   ],
   "source": [
    "M = np.array([[2, -4, -1],\n",
    "              [1, -2, -2],\n",
    "              [0, 0, 3]])\n",
    "M"
   ]
  },
  {
   "cell_type": "code",
   "execution_count": 103,
   "metadata": {
    "Collapsed": "false"
   },
   "outputs": [
    {
     "name": "stdout",
     "output_type": "stream",
     "text": [
      "[0. 0. 3.]\n",
      "[[ 0.89442719  0.89442719  0.30151134]\n",
      " [ 0.4472136   0.4472136  -0.30151134]\n",
      " [ 0.          0.          0.90453403]]\n"
     ]
    }
   ],
   "source": [
    "eig_vals, eig_vects = np.linalg.eig(M)\n",
    "print(eig_vals)\n",
    "print(eig_vects)"
   ]
  },
  {
   "cell_type": "markdown",
   "metadata": {
    "Collapsed": "false"
   },
   "source": [
    "This means that the eigenvector scales the matrix by the eivenvalues but doesn't change the direction of the original matrix."
   ]
  },
  {
   "cell_type": "code",
   "execution_count": 91,
   "metadata": {
    "Collapsed": "false"
   },
   "outputs": [],
   "source": [
    "# YOUR ANSWER HERE"
   ]
  },
  {
   "cell_type": "markdown",
   "metadata": {
    "Collapsed": "true"
   },
   "source": [
    "### 3.8 Determine if the column space of the matrix is linearly independent"
   ]
  },
  {
   "cell_type": "markdown",
   "metadata": {
    "Collapsed": "false"
   },
   "source": [
    "$$\n",
    "{\\displaystyle M = {\\begin{bmatrix}2&1\\\\1&-3\\end{bmatrix}}}\n",
    "$$"
   ]
  },
  {
   "cell_type": "code",
   "execution_count": 108,
   "metadata": {
    "Collapsed": "false"
   },
   "outputs": [
    {
     "data": {
      "text/plain": [
       "-7.000000000000001"
      ]
     },
     "execution_count": 108,
     "metadata": {},
     "output_type": "execute_result"
    }
   ],
   "source": [
    "M = np.array([[2, 1],\n",
    "              [1, -3]])\n",
    "np.linalg.det(M)"
   ]
  },
  {
   "cell_type": "markdown",
   "metadata": {
    "Collapsed": "false"
   },
   "source": [
    "Looks like the colums are linearly independent because the determinant is non-zero."
   ]
  },
  {
   "cell_type": "code",
   "execution_count": 92,
   "metadata": {
    "Collapsed": "false"
   },
   "outputs": [],
   "source": [
    "# YOUR ANSWER HERE"
   ]
  },
  {
   "cell_type": "markdown",
   "metadata": {
    "Collapsed": "false"
   },
   "source": [
    "### 3.9 Determine if the column space of the matrix is linearly independent"
   ]
  },
  {
   "cell_type": "markdown",
   "metadata": {
    "Collapsed": "false"
   },
   "source": [
    "$$\n",
    "{\\displaystyle M = {\\begin{bmatrix}2&1\\\\20&10\\end{bmatrix}}}\n",
    "$$"
   ]
  },
  {
   "cell_type": "code",
   "execution_count": 113,
   "metadata": {
    "Collapsed": "false"
   },
   "outputs": [
    {
     "data": {
      "text/plain": [
       "0.0"
      ]
     },
     "execution_count": 113,
     "metadata": {},
     "output_type": "execute_result"
    }
   ],
   "source": [
    "M = np.array([[2, 1],\n",
    "              [20, 10]])\n",
    "np.linalg.det(M)"
   ]
  },
  {
   "cell_type": "markdown",
   "metadata": {
    "Collapsed": "false"
   },
   "source": [
    "The determinant is zero so they are linearly dependent. We can further inspect their linear dependence by setting up the following equation and solving for x"
   ]
  },
  {
   "cell_type": "code",
   "execution_count": 93,
   "metadata": {
    "Collapsed": "false"
   },
   "outputs": [],
   "source": [
    "# YOUR ANSWER HERE"
   ]
  },
  {
   "cell_type": "markdown",
   "metadata": {
    "Collapsed": "true"
   },
   "source": [
    "# <span style=\"color:blue;\">Congrats! Now you have the LA foundation that allows you to check out the AWEsome linear algebra algorithms that allow us to do machine learning and other neat things!</span>\n",
    "\n",
    "Navigate to the Linear Algebra Algorithms Workbook to dive in!"
   ]
  },
  {
   "cell_type": "markdown",
   "metadata": {
    "Collapsed": "false"
   },
   "source": [
    "# Appendix"
   ]
  },
  {
   "cell_type": "markdown",
   "metadata": {
    "Collapsed": "true"
   },
   "source": [
    "## Answers to Exercises"
   ]
  },
  {
   "cell_type": "markdown",
   "metadata": {
    "Collapsed": "true"
   },
   "source": [
    "### 1.0 Matrix Representations of Data"
   ]
  },
  {
   "cell_type": "markdown",
   "metadata": {
    "Collapsed": "true"
   },
   "source": [
    "#### 1.1 Plot the following column vectors of the matrix\n",
    "\n",
    "$$\n",
    "{\\displaystyle M ={\\begin{pmatrix}-2&1\\\\1&3\\end{pmatrix}}}\n",
    "$$\n",
    "\n",
    "We can plot these vectors using the plot_2d_vectors function like this"
   ]
  },
  {
   "cell_type": "code",
   "execution_count": 22,
   "metadata": {
    "Collapsed": "false"
   },
   "outputs": [
    {
     "data": {
      "image/png": "[encoded data removed]",
      "text/plain": [
       "<Figure size 432x288 with 1 Axes>"
      ]
     },
     "metadata": {
      "needs_background": "light"
     },
     "output_type": "display_data"
    }
   ],
   "source": [
    "plot_2d_vectors([[-2, 1], [1, 3]])"
   ]
  },
  {
   "cell_type": "markdown",
   "metadata": {
    "Collapsed": "true"
   },
   "source": [
    "#### 1.2 Scale the vectors by 2 and plot the result. What would the result be if you scaled them by a negative number (ie. -2) instead?"
   ]
  },
  {
   "cell_type": "code",
   "execution_count": 23,
   "metadata": {
    "Collapsed": "false"
   },
   "outputs": [
    {
     "data": {
      "text/plain": [
       "array([[-2,  1],\n",
       "       [ 1,  3]])"
      ]
     },
     "execution_count": 23,
     "metadata": {},
     "output_type": "execute_result"
    }
   ],
   "source": [
    "M = np.array([[-2, 1], [1, 3]])\n",
    "M"
   ]
  },
  {
   "cell_type": "code",
   "execution_count": 27,
   "metadata": {
    "Collapsed": "false"
   },
   "outputs": [
    {
     "data": {
      "text/plain": [
       "array([[-4,  2],\n",
       "       [ 2,  6]])"
      ]
     },
     "execution_count": 27,
     "metadata": {},
     "output_type": "execute_result"
    }
   ],
   "source": [
    "pos_scaled = 2*M\n",
    "pos_scaled"
   ]
  },
  {
   "cell_type": "code",
   "execution_count": 35,
   "metadata": {
    "Collapsed": "false"
   },
   "outputs": [
    {
     "data": {
      "image/png": "[encoded data removed]",
      "text/plain": [
       "<Figure size 432x288 with 1 Axes>"
      ]
     },
     "metadata": {
      "needs_background": "light"
     },
     "output_type": "display_data"
    }
   ],
   "source": [
    "plot_2d_vectors([M[:, 0], M[:, 1], pos_scaled[:, 0], pos_scaled[:, 1]], labels=['Mi', 'Mj', 'scaled_i', 'scaled_j'], colors=['r', 'r', 'g', 'g'])"
   ]
  },
  {
   "cell_type": "code",
   "execution_count": 28,
   "metadata": {
    "Collapsed": "false"
   },
   "outputs": [
    {
     "data": {
      "text/plain": [
       "array([[ 4, -2],\n",
       "       [-2, -6]])"
      ]
     },
     "execution_count": 28,
     "metadata": {},
     "output_type": "execute_result"
    }
   ],
   "source": [
    "neg_scaled = -2*M\n",
    "neg_scaled"
   ]
  },
  {
   "cell_type": "code",
   "execution_count": 36,
   "metadata": {
    "Collapsed": "false"
   },
   "outputs": [
    {
     "data": {
      "image/png": "[encoded data removed]",
      "text/plain": [
       "<Figure size 432x288 with 1 Axes>"
      ]
     },
     "metadata": {
      "needs_background": "light"
     },
     "output_type": "display_data"
    }
   ],
   "source": [
    "plot_2d_vectors([M[:, 0], M[:, 1], neg_scaled[:, 0], neg_scaled[:, 1]], labels=['Mi', 'Mj', 'scaled_i', 'scaled_j'], colors=['r', 'r', 'g', 'g'])"
   ]
  },
  {
   "cell_type": "markdown",
   "metadata": {
    "Collapsed": "true"
   },
   "source": [
    "#### 1.3 Draw the adjancy matrix for the following graph"
   ]
  },
  {
   "cell_type": "code",
   "execution_count": 48,
   "metadata": {
    "Collapsed": "false"
   },
   "outputs": [
    {
     "data": {
      "image/png": "[encoded data removed]"
     },
     "metadata": {},
     "output_type": "display_data"
    }
   ],
   "source": [
    "%%tikz\n",
    "\\def \\n {4}\n",
    "\\def \\radius {3cm}\n",
    "\\def \\margin {8} % margin in angles, depends on the radius\n",
    "\n",
    "\\foreach \\s in {0,...,\\n}\n",
    "{\n",
    "  \\node[draw, circle] at ({360/\\n * (\\s - 1)}:\\radius) {$\\s$};\n",
    "  \\draw[-, >=latex] ({360/\\n * (\\s - 1)+\\margin}:\\radius) \n",
    "    arc ({360/\\n * (\\s - 1)+\\margin}:{360/\\n * (\\s)-\\margin}:\\radius);\n",
    "}"
   ]
  },
  {
   "cell_type": "markdown",
   "metadata": {
    "Collapsed": "false"
   },
   "source": [
    "We can start by initializing a 4x4 matrix of zeros."
   ]
  },
  {
   "cell_type": "code",
   "execution_count": 47,
   "metadata": {
    "Collapsed": "false"
   },
   "outputs": [
    {
     "data": {
      "text/plain": [
       "array([[0., 0., 0., 0.],\n",
       "       [0., 0., 0., 0.],\n",
       "       [0., 0., 0., 0.],\n",
       "       [0., 0., 0., 0.]])"
      ]
     },
     "execution_count": 47,
     "metadata": {},
     "output_type": "execute_result"
    }
   ],
   "source": [
    "M = np.zeros((4, 4))\n",
    "M"
   ]
  },
  {
   "cell_type": "markdown",
   "metadata": {
    "Collapsed": "false"
   },
   "source": [
    "Then we can put ones in the \n",
    "\n",
    "0 - 1"
   ]
  },
  {
   "cell_type": "code",
   "execution_count": 51,
   "metadata": {
    "Collapsed": "false"
   },
   "outputs": [
    {
     "data": {
      "text/plain": [
       "array([[0., 1., 0., 1.],\n",
       "       [1., 0., 1., 0.],\n",
       "       [0., 1., 0., 1.],\n",
       "       [1., 0., 1., 0.]])"
      ]
     },
     "execution_count": 51,
     "metadata": {},
     "output_type": "execute_result"
    }
   ],
   "source": [
    "M[0, 1] = 1\n",
    "M[1, 0] = 1\n",
    "\n",
    "M[1, 2] = 1\n",
    "M[2, 1] = 1\n",
    "\n",
    "M[2, 3] = 1\n",
    "M[3, 2] = 1\n",
    "\n",
    "M[3, 0] = 1\n",
    "M[0, 3] = 1\n",
    "\n",
    "M"
   ]
  },
  {
   "cell_type": "markdown",
   "metadata": {
    "Collapsed": "false"
   },
   "source": [
    "Then we can check the result by plotting it using python's networkx library."
   ]
  },
  {
   "cell_type": "code",
   "execution_count": 53,
   "metadata": {
    "Collapsed": "false"
   },
   "outputs": [
    {
     "data": {
      "image/png": "[encoded data removed]",
      "text/plain": [
       "<Figure size 432x288 with 1 Axes>"
      ]
     },
     "metadata": {},
     "output_type": "display_data"
    }
   ],
   "source": [
    "graph = nx.from_numpy_matrix(M)\n",
    "nx.draw_circular(graph)"
   ]
  },
  {
   "cell_type": "markdown",
   "metadata": {
    "Collapsed": "false"
   },
   "source": [
    "Looks right!"
   ]
  },
  {
   "cell_type": "markdown",
   "metadata": {
    "Collapsed": "true"
   },
   "source": [
    "#### 1.4 Write the following sytem of equations as a matrix"
   ]
  },
  {
   "cell_type": "markdown",
   "metadata": {
    "Collapsed": "false"
   },
   "source": [
    "$$\n",
    "2x - 1y = 6\\\\\n",
    "-1x + 5y = 4\n",
    "$$\n",
    "\n",
    "becomes \n",
    "\n",
    "$$\n",
    "{\\displaystyle{\\begin{pmatrix}2&-1\\\\-1&5\\end{pmatrix}}{\\begin{pmatrix}x\\\\y\\end{pmatrix}} = {\\begin{pmatrix}6\\\\4\\end{pmatrix}}}\n",
    "$$\n",
    "\n",
    "In Python we can write it like this"
   ]
  },
  {
   "cell_type": "code",
   "execution_count": 72,
   "metadata": {
    "Collapsed": "false"
   },
   "outputs": [
    {
     "data": {
      "text/plain": [
       "array([[ 2, -1],\n",
       "       [-1,  5]])"
      ]
     },
     "execution_count": 72,
     "metadata": {},
     "output_type": "execute_result"
    }
   ],
   "source": [
    "M = np.array([[2, -1], [-1, 5]])\n",
    "M"
   ]
  },
  {
   "cell_type": "code",
   "execution_count": 74,
   "metadata": {
    "Collapsed": "false"
   },
   "outputs": [
    {
     "data": {
      "text/plain": [
       "array([6, 4])"
      ]
     },
     "execution_count": 74,
     "metadata": {},
     "output_type": "execute_result"
    }
   ],
   "source": [
    "b = np.array([6, 4])\n",
    "b"
   ]
  },
  {
   "cell_type": "markdown",
   "metadata": {
    "Collapsed": "true"
   },
   "source": [
    "#### 1.5 Plot the cross section of the fluid represented by these vectors"
   ]
  },
  {
   "cell_type": "code",
   "execution_count": 106,
   "metadata": {
    "Collapsed": "false"
   },
   "outputs": [],
   "source": [
    "w = 5\n",
    "Y, X = np.mgrid[-w:w:50j, -w:w:50j]\n",
    "U = -1 - X**2 + Y"
   ]
  },
  {
   "cell_type": "code",
   "execution_count": 107,
   "metadata": {
    "Collapsed": "false"
   },
   "outputs": [
    {
     "data": {
      "text/plain": [
       "<matplotlib.collections.PathCollection at 0x123d3c350>"
      ]
     },
     "execution_count": 107,
     "metadata": {},
     "output_type": "execute_result"
    },
    {
     "data": {
      "image/png": "[encoded data removed]",
      "text/plain": [
       "<Figure size 432x288 with 1 Axes>"
      ]
     },
     "metadata": {
      "needs_background": "light"
     },
     "output_type": "display_data"
    }
   ],
   "source": [
    "plt.scatter(X, Y, c=U)"
   ]
  },
  {
   "cell_type": "code",
   "execution_count": null,
   "metadata": {
    "Collapsed": "false"
   },
   "outputs": [],
   "source": [
    "# YOUR ANSWER HERE"
   ]
  },
  {
   "cell_type": "markdown",
   "metadata": {
    "Collapsed": "true"
   },
   "source": [
    "#### 1.6 Perform the following operation on the vectors\n",
    "\n",
    "$$\n",
    "{\\displaystyle 2A = 2 * {\\begin{pmatrix}-2&1&3\\\\1&3&2\\\\3&8&1\\end{pmatrix}}}\n",
    "$$"
   ]
  },
  {
   "cell_type": "markdown",
   "metadata": {},
   "source": [
    "$$\n",
    "{\\displaystyle ={\\begin{pmatrix}-2(2)&1(2)&3(2)\\\\1(2)&3(2)&2(2)\\\\3(2)&8(2)&1(2)\\end{pmatrix}}}\n",
    "$$\n"
   ]
  },
  {
   "cell_type": "code",
   "execution_count": 118,
   "metadata": {
    "Collapsed": "false"
   },
   "outputs": [
    {
     "data": {
      "text/plain": [
       "array([[-2,  1,  3],\n",
       "       [ 1,  3,  2],\n",
       "       [ 3,  8,  1]])"
      ]
     },
     "execution_count": 118,
     "metadata": {},
     "output_type": "execute_result"
    }
   ],
   "source": [
    "A = np.array([[-2, 1, 3],\n",
    "              [1, 3, 2],\n",
    "              [3, 8, 1]])\n",
    "A"
   ]
  },
  {
   "cell_type": "code",
   "execution_count": 119,
   "metadata": {
    "Collapsed": "false"
   },
   "outputs": [
    {
     "data": {
      "text/plain": [
       "array([[-4,  2,  6],\n",
       "       [ 2,  6,  4],\n",
       "       [ 6, 16,  2]])"
      ]
     },
     "execution_count": 119,
     "metadata": {},
     "output_type": "execute_result"
    }
   ],
   "source": [
    "2*A"
   ]
  },
  {
   "cell_type": "markdown",
   "metadata": {
    "Collapsed": "true"
   },
   "source": [
    "#### 1.7 Write the following system of equations as a matrix\n",
    "\n",
    "$$\n",
    "4x_0 + 2x_1 - 4x_2 = 0\\\\\n",
    "2x_0 - 9x_1 + 1x_2 = 2\\\\\n",
    "1x_0 + 5x_1 + 2x_2 = 12\\\\\n",
    "$$"
   ]
  },
  {
   "cell_type": "markdown",
   "metadata": {
    "Collapsed": "false"
   },
   "source": [
    "As a matrix in the form $Ax = b$ becomes\n",
    "\n",
    "$$\n",
    "{\\displaystyle {\\begin{pmatrix}4x_0 + 2x_1 - 4x_2\\\\2x_0 - 9x_1 + 1x_2\\\\1x_0 + 5x_1 + 2x_2\\end{pmatrix}} = {\\begin{pmatrix}0\\\\2\\\\12\\end{pmatrix}}}\n",
    "$$\n",
    "\n",
    "$$\n",
    "{\\displaystyle {\\begin{pmatrix}4&2&-4\\\\2&-9&1\\\\1&5&2\\end{pmatrix}}{\\begin{pmatrix}x_0\\\\x_1\\\\x_2\\end{pmatrix}} = {\\begin{pmatrix}0\\\\2\\\\12\\end{pmatrix}}}\n",
    "$$\n"
   ]
  },
  {
   "cell_type": "code",
   "execution_count": 120,
   "metadata": {
    "Collapsed": "false"
   },
   "outputs": [
    {
     "data": {
      "text/plain": [
       "array([[ 4,  2, -4],\n",
       "       [ 2, -9,  1],\n",
       "       [ 1,  5,  2]])"
      ]
     },
     "execution_count": 120,
     "metadata": {},
     "output_type": "execute_result"
    }
   ],
   "source": [
    "A = np.array([[4, 2, -4],\n",
    "              [2, -9, 1],\n",
    "              [1, 5, 2]])\n",
    "A"
   ]
  },
  {
   "cell_type": "code",
   "execution_count": 122,
   "metadata": {
    "Collapsed": "false"
   },
   "outputs": [
    {
     "data": {
      "text/plain": [
       "array([ 0,  2, 12])"
      ]
     },
     "execution_count": 122,
     "metadata": {},
     "output_type": "execute_result"
    }
   ],
   "source": [
    "b = np.array([0, 2, 12])\n",
    "b"
   ]
  },
  {
   "cell_type": "markdown",
   "metadata": {
    "Collapsed": "true"
   },
   "source": [
    "#### 1.8 Find the result of vector addition defined by the vector below\n",
    "\n",
    "$$\n",
    "V + W = ?\n",
    "$$"
   ]
  },
  {
   "cell_type": "markdown",
   "metadata": {
    "Collapsed": "false"
   },
   "source": [
    "Where $V$ and $W$ are as follows\n",
    "\n",
    "$$\n",
    "{\\displaystyle V ={\\begin{pmatrix}3\\\\6\\end{pmatrix}}}\n",
    "$$\n",
    "\n",
    "$$\n",
    "{\\displaystyle W ={\\begin{pmatrix}-2\\\\2\\end{pmatrix}}}\n",
    "$$"
   ]
  },
  {
   "cell_type": "markdown",
   "metadata": {
    "Collapsed": "false"
   },
   "source": [
    "We know that addition is done element-wise\n",
    "\n",
    "$$\n",
    "{\\displaystyle V + W = {\\begin{pmatrix}3 + (-2)\\\\6 + 2\\end{pmatrix}} = {\\begin{pmatrix}1\\\\8\\end{pmatrix}}}\n",
    "$$\n"
   ]
  },
  {
   "cell_type": "code",
   "execution_count": 123,
   "metadata": {
    "Collapsed": "false"
   },
   "outputs": [
    {
     "data": {
      "text/plain": [
       "array([3, 6])"
      ]
     },
     "execution_count": 123,
     "metadata": {},
     "output_type": "execute_result"
    }
   ],
   "source": [
    "V = np.array([3, 6])\n",
    "V"
   ]
  },
  {
   "cell_type": "code",
   "execution_count": 124,
   "metadata": {
    "Collapsed": "false"
   },
   "outputs": [
    {
     "data": {
      "text/plain": [
       "array([-2,  2])"
      ]
     },
     "execution_count": 124,
     "metadata": {},
     "output_type": "execute_result"
    }
   ],
   "source": [
    "W = np.array([-2, 2])\n",
    "W"
   ]
  },
  {
   "cell_type": "code",
   "execution_count": 125,
   "metadata": {
    "Collapsed": "false"
   },
   "outputs": [
    {
     "data": {
      "text/plain": [
       "array([1, 8])"
      ]
     },
     "execution_count": 125,
     "metadata": {},
     "output_type": "execute_result"
    }
   ],
   "source": [
    "V+W"
   ]
  },
  {
   "cell_type": "markdown",
   "metadata": {
    "Collapsed": "true"
   },
   "source": [
    "#### 1.9 Find the cross product $U \\times V$ and interpret the result"
   ]
  },
  {
   "cell_type": "markdown",
   "metadata": {
    "Collapsed": "false"
   },
   "source": [
    "We can find the cross product ${\\displaystyle U x V}$ where $U$ and $V$ are as follows\n",
    "\n",
    "$$\n",
    "{\\displaystyle U \\times V ={\\begin{pmatrix}2\\\\1\\end{pmatrix}} \\times {\\begin{pmatrix}-2\\\\-1\\end{pmatrix}}}\n",
    "$$\n",
    "\n",
    "using `np.cross()` then verify our result using the formula or think about the result geometrically"
   ]
  },
  {
   "cell_type": "code",
   "execution_count": 23,
   "metadata": {
    "Collapsed": "false"
   },
   "outputs": [
    {
     "name": "stdout",
     "output_type": "stream",
     "text": [
      "[2 1]\n",
      "[-2 -1]\n",
      "0\n"
     ]
    },
    {
     "data": {
      "image/png": "[encoded data removed]",
      "text/plain": [
       "<Figure size 432x288 with 1 Axes>"
      ]
     },
     "metadata": {
      "needs_background": "light"
     },
     "output_type": "display_data"
    }
   ],
   "source": [
    "U = np.array([2, 1])\n",
    "V = np.array([-2, -1])\n",
    "print(U)\n",
    "print(V)\n",
    "\n",
    "cross_prod = np.cross(U, V)\n",
    "print(cross_prod)\n",
    "\n",
    "plot_2d_vectors([U, V])"
   ]
  },
  {
   "cell_type": "markdown",
   "metadata": {
    "Collapsed": "false"
   },
   "source": [
    "We can see that the vectors point in the exact opposite direction so the cross product will be zero. It would also be zero if they were pointing in the same direction. "
   ]
  },
  {
   "cell_type": "markdown",
   "metadata": {
    "Collapsed": "true"
   },
   "source": [
    "#### 1.10 Find the vector V such that $U \\cdot V = 0$\n",
    "\n",
    "$$\n",
    "{\\displaystyle U \\cdot V = 0 }\n",
    "$$"
   ]
  },
  {
   "cell_type": "markdown",
   "metadata": {
    "Collapsed": "false"
   },
   "source": [
    "To solve this we simply need two vectors that are perpendicular"
   ]
  },
  {
   "cell_type": "code",
   "execution_count": 26,
   "metadata": {
    "Collapsed": "false"
   },
   "outputs": [
    {
     "name": "stdout",
     "output_type": "stream",
     "text": [
      "[2 0]\n"
     ]
    },
    {
     "data": {
      "image/png": "[encoded data removed]",
      "text/plain": [
       "<Figure size 432x288 with 1 Axes>"
      ]
     },
     "metadata": {
      "needs_background": "light"
     },
     "output_type": "display_data"
    }
   ],
   "source": [
    "U = np.array([2, 0])\n",
    "print(U)\n",
    "\n",
    "plot_2d_vectors([U])"
   ]
  },
  {
   "cell_type": "markdown",
   "metadata": {
    "Collapsed": "false"
   },
   "source": [
    "We can see that we need a vector that is vertical....we can choose any $V$ that is vertical"
   ]
  },
  {
   "cell_type": "code",
   "execution_count": 27,
   "metadata": {
    "Collapsed": "false"
   },
   "outputs": [
    {
     "data": {
      "image/png": "[encoded data removed]",
      "text/plain": [
       "<Figure size 432x288 with 1 Axes>"
      ]
     },
     "metadata": {
      "needs_background": "light"
     },
     "output_type": "display_data"
    }
   ],
   "source": [
    "V = np.array([0, 4])\n",
    "\n",
    "plot_2d_vectors([U, V])"
   ]
  },
  {
   "cell_type": "markdown",
   "metadata": {
    "Collapsed": "true"
   },
   "source": [
    "### 2.0 Linearity and Transformations"
   ]
  },
  {
   "cell_type": "markdown",
   "metadata": {
    "Collapsed": "true"
   },
   "source": [
    "### 3.0 Properties of Matrices"
   ]
  },
  {
   "cell_type": "markdown",
   "metadata": {
    "Collapsed": "false"
   },
   "source": [
    "#### Write the following system of equations as a matrix; then solve"
   ]
  },
  {
   "cell_type": "markdown",
   "metadata": {
    "Collapsed": "false"
   },
   "source": [
    "Let's start by taking the system of equations and writing the equivalent matrix form of the equation $Ax = b$ where $A$, $x$ and $b$ are all matrices.\n",
    "\n",
    "Then the original system of equations...\n",
    "$$\n",
    "3x_0 + 1x_1 = 9\\\\\n",
    "1x_0 + 2x_1 = 8\n",
    "$$\n",
    "\n",
    "becomes \n",
    "\n",
    "$$\n",
    "{\\displaystyle{\\begin{pmatrix}3x_0&1x_1\\\\1x_0&2x_1\\end{pmatrix}} = {\\begin{pmatrix}9\\\\8\\end{pmatrix}}}\n",
    "$$\n",
    "\n",
    "$$\n",
    "{\\displaystyle{\\begin{pmatrix}3&1\\\\1&2\\end{pmatrix}}{\\begin{pmatrix}x_0\\\\x_1\\end{pmatrix}} = {\\begin{pmatrix}9\\\\8\\end{pmatrix}}}\n",
    "$$\n",
    "\n",
    "$$\n",
    "Ax=b\n",
    "$$\n",
    "\n",
    "\n",
    "Now that it is in the form $Ax = b$, we can solve using `linalg.solve`"
   ]
  },
  {
   "cell_type": "code",
   "execution_count": 68,
   "metadata": {
    "Collapsed": "false"
   },
   "outputs": [
    {
     "data": {
      "text/plain": [
       "array([[3, 1],\n",
       "       [1, 2]])"
      ]
     },
     "execution_count": 68,
     "metadata": {},
     "output_type": "execute_result"
    }
   ],
   "source": [
    "A = np.array([[3, 1], [1, 2]])\n",
    "A"
   ]
  },
  {
   "cell_type": "code",
   "execution_count": 69,
   "metadata": {
    "Collapsed": "false"
   },
   "outputs": [
    {
     "data": {
      "text/plain": [
       "array([9, 8])"
      ]
     },
     "execution_count": 69,
     "metadata": {},
     "output_type": "execute_result"
    }
   ],
   "source": [
    "b = np.array([9, 8])\n",
    "b"
   ]
  },
  {
   "cell_type": "code",
   "execution_count": 70,
   "metadata": {
    "Collapsed": "false"
   },
   "outputs": [
    {
     "data": {
      "text/plain": [
       "array([2., 3.])"
      ]
     },
     "execution_count": 70,
     "metadata": {},
     "output_type": "execute_result"
    }
   ],
   "source": [
    "x = np.linalg.solve(a, b)\n",
    "x"
   ]
  },
  {
   "cell_type": "markdown",
   "metadata": {
    "Collapsed": "false"
   },
   "source": [
    "Then we can check the solution where $x_0 = 2$ and $x_1 = 3$\n",
    "\n",
    "$$\n",
    "{\\displaystyle{\\begin{pmatrix}3&1\\\\1&2\\end{pmatrix}}{\\begin{pmatrix}2\\\\3\\end{pmatrix}} = {\\begin{pmatrix}9\\\\8\\end{pmatrix}}}\n",
    "$$\n",
    "\n",
    "$$\n",
    "3(2) + 1(3) =? 9\\\\\n",
    "1(2) + 2(3) =? 8\n",
    "$$\n",
    "\n",
    "Looks good to me!"
   ]
  },
  {
   "cell_type": "code",
   "execution_count": 71,
   "metadata": {
    "Collapsed": "false"
   },
   "outputs": [
    {
     "data": {
      "text/plain": [
       "True"
      ]
     },
     "execution_count": 71,
     "metadata": {},
     "output_type": "execute_result"
    }
   ],
   "source": [
    "np.allclose(np.dot(a, x), b)"
   ]
  },
  {
   "cell_type": "code",
   "execution_count": null,
   "metadata": {
    "Collapsed": "false"
   },
   "outputs": [],
   "source": []
  },
  {
   "cell_type": "markdown",
   "metadata": {
    "Collapsed": "false"
   },
   "source": [
    "$Ax + ? = b$\n",
    "\n",
    "Where $A$, $x$ and $b$ are as follows\n",
    "\n",
    "$$\n",
    "{\\displaystyle A ={\\begin{pmatrix}-2&1&3\\\\1&3&2\\\\3&8&1\\end{pmatrix}}}\n",
    "$$\n",
    "\n",
    "$$\n",
    "{\\displaystyle x ={\\begin{pmatrix}-2\\\\2\\\\1\\end{pmatrix}}}\n",
    "$$\n",
    "\n",
    "$$\n",
    "{\\displaystyle b ={\\begin{pmatrix}1\\\\4\\\\2\\end{pmatrix}}}\n",
    "$$"
   ]
  },
  {
   "cell_type": "code",
   "execution_count": 109,
   "metadata": {
    "Collapsed": "false"
   },
   "outputs": [
    {
     "data": {
      "text/plain": [
       "array([[-2,  1,  3],\n",
       "       [ 1,  3,  2],\n",
       "       [ 3,  8,  1]])"
      ]
     },
     "execution_count": 109,
     "metadata": {},
     "output_type": "execute_result"
    }
   ],
   "source": [
    "A = np.array([[-2, 1, 3],\n",
    "              [1, 3, 2],\n",
    "              [3, 8, 1]])\n",
    "A"
   ]
  },
  {
   "cell_type": "code",
   "execution_count": 110,
   "metadata": {
    "Collapsed": "false"
   },
   "outputs": [
    {
     "data": {
      "text/plain": [
       "array([-2,  2,  1])"
      ]
     },
     "execution_count": 110,
     "metadata": {},
     "output_type": "execute_result"
    }
   ],
   "source": [
    "x = np.array([-2, 2, 1])\n",
    "x"
   ]
  },
  {
   "cell_type": "code",
   "execution_count": 113,
   "metadata": {
    "Collapsed": "false"
   },
   "outputs": [
    {
     "data": {
      "text/plain": [
       "array([1, 4, 2])"
      ]
     },
     "execution_count": 113,
     "metadata": {},
     "output_type": "execute_result"
    }
   ],
   "source": [
    "b = np.array([1, 4, 2])\n",
    "b"
   ]
  },
  {
   "cell_type": "markdown",
   "metadata": {
    "Collapsed": "false"
   },
   "source": [
    "We can rearrange the equation to solve for the unknown $? = b - Ax$ then write our matrices out\n",
    "\n",
    "$$\n",
    "{\\displaystyle ? = b - Ax}\n",
    "$$\n",
    "\n",
    "$$\n",
    "{\\displaystyle ? = {\\begin{pmatrix}1\\\\4\\\\2\\end{pmatrix}} - {\\begin{pmatrix}-2&1&3\\\\1&3&2\\\\3&8&1\\end{pmatrix}}{\\begin{pmatrix}-2\\\\2\\\\1\\end{pmatrix}}}\n",
    "$$\n",
    "\n",
    "$$\n",
    "{\\displaystyle ? = {\\begin{pmatrix}1\\\\4\\\\2\\end{pmatrix}} - {\\begin{pmatrix}-2(-2)+1(2)+3(1)\\\\1(-2)+3(2)+2(1)\\\\3(-2)+8(2)+1(1)\\end{pmatrix}}}\n",
    "$$\n",
    "\n",
    "$$\n",
    "{\\displaystyle ? = {\\begin{pmatrix}1\\\\4\\\\2\\end{pmatrix}} - {\\begin{pmatrix}4+2+3\\\\-2+6+2\\\\-6+16+1\\end{pmatrix}}}\n",
    "$$\n",
    "\n",
    "$$\n",
    "{\\displaystyle ? = {\\begin{pmatrix}1\\\\4\\\\2\\end{pmatrix}} - {\\begin{pmatrix}9\\\\6\\\\11\\end{pmatrix}}}\n",
    "$$\n",
    "\n",
    "$$\n",
    "{\\displaystyle ? = {\\begin{pmatrix}1-9\\\\4-6\\\\2-11\\end{pmatrix}}}\n",
    "$$\n",
    "\n",
    "$$\n",
    "{\\displaystyle ? = {\\begin{pmatrix}-8\\\\-2\\\\-9\\end{pmatrix}}}\n",
    "$$"
   ]
  },
  {
   "cell_type": "code",
   "execution_count": 117,
   "metadata": {
    "Collapsed": "false"
   },
   "outputs": [
    {
     "data": {
      "text/plain": [
       "array([[ 4,  2,  3],\n",
       "       [-2,  6,  2],\n",
       "       [-6, 16,  1]])"
      ]
     },
     "execution_count": 117,
     "metadata": {},
     "output_type": "execute_result"
    }
   ],
   "source": [
    "Ax = A*x\n",
    "Ax"
   ]
  },
  {
   "cell_type": "code",
   "execution_count": 115,
   "metadata": {
    "Collapsed": "false"
   },
   "outputs": [
    {
     "data": {
      "text/plain": [
       "array([[ -3,   2,  -1],\n",
       "       [  3,  -2,   0],\n",
       "       [  7, -12,   1]])"
      ]
     },
     "execution_count": 115,
     "metadata": {},
     "output_type": "execute_result"
    }
   ],
   "source": [
    "b-A*x"
   ]
  },
  {
   "cell_type": "markdown",
   "metadata": {
    "Collapsed": "true",
    "heading_collapsed": true
   },
   "source": [
    "## Additional Resources"
   ]
  },
  {
   "cell_type": "markdown",
   "metadata": {
    "Collapsed": "false"
   },
   "source": [
    "[Linear Algebra Playlist (by 1blue3brown)](https://www.youtube.com/playlist?list=PLZHQObOWTQDPD3MizzM2xVFitgF8hE_ab)\n",
    "\n",
    "[Understanding Linearity and Linear Transformations (by Khan Academy)](https://www.khanacademy.org/math/linear-algebra/matrix-transformations/linear-transformations/a/visualizing-linear-transformations)\n",
    "\n",
    "[Numerical Linear Algebra (by Rachel Thomas, Fastai)](https://nbviewer.jupyter.org/github/fastai/numerical-linear-algebra/tree/master/)"
   ]
  },
  {
   "cell_type": "code",
   "execution_count": null,
   "metadata": {
    "Collapsed": "false"
   },
   "outputs": [],
   "source": []
  }
 ],
 "metadata": {
  "kernelspec": {
   "display_name": "Python 3",
   "language": "python",
   "name": "python3"
  },
  "language_info": {
   "codemirror_mode": {
    "name": "ipython",
    "version": 3
   },
   "file_extension": ".py",
   "mimetype": "text/x-python",
   "name": "python",
   "nbconvert_exporter": "python",
   "pygments_lexer": "ipython3",
   "version": "3.7.5"
  },
  "latex_envs": {
   "LaTeX_envs_menu_present": true,
   "autoclose": false,
   "autocomplete": true,
   "bibliofile": "biblio.bib",
   "cite_by": "apalike",
   "current_citInitial": 1,
   "eqLabelWithNumbers": true,
   "eqNumInitial": 1,
   "hotkeys": {
    "equation": "Ctrl-E",
    "itemize": "Ctrl-I"
   },
   "labels_anchors": false,
   "latex_user_defs": false,
   "report_style_numbering": false,
   "user_envs_cfg": false
  }
 },
 "nbformat": 4,
 "nbformat_minor": 4
}
