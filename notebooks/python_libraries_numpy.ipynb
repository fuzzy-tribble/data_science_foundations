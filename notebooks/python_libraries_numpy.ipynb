{
 "cells": [
  {
   "cell_type": "markdown",
   "metadata": {
    "Collapsed": "true"
   },
   "source": [
    "# Python Libraries for Data Science - `numpy`\n",
    "\n",
    "**Purpose:** The purpose of this workbook is to help you get comfortable with the topics outlined below.\n",
    "\n",
    "**Prereqs**\n",
    "* Python Fundamentals Workbook or a good grasp of basic Python\n",
    "    \n",
    "**Recomended Usage**\n",
    "* Run each of the cells (Shift+Enter) and edit them as necessary to solidify your understanding\n",
    "* Do any of the exercises that are relevant to helping you understand the material\n",
    "\n",
    "**Topics Covered**\n",
    "* Numpy - creation and manipulation of multidimensional data"
   ]
  },
  {
   "cell_type": "markdown",
   "metadata": {
    "Collapsed": "true"
   },
   "source": [
    "# Workbook Setup"
   ]
  },
  {
   "cell_type": "code",
   "execution_count": 2,
   "metadata": {
    "Collapsed": "false"
   },
   "outputs": [],
   "source": [
    "# Reload all modules before executing a new line\n",
    "%load_ext autoreload\n",
    "%autoreload 2\n",
    "\n",
    "# Abide by PEP8 code style\n",
    "%load_ext pycodestyle_magic\n",
    "%pycodestyle_on"
   ]
  },
  {
   "cell_type": "code",
   "execution_count": 3,
   "metadata": {
    "Collapsed": "false"
   },
   "outputs": [],
   "source": [
    "import numpy as np"
   ]
  },
  {
   "cell_type": "code",
   "execution_count": 4,
   "metadata": {
    "Collapsed": "false"
   },
   "outputs": [],
   "source": [
    "# If numpy didn't import properly above you many need install using pip\n",
    "# !pip install numpy"
   ]
  },
  {
   "cell_type": "markdown",
   "metadata": {
    "Collapsed": "false"
   },
   "source": [
    "Some additional helper functions"
   ]
  },
  {
   "cell_type": "code",
   "execution_count": 5,
   "metadata": {
    "Collapsed": "false"
   },
   "outputs": [],
   "source": [
    "def print_a(a):\n",
    "    print('Dim: {}, Shape: {}\\n{}'.format(a.ndim, a.shape, a))"
   ]
  },
  {
   "cell_type": "markdown",
   "metadata": {
    "Collapsed": "true",
    "heading_collapsed": true
   },
   "source": [
    "# [`numpy`](https://docs.scipy.org/doc/numpy/reference/)\n",
    "\n",
    "`numpy` (numerical Python) is a widely used library for multi-dimensional data representation and manipulation.\n",
    "\n",
    "[Numpy Cheatsheet (pdf)](https://s3.amazonaws.com/assets.datacamp.com/blog_assets/Numpy_Python_Cheat_Sheet.pdf)\n",
    "\n",
    "[Numpy Docs](https://docs.scipy.org/doc/numpy/reference/)"
   ]
  },
  {
   "cell_type": "markdown",
   "metadata": {
    "Collapsed": "true",
    "heading_collapsed": true,
    "hidden": true
   },
   "source": [
    "## Creating Arrays\n",
    "\n",
    "Creating numpy arrays can be done from Python lists or they can be initialized with a variety of other placeholders like random numbers, ones, zeros, etc."
   ]
  },
  {
   "cell_type": "markdown",
   "metadata": {
    "Collapsed": "true"
   },
   "source": [
    "#### Create arrays from lists\n",
    "\n",
    "```python\n",
    "np.array()\n",
    "```"
   ]
  },
  {
   "cell_type": "code",
   "execution_count": 6,
   "metadata": {
    "Collapsed": "false",
    "hidden": true
   },
   "outputs": [
    {
     "name": "stdout",
     "output_type": "stream",
     "text": [
      "Dim: 1, Shape: (3,)\n",
      "[1 2 3]\n"
     ]
    }
   ],
   "source": [
    "# Create a 1D array\n",
    "a = np.array([1, 2, 3])\n",
    "print_a(a)"
   ]
  },
  {
   "cell_type": "code",
   "execution_count": 7,
   "metadata": {
    "Collapsed": "false",
    "hidden": true
   },
   "outputs": [
    {
     "name": "stdout",
     "output_type": "stream",
     "text": [
      "Dim: 2, Shape: (2, 3)\n",
      "[[1.5 2.  3. ]\n",
      " [4.  5.  6. ]]\n"
     ]
    }
   ],
   "source": [
    "# Create 2D array with specific data type\n",
    "b = np.array([(1.5, 2, 3), (4, 5, 6)], dtype=float)\n",
    "print_a(b)"
   ]
  },
  {
   "cell_type": "code",
   "execution_count": 8,
   "metadata": {
    "Collapsed": "false",
    "hidden": true
   },
   "outputs": [
    {
     "name": "stdout",
     "output_type": "stream",
     "text": [
      "Dim: 3, Shape: (2, 2, 3)\n",
      "[[[1.5 2.  3. ]\n",
      "  [4.  5.  6. ]]\n",
      "\n",
      " [[3.  2.  1. ]\n",
      "  [4.  5.  6. ]]]\n"
     ]
    }
   ],
   "source": [
    "# Create 3D array\n",
    "c = np.array([[(1.5, 2, 3), (4, 5, 6)], [(3, 2, 1), (4, 5, 6)]], dtype=float)\n",
    "print_a(c)"
   ]
  },
  {
   "cell_type": "markdown",
   "metadata": {
    "Collapsed": "true"
   },
   "source": [
    "#### Create arrays of constant numbers\n",
    "\n",
    "```python\n",
    "np.zeros()\n",
    "np.ones()\n",
    "np.full()\n",
    "```"
   ]
  },
  {
   "cell_type": "code",
   "execution_count": 9,
   "metadata": {
    "Collapsed": "false",
    "hidden": true
   },
   "outputs": [
    {
     "name": "stdout",
     "output_type": "stream",
     "text": [
      "Dim: 2, Shape: (3, 4)\n",
      "[[0. 0. 0. 0.]\n",
      " [0. 0. 0. 0.]\n",
      " [0. 0. 0. 0.]]\n"
     ]
    }
   ],
   "source": [
    "# Create an array of zeros with shape 3 by 4\n",
    "a = np.zeros((3, 4))\n",
    "print_a(a)"
   ]
  },
  {
   "cell_type": "code",
   "execution_count": 10,
   "metadata": {
    "Collapsed": "false",
    "hidden": true
   },
   "outputs": [
    {
     "name": "stdout",
     "output_type": "stream",
     "text": [
      "Dim: 3, Shape: (2, 3, 4)\n",
      "[[[1 1 1 1]\n",
      "  [1 1 1 1]\n",
      "  [1 1 1 1]]\n",
      "\n",
      " [[1 1 1 1]\n",
      "  [1 1 1 1]\n",
      "  [1 1 1 1]]]\n"
     ]
    }
   ],
   "source": [
    "# Create an array of ones with shape 2 x 3 x 4\n",
    "a = np.ones((2, 3, 4), dtype=np.int16)\n",
    "print_a(a)"
   ]
  },
  {
   "cell_type": "markdown",
   "metadata": {
    "Collapsed": "false"
   },
   "source": [
    "*Note: You can specify type using the `dtype` parameter.*"
   ]
  },
  {
   "cell_type": "code",
   "execution_count": 11,
   "metadata": {
    "Collapsed": "false",
    "hidden": true
   },
   "outputs": [
    {
     "name": "stdout",
     "output_type": "stream",
     "text": [
      "Dim: 2, Shape: (2, 2)\n",
      "[[7 7]\n",
      " [7 7]]\n"
     ]
    }
   ],
   "source": [
    "# Create a 2 by 2 array full of 7s\n",
    "e = np.full((2, 2), 7)\n",
    "print_a(e)"
   ]
  },
  {
   "cell_type": "markdown",
   "metadata": {
    "Collapsed": "true"
   },
   "source": [
    "#### Create arrays of random numbers\n",
    "\n",
    "```python\n",
    "np.random.random() / np.random.rand() / np.random.random_sample\n",
    "```"
   ]
  },
  {
   "cell_type": "markdown",
   "metadata": {
    "Collapsed": "false"
   },
   "source": [
    "*Note: The only difference between `np.random.random()`, `np.random.rand()` and `np.random.random_sample()` is the way the arguments are entered. They all generate samples from the uniform distribution on [0, 1)*"
   ]
  },
  {
   "cell_type": "code",
   "execution_count": 12,
   "metadata": {
    "Collapsed": "false"
   },
   "outputs": [
    {
     "name": "stdout",
     "output_type": "stream",
     "text": [
      "Dim: 2, Shape: (2, 2)\n",
      "[[0.60636712 0.01010477]\n",
      " [0.81729635 0.58690919]]\n"
     ]
    }
   ],
   "source": [
    "# Create an array of random floats shape: 2x2; interval [0.0, 1.0)\n",
    "a = np.random.random((2, 2))\n",
    "print_a(a)"
   ]
  },
  {
   "cell_type": "code",
   "execution_count": 13,
   "metadata": {
    "Collapsed": "false"
   },
   "outputs": [
    {
     "name": "stdout",
     "output_type": "stream",
     "text": [
      "Dim: 1, Shape: (12,)\n",
      "[ 0  0 -2  1  0 -3  2 -3  1 -2  1  1]\n"
     ]
    }
   ],
   "source": [
    "# Create an array with random ints of len 12 from -3 to 3\n",
    "a = np.random.randint(-3, 3, size=12)\n",
    "print_a(a)"
   ]
  },
  {
   "cell_type": "markdown",
   "metadata": {
    "Collapsed": "false"
   },
   "source": [
    "When you need to generate a random sample of numbers to fill a matrix you will likely have specific requirements in which case you can consult the documentation regarding which random function to use as there are many ways of generating specific types of random numbers over varying distrubutions."
   ]
  },
  {
   "cell_type": "markdown",
   "metadata": {
    "Collapsed": "true"
   },
   "source": [
    "#### Create empty arrays\n",
    "```python\n",
    "np.empty()\n",
    "```"
   ]
  },
  {
   "cell_type": "code",
   "execution_count": 14,
   "metadata": {
    "Collapsed": "false",
    "hidden": true
   },
   "outputs": [
    {
     "data": {
      "text/plain": [
       "array([[1.39069238e-309, 1.39069238e-309],\n",
       "       [1.39069238e-309, 1.39069238e-309],\n",
       "       [1.39069238e-309, 1.39069238e-309]])"
      ]
     },
     "execution_count": 14,
     "metadata": {},
     "output_type": "execute_result"
    }
   ],
   "source": [
    "# Create an empty array (uninitialized so whatever is in mem loc already stays)\n",
    "np.empty((3, 2))"
   ]
  },
  {
   "cell_type": "markdown",
   "metadata": {
    "Collapsed": "false"
   },
   "source": [
    "*Note: Be careful to note that this doesn't set all array values to 0 but rather keeps whatever was already in memory there. This may be useful if you have a very time sensitive application but be sure to not get confused with the values that may already be there.*"
   ]
  },
  {
   "cell_type": "markdown",
   "metadata": {
    "Collapsed": "true"
   },
   "source": [
    "#### Create evenly spaced arrays\n",
    "\n",
    "```python\n",
    "np.arange()  # start, stop, step\n",
    "np.linspace()  # start, stop, num quantities\n",
    "```"
   ]
  },
  {
   "cell_type": "markdown",
   "metadata": {
    "Collapsed": "false"
   },
   "source": [
    "Whats the difference?\n",
    "* `arange` gives you control over STEP SIZE\n",
    "* `linspace` gives you control over NUM OF SAMPLES you get"
   ]
  },
  {
   "cell_type": "code",
   "execution_count": 15,
   "metadata": {
    "Collapsed": "false",
    "hidden": true
   },
   "outputs": [
    {
     "name": "stdout",
     "output_type": "stream",
     "text": [
      "Dim: 1, Shape: (3,)\n",
      "[10 15 20]\n"
     ]
    }
   ],
   "source": [
    "# Create an array of evenly spaced values (step value)\n",
    "# from 10 to 25 in steps of 5\n",
    "d = np.arange(10, 25, 5)\n",
    "print_a(d)"
   ]
  },
  {
   "cell_type": "code",
   "execution_count": 16,
   "metadata": {
    "Collapsed": "false",
    "hidden": true
   },
   "outputs": [
    {
     "name": "stdout",
     "output_type": "stream",
     "text": [
      "Dim: 1, Shape: (9,)\n",
      "[0.   0.25 0.5  0.75 1.   1.25 1.5  1.75 2.  ]\n"
     ]
    }
   ],
   "source": [
    "# Create an array of evenly spaced values (number of samples)\n",
    "# 9 numbers from 0 to 2\n",
    "print_a(np.linspace(0, 2, 9))"
   ]
  },
  {
   "cell_type": "markdown",
   "metadata": {
    "Collapsed": "true"
   },
   "source": [
    "#### Create an identity matrix\n",
    "\n",
    "```python\n",
    "np.eye()\n",
    "```"
   ]
  },
  {
   "cell_type": "markdown",
   "metadata": {
    "Collapsed": "false"
   },
   "source": [
    "*Note: Identity matrices are useful for many applications in linear algebra, therefore creating identity matrices using this function is very common in data science. We'll learn more about this in the linear algebra workbooks later. For now, just note that identity matrices have 1s along the diagonal and 0s everywhere else.*"
   ]
  },
  {
   "cell_type": "code",
   "execution_count": 18,
   "metadata": {
    "Collapsed": "false",
    "hidden": true
   },
   "outputs": [
    {
     "name": "stdout",
     "output_type": "stream",
     "text": [
      "Dim: 2, Shape: (10, 10)\n",
      "[[1. 0. 0. 0. 0. 0. 0. 0. 0. 0.]\n",
      " [0. 1. 0. 0. 0. 0. 0. 0. 0. 0.]\n",
      " [0. 0. 1. 0. 0. 0. 0. 0. 0. 0.]\n",
      " [0. 0. 0. 1. 0. 0. 0. 0. 0. 0.]\n",
      " [0. 0. 0. 0. 1. 0. 0. 0. 0. 0.]\n",
      " [0. 0. 0. 0. 0. 1. 0. 0. 0. 0.]\n",
      " [0. 0. 0. 0. 0. 0. 1. 0. 0. 0.]\n",
      " [0. 0. 0. 0. 0. 0. 0. 1. 0. 0.]\n",
      " [0. 0. 0. 0. 0. 0. 0. 0. 1. 0.]\n",
      " [0. 0. 0. 0. 0. 0. 0. 0. 0. 1.]]\n"
     ]
    }
   ],
   "source": [
    "# Create a 10X10 identity matrix; diagonal of 1s\n",
    "f = np.eye(10)\n",
    "print_a(f)"
   ]
  },
  {
   "cell_type": "markdown",
   "metadata": {
    "Collapsed": "true"
   },
   "source": [
    "#### Create a mesh grid\n",
    "\n",
    "```python\n",
    "np.mgrid()\n",
    "```"
   ]
  },
  {
   "cell_type": "markdown",
   "metadata": {
    "Collapsed": "false"
   },
   "source": [
    "Meshgrids create a rectangular grid out of two one-dimensional arrays representing the Cartesian axis. The way they are represented can be useful but also quite confusing. Read the the examples below and make sure you understand how to create a grid and access specific datapoint locations."
   ]
  },
  {
   "cell_type": "code",
   "execution_count": 24,
   "metadata": {
    "Collapsed": "false"
   },
   "outputs": [],
   "source": [
    "# import matplotlib for a quick visual example\n",
    "import matplotlib\n",
    "import matplotlib.pyplot as plt"
   ]
  },
  {
   "cell_type": "markdown",
   "metadata": {
    "Collapsed": "false"
   },
   "source": [
    "In the grid example shown below you can see that `xs` represents the x-values of points parallel to the x-axis. Similarly, the `ys` represents the y-values of points parallel to the y-axis.\n",
    "\n",
    "```python\n",
    "# xs is a 3x4 array of x values\n",
    "xs = 0 0 0 0\n",
    "     1 1 1 1\n",
    "     2 2 2 2\n",
    "\n",
    "# ys is a 3x4 array of y values\n",
    "ys = 0 1 2 3\n",
    "     0 1 2 3\n",
    "     0 1 2 3\n",
    "```\n",
    "\n",
    "To make a 3x4 grid, we need 12 points total. Each point will have an x coordinate and a y coordinate.\n",
    "\n",
    "To access the x and y value coordinates together we simply place the xs and ys right on top each other so they line up then we can see for point 0, 0 we have x value 0 and y value 0, etc.\n",
    "\n",
    "```\n",
    "xs_and_ys_together = 00 01 02 03\n",
    "                     10 11 12 13\n",
    "                     20 21 22 23\n",
    "```"
   ]
  },
  {
   "cell_type": "code",
   "execution_count": 66,
   "metadata": {
    "Collapsed": "false"
   },
   "outputs": [
    {
     "name": "stdout",
     "output_type": "stream",
     "text": [
      "X-Axis values are 0, 1, 2 repeated 4 times (once for each y value)\n",
      "Dim: 2, Shape: (3, 4)\n",
      "[[0 0 0 0]\n",
      " [1 1 1 1]\n",
      " [2 2 2 2]]\n",
      "Y-Axis values are 0, 1, 2, 3 repeated 3 times (once for each x value)\n",
      "Dim: 2, Shape: (3, 4)\n",
      "[[0 1 2 3]\n",
      " [0 1 2 3]\n",
      " [0 1 2 3]]\n"
     ]
    }
   ],
   "source": [
    "xs, ys = np.mgrid[0:3, 0:4]\n",
    "\n",
    "print(\"X-Axis values are 0, 1, 2 repeated 4 times (once for each y value)\")\n",
    "print_a(xs)\n",
    "\n",
    "print(\"Y-Axis values are 0, 1, 2, 3 repeated 3 times (once for each x value)\")\n",
    "print_a(ys)"
   ]
  },
  {
   "cell_type": "markdown",
   "metadata": {
    "Collapsed": "false"
   },
   "source": [
    "*Note: Sometimes this can look a little wierd because you are thinking in terms of lines parallel to the x or y axis you will have to read the xs downwards while the ys you read across.*\n",
    "\n",
    "We can see the meshgrid visually if we plot the points for the xs and ys on a grid. Again, where the `xs` show the x values for each y and the `ys` show the y values for each x."
   ]
  },
  {
   "cell_type": "code",
   "execution_count": 50,
   "metadata": {
    "Collapsed": "false"
   },
   "outputs": [
    {
     "data": {
      "text/plain": [
       "[<matplotlib.lines.Line2D at 0x1196c3290>,\n",
       " <matplotlib.lines.Line2D at 0x1196c3d50>,\n",
       " <matplotlib.lines.Line2D at 0x1196c3390>,\n",
       " <matplotlib.lines.Line2D at 0x1196c3050>]"
      ]
     },
     "execution_count": 50,
     "metadata": {},
     "output_type": "execute_result"
    },
    {
     "data": {
      "image/png": "[encoded data removed]",
      "text/plain": [
       "<Figure size 432x288 with 1 Axes>"
      ]
     },
     "metadata": {
      "needs_background": "light"
     },
     "output_type": "display_data"
    }
   ],
   "source": [
    "plt.plot(xs, ys, marker='.', color='k', linestyle='none')"
   ]
  },
  {
   "cell_type": "markdown",
   "metadata": {
    "Collapsed": "false"
   },
   "source": [
    "Then, if we want to access specific x, y value pairs for example point (2, 1) we can do it like this"
   ]
  },
  {
   "cell_type": "code",
   "execution_count": 68,
   "metadata": {
    "Collapsed": "false"
   },
   "outputs": [
    {
     "name": "stdout",
     "output_type": "stream",
     "text": [
      "2 1\n"
     ]
    }
   ],
   "source": [
    "x_coord = 2\n",
    "y_coord = 1\n",
    "\n",
    "print(xs[x_coord][y_coord], ys[x_coord][y_coord])"
   ]
  },
  {
   "cell_type": "markdown",
   "metadata": {
    "Collapsed": "false"
   },
   "source": [
    "When you are sure you understand the meshgrid example above. Checkout a few more examples below"
   ]
  },
  {
   "cell_type": "code",
   "execution_count": 71,
   "metadata": {
    "Collapsed": "false"
   },
   "outputs": [
    {
     "name": "stdout",
     "output_type": "stream",
     "text": [
      "Dim: 2, Shape: (9, 11)\n",
      "[[-4 -4 -4 -4 -4 -4 -4 -4 -4 -4 -4]\n",
      " [-3 -3 -3 -3 -3 -3 -3 -3 -3 -3 -3]\n",
      " [-2 -2 -2 -2 -2 -2 -2 -2 -2 -2 -2]\n",
      " [-1 -1 -1 -1 -1 -1 -1 -1 -1 -1 -1]\n",
      " [ 0  0  0  0  0  0  0  0  0  0  0]\n",
      " [ 1  1  1  1  1  1  1  1  1  1  1]\n",
      " [ 2  2  2  2  2  2  2  2  2  2  2]\n",
      " [ 3  3  3  3  3  3  3  3  3  3  3]\n",
      " [ 4  4  4  4  4  4  4  4  4  4  4]]\n",
      "Dim: 2, Shape: (9, 11)\n",
      "[[-5 -4 -3 -2 -1  0  1  2  3  4  5]\n",
      " [-5 -4 -3 -2 -1  0  1  2  3  4  5]\n",
      " [-5 -4 -3 -2 -1  0  1  2  3  4  5]\n",
      " [-5 -4 -3 -2 -1  0  1  2  3  4  5]\n",
      " [-5 -4 -3 -2 -1  0  1  2  3  4  5]\n",
      " [-5 -4 -3 -2 -1  0  1  2  3  4  5]\n",
      " [-5 -4 -3 -2 -1  0  1  2  3  4  5]\n",
      " [-5 -4 -3 -2 -1  0  1  2  3  4  5]\n",
      " [-5 -4 -3 -2 -1  0  1  2  3  4  5]]\n"
     ]
    }
   ],
   "source": [
    "# Create a 4x4 rectangular mesh grid\n",
    "xs, ys = np.mgrid[-4:5, -5:6]\n",
    "print_a(xs)\n",
    "print_a(ys)"
   ]
  },
  {
   "cell_type": "markdown",
   "metadata": {
    "Collapsed": "false"
   },
   "source": [
    "Again, we can index the values in the grid as we would using cartesian coordinates."
   ]
  },
  {
   "cell_type": "code",
   "execution_count": 72,
   "metadata": {
    "Collapsed": "false"
   },
   "outputs": [
    {
     "name": "stdout",
     "output_type": "stream",
     "text": [
      "-1 4\n"
     ]
    }
   ],
   "source": [
    "# We can see all of the y-values at x = 0 along the gridspace\n",
    "x_coord = 3\n",
    "y_coord = -2\n",
    "\n",
    "print(xs[x_coord][y_coord], ys[x_coord][y_coord])"
   ]
  },
  {
   "cell_type": "markdown",
   "metadata": {
    "Collapsed": "false"
   },
   "source": [
    "Sometimes also useful is to use the imaginary number parameter which tells the meshgrid function how many numbers you want between the two values."
   ]
  },
  {
   "cell_type": "code",
   "execution_count": 73,
   "metadata": {
    "Collapsed": "false"
   },
   "outputs": [
    {
     "name": "stdout",
     "output_type": "stream",
     "text": [
      "Dim: 1, Shape: (5,)\n",
      "[-1.  -0.5  0.   0.5  1. ]\n"
     ]
    }
   ],
   "source": [
    "# Create a meshgrid from -1 to 1 with 5 numbers\n",
    "xs = np.mgrid[-1:1:5j]\n",
    "print_a(xs)"
   ]
  },
  {
   "cell_type": "markdown",
   "metadata": {
    "Collapsed": "false"
   },
   "source": [
    "*Note: Numpy's meshgrid function is going to become very useful later when we use matplotlib for plotting. We'll come back to it in the matplotlib workbook next but for now just make sure you understand how to create a custom rectangular grid of different shapes.*"
   ]
  },
  {
   "cell_type": "markdown",
   "metadata": {
    "Collapsed": "true",
    "heading_collapsed": true,
    "hidden": true
   },
   "source": [
    "## Inspecting Your Array\n",
    "\n",
    "```python\n",
    "my_array.shape  # array shape\n",
    "my_array.ndim  # num dimensions\n",
    "my_array.size  # num elements\n",
    "len(my_array)  # array length\n",
    "my_array.astype(int)  # convert type\n",
    "```"
   ]
  },
  {
   "cell_type": "code",
   "execution_count": 79,
   "metadata": {
    "Collapsed": "false",
    "hidden": true
   },
   "outputs": [
    {
     "name": "stdout",
     "output_type": "stream",
     "text": [
      "[ 0  0 -2  1  0 -3  2 -3  1 -2  1  1]\n"
     ]
    },
    {
     "data": {
      "text/plain": [
       "(12,)"
      ]
     },
     "execution_count": 79,
     "metadata": {},
     "output_type": "execute_result"
    }
   ],
   "source": [
    "print(a)\n",
    "a.shape  # row by column shape"
   ]
  },
  {
   "cell_type": "code",
   "execution_count": 80,
   "metadata": {
    "Collapsed": "false",
    "hidden": true
   },
   "outputs": [
    {
     "data": {
      "text/plain": [
       "12"
      ]
     },
     "execution_count": 80,
     "metadata": {},
     "output_type": "execute_result"
    }
   ],
   "source": [
    "# Length of array\n",
    "len(a)"
   ]
  },
  {
   "cell_type": "code",
   "execution_count": 82,
   "metadata": {
    "Collapsed": "false"
   },
   "outputs": [
    {
     "data": {
      "text/plain": [
       "array([[1.5, 2. , 3. ],\n",
       "       [4. , 5. , 6. ]])"
      ]
     },
     "execution_count": 82,
     "metadata": {},
     "output_type": "execute_result"
    }
   ],
   "source": [
    "b"
   ]
  },
  {
   "cell_type": "code",
   "execution_count": 83,
   "metadata": {
    "Collapsed": "false",
    "hidden": true
   },
   "outputs": [
    {
     "data": {
      "text/plain": [
       "2"
      ]
     },
     "execution_count": 83,
     "metadata": {},
     "output_type": "execute_result"
    }
   ],
   "source": [
    "b.ndim  # Number of array dimensions"
   ]
  },
  {
   "cell_type": "code",
   "execution_count": 84,
   "metadata": {
    "Collapsed": "false"
   },
   "outputs": [
    {
     "data": {
      "text/plain": [
       "array([[7, 7],\n",
       "       [7, 7]])"
      ]
     },
     "execution_count": 84,
     "metadata": {},
     "output_type": "execute_result"
    }
   ],
   "source": [
    "e"
   ]
  },
  {
   "cell_type": "code",
   "execution_count": 85,
   "metadata": {
    "Collapsed": "false",
    "hidden": true
   },
   "outputs": [
    {
     "data": {
      "text/plain": [
       "4"
      ]
     },
     "execution_count": 85,
     "metadata": {},
     "output_type": "execute_result"
    }
   ],
   "source": [
    "e.size  # Number of array elements"
   ]
  },
  {
   "cell_type": "code",
   "execution_count": 86,
   "metadata": {
    "Collapsed": "false",
    "hidden": true
   },
   "outputs": [
    {
     "data": {
      "text/plain": [
       "dtype('float64')"
      ]
     },
     "execution_count": 86,
     "metadata": {},
     "output_type": "execute_result"
    }
   ],
   "source": [
    "b.dtype  # Data type of array elements"
   ]
  },
  {
   "cell_type": "code",
   "execution_count": 87,
   "metadata": {
    "Collapsed": "false",
    "hidden": true
   },
   "outputs": [
    {
     "data": {
      "text/plain": [
       "'float64'"
      ]
     },
     "execution_count": 87,
     "metadata": {},
     "output_type": "execute_result"
    }
   ],
   "source": [
    "b.dtype.name  # Name of data type"
   ]
  },
  {
   "cell_type": "code",
   "execution_count": 88,
   "metadata": {
    "Collapsed": "false",
    "hidden": true
   },
   "outputs": [
    {
     "data": {
      "text/plain": [
       "array([[1, 2, 3],\n",
       "       [4, 5, 6]])"
      ]
     },
     "execution_count": 88,
     "metadata": {},
     "output_type": "execute_result"
    }
   ],
   "source": [
    "b.astype(int)  # Convert an array to a different type"
   ]
  },
  {
   "cell_type": "markdown",
   "metadata": {
    "Collapsed": "true",
    "heading_collapsed": true,
    "hidden": true
   },
   "source": [
    "## Array Mathematics"
   ]
  },
  {
   "cell_type": "markdown",
   "metadata": {
    "Collapsed": "true",
    "heading_collapsed": true,
    "hidden": true
   },
   "source": [
    "### Arithmetic Ops\n",
    "\n",
    "There is a feature of numpy called **broadcasting**. It allows mathematical array operations to be performed very quickly."
   ]
  },
  {
   "cell_type": "markdown",
   "metadata": {
    "Collapsed": "false"
   },
   "source": [
    "Broadcasting happens automatically and is generally the fastest approach but you need to be cognizant of what its doing so you don't make mistakes when performing operations on your data. \n",
    "\n",
    "Broadcasting Rules (examples follow below)\n",
    "\n",
    "* All input arrays with ndim smaller than the input array of largest ndim, have 1’s prepended to their shapes.\n",
    "\n",
    "* The size in each dimension of the output shape is the maximum of all the input sizes in that dimension.\n",
    "\n",
    "* An input can be used in the calculation if its size in a particular dimension either matches the output size in that dimension, or has value exactly 1.\n",
    "\n",
    "I think its a lot easier to see what its doing by example...lets define some new arrays and see how broadcasting works."
   ]
  },
  {
   "cell_type": "code",
   "execution_count": 89,
   "metadata": {
    "Collapsed": "false"
   },
   "outputs": [
    {
     "name": "stdout",
     "output_type": "stream",
     "text": [
      "Dim: 1, Shape: (3,)\n",
      "[1 2 3]\n",
      "Dim: 2, Shape: (2, 3)\n",
      "[[1.5 2.  3. ]\n",
      " [4.  5.  6. ]]\n"
     ]
    }
   ],
   "source": [
    "a = np.array([1, 2, 3])\n",
    "b = np.array([[1.5, 2.,  3.], [4.,  5.,  6.]])\n",
    "print_a(a)\n",
    "print_a(b)"
   ]
  },
  {
   "cell_type": "markdown",
   "metadata": {
    "Collapsed": "true",
    "heading_collapsed": true,
    "hidden": true
   },
   "source": [
    "#### Subtraction and Addition"
   ]
  },
  {
   "cell_type": "markdown",
   "metadata": {
    "Collapsed": "false"
   },
   "source": [
    "Subtraction and addition of arrays is performed element-wise (each element in a is added/subtracted from each corresponding element in b). Therefore, dimensions of arrays that you try to add/subtract should match....\n",
    "\n",
    "BUT, we can see that the dimension mismatch error doesn't happen because array a is broadcast to each element in b"
   ]
  },
  {
   "cell_type": "code",
   "execution_count": 90,
   "metadata": {
    "Collapsed": "false",
    "hidden": true
   },
   "outputs": [
    {
     "name": "stdout",
     "output_type": "stream",
     "text": [
      "Subtraction\n",
      " a - b = g\n",
      "\n",
      " [1 2 3]\n",
      " - \n",
      "[[1.5 2.  3. ]\n",
      " [4.  5.  6. ]]\n",
      " =\n",
      "[[-0.5  0.   0. ]\n",
      " [-3.  -3.  -3. ]]\n"
     ]
    }
   ],
   "source": [
    "g = a - b\n",
    "print('Subtraction\\n a - b = g\\n\\n {}\\n - \\n{}\\n =\\n{}'.format(a, b, g))"
   ]
  },
  {
   "cell_type": "markdown",
   "metadata": {
    "Collapsed": "false"
   },
   "source": [
    "You can do the same thing with the `subtract()` function."
   ]
  },
  {
   "cell_type": "code",
   "execution_count": 91,
   "metadata": {
    "Collapsed": "false",
    "hidden": true
   },
   "outputs": [
    {
     "data": {
      "text/plain": [
       "array([[-0.5,  0. ,  0. ],\n",
       "       [-3. , -3. , -3. ]])"
      ]
     },
     "execution_count": 91,
     "metadata": {},
     "output_type": "execute_result"
    }
   ],
   "source": [
    "np.subtract(a, b)"
   ]
  },
  {
   "cell_type": "code",
   "execution_count": 92,
   "metadata": {
    "Collapsed": "false",
    "hidden": true
   },
   "outputs": [
    {
     "name": "stdout",
     "output_type": "stream",
     "text": [
      "Addition\n",
      " a + b = h\n",
      "\n",
      " [1 2 3]\n",
      " + \n",
      "[[1.5 2.  3. ]\n",
      " [4.  5.  6. ]]\n",
      " =\n",
      "[[2.5 4.  6. ]\n",
      " [5.  7.  9. ]]\n"
     ]
    }
   ],
   "source": [
    "h = b + a\n",
    "print('Addition\\n a + b = h\\n\\n {}\\n + \\n{}\\n =\\n{}'.format(a, b, h))"
   ]
  },
  {
   "cell_type": "markdown",
   "metadata": {
    "Collapsed": "false"
   },
   "source": [
    "Similarly you can do the same thing with the `add()` function"
   ]
  },
  {
   "cell_type": "code",
   "execution_count": 93,
   "metadata": {
    "Collapsed": "false",
    "hidden": true
   },
   "outputs": [
    {
     "data": {
      "text/plain": [
       "array([[2.5, 4. , 6. ],\n",
       "       [5. , 7. , 9. ]])"
      ]
     },
     "execution_count": 93,
     "metadata": {},
     "output_type": "execute_result"
    }
   ],
   "source": [
    "np.add(b, a)"
   ]
  },
  {
   "cell_type": "markdown",
   "metadata": {
    "Collapsed": "true",
    "heading_collapsed": true,
    "hidden": true
   },
   "source": [
    "#### Division and Multiplication"
   ]
  },
  {
   "cell_type": "markdown",
   "metadata": {
    "Collapsed": "false"
   },
   "source": [
    "Just like in addition and subtraction the normally element-wise operation of multiplication and division will we broadcasted using the matching dimension."
   ]
  },
  {
   "cell_type": "code",
   "execution_count": 94,
   "metadata": {
    "Collapsed": "false",
    "hidden": true
   },
   "outputs": [
    {
     "name": "stdout",
     "output_type": "stream",
     "text": [
      "Division\n",
      " a / b = h\n",
      "\n",
      " [1 2 3]\n",
      " / \n",
      "[[1.5 2.  3. ]\n",
      " [4.  5.  6. ]]\n",
      " =\n",
      "[[0.66666667 1.         1.        ]\n",
      " [0.25       0.4        0.5       ]]\n"
     ]
    }
   ],
   "source": [
    "i = a / b\n",
    "print('Division\\n a / b = h\\n\\n {}\\n / \\n{}\\n =\\n{}'.format(a, b, i))"
   ]
  },
  {
   "cell_type": "code",
   "execution_count": 95,
   "metadata": {
    "Collapsed": "false",
    "hidden": true
   },
   "outputs": [
    {
     "data": {
      "text/plain": [
       "array([[0.66666667, 1.        , 1.        ],\n",
       "       [0.25      , 0.4       , 0.5       ]])"
      ]
     },
     "execution_count": 95,
     "metadata": {},
     "output_type": "execute_result"
    }
   ],
   "source": [
    "np.divide(a, b)"
   ]
  },
  {
   "cell_type": "code",
   "execution_count": 96,
   "metadata": {
    "Collapsed": "false",
    "hidden": true
   },
   "outputs": [
    {
     "name": "stdout",
     "output_type": "stream",
     "text": [
      "Multiplication\n",
      " a * b = h\n",
      "\n",
      " [1 2 3]\n",
      " * \n",
      "[[1.5 2.  3. ]\n",
      " [4.  5.  6. ]]\n",
      " =\n",
      "[[ 1.5  4.   9. ]\n",
      " [ 4.  10.  18. ]]\n"
     ]
    }
   ],
   "source": [
    "j = a * b\n",
    "print('Multiplication\\n a * b = h\\n\\n {}\\n * \\n{}\\n =\\n{}'.format(a, b, j))"
   ]
  },
  {
   "cell_type": "code",
   "execution_count": 97,
   "metadata": {
    "Collapsed": "false",
    "hidden": true
   },
   "outputs": [
    {
     "data": {
      "text/plain": [
       "array([[ 1.5,  4. ,  9. ],\n",
       "       [ 4. , 10. , 18. ]])"
      ]
     },
     "execution_count": 97,
     "metadata": {},
     "output_type": "execute_result"
    }
   ],
   "source": [
    "np.multiply(a, b)"
   ]
  },
  {
   "cell_type": "markdown",
   "metadata": {
    "Collapsed": "false"
   },
   "source": [
    "*Note: If you want to do matrix multiplication you need to use `np.dot()`; the `multiply()` function does element-wise multiplication. If you are not familiar with the dot product we will cover it in the Linear Algebra Foundations workbook.*"
   ]
  },
  {
   "cell_type": "markdown",
   "metadata": {
    "Collapsed": "true",
    "heading_collapsed": true,
    "hidden": true
   },
   "source": [
    "#### Other Mathy Stuff\n",
    "\n",
    "Exponentiation, square roots, sin, cos, etc"
   ]
  },
  {
   "cell_type": "code",
   "execution_count": 98,
   "metadata": {
    "Collapsed": "false",
    "hidden": true
   },
   "outputs": [
    {
     "name": "stdout",
     "output_type": "stream",
     "text": [
      "[[1.5 2.  3. ]\n",
      " [4.  5.  6. ]]\n"
     ]
    },
    {
     "data": {
      "text/plain": [
       "array([[  4.48168907,   7.3890561 ,  20.08553692],\n",
       "       [ 54.59815003, 148.4131591 , 403.42879349]])"
      ]
     },
     "execution_count": 98,
     "metadata": {},
     "output_type": "execute_result"
    }
   ],
   "source": [
    "print(b)\n",
    "np.exp(b)  # Exponentiation (ie. e^b)"
   ]
  },
  {
   "cell_type": "code",
   "execution_count": 99,
   "metadata": {
    "Collapsed": "false",
    "hidden": true
   },
   "outputs": [
    {
     "name": "stdout",
     "output_type": "stream",
     "text": [
      "[[1.5 2.  3. ]\n",
      " [4.  5.  6. ]]\n"
     ]
    },
    {
     "data": {
      "text/plain": [
       "array([[1.22474487, 1.41421356, 1.73205081],\n",
       "       [2.        , 2.23606798, 2.44948974]])"
      ]
     },
     "execution_count": 99,
     "metadata": {},
     "output_type": "execute_result"
    }
   ],
   "source": [
    "print(b)\n",
    "np.sqrt(b)  # Square root"
   ]
  },
  {
   "cell_type": "code",
   "execution_count": 100,
   "metadata": {
    "Collapsed": "false",
    "hidden": true
   },
   "outputs": [
    {
     "name": "stdout",
     "output_type": "stream",
     "text": [
      "[1 2 3]\n"
     ]
    },
    {
     "data": {
      "text/plain": [
       "array([0.84147098, 0.90929743, 0.14112001])"
      ]
     },
     "execution_count": 100,
     "metadata": {},
     "output_type": "execute_result"
    }
   ],
   "source": [
    "print(a)\n",
    "np.sin(a)  # Print sines of an array"
   ]
  },
  {
   "cell_type": "code",
   "execution_count": 101,
   "metadata": {
    "Collapsed": "false",
    "hidden": true
   },
   "outputs": [
    {
     "name": "stdout",
     "output_type": "stream",
     "text": [
      "[[1.5 2.  3. ]\n",
      " [4.  5.  6. ]]\n"
     ]
    },
    {
     "data": {
      "text/plain": [
       "array([[ 0.0707372 , -0.41614684, -0.9899925 ],\n",
       "       [-0.65364362,  0.28366219,  0.96017029]])"
      ]
     },
     "execution_count": 101,
     "metadata": {},
     "output_type": "execute_result"
    }
   ],
   "source": [
    "print(b)\n",
    "np.cos(b)  # Element-wise cosine"
   ]
  },
  {
   "cell_type": "code",
   "execution_count": 102,
   "metadata": {
    "Collapsed": "false",
    "hidden": true
   },
   "outputs": [
    {
     "name": "stdout",
     "output_type": "stream",
     "text": [
      "[1 2 3]\n"
     ]
    },
    {
     "data": {
      "text/plain": [
       "array([0.        , 0.69314718, 1.09861229])"
      ]
     },
     "execution_count": 102,
     "metadata": {},
     "output_type": "execute_result"
    }
   ],
   "source": [
    "print(a)\n",
    "np.log(a)  # Element-wise natural logarithm"
   ]
  },
  {
   "cell_type": "markdown",
   "metadata": {
    "Collapsed": "true",
    "heading_collapsed": true,
    "hidden": true
   },
   "source": [
    "### Comparison (element-wise and array-wise)\n",
    "\n",
    "```python\n",
    "array_1 == array_2  # element-wise comp\n",
    "np.array_equal()    # test if same shape, same elements values\n",
    "np.array_equiv()    # test if broadcastable shape, same elements values\n",
    "np.allclose()       # elements have close enough values (broadcasts by default)\n",
    "```"
   ]
  },
  {
   "cell_type": "markdown",
   "metadata": {
    "Collapsed": "false"
   },
   "source": [
    "This may seem a bit nitpicky but its actually really important to understand."
   ]
  },
  {
   "cell_type": "code",
   "execution_count": 104,
   "metadata": {
    "Collapsed": "false",
    "hidden": true
   },
   "outputs": [
    {
     "name": "stdout",
     "output_type": "stream",
     "text": [
      "Dim: 1, Shape: (3,)\n",
      "[1 2 3]\n"
     ]
    },
    {
     "data": {
      "text/plain": [
       "array([ True, False, False])"
      ]
     },
     "execution_count": 104,
     "metadata": {},
     "output_type": "execute_result"
    }
   ],
   "source": [
    "print_a(a)\n",
    "a < 2  # Element-wise comparison array([True, False, False], dtype=bool)"
   ]
  },
  {
   "cell_type": "code",
   "execution_count": 105,
   "metadata": {
    "Collapsed": "false",
    "hidden": true
   },
   "outputs": [
    {
     "name": "stdout",
     "output_type": "stream",
     "text": [
      "Dim: 1, Shape: (3,)\n",
      "[1 2 3]\n",
      "Dim: 2, Shape: (2, 3)\n",
      "[[1 2 3]\n",
      " [1 2 3]]\n"
     ]
    },
    {
     "data": {
      "text/plain": [
       "array([[ True,  True,  True],\n",
       "       [ True,  True,  True]])"
      ]
     },
     "execution_count": 105,
     "metadata": {},
     "output_type": "execute_result"
    }
   ],
   "source": [
    "print_a(a)\n",
    "print_a(b)\n",
    "a == b  # Element-wise comparison"
   ]
  },
  {
   "cell_type": "markdown",
   "metadata": {
    "Collapsed": "false"
   },
   "source": [
    "Let's take a look at some of the equivalency functions that numpy provides and learn how they are different."
   ]
  },
  {
   "cell_type": "code",
   "execution_count": 106,
   "metadata": {
    "Collapsed": "false",
    "hidden": true
   },
   "outputs": [],
   "source": [
    "a = np.array([1, 2, 3])\n",
    "b = np.array([1, 2, 3])"
   ]
  },
  {
   "cell_type": "code",
   "execution_count": 47,
   "metadata": {
    "Collapsed": "false"
   },
   "outputs": [
    {
     "name": "stdout",
     "output_type": "stream",
     "text": [
      "True\n",
      "True\n",
      "True\n"
     ]
    }
   ],
   "source": [
    "print(np.array_equal(a, b))\n",
    "print(np.array_equiv(a, b))\n",
    "print(np.allclose(a, b))"
   ]
  },
  {
   "cell_type": "markdown",
   "metadata": {
    "Collapsed": "false"
   },
   "source": [
    "Array `a` and `b` defined above are equal in shape and element values. Let's now add another row to array b"
   ]
  },
  {
   "cell_type": "code",
   "execution_count": 108,
   "metadata": {
    "Collapsed": "false"
   },
   "outputs": [],
   "source": [
    "a = np.array([1, 2, 3])\n",
    "b = np.array([[1, 2, 3], [1, 2, 3]])"
   ]
  },
  {
   "cell_type": "code",
   "execution_count": 109,
   "metadata": {
    "Collapsed": "false"
   },
   "outputs": [
    {
     "name": "stdout",
     "output_type": "stream",
     "text": [
      "False\n",
      "True\n",
      "True\n"
     ]
    }
   ],
   "source": [
    "print(np.array_equal(a, b))  # same shape, same elements values\n",
    "print(np.array_equiv(a, b))  # if broadcastable shape, same elements values\n",
    "print(np.allclose(a, b))     # elements have close enough values (broadcasts by default)"
   ]
  },
  {
   "cell_type": "markdown",
   "metadata": {
    "Collapsed": "false"
   },
   "source": [
    "You can see that array `a` and `b` can be broadcasted together and the element values are the same when doing so `array_equiv` and `allclose` are `True`.\n",
    "\n",
    "Now we can create two arrays that have different but very close values nad see that `allclose()` returns true."
   ]
  },
  {
   "cell_type": "code",
   "execution_count": 111,
   "metadata": {
    "Collapsed": "false"
   },
   "outputs": [],
   "source": [
    "a = np.array([1e10, 1e-8])\n",
    "b = np.array([1.00001e10, 1e-9])"
   ]
  },
  {
   "cell_type": "code",
   "execution_count": 112,
   "metadata": {
    "Collapsed": "false"
   },
   "outputs": [
    {
     "name": "stdout",
     "output_type": "stream",
     "text": [
      "False\n",
      "False\n",
      "True\n"
     ]
    }
   ],
   "source": [
    "print(np.array_equal(a, b))\n",
    "print(np.array_equiv(a, b))\n",
    "print(np.allclose(a, b))"
   ]
  },
  {
   "cell_type": "markdown",
   "metadata": {
    "Collapsed": "false"
   },
   "source": [
    "*Note: You can always read more about broadcasting in [the docs](https://docs.scipy.org/doc/numpy-1.10.0/user/basics.broadcasting.html) is you need a bit more help. Moving forward from here I will expect you understand it. There are some practice exercises in at the end of the workbooks that will help solidify your understanding of broadcasting.*"
   ]
  },
  {
   "cell_type": "markdown",
   "metadata": {
    "Collapsed": "true",
    "heading_collapsed": true,
    "hidden": true
   },
   "source": [
    "### Aggregate Functions\n",
    "\n",
    "```python\n",
    "my_array.sum()\n",
    "my_array.min()\n",
    "my_array.max()\n",
    "my_array.cumsum()\n",
    "my_array.median()\n",
    "my_array.mean()\n",
    "my_array.std()\n",
    "```"
   ]
  },
  {
   "cell_type": "markdown",
   "metadata": {
    "Collapsed": "false"
   },
   "source": [
    "Starting with two arrays `a` and `b` lets demonstrate some aggregation functions."
   ]
  },
  {
   "cell_type": "code",
   "execution_count": 113,
   "metadata": {
    "Collapsed": "false"
   },
   "outputs": [],
   "source": [
    "a = np.array([1, 2, 3])\n",
    "b = np.array([[1, 2, 3], [4, 5, 6]])"
   ]
  },
  {
   "cell_type": "code",
   "execution_count": 114,
   "metadata": {
    "Collapsed": "false",
    "hidden": true
   },
   "outputs": [
    {
     "data": {
      "text/plain": [
       "6"
      ]
     },
     "execution_count": 114,
     "metadata": {},
     "output_type": "execute_result"
    }
   ],
   "source": [
    "a.sum()  # Array-wise sum"
   ]
  },
  {
   "cell_type": "code",
   "execution_count": 115,
   "metadata": {
    "Collapsed": "false",
    "hidden": true
   },
   "outputs": [
    {
     "name": "stdout",
     "output_type": "stream",
     "text": [
      "[1 2 3]\n",
      "\n",
      "1\n",
      "3\n"
     ]
    }
   ],
   "source": [
    "print('{}\\n'.format(a))\n",
    "\n",
    "print(a.min())  # Array-wise minimum value\n",
    "print(a.max())  # Array-wise maximum value"
   ]
  },
  {
   "cell_type": "code",
   "execution_count": 117,
   "metadata": {
    "Collapsed": "false",
    "hidden": true
   },
   "outputs": [
    {
     "name": "stdout",
     "output_type": "stream",
     "text": [
      "[[1 2 0]\n",
      " [4 1 6]]\n",
      "\n",
      "min for each row: [1 1 0]\n",
      "max for each row: [4 2 6]\n"
     ]
    }
   ],
   "source": [
    "b[0][2] = 0\n",
    "b[1][1] = 1\n",
    "print('{}\\n'.format(b))\n",
    "\n",
    "print(\"min for each row: {}\".format(b.min(axis=0)))\n",
    "print(\"max for each row: {}\".format(b.max(axis=0)))"
   ]
  },
  {
   "cell_type": "markdown",
   "metadata": {
    "Collapsed": "false"
   },
   "source": [
    "*Note: `axis` indexing can be a little weird in numpy if you've never seen it before...*\n",
    "\n",
    "The \"axis\" refers to the dimension along which you want to perform the function\n",
    "\n",
    "* For a 2D matrix you can think of axis 0 and axis 1 as the rows and columns of the matrix respectively.\n",
    "* For a higher dimensional matrix each axis can be thought of as a dimension in the shape of the matrix."
   ]
  },
  {
   "cell_type": "code",
   "execution_count": 118,
   "metadata": {
    "Collapsed": "false"
   },
   "outputs": [
    {
     "name": "stdout",
     "output_type": "stream",
     "text": [
      "3\n",
      "(2, 4, 3)\n",
      "[[[1 4 4]\n",
      "  [4 1 0]\n",
      "  [2 4 2]\n",
      "  [4 4 1]]\n",
      "\n",
      " [[1 4 2]\n",
      "  [0 0 4]\n",
      "  [4 1 1]\n",
      "  [4 4 4]]]\n"
     ]
    }
   ],
   "source": [
    "a = np.random.randint(5, size=(2, 4, 3))\n",
    "print(a.ndim)\n",
    "print(a.shape)\n",
    "print(a)"
   ]
  },
  {
   "cell_type": "code",
   "execution_count": 119,
   "metadata": {
    "Collapsed": "false"
   },
   "outputs": [
    {
     "name": "stdout",
     "output_type": "stream",
     "text": [
      "min along axis 0 \n",
      "[[1 4 2]\n",
      " [0 0 0]\n",
      " [2 1 1]\n",
      " [4 4 1]] \n",
      "min along axis 1 \n",
      "[[1 1 0]\n",
      " [0 0 1]] \n",
      "min along axis 2 \n",
      "[[1 0 2 1]\n",
      " [1 0 1 4]] \n"
     ]
    }
   ],
   "source": [
    "print('min along axis 0 \\n{} '.format(a.min(axis=0)))\n",
    "print('min along axis 1 \\n{} '.format(a.min(axis=1)))\n",
    "print('min along axis 2 \\n{} '.format(a.min(axis=2)))"
   ]
  },
  {
   "cell_type": "code",
   "execution_count": 120,
   "metadata": {
    "Collapsed": "false",
    "hidden": true
   },
   "outputs": [
    {
     "name": "stdout",
     "output_type": "stream",
     "text": [
      "[[1 2 0]\n",
      " [4 1 6]]\n",
      "\n",
      "[0 1]\n",
      "[2 6]\n"
     ]
    }
   ],
   "source": [
    "print('{}\\n'.format(b))\n",
    "\n",
    "print(b.min(axis=1))  # Minimum value of an array row (min along axis)\n",
    "print(b.max(axis=1))  # Maximum value of an array row (max along axis)"
   ]
  },
  {
   "cell_type": "code",
   "execution_count": 121,
   "metadata": {
    "Collapsed": "false",
    "hidden": true
   },
   "outputs": [
    {
     "name": "stdout",
     "output_type": "stream",
     "text": [
      "[[1 2 0]\n",
      " [4 1 6]]\n",
      "\n"
     ]
    },
    {
     "data": {
      "text/plain": [
       "array([[ 1,  3,  3],\n",
       "       [ 4,  5, 11]])"
      ]
     },
     "execution_count": 121,
     "metadata": {},
     "output_type": "execute_result"
    }
   ],
   "source": [
    "print('{}\\n'.format(b))\n",
    "b.cumsum(axis=1)  # Cumulative sum of the elements"
   ]
  },
  {
   "cell_type": "code",
   "execution_count": 122,
   "metadata": {
    "Collapsed": "false",
    "hidden": true
   },
   "outputs": [
    {
     "name": "stdout",
     "output_type": "stream",
     "text": [
      "[[[1 4 4]\n",
      "  [4 1 0]\n",
      "  [2 4 2]\n",
      "  [4 4 1]]\n",
      "\n",
      " [[1 4 2]\n",
      "  [0 0 4]\n",
      "  [4 1 1]\n",
      "  [4 4 4]]]\n",
      "\n"
     ]
    },
    {
     "data": {
      "text/plain": [
       "2.5"
      ]
     },
     "execution_count": 122,
     "metadata": {},
     "output_type": "execute_result"
    }
   ],
   "source": [
    "print('{}\\n'.format(a))\n",
    "a.mean()  # Mean"
   ]
  },
  {
   "cell_type": "code",
   "execution_count": 123,
   "metadata": {
    "Collapsed": "false",
    "hidden": true
   },
   "outputs": [
    {
     "name": "stdout",
     "output_type": "stream",
     "text": [
      "[[1 2 0]\n",
      " [4 1 6]]\n",
      "\n"
     ]
    },
    {
     "data": {
      "text/plain": [
       "1.5"
      ]
     },
     "execution_count": 123,
     "metadata": {},
     "output_type": "execute_result"
    }
   ],
   "source": [
    "print('{}\\n'.format(b))\n",
    "np.median(b)  # Median"
   ]
  },
  {
   "cell_type": "code",
   "execution_count": 125,
   "metadata": {
    "Collapsed": "false",
    "hidden": true
   },
   "outputs": [
    {
     "name": "stdout",
     "output_type": "stream",
     "text": [
      "[[1 2 0]\n",
      " [4 1 6]]\n",
      "\n"
     ]
    },
    {
     "data": {
      "text/plain": [
       "2.0548046676563256"
      ]
     },
     "execution_count": 125,
     "metadata": {},
     "output_type": "execute_result"
    }
   ],
   "source": [
    "print('{}\\n'.format(b))\n",
    "np.std(b)  # Standard deviation"
   ]
  },
  {
   "cell_type": "markdown",
   "metadata": {
    "Collapsed": "true",
    "heading_collapsed": true,
    "hidden": true
   },
   "source": [
    "## Copying\n",
    "\n",
    "```python\n",
    "my_array.view()\n",
    "my_array.copy()\n",
    "```"
   ]
  },
  {
   "cell_type": "markdown",
   "metadata": {
    "Collapsed": "false"
   },
   "source": [
    "Its important that you make sure you know when you are creating an actual copy of your array vs another view of the same array. If you just create another view and start experimenting with the array, you need to know you are changing the actual original array.\n",
    "\n",
    "- Copy / Deep Copy: When the contents are physically stored in another location, it is called Copy (deep by default). \n",
    "\n",
    "- View / Shallow Copy: If on the other hand, a different view of the same memory content is provided, we call it as View."
   ]
  },
  {
   "cell_type": "code",
   "execution_count": 126,
   "metadata": {
    "Collapsed": "false"
   },
   "outputs": [
    {
     "name": "stdout",
     "output_type": "stream",
     "text": [
      "Array: [[[1 4 4]\n",
      "  [4 1 0]\n",
      "  [2 4 2]\n",
      "  [4 4 1]]\n",
      "\n",
      " [[1 4 2]\n",
      "  [0 0 4]\n",
      "  [4 1 1]\n",
      "  [4 4 4]]] --> mem loc: (140223162370272, False)\n",
      "\n",
      "Array: [[[1 4 4]\n",
      "  [4 1 0]\n",
      "  [2 4 2]\n",
      "  [4 4 1]]\n",
      "\n",
      " [[1 4 2]\n",
      "  [0 0 4]\n",
      "  [4 1 1]\n",
      "  [4 4 4]]] --> mem loc: (140223162370272, False)\n",
      "\n"
     ]
    }
   ],
   "source": [
    "print('Array: {} --> mem loc: {}\\n'.format(a, a.__array_interface__['data']))\n",
    "\n",
    "h = a  # Create a view of the array with the same data\n",
    "\n",
    "print('Array: {} --> mem loc: {}\\n'.format(h, h.__array_interface__['data']))"
   ]
  },
  {
   "cell_type": "code",
   "execution_count": 127,
   "metadata": {
    "Collapsed": "false",
    "hidden": true
   },
   "outputs": [
    {
     "name": "stdout",
     "output_type": "stream",
     "text": [
      "Array: [[[1 4 4]\n",
      "  [4 1 0]\n",
      "  [2 4 2]\n",
      "  [4 4 1]]\n",
      "\n",
      " [[1 4 2]\n",
      "  [0 0 4]\n",
      "  [4 1 1]\n",
      "  [4 4 4]]] --> mem loc: (140223162370272, False)\n",
      "\n",
      "Array: [[[1 4 4]\n",
      "  [4 1 0]\n",
      "  [2 4 2]\n",
      "  [4 4 1]]\n",
      "\n",
      " [[1 4 2]\n",
      "  [0 0 4]\n",
      "  [4 1 1]\n",
      "  [4 4 4]]] --> mem loc: (140223162370272, False)\n",
      "\n"
     ]
    }
   ],
   "source": [
    "print('Array: {} --> mem loc: {}\\n'.format(a, a.__array_interface__['data']))\n",
    "\n",
    "h = a.view()  # Create a view of the array with the same data\n",
    "\n",
    "print('Array: {} --> mem loc: {}\\n'.format(h, h.__array_interface__['data']))"
   ]
  },
  {
   "cell_type": "markdown",
   "metadata": {
    "Collapsed": "false"
   },
   "source": [
    "We can see that `h` is just another view of a. They each point to or reference the same memory location."
   ]
  },
  {
   "cell_type": "code",
   "execution_count": 128,
   "metadata": {
    "Collapsed": "false",
    "hidden": true
   },
   "outputs": [
    {
     "name": "stdout",
     "output_type": "stream",
     "text": [
      "Array: [[[1 4 4]\n",
      "  [4 1 0]\n",
      "  [2 4 2]\n",
      "  [4 4 1]]\n",
      "\n",
      " [[1 4 2]\n",
      "  [0 0 4]\n",
      "  [4 1 1]\n",
      "  [4 4 4]]] --> mem loc: (140223162370272, False)\n",
      "\n",
      "Array: [[[1 4 4]\n",
      "  [4 1 0]\n",
      "  [2 4 2]\n",
      "  [4 4 1]]\n",
      "\n",
      " [[1 4 2]\n",
      "  [0 0 4]\n",
      "  [4 1 1]\n",
      "  [4 4 4]]] --> mem loc: (140223198872288, False)\n",
      "\n"
     ]
    }
   ],
   "source": [
    "print('Array: {} --> mem loc: {}\\n'.format(a, a.__array_interface__['data']))\n",
    "\n",
    "h = np.copy(a)  # Create a copy of the array\n",
    "\n",
    "print('Array: {} --> mem loc: {}\\n'.format(h, h.__array_interface__['data']))"
   ]
  },
  {
   "cell_type": "code",
   "execution_count": 129,
   "metadata": {
    "Collapsed": "false",
    "hidden": true
   },
   "outputs": [
    {
     "name": "stdout",
     "output_type": "stream",
     "text": [
      "Array: [[[1 4 4]\n",
      "  [4 1 0]\n",
      "  [2 4 2]\n",
      "  [4 4 1]]\n",
      "\n",
      " [[1 4 2]\n",
      "  [0 0 4]\n",
      "  [4 1 1]\n",
      "  [4 4 4]]] --> mem loc: (140223162370272, False)\n",
      "\n",
      "Array: [[[1 4 4]\n",
      "  [4 1 0]\n",
      "  [2 4 2]\n",
      "  [4 4 1]]\n",
      "\n",
      " [[1 4 2]\n",
      "  [0 0 4]\n",
      "  [4 1 1]\n",
      "  [4 4 4]]] --> mem loc: (140223198872288, False)\n",
      "\n"
     ]
    }
   ],
   "source": [
    "print('Array: {} --> mem loc: {}\\n'.format(a, a.__array_interface__['data']))\n",
    "\n",
    "i = a.copy()  # Create a copy of the array\n",
    "\n",
    "print('Array: {} --> mem loc: {}\\n'.format(h, h.__array_interface__['data']))"
   ]
  },
  {
   "cell_type": "markdown",
   "metadata": {
    "Collapsed": "false"
   },
   "source": [
    "These two examples however create actual copies of the array that are stored in different memory locations."
   ]
  },
  {
   "cell_type": "markdown",
   "metadata": {
    "Collapsed": "true",
    "heading_collapsed": true,
    "hidden": true
   },
   "source": [
    "## Sorting\n",
    "\n",
    "```python\n",
    "my_array.sort()\n",
    "```"
   ]
  },
  {
   "cell_type": "code",
   "execution_count": 130,
   "metadata": {
    "Collapsed": "false",
    "hidden": true
   },
   "outputs": [
    {
     "name": "stdout",
     "output_type": "stream",
     "text": [
      "[2 1 4]\n",
      "[1 2 4]\n"
     ]
    }
   ],
   "source": [
    "a = np.array([2, 1, 4])\n",
    "print(a)\n",
    "\n",
    "a.sort()  # Sort an array in place\n",
    "print(a)"
   ]
  },
  {
   "cell_type": "markdown",
   "metadata": {
    "Collapsed": "false"
   },
   "source": [
    "We can also sort along a specific axis of an array"
   ]
  },
  {
   "cell_type": "code",
   "execution_count": 131,
   "metadata": {
    "Collapsed": "false",
    "hidden": true
   },
   "outputs": [
    {
     "name": "stdout",
     "output_type": "stream",
     "text": [
      "[[[5 6 3]\n",
      "  [3 5 0]]\n",
      "\n",
      " [[2 2 8]\n",
      "  [8 8 5]]]\n",
      "\n",
      "\n",
      "[[[2 2 3]\n",
      "  [3 5 0]]\n",
      "\n",
      " [[5 6 8]\n",
      "  [8 8 5]]]\n"
     ]
    }
   ],
   "source": [
    "c = np.random.randint(0, 9, (2, 2, 3))\n",
    "print('{}\\n\\n'.format(c))\n",
    "\n",
    "c.sort(axis=0)  # Sort the elements of an array's axis\n",
    "print(c)"
   ]
  },
  {
   "cell_type": "markdown",
   "metadata": {
    "Collapsed": "true",
    "heading_collapsed": true,
    "hidden": true
   },
   "source": [
    "## Subsetting, Slicing, Indexing\n",
    "\n",
    "```python\n",
    "my_array[2]\n",
    "my_array[0][1]\n",
    "my_array[0, 1] \n",
    "my_array[0:2, 1]\n",
    "my_array[0:2, ...]\n",
    "```"
   ]
  },
  {
   "cell_type": "markdown",
   "metadata": {
    "Collapsed": "false"
   },
   "source": [
    "This is one of the most important things to grasp in numpy as you will see it all of the time and get really confused if you don't understand what is going on.\n",
    "\n",
    "A quick note on vocabulary in case these are new words for you.\n",
    "- Subsetting - selecting specific rows and columns within the data\n",
    "- Slicing - selecting subsets based on a range of values\n",
    "- Indexing - selecting specific array values\n",
    "\n",
    "Let's start by defining some arrays to work with."
   ]
  },
  {
   "cell_type": "code",
   "execution_count": 133,
   "metadata": {
    "Collapsed": "false"
   },
   "outputs": [
    {
     "name": "stdout",
     "output_type": "stream",
     "text": [
      "Dim: 1, Shape: (3,)\n",
      "[1 2 4]\n",
      "Dim: 2, Shape: (2, 3)\n",
      "[[1 2 0]\n",
      " [4 1 6]]\n"
     ]
    }
   ],
   "source": [
    "a = np.array([1, 2, 4])\n",
    "b = np.array([[1, 2, 0], [4, 1, 6]])\n",
    "print_a(a)\n",
    "print_a(b)"
   ]
  },
  {
   "cell_type": "markdown",
   "metadata": {
    "Collapsed": "false"
   },
   "source": [
    "We can select specific elements in the 1D and 2D arrays above just like we using indexing in Python lists."
   ]
  },
  {
   "cell_type": "code",
   "execution_count": 134,
   "metadata": {
    "Collapsed": "false",
    "hidden": true
   },
   "outputs": [
    {
     "data": {
      "text/plain": [
       "4"
      ]
     },
     "execution_count": 134,
     "metadata": {},
     "output_type": "execute_result"
    }
   ],
   "source": [
    "a[2]  # Select the element at the 2nd index"
   ]
  },
  {
   "cell_type": "code",
   "execution_count": 135,
   "metadata": {
    "Collapsed": "false"
   },
   "outputs": [
    {
     "data": {
      "text/plain": [
       "2"
      ]
     },
     "execution_count": 135,
     "metadata": {},
     "output_type": "execute_result"
    }
   ],
   "source": [
    "b[0][1]  # Select the 0th element then the 1st element of the 0th"
   ]
  },
  {
   "cell_type": "markdown",
   "metadata": {
    "Collapsed": "false"
   },
   "source": [
    "We can also select all elements that meet a specific criteria."
   ]
  },
  {
   "cell_type": "code",
   "execution_count": 73,
   "metadata": {
    "Collapsed": "false",
    "hidden": true
   },
   "outputs": [
    {
     "data": {
      "text/plain": [
       "array([1])"
      ]
     },
     "execution_count": 73,
     "metadata": {},
     "output_type": "execute_result"
    }
   ],
   "source": [
    "a[a < 2]  # Select elements less than 2"
   ]
  },
  {
   "cell_type": "markdown",
   "metadata": {
    "Collapsed": "false"
   },
   "source": [
    "We can select multiple elements at a time."
   ]
  },
  {
   "cell_type": "code",
   "execution_count": 74,
   "metadata": {
    "Collapsed": "false",
    "hidden": true
   },
   "outputs": [
    {
     "data": {
      "text/plain": [
       "array([4, 2, 6, 1])"
      ]
     },
     "execution_count": 74,
     "metadata": {},
     "output_type": "execute_result"
    }
   ],
   "source": [
    "b[[1, 0, 1, 0], [0, 1, 2, 0]]  # Select elements (1,0),(0,1),(1,2) and (0,0)"
   ]
  },
  {
   "cell_type": "markdown",
   "metadata": {
    "Collapsed": "false"
   },
   "source": [
    "Rather than using two sets of brackets we can just use a comma like this"
   ]
  },
  {
   "cell_type": "code",
   "execution_count": 136,
   "metadata": {
    "Collapsed": "false",
    "hidden": true
   },
   "outputs": [
    {
     "data": {
      "text/plain": [
       "2"
      ]
     },
     "execution_count": 136,
     "metadata": {},
     "output_type": "execute_result"
    }
   ],
   "source": [
    "b[0, 1]  # Select 0th item in first dim, 1st item in second dim"
   ]
  },
  {
   "cell_type": "markdown",
   "metadata": {
    "Collapsed": "false"
   },
   "source": [
    "We can select a range of elements along any dimension(s)"
   ]
  },
  {
   "cell_type": "code",
   "execution_count": 138,
   "metadata": {
    "Collapsed": "false",
    "hidden": true
   },
   "outputs": [
    {
     "data": {
      "text/plain": [
       "array([1, 2])"
      ]
     },
     "execution_count": 138,
     "metadata": {},
     "output_type": "execute_result"
    }
   ],
   "source": [
    "a[0:2]  # Select items between indices 0 and 2"
   ]
  },
  {
   "cell_type": "code",
   "execution_count": 139,
   "metadata": {
    "Collapsed": "false",
    "hidden": true
   },
   "outputs": [
    {
     "data": {
      "text/plain": [
       "array([2, 1])"
      ]
     },
     "execution_count": 139,
     "metadata": {},
     "output_type": "execute_result"
    }
   ],
   "source": [
    "b[0:2, 1]  # Select items at rows 0 and 1 in column 1"
   ]
  },
  {
   "cell_type": "code",
   "execution_count": 140,
   "metadata": {
    "Collapsed": "false",
    "hidden": true
   },
   "outputs": [
    {
     "data": {
      "text/plain": [
       "array([[1, 2, 0]])"
      ]
     },
     "execution_count": 140,
     "metadata": {},
     "output_type": "execute_result"
    }
   ],
   "source": [
    "b[:1]  # Select all items at row 0"
   ]
  },
  {
   "cell_type": "code",
   "execution_count": 141,
   "metadata": {
    "Collapsed": "false"
   },
   "outputs": [
    {
     "data": {
      "text/plain": [
       "array([[1, 2, 0]])"
      ]
     },
     "execution_count": 141,
     "metadata": {},
     "output_type": "execute_result"
    }
   ],
   "source": [
    "b[0:1, :]  # Select all items at row 0"
   ]
  },
  {
   "cell_type": "markdown",
   "metadata": {
    "Collapsed": "false"
   },
   "source": [
    "The ellipsis is used to select everything."
   ]
  },
  {
   "cell_type": "code",
   "execution_count": 142,
   "metadata": {
    "Collapsed": "false",
    "hidden": true
   },
   "outputs": [
    {
     "data": {
      "text/plain": [
       "array([4, 1, 6])"
      ]
     },
     "execution_count": 142,
     "metadata": {},
     "output_type": "execute_result"
    }
   ],
   "source": [
    "b[1, ...]  # Same as [1,:,:]"
   ]
  },
  {
   "cell_type": "markdown",
   "metadata": {
    "Collapsed": "true",
    "heading_collapsed": true,
    "hidden": true
   },
   "source": [
    "## Array Manipulation"
   ]
  },
  {
   "cell_type": "markdown",
   "metadata": {
    "Collapsed": "false"
   },
   "source": [
    "Using the following arrays let's see how we can manipulate them."
   ]
  },
  {
   "cell_type": "code",
   "execution_count": 144,
   "metadata": {
    "Collapsed": "false"
   },
   "outputs": [
    {
     "name": "stdout",
     "output_type": "stream",
     "text": [
      "Dim: 1, Shape: (3,)\n",
      "[1 2 4]\n",
      "Dim: 2, Shape: (2, 3)\n",
      "[[1 2 0]\n",
      " [4 1 6]]\n",
      "Dim: 2, Shape: (3, 1)\n",
      "[[1]\n",
      " [2]\n",
      " [3]]\n",
      "Dim: 3, Shape: (2, 3, 1)\n",
      "[[[0]\n",
      "  [0]\n",
      "  [0]]\n",
      "\n",
      " [[0]\n",
      "  [0]\n",
      "  [0]]]\n"
     ]
    }
   ],
   "source": [
    "a = np.array([1, 2, 4])\n",
    "b = np.array([[1, 2, 0], [4, 1, 6]])\n",
    "\n",
    "c = np.array([[1], [2], [3]])\n",
    "d = np.array([[[0], [0], [0]], [[0], [0], [0]]])\n",
    "\n",
    "print_a(a)\n",
    "print_a(b)\n",
    "print_a(c)\n",
    "print_a(d)"
   ]
  },
  {
   "cell_type": "markdown",
   "metadata": {
    "Collapsed": "true",
    "hidden": true
   },
   "source": [
    "### Changing Array Shape\n",
    "\n",
    "```python\n",
    "np.transpose()\n",
    "my_array.ravel()\n",
    "my_array.flatten()\n",
    "my_array.reshape()  # change array shape\n",
    "my_array.resize()   # like reshape but in place\n",
    "```"
   ]
  },
  {
   "cell_type": "code",
   "execution_count": 145,
   "metadata": {
    "Collapsed": "false",
    "hidden": true
   },
   "outputs": [
    {
     "data": {
      "text/plain": [
       "array([[1, 4],\n",
       "       [2, 1],\n",
       "       [0, 6]])"
      ]
     },
     "execution_count": 145,
     "metadata": {},
     "output_type": "execute_result"
    }
   ],
   "source": [
    "# Transpose flips the rows and columns\n",
    "i = np.transpose(b)\n",
    "i"
   ]
  },
  {
   "cell_type": "code",
   "execution_count": 146,
   "metadata": {
    "Collapsed": "false"
   },
   "outputs": [
    {
     "data": {
      "text/plain": [
       "array([[1, 2, 0],\n",
       "       [4, 1, 6]])"
      ]
     },
     "execution_count": 146,
     "metadata": {},
     "output_type": "execute_result"
    }
   ],
   "source": [
    "# Transpose again gives back the original array\n",
    "i.T  # alternative to writing out transpose"
   ]
  },
  {
   "cell_type": "code",
   "execution_count": 147,
   "metadata": {
    "Collapsed": "false"
   },
   "outputs": [
    {
     "data": {
      "text/plain": [
       "array([1, 2, 0, 4, 1, 6])"
      ]
     },
     "execution_count": 147,
     "metadata": {},
     "output_type": "execute_result"
    }
   ],
   "source": [
    "# Return a flattened array\n",
    "b.ravel()\n",
    "# b.flatten() # alternative to ravel"
   ]
  },
  {
   "cell_type": "code",
   "execution_count": 148,
   "metadata": {
    "Collapsed": "false",
    "hidden": true
   },
   "outputs": [
    {
     "data": {
      "text/plain": [
       "array([[1, 2],\n",
       "       [0, 4],\n",
       "       [1, 6]])"
      ]
     },
     "execution_count": 148,
     "metadata": {},
     "output_type": "execute_result"
    }
   ],
   "source": [
    "# Return array containing the same data with a new shape\n",
    "b.reshape(3, 2)"
   ]
  },
  {
   "cell_type": "code",
   "execution_count": 149,
   "metadata": {
    "Collapsed": "false"
   },
   "outputs": [
    {
     "data": {
      "text/plain": [
       "array([[1, 2, 0],\n",
       "       [4, 1, 6]])"
      ]
     },
     "execution_count": 149,
     "metadata": {},
     "output_type": "execute_result"
    }
   ],
   "source": [
    "b"
   ]
  },
  {
   "cell_type": "code",
   "execution_count": 150,
   "metadata": {
    "Collapsed": "false"
   },
   "outputs": [
    {
     "data": {
      "text/plain": [
       "array([[1, 2, 0, 4, 1, 6]])"
      ]
     },
     "execution_count": 150,
     "metadata": {},
     "output_type": "execute_result"
    }
   ],
   "source": [
    "# Change shape and size of array in place\n",
    "b.resize((1, 6))\n",
    "b"
   ]
  },
  {
   "cell_type": "code",
   "execution_count": 151,
   "metadata": {
    "Collapsed": "false"
   },
   "outputs": [
    {
     "data": {
      "text/plain": [
       "array([[1, 2, 0],\n",
       "       [4, 1, 6]])"
      ]
     },
     "execution_count": 151,
     "metadata": {},
     "output_type": "execute_result"
    }
   ],
   "source": [
    "b.reshape(2, 3)"
   ]
  },
  {
   "cell_type": "markdown",
   "metadata": {
    "Collapsed": "true",
    "hidden": true
   },
   "source": [
    "### Adding/Removing Elements\n",
    "\n",
    "```python\n",
    "my_array.append()\n",
    "my_array.insert()\n",
    "my_array.delete()\n",
    "```"
   ]
  },
  {
   "cell_type": "code",
   "execution_count": 152,
   "metadata": {
    "Collapsed": "false",
    "hidden": true
   },
   "outputs": [
    {
     "data": {
      "text/plain": [
       "array([1, 2, 4, 3, 3, 3])"
      ]
     },
     "execution_count": 152,
     "metadata": {},
     "output_type": "execute_result"
    }
   ],
   "source": [
    "# Append to array\n",
    "np.append(a, [3, 3, 3])"
   ]
  },
  {
   "cell_type": "code",
   "execution_count": 153,
   "metadata": {
    "Collapsed": "false"
   },
   "outputs": [
    {
     "data": {
      "text/plain": [
       "array([1, 5, 2, 4])"
      ]
     },
     "execution_count": 153,
     "metadata": {},
     "output_type": "execute_result"
    }
   ],
   "source": [
    "# Insert values along the given axis before the given indices\n",
    "np.insert(a, 1, 5)"
   ]
  },
  {
   "cell_type": "code",
   "execution_count": 154,
   "metadata": {
    "Collapsed": "false"
   },
   "outputs": [
    {
     "data": {
      "text/plain": [
       "array([1, 4])"
      ]
     },
     "execution_count": 154,
     "metadata": {},
     "output_type": "execute_result"
    }
   ],
   "source": [
    "# Return a new array with sub-arrays along an axis deleted\n",
    "np.delete(a, [1])"
   ]
  },
  {
   "cell_type": "markdown",
   "metadata": {
    "Collapsed": "true",
    "hidden": true
   },
   "source": [
    "### Combining Arrays\n",
    "\n",
    "```python\n",
    "np.concatenate()\n",
    "np.vstack()\n",
    "np.hstack()\n",
    "np.column_stack()\n",
    "np.row_stack()\n",
    "```"
   ]
  },
  {
   "cell_type": "markdown",
   "metadata": {
    "Collapsed": "false"
   },
   "source": [
    "Let's redefine our arrays again."
   ]
  },
  {
   "cell_type": "code",
   "execution_count": 155,
   "metadata": {
    "Collapsed": "false"
   },
   "outputs": [
    {
     "name": "stdout",
     "output_type": "stream",
     "text": [
      "Dim: 2, Shape: (2, 3)\n",
      "[[1 2 4]\n",
      " [1 2 4]]\n",
      "Dim: 2, Shape: (2, 3)\n",
      "[[1 2 0]\n",
      " [4 1 6]]\n"
     ]
    }
   ],
   "source": [
    "a = np.array([[1, 2, 4], [1, 2, 4]])\n",
    "b = np.array([[1, 2, 0], [4, 1, 6]])\n",
    "\n",
    "print_a(a)\n",
    "print_a(b)"
   ]
  },
  {
   "cell_type": "code",
   "execution_count": 156,
   "metadata": {
    "Collapsed": "false",
    "hidden": true
   },
   "outputs": [
    {
     "name": "stdout",
     "output_type": "stream",
     "text": [
      "(2, 3)\n"
     ]
    },
    {
     "data": {
      "text/plain": [
       "array([[1, 2, 4],\n",
       "       [1, 2, 4],\n",
       "       [1, 2, 0],\n",
       "       [4, 1, 6]])"
      ]
     },
     "execution_count": 156,
     "metadata": {},
     "output_type": "execute_result"
    }
   ],
   "source": [
    "# Concatenate arrays\n",
    "print(a.shape)\n",
    "np.concatenate((a, b), axis=0)"
   ]
  },
  {
   "cell_type": "markdown",
   "metadata": {
    "Collapsed": "false"
   },
   "source": [
    "Stack arrays vertically (row-wise)"
   ]
  },
  {
   "cell_type": "code",
   "execution_count": 157,
   "metadata": {
    "Collapsed": "false"
   },
   "outputs": [
    {
     "data": {
      "text/plain": [
       "array([[1, 2, 4],\n",
       "       [1, 2, 4],\n",
       "       [1, 2, 0],\n",
       "       [4, 1, 6]])"
      ]
     },
     "execution_count": 157,
     "metadata": {},
     "output_type": "execute_result"
    }
   ],
   "source": [
    "np.vstack((a, b))"
   ]
  },
  {
   "cell_type": "markdown",
   "metadata": {
    "Collapsed": "false"
   },
   "source": [
    "Stack arrays horizontally (column-wise)"
   ]
  },
  {
   "cell_type": "code",
   "execution_count": 158,
   "metadata": {
    "Collapsed": "false"
   },
   "outputs": [
    {
     "data": {
      "text/plain": [
       "array([[1, 2, 4, 1, 2, 0],\n",
       "       [1, 2, 4, 4, 1, 6]])"
      ]
     },
     "execution_count": 158,
     "metadata": {},
     "output_type": "execute_result"
    }
   ],
   "source": [
    "np.hstack((a, b))"
   ]
  },
  {
   "cell_type": "markdown",
   "metadata": {
    "Collapsed": "true",
    "hidden": true
   },
   "source": [
    "### Splitting Arrays\n",
    "\n",
    "```python\n",
    "np.hsplit()\n",
    "np.vsplit()\n",
    "```"
   ]
  },
  {
   "cell_type": "code",
   "execution_count": 159,
   "metadata": {
    "Collapsed": "false"
   },
   "outputs": [
    {
     "data": {
      "text/plain": [
       "[array([[1],\n",
       "        [1]]), array([[2],\n",
       "        [2]]), array([[4],\n",
       "        [4]])]"
      ]
     },
     "execution_count": 159,
     "metadata": {},
     "output_type": "execute_result"
    }
   ],
   "source": [
    "# Split the array horizontally at the 3rd index\n",
    "np.hsplit(a, 3)"
   ]
  },
  {
   "cell_type": "code",
   "execution_count": 160,
   "metadata": {
    "Collapsed": "false",
    "hidden": true
   },
   "outputs": [
    {
     "data": {
      "text/plain": [
       "[array([[1, 2, 4]]), array([[1, 2, 4]])]"
      ]
     },
     "execution_count": 160,
     "metadata": {},
     "output_type": "execute_result"
    }
   ],
   "source": [
    "# Split the array vertically at the 2nd index\n",
    "np.vsplit(a, 2)"
   ]
  },
  {
   "cell_type": "markdown",
   "metadata": {
    "Collapsed": "true",
    "hidden": true
   },
   "source": [
    "# Exercises\n",
    "\n",
    "We all know we don't really learn anything until we have to struggle through doing it :D \n",
    "\n",
    "Roll up your sleeves and dive in."
   ]
  },
  {
   "cell_type": "markdown",
   "metadata": {
    "Collapsed": "true"
   },
   "source": [
    "## 1.0 Practice Creating Numpy Arrays"
   ]
  },
  {
   "cell_type": "markdown",
   "metadata": {
    "Collapsed": "true"
   },
   "source": [
    "### 1.1 Create a new array with the 3rd, 4th and 6th columns as ones, the rest 0s"
   ]
  },
  {
   "cell_type": "markdown",
   "metadata": {
    "Collapsed": "false"
   },
   "source": [
    "```python\n",
    "my_array = [[0, 0, 0, 1, 1, 0, 1],\n",
    "            [0, 0, 0, 1, 1, 0, 1],\n",
    "            [0, 0, 0, 1, 1, 0, 1],\n",
    "            [0, 0, 0, 1, 1, 0, 1],\n",
    "            [0, 0, 0, 1, 1, 0, 1]]\n",
    "```"
   ]
  },
  {
   "cell_type": "code",
   "execution_count": 162,
   "metadata": {
    "Collapsed": "false"
   },
   "outputs": [],
   "source": [
    "# TRY IT HERE"
   ]
  },
  {
   "cell_type": "markdown",
   "metadata": {
    "Collapsed": "true"
   },
   "source": [
    "### 1.2 Create a new array with 5x4 array with linearly spaced numbers along the rows"
   ]
  },
  {
   "cell_type": "markdown",
   "metadata": {
    "Collapsed": "false"
   },
   "source": [
    "```python\n",
    "my_array = [[1, 2, 3, 4, 5],\n",
    "            [1, 2, 3, 4, 5],\n",
    "            [1, 2, 3, 4, 5],\n",
    "            [1, 2, 3, 4, 5]]\n",
    "```"
   ]
  },
  {
   "cell_type": "code",
   "execution_count": 164,
   "metadata": {
    "Collapsed": "false"
   },
   "outputs": [],
   "source": [
    "# TRY IT HERE"
   ]
  },
  {
   "cell_type": "markdown",
   "metadata": {
    "Collapsed": "true"
   },
   "source": [
    "### 1.3 Create a meshgrid that is 5 wide by 7 tall (use any number range for the x and y axis)"
   ]
  },
  {
   "cell_type": "code",
   "execution_count": null,
   "metadata": {
    "Collapsed": "false"
   },
   "outputs": [],
   "source": [
    "# TRY IT HERE"
   ]
  },
  {
   "cell_type": "markdown",
   "metadata": {
    "Collapsed": "true"
   },
   "source": [
    "### 1.4 Create a 5x3 array of random integers between -2 and 2 (inclusive)"
   ]
  },
  {
   "cell_type": "code",
   "execution_count": 165,
   "metadata": {
    "Collapsed": "false"
   },
   "outputs": [],
   "source": [
    "# TRY IT HERE"
   ]
  },
  {
   "cell_type": "markdown",
   "metadata": {
    "Collapsed": "true"
   },
   "source": [
    "### 1.5 Create an array of tuples with date range"
   ]
  },
  {
   "cell_type": "markdown",
   "metadata": {
    "Collapsed": "false"
   },
   "source": [
    "Create a numpy array of tuples with dates from 2019-2030 in the first position followed by 6 random numbers. Try to do this in the most time efficient way.\n",
    "\n",
    "```python\n",
    "data_to_create = [('2019-01-01', 100.  , 104.06,  95.96, 100.34, 22351900, 100.34)\n",
    "                  ('2020-01-01', 101.01, 109.08, 100.5 , 108.31, 11428600, 108.31)\n",
    "                  ('2021-01-01', 110.75, 113.48, 109.05, 109.4 ,  9137200, 109.4 )\n",
    "                  ...\n",
    "                  ('2028-01-01', 313.16, 341.89, 310.3 , 332.  , 10597800, 332.  )\n",
    "                  ('2029-01-01', 355.79, 381.95, 345.75, 381.02,  8905500, 381.02)\n",
    "                  ('2030-01-01', 393.53, 394.5 , 357.  , 362.71,  7784800, 362.71)]\n",
    "```\n",
    "\n",
    "*Tip: [Checkout the numpy datetime docs](https://docs.scipy.org/doc/numpy/reference/arrays.datetime.html)*"
   ]
  },
  {
   "cell_type": "code",
   "execution_count": 163,
   "metadata": {
    "Collapsed": "false"
   },
   "outputs": [],
   "source": [
    "# TRY IT HERE"
   ]
  },
  {
   "cell_type": "markdown",
   "metadata": {
    "Collapsed": "true"
   },
   "source": [
    "## 2.0 Practice Manipulating Numpy Arrays"
   ]
  },
  {
   "cell_type": "markdown",
   "metadata": {
    "Collapsed": "true"
   },
   "source": [
    "### 2.1 Clean up this data (replace all negatives with 0)"
   ]
  },
  {
   "cell_type": "code",
   "execution_count": 218,
   "metadata": {
    "Collapsed": "false"
   },
   "outputs": [
    {
     "data": {
      "text/plain": [
       "array([[  1,   1,  -2,   3,   0,  -6,   2,   4],\n",
       "       [ -7,  -4,   4,   8,  -8,   1,   6,   5],\n",
       "       [ -9,  -3,  -2,   1,  -2,  -6,  -3,   0],\n",
       "       [ -8,  -5,  -1,  -1,  -5,   4,   8,   3],\n",
       "       [  5,   6,  -4,   3,  -7,  -2,  -3, -10]])"
      ]
     },
     "execution_count": 218,
     "metadata": {},
     "output_type": "execute_result"
    }
   ],
   "source": [
    "data_to_clean = np.random.randint(-10, 10, size=(5, 8))\n",
    "data_to_clean"
   ]
  },
  {
   "cell_type": "code",
   "execution_count": 219,
   "metadata": {
    "Collapsed": "false"
   },
   "outputs": [],
   "source": [
    "# TRY IT HERE"
   ]
  },
  {
   "cell_type": "markdown",
   "metadata": {
    "Collapsed": "true"
   },
   "source": [
    "### 2.2 Flip this array (so rows are columns and columns are rows)"
   ]
  },
  {
   "cell_type": "code",
   "execution_count": 75,
   "metadata": {
    "Collapsed": "false"
   },
   "outputs": [
    {
     "data": {
      "text/plain": [
       "array([[1, 1, 1],\n",
       "       [2, 2, 2]])"
      ]
     },
     "execution_count": 75,
     "metadata": {},
     "output_type": "execute_result"
    }
   ],
   "source": [
    "flip_me = np.array([[1, 1, 1],\n",
    "                    [2, 2, 2]])\n",
    "flip_me"
   ]
  },
  {
   "cell_type": "code",
   "execution_count": 226,
   "metadata": {
    "Collapsed": "false"
   },
   "outputs": [],
   "source": [
    "# TRY IT HERE"
   ]
  },
  {
   "cell_type": "markdown",
   "metadata": {
    "Collapsed": "true"
   },
   "source": [
    "### 2.3 Remove all rows with a cumulative sum less than 60"
   ]
  },
  {
   "cell_type": "code",
   "execution_count": 224,
   "metadata": {
    "Collapsed": "false"
   },
   "outputs": [
    {
     "data": {
      "text/plain": [
       "array([[0, 0, 6, 0, 0, 3, 8, 7, 3, 4, 0, 9, 2, 7, 6],\n",
       "       [7, 7, 4, 1, 7, 2, 7, 7, 8, 1, 9, 2, 0, 1, 9],\n",
       "       [0, 6, 4, 8, 0, 0, 9, 3, 9, 3, 3, 6, 5, 2, 0],\n",
       "       [7, 8, 6, 3, 7, 6, 0, 4, 1, 3, 8, 8, 8, 4, 9],\n",
       "       [8, 3, 5, 9, 7, 9, 9, 6, 3, 5, 4, 8, 3, 0, 9],\n",
       "       [5, 4, 0, 1, 8, 1, 9, 2, 6, 8, 3, 0, 6, 8, 6],\n",
       "       [5, 0, 2, 8, 3, 3, 3, 5, 1, 4, 9, 8, 1, 5, 7],\n",
       "       [9, 4, 0, 4, 2, 2, 6, 0, 8, 2, 3, 5, 5, 7, 4],\n",
       "       [8, 5, 8, 4, 9, 3, 5, 0, 8, 3, 7, 0, 6, 4, 6],\n",
       "       [3, 1, 3, 3, 0, 3, 3, 1, 2, 5, 0, 0, 1, 1, 2],\n",
       "       [4, 7, 5, 7, 7, 6, 1, 6, 1, 9, 8, 3, 0, 8, 0],\n",
       "       [7, 1, 4, 9, 6, 1, 5, 7, 7, 7, 1, 3, 1, 6, 5],\n",
       "       [1, 4, 7, 1, 7, 0, 0, 6, 1, 6, 2, 1, 2, 3, 9],\n",
       "       [0, 9, 4, 6, 5, 1, 1, 5, 3, 3, 9, 5, 7, 8, 0],\n",
       "       [1, 0, 4, 2, 4, 1, 7, 7, 6, 8, 2, 1, 6, 1, 7],\n",
       "       [9, 9, 1, 2, 6, 7, 8, 7, 0, 1, 2, 3, 1, 9, 4],\n",
       "       [0, 1, 2, 0, 5, 4, 2, 0, 9, 0, 2, 9, 7, 6, 7],\n",
       "       [7, 1, 8, 3, 1, 4, 9, 4, 5, 5, 5, 2, 7, 9, 8],\n",
       "       [7, 3, 8, 5, 5, 3, 2, 2, 6, 8, 7, 2, 9, 8, 9],\n",
       "       [9, 4, 0, 3, 1, 6, 0, 0, 8, 7, 5, 7, 9, 5, 1]])"
      ]
     },
     "execution_count": 224,
     "metadata": {},
     "output_type": "execute_result"
    }
   ],
   "source": [
    "data = np.random.randint(10, size=(20, 15))\n",
    "data"
   ]
  },
  {
   "cell_type": "code",
   "execution_count": 225,
   "metadata": {
    "Collapsed": "false"
   },
   "outputs": [],
   "source": [
    "# TRY IT HERE"
   ]
  },
  {
   "cell_type": "markdown",
   "metadata": {
    "Collapsed": "true"
   },
   "source": [
    "### 2.4 Sort along 2nd column then 1st row of this array"
   ]
  },
  {
   "cell_type": "markdown",
   "metadata": {
    "Collapsed": "false"
   },
   "source": [
    "```python\n",
    "sort_me = [[0, 2, 5, 3],\n",
    "           [7, 2, 4, 3],\n",
    "           [1, 2, 5, 2],\n",
    "           [2, 3, 5, 9]]\n",
    "```"
   ]
  },
  {
   "cell_type": "code",
   "execution_count": 273,
   "metadata": {
    "Collapsed": "false"
   },
   "outputs": [
    {
     "data": {
      "text/plain": [
       "array([[0, 2, 5, 3],\n",
       "       [7, 2, 4, 3],\n",
       "       [1, 2, 5, 2],\n",
       "       [2, 3, 5, 9]])"
      ]
     },
     "execution_count": 273,
     "metadata": {},
     "output_type": "execute_result"
    }
   ],
   "source": [
    "sort_me = np.array([[0, 2, 5, 3],\n",
    "                    [7, 2, 4, 3],\n",
    "                    [1, 2, 5, 2],\n",
    "                    [2, 3, 5, 9]])\n",
    "sort_me"
   ]
  },
  {
   "cell_type": "code",
   "execution_count": null,
   "metadata": {
    "Collapsed": "false"
   },
   "outputs": [],
   "source": [
    "# TRY IT HERE"
   ]
  },
  {
   "cell_type": "markdown",
   "metadata": {
    "Collapsed": "true"
   },
   "source": [
    "### 2.5 Create a column of 12 linearly spaced values between 1 and 3 then concatenate it to the existing array"
   ]
  },
  {
   "cell_type": "markdown",
   "metadata": {},
   "source": [
    "```python\n",
    "existing_array = [[6, 3, 3],\n",
    "                  [2, 0, 8],\n",
    "                  [8, 0, 8],\n",
    "                  [5, 1, 3],\n",
    "                  [1, 9, 6],\n",
    "                  [5, 6, 1],\n",
    "                  [6, 4, 2],\n",
    "                  [8, 2, 1],\n",
    "                  [7, 8, 7],\n",
    "                  [4, 7, 8],\n",
    "                  [8, 2, 7],\n",
    "                  [1, 1, 0]]\n",
    "```"
   ]
  },
  {
   "cell_type": "code",
   "execution_count": 106,
   "metadata": {
    "Collapsed": "false"
   },
   "outputs": [
    {
     "data": {
      "text/plain": [
       "array([[6, 3, 3],\n",
       "       [2, 0, 8],\n",
       "       [8, 0, 8],\n",
       "       [5, 1, 3],\n",
       "       [1, 9, 6],\n",
       "       [5, 6, 1],\n",
       "       [6, 4, 2],\n",
       "       [8, 2, 1],\n",
       "       [7, 8, 7],\n",
       "       [4, 7, 8],\n",
       "       [8, 2, 7],\n",
       "       [1, 1, 0]])"
      ]
     },
     "execution_count": 106,
     "metadata": {},
     "output_type": "execute_result"
    }
   ],
   "source": [
    "existing_array = np.random.randint(10, size=(12, 3))\n",
    "existing_array"
   ]
  },
  {
   "cell_type": "markdown",
   "metadata": {
    "Collapsed": "true"
   },
   "source": [
    "### 2.6 Split the matrix into three equal parts"
   ]
  },
  {
   "cell_type": "markdown",
   "metadata": {
    "Collapsed": "false"
   },
   "source": [
    "```python\n",
    "matrix = [[4, 8, 2, 2, 6, 7, 4, 4, 7, 8, 7, 8],\n",
    "          [1, 7, 6, 5, 8, 3, 5, 7, 6, 0, 5, 7],\n",
    "          [7, 7, 8, 2, 2, 8, 0, 7, 0, 6, 8, 4],\n",
    "          [1, 7, 2, 0, 1, 5, 5, 8, 4, 4, 0, 4],\n",
    "          [7, 4, 4, 0, 8, 6, 6, 1, 1, 5, 2, 7],\n",
    "          [1, 5, 6, 7, 1, 2, 7, 3, 7, 0, 3, 8],\n",
    "          [6, 2, 5, 8, 3, 5, 6, 7, 3, 5, 4, 4],\n",
    "          [2, 3, 8, 0, 0, 6, 7, 3, 0, 5, 2, 2],\n",
    "          [3, 6, 8, 0, 8, 3, 7, 6, 0, 6, 0, 1],\n",
    "          [0, 4, 3, 8, 3, 6, 6, 2, 6, 8, 0, 4]]\n",
    "```"
   ]
  },
  {
   "cell_type": "code",
   "execution_count": 299,
   "metadata": {
    "Collapsed": "false"
   },
   "outputs": [
    {
     "data": {
      "text/plain": [
       "array([[8, 7, 4, 2, 5, 0, 6, 0, 0, 8, 3, 0],\n",
       "       [7, 8, 5, 8, 3, 1, 8, 7, 6, 4, 3, 5],\n",
       "       [0, 3, 7, 2, 3, 2, 0, 2, 0, 8, 8, 6],\n",
       "       [1, 4, 5, 2, 1, 5, 7, 4, 7, 0, 1, 5],\n",
       "       [7, 3, 1, 0, 5, 4, 3, 1, 7, 6, 4, 1],\n",
       "       [3, 0, 4, 7, 5, 3, 0, 7, 2, 8, 5, 7],\n",
       "       [1, 0, 4, 8, 2, 4, 3, 3, 3, 5, 0, 8],\n",
       "       [8, 3, 7, 6, 0, 0, 0, 1, 3, 8, 5, 6],\n",
       "       [2, 1, 1, 1, 0, 7, 5, 0, 5, 3, 8, 5],\n",
       "       [2, 3, 2, 5, 5, 1, 3, 3, 6, 7, 7, 6]])"
      ]
     },
     "execution_count": 299,
     "metadata": {},
     "output_type": "execute_result"
    }
   ],
   "source": [
    "matrix = np.random.randint(0, 9, size=(10, 12))\n",
    "matrix"
   ]
  },
  {
   "cell_type": "code",
   "execution_count": null,
   "metadata": {
    "Collapsed": "false"
   },
   "outputs": [],
   "source": [
    "# TRY IT HERE"
   ]
  },
  {
   "cell_type": "markdown",
   "metadata": {
    "Collapsed": "true"
   },
   "source": [
    "### 2.7 Create a linearly spaced column vector of size 12 then insert it after the 1st column of the existing array"
   ]
  },
  {
   "cell_type": "markdown",
   "metadata": {
    "Collapsed": "false"
   },
   "source": [
    "```python\n",
    "existing_array = [[1., 1., 1.],\n",
    "                  [1., 1., 1.],\n",
    "                  [1., 1., 1.],\n",
    "                  [1., 1., 1.],\n",
    "                  [1., 1., 1.],\n",
    "                  [1., 1., 1.],\n",
    "                  [1., 1., 1.],\n",
    "                  [1., 1., 1.],\n",
    "                  [1., 1., 1.],\n",
    "                  [1., 1., 1.],\n",
    "                  [1., 1., 1.],\n",
    "                  [1., 1., 1.]]\n",
    "```"
   ]
  },
  {
   "cell_type": "code",
   "execution_count": 311,
   "metadata": {
    "Collapsed": "false"
   },
   "outputs": [
    {
     "data": {
      "text/plain": [
       "array([[1., 1., 1.],\n",
       "       [1., 1., 1.],\n",
       "       [1., 1., 1.],\n",
       "       [1., 1., 1.],\n",
       "       [1., 1., 1.],\n",
       "       [1., 1., 1.],\n",
       "       [1., 1., 1.],\n",
       "       [1., 1., 1.],\n",
       "       [1., 1., 1.],\n",
       "       [1., 1., 1.],\n",
       "       [1., 1., 1.],\n",
       "       [1., 1., 1.]])"
      ]
     },
     "execution_count": 311,
     "metadata": {},
     "output_type": "execute_result"
    }
   ],
   "source": [
    "existing_array = np.ones((12, 3))\n",
    "existing_array"
   ]
  },
  {
   "cell_type": "code",
   "execution_count": null,
   "metadata": {
    "Collapsed": "false"
   },
   "outputs": [],
   "source": [
    "# TRY IT HERE"
   ]
  },
  {
   "cell_type": "markdown",
   "metadata": {
    "Collapsed": "true"
   },
   "source": [
    "### 2.8 Convert the array of floats to integers"
   ]
  },
  {
   "cell_type": "code",
   "execution_count": 333,
   "metadata": {
    "Collapsed": "false"
   },
   "outputs": [
    {
     "data": {
      "text/plain": [
       "array([[0.60074726, 0.41863539, 0.89532358],\n",
       "       [0.1411722 , 0.19239179, 0.92012864],\n",
       "       [0.21103604, 0.40678895, 0.94253779],\n",
       "       [0.82255248, 0.94928776, 0.51421292],\n",
       "       [0.12592003, 0.370149  , 0.76135955],\n",
       "       [0.13937261, 0.02732017, 0.95024178]])"
      ]
     },
     "execution_count": 333,
     "metadata": {},
     "output_type": "execute_result"
    }
   ],
   "source": [
    "floats = np.random.random((6, 3))\n",
    "floats"
   ]
  },
  {
   "cell_type": "code",
   "execution_count": 297,
   "metadata": {
    "Collapsed": "false"
   },
   "outputs": [],
   "source": [
    "# TRY IT HERE"
   ]
  },
  {
   "cell_type": "markdown",
   "metadata": {
    "Collapsed": "true"
   },
   "source": [
    "### 2.9 Reshape the array into a square matrix"
   ]
  },
  {
   "cell_type": "code",
   "execution_count": 354,
   "metadata": {
    "Collapsed": "false"
   },
   "outputs": [
    {
     "data": {
      "text/plain": [
       "array([ 0,  1,  2,  3,  4,  5,  6,  7,  8,  9, 10, 11, 12, 13, 14, 15, 16,\n",
       "       17, 18, 19, 20, 21, 22, 23, 24])"
      ]
     },
     "execution_count": 354,
     "metadata": {},
     "output_type": "execute_result"
    }
   ],
   "source": [
    "reshape_me = np.arange(0, 25, 1)\n",
    "reshape_me"
   ]
  },
  {
   "cell_type": "code",
   "execution_count": null,
   "metadata": {
    "Collapsed": "false"
   },
   "outputs": [],
   "source": [
    "# TRY IT HERE"
   ]
  },
  {
   "cell_type": "markdown",
   "metadata": {
    "Collapsed": "true"
   },
   "source": [
    "### 2.10 Flatten the matrix into a linear array"
   ]
  },
  {
   "cell_type": "markdown",
   "metadata": {
    "Collapsed": "false"
   },
   "source": [
    "```python\n",
    "matrix = [[ 0,  1,  2,  3,  4,  5,  6,  7,  8,  9],\n",
    "          [10, 11, 12, 13, 14, 15, 16, 17, 18, 19],\n",
    "          [20, 21, 22, 23, 24, 25, 26, 27, 28, 29],\n",
    "          [30, 31, 32, 33, 34, 35, 36, 37, 38, 39],\n",
    "          [40, 41, 42, 43, 44, 45, 46, 47, 48, 49],\n",
    "          [50, 51, 52, 53, 54, 55, 56, 57, 58, 59],\n",
    "          [60, 61, 62, 63, 64, 65, 66, 67, 68, 69],\n",
    "          [70, 71, 72, 73, 74, 75, 76, 77, 78, 79],\n",
    "          [80, 81, 82, 83, 84, 85, 86, 87, 88, 89],\n",
    "          [90, 91, 92, 93, 94, 95, 96, 97, 98, 99]]\n",
    "```"
   ]
  },
  {
   "cell_type": "code",
   "execution_count": 360,
   "metadata": {
    "Collapsed": "false"
   },
   "outputs": [
    {
     "data": {
      "text/plain": [
       "array([[ 0,  1,  2,  3,  4,  5,  6,  7,  8,  9],\n",
       "       [10, 11, 12, 13, 14, 15, 16, 17, 18, 19],\n",
       "       [20, 21, 22, 23, 24, 25, 26, 27, 28, 29],\n",
       "       [30, 31, 32, 33, 34, 35, 36, 37, 38, 39],\n",
       "       [40, 41, 42, 43, 44, 45, 46, 47, 48, 49],\n",
       "       [50, 51, 52, 53, 54, 55, 56, 57, 58, 59],\n",
       "       [60, 61, 62, 63, 64, 65, 66, 67, 68, 69],\n",
       "       [70, 71, 72, 73, 74, 75, 76, 77, 78, 79],\n",
       "       [80, 81, 82, 83, 84, 85, 86, 87, 88, 89],\n",
       "       [90, 91, 92, 93, 94, 95, 96, 97, 98, 99]])"
      ]
     },
     "execution_count": 360,
     "metadata": {},
     "output_type": "execute_result"
    }
   ],
   "source": [
    "matrix = np.arange(100).reshape((10, 10))\n",
    "matrix"
   ]
  },
  {
   "cell_type": "code",
   "execution_count": null,
   "metadata": {
    "Collapsed": "false"
   },
   "outputs": [],
   "source": [
    "# TRY IT HERE"
   ]
  },
  {
   "cell_type": "markdown",
   "metadata": {
    "Collapsed": "true"
   },
   "source": [
    "# Appendix"
   ]
  },
  {
   "cell_type": "markdown",
   "metadata": {
    "Collapsed": "true"
   },
   "source": [
    "## Answers to Exercises\n",
    "\n",
    "Many of the exercises will have several correct answers so use my answers as a guide. \n",
    "\n",
    "*Note: if you aren't sure which method is best, try using the the `%timeit` magic to inspect the total time it takes to run!*"
   ]
  },
  {
   "cell_type": "markdown",
   "metadata": {
    "Collapsed": "true"
   },
   "source": [
    "### 1.0 Practice Creating Numpy Arrays"
   ]
  },
  {
   "cell_type": "markdown",
   "metadata": {
    "Collapsed": "true"
   },
   "source": [
    "#### 1.1\n",
    "\n",
    "```python\n",
    "my_array = [[0, 0, 0, 1, 1, 0, 1],\n",
    "            [0, 0, 0, 1, 1, 0, 1],\n",
    "            [0, 0, 0, 1, 1, 0, 1],\n",
    "            [0, 0, 0, 1, 1, 0, 1],\n",
    "            [0, 0, 0, 1, 1, 0, 1]]\n",
    "```"
   ]
  },
  {
   "cell_type": "code",
   "execution_count": 176,
   "metadata": {
    "Collapsed": "false"
   },
   "outputs": [
    {
     "data": {
      "text/plain": [
       "array([[0., 0., 0., 0., 0., 0., 0.],\n",
       "       [0., 0., 0., 0., 0., 0., 0.],\n",
       "       [0., 0., 0., 0., 0., 0., 0.],\n",
       "       [0., 0., 0., 0., 0., 0., 0.],\n",
       "       [0., 0., 0., 0., 0., 0., 0.]])"
      ]
     },
     "execution_count": 176,
     "metadata": {},
     "output_type": "execute_result"
    }
   ],
   "source": [
    "# Create a 5x7 array of zeros\n",
    "my_array = np.zeros((5, 7))\n",
    "my_array"
   ]
  },
  {
   "cell_type": "code",
   "execution_count": 177,
   "metadata": {
    "Collapsed": "false"
   },
   "outputs": [
    {
     "data": {
      "text/plain": [
       "array([[0., 0., 0., 1., 1., 0., 1.],\n",
       "       [0., 0., 0., 1., 1., 0., 1.],\n",
       "       [0., 0., 0., 1., 1., 0., 1.],\n",
       "       [0., 0., 0., 1., 1., 0., 1.],\n",
       "       [0., 0., 0., 1., 1., 0., 1.]])"
      ]
     },
     "execution_count": 177,
     "metadata": {},
     "output_type": "execute_result"
    }
   ],
   "source": [
    "# Then we can set the cols 3, 4, 6 to 1\n",
    "my_array[:, [3, 4, 6]] = 1\n",
    "my_array"
   ]
  },
  {
   "cell_type": "markdown",
   "metadata": {
    "Collapsed": "true"
   },
   "source": [
    "#### 1.2\n",
    "```python\n",
    "my_array = [[1, 2, 3, 4, 5],\n",
    "            [1, 2, 3, 4, 5],\n",
    "            [1, 2, 3, 4, 5],\n",
    "            [1, 2, 3, 4, 5]]\n",
    "```"
   ]
  },
  {
   "cell_type": "markdown",
   "metadata": {
    "Collapsed": "false"
   },
   "source": [
    "To solve this problem we could take advantage of broadcasting. Just create an array of ones then broadcast a `[1, 2, 3, 4, 5]` across each row."
   ]
  },
  {
   "cell_type": "code",
   "execution_count": 199,
   "metadata": {
    "Collapsed": "false"
   },
   "outputs": [
    {
     "data": {
      "text/plain": [
       "array([[1., 2., 3., 4., 5.],\n",
       "       [1., 2., 3., 4., 5.],\n",
       "       [1., 2., 3., 4., 5.],\n",
       "       [1., 2., 3., 4., 5.]])"
      ]
     },
     "execution_count": 199,
     "metadata": {},
     "output_type": "execute_result"
    }
   ],
   "source": [
    "my_array = np.multiply(np.array([1, 2, 3, 4, 5]), np.ones((4, 5)))"
   ]
  },
  {
   "cell_type": "markdown",
   "metadata": {
    "Collapsed": "true"
   },
   "source": [
    "#### 1.3\n",
    "\n",
    "```python\n",
    "xs = [[1 1 1 1 1 1 1]\n",
    "      [2 2 2 2 2 2 2]\n",
    "      [3 3 3 3 3 3 3]\n",
    "      [4 4 4 4 4 4 4]\n",
    "      [5 5 5 5 5 5 5]]\n",
    "ys = [[-3 -2 -1  0  1  2  3]\n",
    "      [-3 -2 -1  0  1  2  3]\n",
    "      [-3 -2 -1  0  1  2  3]\n",
    "      [-3 -2 -1  0  1  2  3]\n",
    "      [-3 -2 -1  0  1  2  3]]\n",
    "```"
   ]
  },
  {
   "cell_type": "code",
   "execution_count": 201,
   "metadata": {
    "Collapsed": "false"
   },
   "outputs": [
    {
     "name": "stdout",
     "output_type": "stream",
     "text": [
      "Dim: 2, Shape: (5, 7)\n",
      "[[1 1 1 1 1 1 1]\n",
      " [2 2 2 2 2 2 2]\n",
      " [3 3 3 3 3 3 3]\n",
      " [4 4 4 4 4 4 4]\n",
      " [5 5 5 5 5 5 5]]\n",
      "Dim: 2, Shape: (5, 7)\n",
      "[[-3 -2 -1  0  1  2  3]\n",
      " [-3 -2 -1  0  1  2  3]\n",
      " [-3 -2 -1  0  1  2  3]\n",
      " [-3 -2 -1  0  1  2  3]\n",
      " [-3 -2 -1  0  1  2  3]]\n"
     ]
    }
   ],
   "source": [
    "xs, ys = np.mgrid[1:6, -3:4]\n",
    "print_a(xs)\n",
    "print_a(ys)"
   ]
  },
  {
   "cell_type": "markdown",
   "metadata": {
    "Collapsed": "true"
   },
   "source": [
    "#### 1.4\n",
    "\n",
    "```python\n",
    "my_array = [[ 2,  0,  0],\n",
    "            [ 2,  2,  2],\n",
    "            [-1,  0,  1],\n",
    "            [-2,  1, -1],\n",
    "            [ 2, -2, -2]]\n",
    "```"
   ]
  },
  {
   "cell_type": "code",
   "execution_count": 204,
   "metadata": {
    "Collapsed": "false"
   },
   "outputs": [
    {
     "data": {
      "text/plain": [
       "array([[ 2,  0,  0],\n",
       "       [ 2,  2,  2],\n",
       "       [-1,  0,  1],\n",
       "       [-2,  1, -1],\n",
       "       [ 2, -2, -2]])"
      ]
     },
     "execution_count": 204,
     "metadata": {},
     "output_type": "execute_result"
    }
   ],
   "source": [
    "np.random.randint(-2, 3, size=(5, 3))"
   ]
  },
  {
   "cell_type": "markdown",
   "metadata": {
    "Collapsed": "true"
   },
   "source": [
    "#### 1.5\n",
    "\n",
    "```python\n",
    "data_to_create = [('2019-01-01', 100.  , 104.06,  95.96, 100.34, 22351900, 100.34)\n",
    "                  ('2020-01-01', 101.01, 109.08, 100.5 , 108.31, 11428600, 108.31)\n",
    "                  ('2021-01-01', 110.75, 113.48, 109.05, 109.4 ,  9137200, 109.4 )\n",
    "                  ...\n",
    "                  ('2028-01-01', 313.16, 341.89, 310.3 , 332.  , 10597800, 332.  )\n",
    "                  ('2029-01-01', 355.79, 381.95, 345.75, 381.02,  8905500, 381.02)\n",
    "                  ('2030-01-01', 393.53, 394.5 , 357.  , 362.71,  7784800, 362.71)]\n",
    "```\n"
   ]
  },
  {
   "cell_type": "code",
   "execution_count": 205,
   "metadata": {
    "Collapsed": "false"
   },
   "outputs": [],
   "source": [
    "my_data = []\n",
    "for i in range(2019, 2030):\n",
    "    random_nums = np.random.random_sample(6)\n",
    "    date = str(i)+'-01-01'\n",
    "#     my_data[i-2019] = (date, *random_nums)\n",
    "    my_data.append((date, *random_nums))"
   ]
  },
  {
   "cell_type": "code",
   "execution_count": 208,
   "metadata": {
    "Collapsed": "false"
   },
   "outputs": [
    {
     "data": {
      "text/plain": [
       "array([['2019-01-01', '0.8543633293176491', '0.47015283689789966',\n",
       "        '0.7188984130265154', '0.34850548937058534',\n",
       "        '0.28444986404613437', '0.012810189674910433'],\n",
       "       ['2020-01-01', '0.07876009374516324', '0.31573346439218786',\n",
       "        '0.29074744067867975', '0.1547935409020268',\n",
       "        '0.7195849594700432', '0.9735705052506166'],\n",
       "       ['2021-01-01', '0.3174352602303293', '0.1390551946626687',\n",
       "        '0.9274894643301994', '0.763401807573391', '0.05779574734163573',\n",
       "        '0.7912932903536393'],\n",
       "       ['2022-01-01', '0.29102097265975335', '0.8384027542910463',\n",
       "        '0.34557706166907676', '0.7189074054246382',\n",
       "        '0.4939681331720306', '0.9252472118582863'],\n",
       "       ['2023-01-01', '0.28649267121851385', '0.602814711969647',\n",
       "        '0.6742005213262372', '0.1209395816934713',\n",
       "        '0.49283406233996674', '0.04162228643667665'],\n",
       "       ['2024-01-01', '0.8390641250157966', '0.40420550580261005',\n",
       "        '0.3050980083743059', '0.160561455175266', '0.2752993228893137',\n",
       "        '0.9488498092394002'],\n",
       "       ['2025-01-01', '0.8640045475627071', '0.829860360483824',\n",
       "        '0.2974902255460816', '0.32762609035693335',\n",
       "        '0.5128508749328039', '0.77707363744223'],\n",
       "       ['2026-01-01', '0.9266954791205083', '0.9344842042283135',\n",
       "        '0.7417568396806519', '0.9590899085656674',\n",
       "        '0.16907733199568098', '0.9019113770008313'],\n",
       "       ['2027-01-01', '0.8555173289368434', '0.6750808296427688',\n",
       "        '0.9367417420542576', '0.5180553043384509',\n",
       "        '0.14527201190470618', '0.924352854410254'],\n",
       "       ['2028-01-01', '0.012723291969732431', '0.6721762503517409',\n",
       "        '0.013388444033769376', '0.7953182221170417',\n",
       "        '0.4631260198431978', '0.2759364039245471'],\n",
       "       ['2029-01-01', '0.9347968431607621', '0.3248210282816917',\n",
       "        '0.6731398797500636', '0.3931194783803118', '0.6906361977615343',\n",
       "        '0.7230308248495234']], dtype='<U20')"
      ]
     },
     "execution_count": 208,
     "metadata": {},
     "output_type": "execute_result"
    }
   ],
   "source": [
    "my_data = np.asarray(my_data)\n",
    "my_data"
   ]
  },
  {
   "cell_type": "markdown",
   "metadata": {
    "Collapsed": "true"
   },
   "source": [
    "### 2.0 Practice Manipulating Numpy Arrays"
   ]
  },
  {
   "cell_type": "markdown",
   "metadata": {
    "Collapsed": "true"
   },
   "source": [
    "#### 2.1\n",
    "\n",
    "```python\n",
    "data_to_clean = [[ -1,   1,  -4,   5,  -9,   4,   5,   1],\n",
    "                 [  4,   2,  -9,  -9,  -6,   4,  -3,   2],\n",
    "                 [ -4,   7,  -5,  -1, -10,   8,  -6,  -4],\n",
    "                 [  1,   6,   9,  -6,  -5,  -2,  -9,   8],\n",
    "                 [ -2,   2,  -4,   1,   9,  -4,  -1,   7]]\n",
    "```"
   ]
  },
  {
   "cell_type": "code",
   "execution_count": 216,
   "metadata": {
    "Collapsed": "false"
   },
   "outputs": [
    {
     "data": {
      "text/plain": [
       "array([[  1,  -5,   7,   7,  -7,   4,   8, -10],\n",
       "       [ -1, -10, -10,   4,  -1,  -5,   1,  -1],\n",
       "       [ -6,   4,   7,  -1,   7,   5,  -9,   3],\n",
       "       [  9,  -5,   8,  -3,  -9,   6,   0, -10],\n",
       "       [  5,   8,   8,   5,   9,  -9, -10,  -9]])"
      ]
     },
     "execution_count": 216,
     "metadata": {},
     "output_type": "execute_result"
    }
   ],
   "source": [
    "data_to_clean = np.random.randint(-10, 10, size=(5, 8))\n",
    "data_to_clean"
   ]
  },
  {
   "cell_type": "code",
   "execution_count": 217,
   "metadata": {
    "Collapsed": "false"
   },
   "outputs": [
    {
     "data": {
      "text/plain": [
       "array([[1, 0, 7, 7, 0, 4, 8, 0],\n",
       "       [0, 0, 0, 4, 0, 0, 1, 0],\n",
       "       [0, 4, 7, 0, 7, 5, 0, 3],\n",
       "       [9, 0, 8, 0, 0, 6, 0, 0],\n",
       "       [5, 8, 8, 5, 9, 0, 0, 0]])"
      ]
     },
     "execution_count": 217,
     "metadata": {},
     "output_type": "execute_result"
    }
   ],
   "source": [
    "data_to_clean[data_to_clean < 0] = 0\n",
    "data_to_clean"
   ]
  },
  {
   "cell_type": "markdown",
   "metadata": {
    "Collapsed": "true"
   },
   "source": [
    "#### 2.2\n",
    "\n",
    "```python\n",
    "flip_me = [[1, 1, 1],\n",
    "           [2, 2, 2]]\n",
    "```"
   ]
  },
  {
   "cell_type": "code",
   "execution_count": 222,
   "metadata": {
    "Collapsed": "false"
   },
   "outputs": [
    {
     "data": {
      "text/plain": [
       "array([[1, 1, 1],\n",
       "       [2, 2, 2]])"
      ]
     },
     "execution_count": 222,
     "metadata": {},
     "output_type": "execute_result"
    }
   ],
   "source": [
    "flip_me = np.array([[1, 1, 1], [2, 2, 2]])\n",
    "flip_me"
   ]
  },
  {
   "cell_type": "code",
   "execution_count": 223,
   "metadata": {
    "Collapsed": "false"
   },
   "outputs": [
    {
     "data": {
      "text/plain": [
       "array([[1, 2],\n",
       "       [1, 2],\n",
       "       [1, 2]])"
      ]
     },
     "execution_count": 223,
     "metadata": {},
     "output_type": "execute_result"
    }
   ],
   "source": [
    "flip_me.transpose()"
   ]
  },
  {
   "cell_type": "markdown",
   "metadata": {
    "Collapsed": "true"
   },
   "source": [
    "#### 2.3\n",
    "```python\n",
    "data = [[2, 5, 5, 3, 0, 4, 6, 8, 5, 3, 2, 6, 3, 8, 6],\n",
    "        [9, 4, 7, 7, 4, 0, 1, 5, 2, 2, 9, 9, 1, 0, 9],\n",
    "        [3, 7, 4, 7, 0, 3, 8, 1, 0, 4, 7, 1, 8, 4, 0],\n",
    "        ...\n",
    "        [4, 7, 1, 3, 3, 5, 4, 0, 5, 3, 7, 7, 6, 3, 3],\n",
    "        [0, 8, 7, 8, 0, 2, 3, 4, 4, 0, 1, 3, 5, 0, 6]]\n",
    "```"
   ]
  },
  {
   "cell_type": "code",
   "execution_count": 265,
   "metadata": {
    "Collapsed": "false"
   },
   "outputs": [
    {
     "name": "stdout",
     "output_type": "stream",
     "text": [
      "Dim: 2, Shape: (20, 15)\n",
      "[[4 5 4 0 7 9 2 6 6 1 9 9 1 0 0]\n",
      " [3 7 2 9 7 0 3 0 0 4 4 8 9 2 5]\n",
      " [4 5 5 8 6 1 8 4 2 9 0 2 9 4 0]\n",
      " [5 0 8 3 4 6 0 5 2 8 2 3 6 6 7]\n",
      " [8 6 8 4 8 5 0 9 6 3 4 4 7 2 1]\n",
      " [9 3 5 9 8 4 7 4 0 1 9 6 7 7 5]\n",
      " [3 9 6 8 9 8 2 3 2 6 8 8 0 3 6]\n",
      " [1 1 0 9 7 8 3 0 6 3 7 0 0 5 2]\n",
      " [7 5 8 3 8 4 0 0 7 2 8 3 6 8 6]\n",
      " [4 7 8 8 4 8 8 7 0 9 2 1 2 8 0]\n",
      " [1 9 6 0 8 4 6 4 8 0 6 2 5 6 2]\n",
      " [2 3 0 1 9 4 7 3 4 2 7 1 3 4 0]\n",
      " [9 7 1 6 2 9 3 1 4 0 2 5 3 3 5]\n",
      " [0 1 3 4 9 1 5 8 0 4 6 9 0 5 9]\n",
      " [5 1 7 2 2 1 3 3 9 3 9 9 6 5 7]\n",
      " [1 2 9 2 2 5 7 4 1 4 9 9 4 4 9]\n",
      " [6 8 1 2 4 6 6 4 5 3 7 2 1 9 7]\n",
      " [7 7 5 1 0 6 3 4 7 2 0 7 5 6 0]\n",
      " [0 8 4 9 4 6 7 4 9 4 1 5 4 4 2]\n",
      " [9 4 3 2 4 4 9 6 7 2 8 0 1 4 6]]\n"
     ]
    }
   ],
   "source": [
    "data = np.random.randint(10, size=(20, 15))\n",
    "print_a(data)"
   ]
  },
  {
   "cell_type": "markdown",
   "metadata": {
    "Collapsed": "false"
   },
   "source": [
    "We recall from the lesson that `cumsum()` can be used on a numpy array with the axis to tell it which dimension to sum over. \n",
    "\n",
    "The following function will return an array with the cumulative sum along each element."
   ]
  },
  {
   "cell_type": "code",
   "execution_count": 266,
   "metadata": {
    "Collapsed": "false"
   },
   "outputs": [
    {
     "data": {
      "text/plain": [
       "array([[ 4,  9, 13, 13, 20, 29, 31, 37, 43, 44, 53, 62, 63, 63, 63],\n",
       "       [ 3, 10, 12, 21, 28, 28, 31, 31, 31, 35, 39, 47, 56, 58, 63],\n",
       "       [ 4,  9, 14, 22, 28, 29, 37, 41, 43, 52, 52, 54, 63, 67, 67],\n",
       "       [ 5,  5, 13, 16, 20, 26, 26, 31, 33, 41, 43, 46, 52, 58, 65],\n",
       "       [ 8, 14, 22, 26, 34, 39, 39, 48, 54, 57, 61, 65, 72, 74, 75],\n",
       "       [ 9, 12, 17, 26, 34, 38, 45, 49, 49, 50, 59, 65, 72, 79, 84],\n",
       "       [ 3, 12, 18, 26, 35, 43, 45, 48, 50, 56, 64, 72, 72, 75, 81],\n",
       "       [ 1,  2,  2, 11, 18, 26, 29, 29, 35, 38, 45, 45, 45, 50, 52],\n",
       "       [ 7, 12, 20, 23, 31, 35, 35, 35, 42, 44, 52, 55, 61, 69, 75],\n",
       "       [ 4, 11, 19, 27, 31, 39, 47, 54, 54, 63, 65, 66, 68, 76, 76],\n",
       "       [ 1, 10, 16, 16, 24, 28, 34, 38, 46, 46, 52, 54, 59, 65, 67],\n",
       "       [ 2,  5,  5,  6, 15, 19, 26, 29, 33, 35, 42, 43, 46, 50, 50],\n",
       "       [ 9, 16, 17, 23, 25, 34, 37, 38, 42, 42, 44, 49, 52, 55, 60],\n",
       "       [ 0,  1,  4,  8, 17, 18, 23, 31, 31, 35, 41, 50, 50, 55, 64],\n",
       "       [ 5,  6, 13, 15, 17, 18, 21, 24, 33, 36, 45, 54, 60, 65, 72],\n",
       "       [ 1,  3, 12, 14, 16, 21, 28, 32, 33, 37, 46, 55, 59, 63, 72],\n",
       "       [ 6, 14, 15, 17, 21, 27, 33, 37, 42, 45, 52, 54, 55, 64, 71],\n",
       "       [ 7, 14, 19, 20, 20, 26, 29, 33, 40, 42, 42, 49, 54, 60, 60],\n",
       "       [ 0,  8, 12, 21, 25, 31, 38, 42, 51, 55, 56, 61, 65, 69, 71],\n",
       "       [ 9, 13, 16, 18, 22, 26, 35, 41, 48, 50, 58, 58, 59, 63, 69]])"
      ]
     },
     "execution_count": 266,
     "metadata": {},
     "output_type": "execute_result"
    }
   ],
   "source": [
    "data.cumsum(axis=1)"
   ]
  },
  {
   "cell_type": "markdown",
   "metadata": {
    "Collapsed": "false"
   },
   "source": [
    "Now we can use the `np.delete()` function to remove specific rows"
   ]
  },
  {
   "cell_type": "code",
   "execution_count": 267,
   "metadata": {
    "Collapsed": "false"
   },
   "outputs": [
    {
     "data": {
      "text/plain": [
       "[0, 1, 2, 3, 4, 5, 6, 8, 9, 10, 13, 14, 15, 16, 18, 19]"
      ]
     },
     "execution_count": 267,
     "metadata": {},
     "output_type": "execute_result"
    }
   ],
   "source": [
    "# We will need to get a list of indices to give the delete function\n",
    "indices = [i for (i, row) in enumerate(data.cumsum(axis=1)) if row[14] > 60]\n",
    "indices"
   ]
  },
  {
   "cell_type": "code",
   "execution_count": 268,
   "metadata": {
    "Collapsed": "false"
   },
   "outputs": [
    {
     "name": "stdout",
     "output_type": "stream",
     "text": [
      "Dim: 2, Shape: (4, 15)\n",
      "[[1 1 0 9 7 8 3 0 6 3 7 0 0 5 2]\n",
      " [2 3 0 1 9 4 7 3 4 2 7 1 3 4 0]\n",
      " [9 7 1 6 2 9 3 1 4 0 2 5 3 3 5]\n",
      " [7 7 5 1 0 6 3 4 7 2 0 7 5 6 0]]\n"
     ]
    }
   ],
   "source": [
    "deleted_data = np.delete(data, indices, 0)\n",
    "print_a(deleted_data)"
   ]
  },
  {
   "cell_type": "markdown",
   "metadata": {
    "Collapsed": "true"
   },
   "source": [
    "#### 2.4\n",
    "\n",
    "```python\n",
    "sort_me = [[0, 2, 5, 3],\n",
    "           [7, 2, 4, 3],\n",
    "           [1, 2, 5, 2],\n",
    "           [2, 3, 5, 9]]\n",
    "```"
   ]
  },
  {
   "cell_type": "code",
   "execution_count": 278,
   "metadata": {
    "Collapsed": "false"
   },
   "outputs": [
    {
     "data": {
      "text/plain": [
       "array([[0, 2, 5, 3],\n",
       "       [7, 2, 4, 3],\n",
       "       [1, 2, 5, 2],\n",
       "       [2, 3, 5, 9]])"
      ]
     },
     "execution_count": 278,
     "metadata": {},
     "output_type": "execute_result"
    }
   ],
   "source": [
    "sort_me = np.array([[0, 2, 5, 3],\n",
    "                    [7, 2, 4, 3],\n",
    "                    [1, 2, 5, 2],\n",
    "                    [2, 3, 5, 9]])\n",
    "sort_me"
   ]
  },
  {
   "cell_type": "code",
   "execution_count": 281,
   "metadata": {
    "Collapsed": "false"
   },
   "outputs": [
    {
     "data": {
      "text/plain": [
       "array([[0, 2, 4, 3],\n",
       "       [7, 2, 5, 3],\n",
       "       [1, 2, 5, 2],\n",
       "       [2, 3, 5, 9]])"
      ]
     },
     "execution_count": 281,
     "metadata": {},
     "output_type": "execute_result"
    }
   ],
   "source": [
    "# sort the 2nd column\n",
    "sort_me[:, 2].sort()\n",
    "sort_me"
   ]
  },
  {
   "cell_type": "code",
   "execution_count": 284,
   "metadata": {
    "Collapsed": "false"
   },
   "outputs": [
    {
     "data": {
      "text/plain": [
       "array([[0, 2, 3, 4],\n",
       "       [7, 2, 5, 3],\n",
       "       [1, 2, 5, 2],\n",
       "       [2, 3, 5, 9]])"
      ]
     },
     "execution_count": 284,
     "metadata": {},
     "output_type": "execute_result"
    }
   ],
   "source": [
    "# sort the 1st row\n",
    "sort_me[0, :].sort()\n",
    "sort_me"
   ]
  },
  {
   "cell_type": "markdown",
   "metadata": {
    "Collapsed": "true"
   },
   "source": [
    "#### 2.5\n",
    "\n",
    "```python\n",
    "existing_array = [[6, 3, 3],\n",
    "                  [2, 0, 8],\n",
    "                  [8, 0, 8],\n",
    "                  [5, 1, 3],\n",
    "                  [1, 9, 6],\n",
    "                  [5, 6, 1],\n",
    "                  [6, 4, 2],\n",
    "                  [8, 2, 1],\n",
    "                  [7, 8, 7],\n",
    "                  [4, 7, 8],\n",
    "                  [8, 2, 7],\n",
    "                  [1, 1, 0]]\n",
    "```"
   ]
  },
  {
   "cell_type": "code",
   "execution_count": 285,
   "metadata": {
    "Collapsed": "false"
   },
   "outputs": [
    {
     "data": {
      "text/plain": [
       "array([[1, 9, 4],\n",
       "       [5, 3, 6],\n",
       "       [8, 5, 7],\n",
       "       [4, 4, 1],\n",
       "       [2, 9, 7],\n",
       "       [0, 4, 4],\n",
       "       [0, 8, 4],\n",
       "       [6, 7, 4],\n",
       "       [3, 2, 1],\n",
       "       [1, 9, 4],\n",
       "       [1, 3, 0],\n",
       "       [8, 1, 9]])"
      ]
     },
     "execution_count": 285,
     "metadata": {},
     "output_type": "execute_result"
    }
   ],
   "source": [
    "existing_array = np.random.randint(10, size=(12, 3))\n",
    "existing_array"
   ]
  },
  {
   "cell_type": "markdown",
   "metadata": {
    "Collapsed": "false"
   },
   "source": [
    "We know we need 12 vals so we can use `linspace` instead of `arange` in this case."
   ]
  },
  {
   "cell_type": "code",
   "execution_count": 292,
   "metadata": {
    "Collapsed": "false"
   },
   "outputs": [
    {
     "name": "stdout",
     "output_type": "stream",
     "text": [
      "[[ 1  3  5  7  9 11 13 15 17 19 21 24]]\n"
     ]
    }
   ],
   "source": [
    "my_array = np.asarray([np.linspace(1, 24, num=12, dtype=np.int16)])\n",
    "print(my_array)"
   ]
  },
  {
   "cell_type": "markdown",
   "metadata": {
    "Collapsed": "false"
   },
   "source": [
    "But in order to concatenate the arrays we will need to transpose (flip rows and columns) of `my_array`"
   ]
  },
  {
   "cell_type": "code",
   "execution_count": 295,
   "metadata": {
    "Collapsed": "false"
   },
   "outputs": [
    {
     "name": "stdout",
     "output_type": "stream",
     "text": [
      "(12, 3)\n",
      "(1, 12)\n",
      "(12, 1)\n"
     ]
    }
   ],
   "source": [
    "print(existing_array.shape)\n",
    "print(my_array.shape)\n",
    "print(my_array.transpose().shape)"
   ]
  },
  {
   "cell_type": "code",
   "execution_count": 296,
   "metadata": {
    "Collapsed": "false"
   },
   "outputs": [
    {
     "data": {
      "text/plain": [
       "array([[ 1,  9,  4,  1],\n",
       "       [ 5,  3,  6,  3],\n",
       "       [ 8,  5,  7,  5],\n",
       "       [ 4,  4,  1,  7],\n",
       "       [ 2,  9,  7,  9],\n",
       "       [ 0,  4,  4, 11],\n",
       "       [ 0,  8,  4, 13],\n",
       "       [ 6,  7,  4, 15],\n",
       "       [ 3,  2,  1, 17],\n",
       "       [ 1,  9,  4, 19],\n",
       "       [ 1,  3,  0, 21],\n",
       "       [ 8,  1,  9, 24]])"
      ]
     },
     "execution_count": 296,
     "metadata": {},
     "output_type": "execute_result"
    }
   ],
   "source": [
    "np.concatenate((existing_array, my_array.transpose()), axis=1)"
   ]
  },
  {
   "cell_type": "markdown",
   "metadata": {
    "Collapsed": "true"
   },
   "source": [
    "#### 2.6\n",
    "\n",
    "```python\n",
    "matrix = [[4, 8, 2, 2, 6, 7, 4, 4, 7, 8, 7, 8],\n",
    "          [1, 7, 6, 5, 8, 3, 5, 7, 6, 0, 5, 7],\n",
    "          [7, 7, 8, 2, 2, 8, 0, 7, 0, 6, 8, 4],\n",
    "          [1, 7, 2, 0, 1, 5, 5, 8, 4, 4, 0, 4],\n",
    "          [7, 4, 4, 0, 8, 6, 6, 1, 1, 5, 2, 7],\n",
    "          [1, 5, 6, 7, 1, 2, 7, 3, 7, 0, 3, 8],\n",
    "          [6, 2, 5, 8, 3, 5, 6, 7, 3, 5, 4, 4],\n",
    "          [2, 3, 8, 0, 0, 6, 7, 3, 0, 5, 2, 2],\n",
    "          [3, 6, 8, 0, 8, 3, 7, 6, 0, 6, 0, 1],\n",
    "          [0, 4, 3, 8, 3, 6, 6, 2, 6, 8, 0, 4]]\n",
    "\n",
    "part_1 = [[4, 8, 2, 2],\n",
    "          [1, 7, 6, 5],\n",
    "          [7, 7, 8, 2],\n",
    "          [1, 7, 2, 0],\n",
    "          [7, 4, 4, 0],\n",
    "          [1, 5, 6, 7],\n",
    "          [6, 2, 5, 8],\n",
    "          [2, 3, 8, 0],\n",
    "          [3, 6, 8, 0],\n",
    "          [0, 4, 3, 8]]\n",
    "\n",
    "part_2 = [[6, 7, 4, 4],\n",
    "          [8, 3, 5, 7],\n",
    "          [2, 8, 0, 7],\n",
    "          [1, 5, 5, 8],\n",
    "          [8, 6, 6, 1],\n",
    "          [1, 2, 7, 3],\n",
    "          [3, 5, 6, 7],\n",
    "          [0, 6, 7, 3],\n",
    "          [8, 3, 7, 6],\n",
    "          [3, 6, 6, 2]]\n",
    "\n",
    "part_3 = [[7, 8, 7, 8],\n",
    "          [6, 0, 5, 7],\n",
    "          [0, 6, 8, 4],\n",
    "          [4, 4, 0, 4],\n",
    "          [1, 5, 2, 7],\n",
    "          [7, 0, 3, 8],\n",
    "          [3, 5, 4, 4],\n",
    "          [0, 5, 2, 2],\n",
    "          [0, 6, 0, 1],\n",
    "          [6, 8, 0, 4]]\n",
    "```"
   ]
  },
  {
   "cell_type": "code",
   "execution_count": 304,
   "metadata": {
    "Collapsed": "false"
   },
   "outputs": [
    {
     "data": {
      "text/plain": [
       "array([[7, 3, 3, 5, 4, 5, 5, 1, 2, 6, 4, 3],\n",
       "       [7, 8, 0, 5, 4, 4, 4, 0, 8, 3, 7, 7],\n",
       "       [4, 5, 4, 3, 7, 8, 4, 6, 6, 5, 1, 4],\n",
       "       [6, 0, 2, 0, 6, 8, 5, 5, 3, 0, 4, 3],\n",
       "       [1, 0, 7, 4, 2, 3, 0, 7, 0, 4, 3, 8],\n",
       "       [8, 7, 3, 1, 7, 8, 4, 7, 5, 3, 1, 4],\n",
       "       [4, 1, 0, 3, 5, 5, 7, 3, 7, 4, 1, 3],\n",
       "       [2, 2, 5, 0, 4, 5, 7, 7, 1, 5, 3, 3],\n",
       "       [4, 5, 3, 3, 4, 0, 5, 8, 8, 8, 4, 8],\n",
       "       [4, 6, 3, 8, 6, 6, 2, 4, 2, 0, 8, 2]])"
      ]
     },
     "execution_count": 304,
     "metadata": {},
     "output_type": "execute_result"
    }
   ],
   "source": [
    "matrix = np.random.randint(0, 9, size=(10, 12))\n",
    "matrix"
   ]
  },
  {
   "cell_type": "code",
   "execution_count": 310,
   "metadata": {
    "Collapsed": "false"
   },
   "outputs": [
    {
     "data": {
      "text/plain": [
       "[array([[7, 3, 3, 5],\n",
       "        [7, 8, 0, 5],\n",
       "        [4, 5, 4, 3],\n",
       "        [6, 0, 2, 0],\n",
       "        [1, 0, 7, 4],\n",
       "        [8, 7, 3, 1],\n",
       "        [4, 1, 0, 3],\n",
       "        [2, 2, 5, 0],\n",
       "        [4, 5, 3, 3],\n",
       "        [4, 6, 3, 8]]), array([[4, 5, 5, 1],\n",
       "        [4, 4, 4, 0],\n",
       "        [7, 8, 4, 6],\n",
       "        [6, 8, 5, 5],\n",
       "        [2, 3, 0, 7],\n",
       "        [7, 8, 4, 7],\n",
       "        [5, 5, 7, 3],\n",
       "        [4, 5, 7, 7],\n",
       "        [4, 0, 5, 8],\n",
       "        [6, 6, 2, 4]]), array([[2, 6, 4, 3],\n",
       "        [8, 3, 7, 7],\n",
       "        [6, 5, 1, 4],\n",
       "        [3, 0, 4, 3],\n",
       "        [0, 4, 3, 8],\n",
       "        [5, 3, 1, 4],\n",
       "        [7, 4, 1, 3],\n",
       "        [1, 5, 3, 3],\n",
       "        [8, 8, 4, 8],\n",
       "        [2, 0, 8, 2]])]"
      ]
     },
     "execution_count": 310,
     "metadata": {},
     "output_type": "execute_result"
    }
   ],
   "source": [
    "np.split(matrix, 3, axis=1)"
   ]
  },
  {
   "cell_type": "markdown",
   "metadata": {
    "Collapsed": "true"
   },
   "source": [
    "#### 2.7\n",
    "\n",
    "```python\n",
    "existing_array = [[1., 1., 1.],\n",
    "                  [1., 1., 1.],\n",
    "                  [1., 1., 1.],\n",
    "                  [1., 1., 1.],\n",
    "                  [1., 1., 1.],\n",
    "                  [1., 1., 1.],\n",
    "                  [1., 1., 1.],\n",
    "                  [1., 1., 1.],\n",
    "                  [1., 1., 1.],\n",
    "                  [1., 1., 1.],\n",
    "                  [1., 1., 1.],\n",
    "                  [1., 1., 1.]]\n",
    "```"
   ]
  },
  {
   "cell_type": "code",
   "execution_count": 312,
   "metadata": {
    "Collapsed": "false"
   },
   "outputs": [
    {
     "data": {
      "text/plain": [
       "array([[1., 1., 1.],\n",
       "       [1., 1., 1.],\n",
       "       [1., 1., 1.],\n",
       "       [1., 1., 1.],\n",
       "       [1., 1., 1.],\n",
       "       [1., 1., 1.],\n",
       "       [1., 1., 1.],\n",
       "       [1., 1., 1.],\n",
       "       [1., 1., 1.],\n",
       "       [1., 1., 1.],\n",
       "       [1., 1., 1.],\n",
       "       [1., 1., 1.]])"
      ]
     },
     "execution_count": 312,
     "metadata": {},
     "output_type": "execute_result"
    }
   ],
   "source": [
    "existing_array = np.ones((12, 3))\n",
    "existing_array"
   ]
  },
  {
   "cell_type": "code",
   "execution_count": 328,
   "metadata": {
    "Collapsed": "false"
   },
   "outputs": [
    {
     "data": {
      "text/plain": [
       "(12,)"
      ]
     },
     "execution_count": 328,
     "metadata": {},
     "output_type": "execute_result"
    }
   ],
   "source": [
    "col_vec = np.linspace(0, 12, num=12, dtype=np.int16)\n",
    "col_vec.shape"
   ]
  },
  {
   "cell_type": "code",
   "execution_count": 332,
   "metadata": {
    "Collapsed": "false"
   },
   "outputs": [
    {
     "data": {
      "text/plain": [
       "array([[ 1.,  0.,  1.,  1.],\n",
       "       [ 1.,  1.,  1.,  1.],\n",
       "       [ 1.,  2.,  1.,  1.],\n",
       "       [ 1.,  3.,  1.,  1.],\n",
       "       [ 1.,  4.,  1.,  1.],\n",
       "       [ 1.,  5.,  1.,  1.],\n",
       "       [ 1.,  6.,  1.,  1.],\n",
       "       [ 1.,  7.,  1.,  1.],\n",
       "       [ 1.,  8.,  1.,  1.],\n",
       "       [ 1.,  9.,  1.,  1.],\n",
       "       [ 1., 10.,  1.,  1.],\n",
       "       [ 1., 12.,  1.,  1.]])"
      ]
     },
     "execution_count": 332,
     "metadata": {},
     "output_type": "execute_result"
    }
   ],
   "source": [
    "np.insert(existing_array, 1, col_vec, axis=1)"
   ]
  },
  {
   "cell_type": "markdown",
   "metadata": {
    "Collapsed": "true"
   },
   "source": [
    "#### 2.8"
   ]
  },
  {
   "cell_type": "code",
   "execution_count": 344,
   "metadata": {
    "Collapsed": "false"
   },
   "outputs": [
    {
     "data": {
      "text/plain": [
       "array([[0.03040188, 0.42866347, 0.75588051],\n",
       "       [0.8566298 , 0.0895445 , 0.96984071],\n",
       "       [0.60137331, 0.36054429, 0.45953985],\n",
       "       [0.53610667, 0.80632625, 0.09967221],\n",
       "       [0.51488345, 0.34108027, 0.9492985 ],\n",
       "       [0.38153332, 0.75811717, 0.81918548]])"
      ]
     },
     "execution_count": 344,
     "metadata": {},
     "output_type": "execute_result"
    }
   ],
   "source": [
    "floats = np.random.random((6, 3))\n",
    "floats"
   ]
  },
  {
   "cell_type": "code",
   "execution_count": 345,
   "metadata": {
    "Collapsed": "false"
   },
   "outputs": [
    {
     "data": {
      "text/plain": [
       "dtype('float64')"
      ]
     },
     "execution_count": 345,
     "metadata": {},
     "output_type": "execute_result"
    }
   ],
   "source": [
    "floats.dtype"
   ]
  },
  {
   "cell_type": "code",
   "execution_count": 346,
   "metadata": {
    "Collapsed": "false"
   },
   "outputs": [
    {
     "data": {
      "text/plain": [
       "array([[0, 0, 0],\n",
       "       [0, 0, 0],\n",
       "       [0, 0, 0],\n",
       "       [0, 0, 0],\n",
       "       [0, 0, 0],\n",
       "       [0, 0, 0]], dtype=int16)"
      ]
     },
     "execution_count": 346,
     "metadata": {},
     "output_type": "execute_result"
    }
   ],
   "source": [
    "ints = floats.astype(np.int16)\n",
    "ints"
   ]
  },
  {
   "cell_type": "code",
   "execution_count": 347,
   "metadata": {
    "Collapsed": "false"
   },
   "outputs": [
    {
     "data": {
      "text/plain": [
       "dtype('int16')"
      ]
     },
     "execution_count": 347,
     "metadata": {},
     "output_type": "execute_result"
    }
   ],
   "source": [
    "ints.dtype"
   ]
  },
  {
   "cell_type": "markdown",
   "metadata": {
    "Collapsed": "true"
   },
   "source": [
    "#### 2.9"
   ]
  },
  {
   "cell_type": "code",
   "execution_count": 357,
   "metadata": {
    "Collapsed": "false"
   },
   "outputs": [
    {
     "data": {
      "text/plain": [
       "array([ 0,  1,  2,  3,  4,  5,  6,  7,  8,  9, 10, 11, 12, 13, 14, 15, 16,\n",
       "       17, 18, 19, 20, 21, 22, 23, 24])"
      ]
     },
     "execution_count": 357,
     "metadata": {},
     "output_type": "execute_result"
    }
   ],
   "source": [
    "reshape_me = np.arange(0, 25, 1)\n",
    "reshape_me"
   ]
  },
  {
   "cell_type": "code",
   "execution_count": 356,
   "metadata": {
    "Collapsed": "false"
   },
   "outputs": [
    {
     "data": {
      "text/plain": [
       "array([[ 0,  1,  2,  3,  4],\n",
       "       [ 5,  6,  7,  8,  9],\n",
       "       [10, 11, 12, 13, 14],\n",
       "       [15, 16, 17, 18, 19],\n",
       "       [20, 21, 22, 23, 24]])"
      ]
     },
     "execution_count": 356,
     "metadata": {},
     "output_type": "execute_result"
    }
   ],
   "source": [
    "reshape_me.reshape((5, 5))"
   ]
  },
  {
   "cell_type": "markdown",
   "metadata": {
    "Collapsed": "true"
   },
   "source": [
    "#### 2.10\n",
    "\n",
    "```python\n",
    "matrix = [[ 0,  1,  2,  3,  4,  5,  6,  7,  8,  9],\n",
    "          [10, 11, 12, 13, 14, 15, 16, 17, 18, 19],\n",
    "          [20, 21, 22, 23, 24, 25, 26, 27, 28, 29],\n",
    "          [30, 31, 32, 33, 34, 35, 36, 37, 38, 39],\n",
    "          [40, 41, 42, 43, 44, 45, 46, 47, 48, 49],\n",
    "          [50, 51, 52, 53, 54, 55, 56, 57, 58, 59],\n",
    "          [60, 61, 62, 63, 64, 65, 66, 67, 68, 69],\n",
    "          [70, 71, 72, 73, 74, 75, 76, 77, 78, 79],\n",
    "          [80, 81, 82, 83, 84, 85, 86, 87, 88, 89],\n",
    "          [90, 91, 92, 93, 94, 95, 96, 97, 98, 99]]\n",
    "```"
   ]
  },
  {
   "cell_type": "code",
   "execution_count": 361,
   "metadata": {
    "Collapsed": "false"
   },
   "outputs": [
    {
     "data": {
      "text/plain": [
       "array([[ 0,  1,  2,  3,  4,  5,  6,  7,  8,  9],\n",
       "       [10, 11, 12, 13, 14, 15, 16, 17, 18, 19],\n",
       "       [20, 21, 22, 23, 24, 25, 26, 27, 28, 29],\n",
       "       [30, 31, 32, 33, 34, 35, 36, 37, 38, 39],\n",
       "       [40, 41, 42, 43, 44, 45, 46, 47, 48, 49],\n",
       "       [50, 51, 52, 53, 54, 55, 56, 57, 58, 59],\n",
       "       [60, 61, 62, 63, 64, 65, 66, 67, 68, 69],\n",
       "       [70, 71, 72, 73, 74, 75, 76, 77, 78, 79],\n",
       "       [80, 81, 82, 83, 84, 85, 86, 87, 88, 89],\n",
       "       [90, 91, 92, 93, 94, 95, 96, 97, 98, 99]])"
      ]
     },
     "execution_count": 361,
     "metadata": {},
     "output_type": "execute_result"
    }
   ],
   "source": [
    "matrix = np.arange(100).reshape((10, 10))\n",
    "matrix"
   ]
  },
  {
   "cell_type": "code",
   "execution_count": 362,
   "metadata": {
    "Collapsed": "false"
   },
   "outputs": [
    {
     "data": {
      "text/plain": [
       "array([ 0,  1,  2,  3,  4,  5,  6,  7,  8,  9, 10, 11, 12, 13, 14, 15, 16,\n",
       "       17, 18, 19, 20, 21, 22, 23, 24, 25, 26, 27, 28, 29, 30, 31, 32, 33,\n",
       "       34, 35, 36, 37, 38, 39, 40, 41, 42, 43, 44, 45, 46, 47, 48, 49, 50,\n",
       "       51, 52, 53, 54, 55, 56, 57, 58, 59, 60, 61, 62, 63, 64, 65, 66, 67,\n",
       "       68, 69, 70, 71, 72, 73, 74, 75, 76, 77, 78, 79, 80, 81, 82, 83, 84,\n",
       "       85, 86, 87, 88, 89, 90, 91, 92, 93, 94, 95, 96, 97, 98, 99])"
      ]
     },
     "execution_count": 362,
     "metadata": {},
     "output_type": "execute_result"
    }
   ],
   "source": [
    "matrix.flatten()"
   ]
  },
  {
   "cell_type": "markdown",
   "metadata": {
    "Collapsed": "true"
   },
   "source": [
    "## Troubleshooting\n",
    "\n",
    "Having trouble running the notebook?"
   ]
  },
  {
   "cell_type": "markdown",
   "metadata": {
    "Collapsed": "false"
   },
   "source": [
    "If you run into issues running any of the code in this notebook, check your version of Jupyter and IPython as well as any extensions, libraries, etc.\n",
    "\n",
    "```bash\n",
    "!jupyter --version\n",
    "\n",
    "jupyter core     : 4.6.1\n",
    "jupyter-notebook : 6.0.2\n",
    "qtconsole        : not installed\n",
    "ipython          : 7.9.0\n",
    "ipykernel        : 5.1.3\n",
    "jupyter client   : 5.3.4\n",
    "jupyter lab      : 1.2.3\n",
    "nbconvert        : 5.6.1\n",
    "ipywidgets       : not installed\n",
    "nbformat         : 4.4.0\n",
    "traitlets        : 4.3.3\n",
    "```"
   ]
  },
  {
   "cell_type": "code",
   "execution_count": 1,
   "metadata": {
    "Collapsed": "false"
   },
   "outputs": [],
   "source": [
    "# # Run this cell to check the version of Jupyter you are running\n",
    "# !jupyter --version"
   ]
  },
  {
   "cell_type": "code",
   "execution_count": 2,
   "metadata": {
    "Collapsed": "false"
   },
   "outputs": [],
   "source": [
    "# # Run the relevant cell to check what extensions you are using\n",
    "# !jupyter-labextension list\n",
    "# !jupyter-nbextension list"
   ]
  },
  {
   "cell_type": "code",
   "execution_count": 3,
   "metadata": {
    "Collapsed": "false"
   },
   "outputs": [],
   "source": [
    "# # Check ipython version\n",
    "# import sys\n",
    "# print(sys.version)"
   ]
  },
  {
   "cell_type": "markdown",
   "metadata": {
    "Collapsed": "false"
   },
   "source": [
    "If you are still having issues, try restarting your kernel and/or reloading the notebook completely."
   ]
  },
  {
   "cell_type": "code",
   "execution_count": null,
   "metadata": {
    "Collapsed": "false"
   },
   "outputs": [],
   "source": []
  }
 ],
 "metadata": {
  "kernelspec": {
   "display_name": "Python 3",
   "language": "python",
   "name": "python3"
  },
  "language_info": {
   "codemirror_mode": {
    "name": "ipython",
    "version": 3
   },
   "file_extension": ".py",
   "mimetype": "text/x-python",
   "name": "python",
   "nbconvert_exporter": "python",
   "pygments_lexer": "ipython3",
   "version": "3.7.5"
  },
  "latex_envs": {
   "LaTeX_envs_menu_present": true,
   "autoclose": false,
   "autocomplete": true,
   "bibliofile": "biblio.bib",
   "cite_by": "apalike",
   "current_citInitial": 1,
   "eqLabelWithNumbers": true,
   "eqNumInitial": 1,
   "hotkeys": {
    "equation": "Ctrl-E",
    "itemize": "Ctrl-I"
   },
   "labels_anchors": false,
   "latex_user_defs": false,
   "report_style_numbering": false,
   "user_envs_cfg": false
  }
 },
 "nbformat": 4,
 "nbformat_minor": 4
}
