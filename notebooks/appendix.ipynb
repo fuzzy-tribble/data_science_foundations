{
 "cells": [
  {
   "cell_type": "markdown",
   "metadata": {
    "Collapsed": "false"
   },
   "source": [
    "# Appendix"
   ]
  },
  {
   "cell_type": "markdown",
   "metadata": {
    "Collapsed": "false"
   },
   "source": [
    "## Custom Helpers"
   ]
  },
  {
   "cell_type": "code",
   "execution_count": 1,
   "metadata": {
    "Collapsed": "false"
   },
   "outputs": [],
   "source": [
    "def draw_vector(v0, v1, ax=None):\n",
    "    ax = ax or plt.gca()\n",
    "    arrowprops=dict(arrowstyle='->',\n",
    "                    linewidth=2,\n",
    "                    shrinkA=0, \n",
    "                    shrinkB=0)\n",
    "    ax.annotate('', v1, v0, arrowprops=arrowprops)"
   ]
  },
  {
   "cell_type": "code",
   "execution_count": 2,
   "metadata": {
    "Collapsed": "false"
   },
   "outputs": [],
   "source": [
    "def plot_2d_vectors(vectors=None, labels=None, colors=None, title=None):\n",
    "    '''A custom vector plotting function that makes it easy to plot 2D vectors'''\n",
    "\n",
    "    # TODO ADD KWARGS THAT CAN BE PASSED INTO THE SET FUNCTION\n",
    "\n",
    "    # TODO input data checks\n",
    "    # type(vectors) -> list of int tuple\n",
    "    # type(vector_labels) -> list of strings\n",
    "    # len(vectors) == len(vector_labels)\n",
    "    # title == None | string\n",
    "    # etc\n",
    "    \n",
    "    fig, ax = plt.subplots(1)\n",
    "\n",
    "    origin = [0], [0]\n",
    "    xmin, xmax = 0, 0\n",
    "    ymin, ymax = 0, 0\n",
    "\n",
    "    if colors == None:\n",
    "        color_list = ['r', 'g', 'b', 'c', 'm', 'y', 'k']\n",
    "        colors = np.random.choice(color_list, len(vectors))\n",
    "\n",
    "    if labels == None:\n",
    "        labels = ['V'+str(i) for i in range(len(vectors))]\n",
    "\n",
    "    for i in range(len(vectors)):\n",
    "        ax.quiver(*origin, *vectors[i], color=colors[i], label=labels[i], units='xy', scale=1)\n",
    "\n",
    "        if vectors[i][0] < xmin:\n",
    "            xmin = vectors[i][0]\n",
    "        elif vectors[i][0] > xmax:\n",
    "            xmax = vectors[i][0]\n",
    "\n",
    "        if vectors[i][1] < ymin:\n",
    "            ymin = vectors[i][1]\n",
    "        elif vectors[i][1] > ymax:\n",
    "            ymax = vectors[i][1]\n",
    "\n",
    "    buffer = 2\n",
    "    plt.xlim(xmin - buffer, xmax + buffer)\n",
    "    plt.ylim(ymin - buffer, ymax + buffer)\n",
    "\n",
    "    plt.grid()\n",
    "\n",
    "    if title != None:\n",
    "        plt.title(title)\n",
    "\n",
    "    plt.legend()"
   ]
  },
  {
   "cell_type": "code",
   "execution_count": 16,
   "metadata": {
    "Collapsed": "false"
   },
   "outputs": [],
   "source": [
    "def rgb2gray(rgb):\n",
    "    \"\"\" \n",
    "    Converts rgb image array to greyscale \n",
    "    \"\"\"\n",
    "    return np.dot(rgb[...,:3], [0.299, 0.587, 0.114])"
   ]
  },
  {
   "cell_type": "code",
   "execution_count": 17,
   "metadata": {
    "Collapsed": "false"
   },
   "outputs": [
    {
     "data": {
      "text/plain": [
       "\u001b[0;31mSignature:\u001b[0m \u001b[0mrgb2gray\u001b[0m\u001b[0;34m(\u001b[0m\u001b[0mrgb\u001b[0m\u001b[0;34m)\u001b[0m\u001b[0;34m\u001b[0m\u001b[0;34m\u001b[0m\u001b[0m\n",
       "\u001b[0;31mDocstring:\u001b[0m Converts rgb image array to greyscale \n",
       "\u001b[0;31mFile:\u001b[0m      ~/jupyter-projects/data_science_mastery/<ipython-input-16-e8f618ec2236>\n",
       "\u001b[0;31mType:\u001b[0m      function\n"
      ]
     },
     "metadata": {},
     "output_type": "display_data"
    }
   ],
   "source": [
    "rgb2gray?"
   ]
  },
  {
   "cell_type": "code",
   "execution_count": null,
   "metadata": {
    "Collapsed": "false"
   },
   "outputs": [],
   "source": []
  }
 ],
 "metadata": {
  "kernelspec": {
   "display_name": "Python 3",
   "language": "python",
   "name": "python3"
  },
  "language_info": {
   "codemirror_mode": {
    "name": "ipython",
    "version": 3
   },
   "file_extension": ".py",
   "mimetype": "text/x-python",
   "name": "python",
   "nbconvert_exporter": "python",
   "pygments_lexer": "ipython3",
   "version": "3.7.6"
  }
 },
 "nbformat": 4,
 "nbformat_minor": 4
}
