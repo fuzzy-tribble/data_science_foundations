{
 "cells": [
  {
   "cell_type": "markdown",
   "metadata": {
    "Collapsed": "true"
   },
   "source": [
    "# M.A.D. Python Libraries - `numpy`\n",
    "\n",
    "<span style=\"color:red;\">**M.A.D.** => **M**achine **L**earning and **D**ata Science<span>\n",
    "\n",
    "**Purpose:** The purpose of this workbook is to help you get comfortable with the topics outlined below.\n",
    "\n",
    "**Prereqs**\n",
    "* None\n",
    "    \n",
    "**Recomended Usage**\n",
    "* Run each of the cells (Shift+Enter) and edit them as necessary to solidify your understanding\n",
    "* Do any of the exercises that are relevant to helping you understand the material\n",
    "\n",
    "**Topics Covered**\n",
    "* Numpy"
   ]
  },
  {
   "cell_type": "markdown",
   "metadata": {
    "Collapsed": "false"
   },
   "source": [
    "# Workbook Setup"
   ]
  },
  {
   "cell_type": "markdown",
   "metadata": {
    "Collapsed": "true"
   },
   "source": [
    "## Troubleshooting Tips"
   ]
  },
  {
   "cell_type": "markdown",
   "metadata": {
    "Collapsed": "false"
   },
   "source": [
    "If you run into issues running any of the code in this notebook, check your version of Jupyter, Python, extensions, libraries, etc.\n",
    "\n",
    "```bash\n",
    "!jupyter --version\n",
    "\n",
    "jupyter core     : 4.6.1\n",
    "jupyter-notebook : 6.0.2\n",
    "qtconsole        : not installed\n",
    "ipython          : 7.9.0\n",
    "ipykernel        : 5.1.3\n",
    "jupyter client   : 5.3.4\n",
    "jupyter lab      : 1.2.3\n",
    "nbconvert        : 5.6.1\n",
    "ipywidgets       : not installed\n",
    "nbformat         : 4.4.0\n",
    "traitlets        : 4.3.3\n",
    "```\n",
    "\n",
    "```bash\n",
    "!jupyter-labextension list\n",
    "\n",
    "JupyterLab v1.2.3\n",
    "Known labextensions:\n",
    "   app dir: /usr/local/share/jupyter/lab\n",
    "        @aquirdturtle/collapsible_headings v0.5.0  enabled  OK\n",
    "        @jupyter-widgets/jupyterlab-manager v1.1.0  enabled  OK\n",
    "        @jupyterlab/git v0.8.2  enabled  OK\n",
    "        @jupyterlab/github v1.0.1  enabled  OK\n",
    "        jupyterlab-flake8 v0.4.0  enabled  OK\n",
    "\n",
    "Uninstalled core extensions:\n",
    "    @jupyterlab/github\n",
    "    jupyterlab-flake8\n",
    "```"
   ]
  },
  {
   "cell_type": "code",
   "execution_count": 6,
   "metadata": {
    "Collapsed": "false"
   },
   "outputs": [],
   "source": [
    "# # Run this cell to check the version of Jupyter you are running\n",
    "# !jupyter --version"
   ]
  },
  {
   "cell_type": "code",
   "execution_count": 2,
   "metadata": {
    "Collapsed": "false"
   },
   "outputs": [],
   "source": [
    "# # Run one of these cells to check what extensions you are using\n",
    "# !jupyter-labextension list\n",
    "# !jupyter-nbextension list"
   ]
  },
  {
   "cell_type": "code",
   "execution_count": 1,
   "metadata": {
    "Collapsed": "false"
   },
   "outputs": [],
   "source": [
    "# # Check ipython version\n",
    "# import sys\n",
    "# print(sys.version)"
   ]
  },
  {
   "cell_type": "markdown",
   "metadata": {
    "Collapsed": "true"
   },
   "source": [
    "## Notebook Configs"
   ]
  },
  {
   "cell_type": "code",
   "execution_count": 1,
   "metadata": {
    "Collapsed": "false"
   },
   "outputs": [],
   "source": [
    "# AUTO GENERATED CELL FOR NOTEBOOK SETUP\n",
    "\n",
    "# NOTEBOOK WIDE MAGICS\n",
    "\n",
    "# Reload all modules before executing a new line\n",
    "%load_ext autoreload\n",
    "%autoreload 2\n",
    "\n",
    "# Abide by PEP8 code style\n",
    "%load_ext pycodestyle_magic\n",
    "%pycodestyle_on\n",
    "\n",
    "# LIBRARY SPECIFIC MAGICS - UNCOMMENT AS NEEDED\n",
    "\n",
    "# Plot all matplotlib plots in output cell and save on close\n",
    "%matplotlib inline"
   ]
  },
  {
   "cell_type": "code",
   "execution_count": 1,
   "metadata": {
    "Collapsed": "false"
   },
   "outputs": [],
   "source": [
    "import numpy as np"
   ]
  },
  {
   "cell_type": "code",
   "execution_count": 3,
   "metadata": {
    "Collapsed": "false"
   },
   "outputs": [],
   "source": [
    "def print_a(a):\n",
    "    print('Shape: {}'.format(a.shape))\n",
    "    print(a)"
   ]
  },
  {
   "cell_type": "markdown",
   "metadata": {
    "Collapsed": "false",
    "heading_collapsed": true
   },
   "source": [
    "# [`numpy`](https://docs.scipy.org/doc/numpy/reference/)\n",
    "\n",
    "`numpy` (numerical Python) is a widely used library for data representation and manipulation (written in C). \n",
    "\n",
    "[Numpy Cheatsheet (pdf)](https://s3.amazonaws.com/assets.datacamp.com/blog_assets/Numpy_Python_Cheat_Sheet.pdf)"
   ]
  },
  {
   "cell_type": "markdown",
   "metadata": {
    "Collapsed": "false",
    "heading_collapsed": true,
    "hidden": true
   },
   "source": [
    "## Creating Arrays\n",
    "\n",
    "```python\n",
    "np.array()\n",
    "```"
   ]
  },
  {
   "cell_type": "markdown",
   "metadata": {
    "Collapsed": "true"
   },
   "source": [
    "#### Create arrays from lists\n",
    "\n",
    "```python\n",
    "np.array()\n",
    "```"
   ]
  },
  {
   "cell_type": "code",
   "execution_count": 22,
   "metadata": {
    "Collapsed": "false",
    "hidden": true
   },
   "outputs": [
    {
     "name": "stdout",
     "output_type": "stream",
     "text": [
      "Shape: (3,)\n",
      "[1 2 3]\n"
     ]
    }
   ],
   "source": [
    "a = np.array([1, 2, 3])\n",
    "print_a(a)"
   ]
  },
  {
   "cell_type": "code",
   "execution_count": 23,
   "metadata": {
    "Collapsed": "false",
    "hidden": true
   },
   "outputs": [
    {
     "name": "stdout",
     "output_type": "stream",
     "text": [
      "Shape: (2, 3)\n",
      "[[1.5 2.  3. ]\n",
      " [4.  5.  6. ]]\n"
     ]
    }
   ],
   "source": [
    "b = np.array([(1.5, 2, 3), (4, 5, 6)], dtype=float)\n",
    "print_a(b)"
   ]
  },
  {
   "cell_type": "code",
   "execution_count": 24,
   "metadata": {
    "Collapsed": "false",
    "hidden": true
   },
   "outputs": [
    {
     "name": "stdout",
     "output_type": "stream",
     "text": [
      "Shape: (2, 2, 3)\n",
      "[[[1.5 2.  3. ]\n",
      "  [4.  5.  6. ]]\n",
      "\n",
      " [[3.  2.  1. ]\n",
      "  [4.  5.  6. ]]]\n"
     ]
    }
   ],
   "source": [
    "c = np.array([[(1.5, 2, 3), (4, 5, 6)], [(3, 2, 1), (4, 5, 6)]], dtype=float)\n",
    "print_a(c)"
   ]
  },
  {
   "cell_type": "markdown",
   "metadata": {
    "Collapsed": "false",
    "heading_collapsed": true,
    "hidden": true
   },
   "source": [
    "We can also create arrays with initial placeholders of datetimes, random numbers, ones, zeros, evenly spaced values, grids, etc. Numpy gives us support for all of these common use cases."
   ]
  },
  {
   "cell_type": "markdown",
   "metadata": {
    "Collapsed": "true"
   },
   "source": [
    "#### Create arrays of constant numbers\n",
    "\n",
    "```python\n",
    "np.zeros()\n",
    "np.ones()\n",
    "np.full()\n",
    "```"
   ]
  },
  {
   "cell_type": "code",
   "execution_count": 27,
   "metadata": {
    "Collapsed": "false",
    "hidden": true
   },
   "outputs": [
    {
     "name": "stdout",
     "output_type": "stream",
     "text": [
      "Shape: (3, 4)\n",
      "[[0. 0. 0. 0.]\n",
      " [0. 0. 0. 0.]\n",
      " [0. 0. 0. 0.]]\n"
     ]
    }
   ],
   "source": [
    "# Create an array of zeros with shape 3 by 4\n",
    "a = np.zeros((3, 4))\n",
    "print_a(a)"
   ]
  },
  {
   "cell_type": "code",
   "execution_count": 28,
   "metadata": {
    "Collapsed": "false",
    "hidden": true
   },
   "outputs": [
    {
     "name": "stdout",
     "output_type": "stream",
     "text": [
      "Shape: (2, 3, 4)\n",
      "[[[1 1 1 1]\n",
      "  [1 1 1 1]\n",
      "  [1 1 1 1]]\n",
      "\n",
      " [[1 1 1 1]\n",
      "  [1 1 1 1]\n",
      "  [1 1 1 1]]]\n"
     ]
    }
   ],
   "source": [
    "# Create an array of ones with shape 2 x 3 x 4\n",
    "a = np.ones((2, 3, 4), dtype=np.int16)\n",
    "print_a(a)"
   ]
  },
  {
   "cell_type": "code",
   "execution_count": 40,
   "metadata": {
    "Collapsed": "false",
    "hidden": true
   },
   "outputs": [
    {
     "name": "stdout",
     "output_type": "stream",
     "text": [
      "Shape: (2, 2)\n",
      "[[7 7]\n",
      " [7 7]]\n"
     ]
    }
   ],
   "source": [
    "# Create a constant array of 7s\n",
    "e = np.full((2, 2), 7)\n",
    "print_a(e)"
   ]
  },
  {
   "cell_type": "markdown",
   "metadata": {
    "Collapsed": "true"
   },
   "source": [
    "#### Create arrays of random numbers\n",
    "\n",
    "```python\n",
    "np.random.random()\n",
    "```"
   ]
  },
  {
   "cell_type": "code",
   "execution_count": 52,
   "metadata": {
    "Collapsed": "false"
   },
   "outputs": [
    {
     "name": "stdout",
     "output_type": "stream",
     "text": [
      "Shape: (2, 2)\n",
      "[[0.12699216 0.36911603]\n",
      " [0.29257144 0.7664831 ]]\n"
     ]
    }
   ],
   "source": [
    "# Create a 2x2 array with random values (defaults to random nums b/t 0 and 1)\n",
    "a = np.random.random((2, 2))\n",
    "print_a(a)"
   ]
  },
  {
   "cell_type": "code",
   "execution_count": 58,
   "metadata": {
    "Collapsed": "false"
   },
   "outputs": [
    {
     "name": "stdout",
     "output_type": "stream",
     "text": [
      "Shape: (2, 3, 4)\n",
      "[[[0.28051645 0.96704531 0.82092445 0.46193141]\n",
      "  [0.6174535  0.05172732 0.80286199 0.72452067]\n",
      "  [0.45590498 0.25790384 0.30292671 0.01939364]]\n",
      "\n",
      " [[0.72827542 0.01308376 0.83031978 0.6420565 ]\n",
      "  [0.02498747 0.370077   0.96324986 0.10412153]\n",
      "  [0.34407766 0.57707586 0.98575563 0.92611013]]]\n"
     ]
    }
   ],
   "source": [
    "# Create a 2x3x4 array with random values\n",
    "a = np.random.rand(2, 3, 4)\n",
    "print_a(a)"
   ]
  },
  {
   "cell_type": "code",
   "execution_count": 60,
   "metadata": {
    "Collapsed": "false"
   },
   "outputs": [
    {
     "name": "stdout",
     "output_type": "stream",
     "text": [
      "Shape: (12,)\n",
      "[ 0  2  2 -1 -2 -3  2 -3 -2  0  2  0]\n"
     ]
    }
   ],
   "source": [
    "# Create an array with random ints\n",
    "a = np.random.randint(-3, 3, size=12)\n",
    "print_a(a)"
   ]
  },
  {
   "cell_type": "code",
   "execution_count": 66,
   "metadata": {
    "Collapsed": "false"
   },
   "outputs": [
    {
     "name": "stdout",
     "output_type": "stream",
     "text": [
      "Shape: (2, 4)\n",
      "[[0.6171063  0.05290367 0.11975113 0.68710523]\n",
      " [0.84516373 0.67981585 0.75594438 0.90401364]]\n"
     ]
    }
   ],
   "source": [
    "# Create uniform distribution between 0 and 1 in a 2x4 matrix\n",
    "a = np.random.random_sample((2, 4))\n",
    "print_a(a)"
   ]
  },
  {
   "cell_type": "markdown",
   "metadata": {
    "Collapsed": "true"
   },
   "source": [
    "#### Create empty arrays\n",
    "```python\n",
    "np.empty()\n",
    "```"
   ]
  },
  {
   "cell_type": "code",
   "execution_count": 20,
   "metadata": {
    "Collapsed": "false",
    "hidden": true
   },
   "outputs": [
    {
     "data": {
      "text/plain": [
       "array([[1.5, 2. ],\n",
       "       [3. , 4. ],\n",
       "       [5. , 6. ]])"
      ]
     },
     "execution_count": 20,
     "metadata": {},
     "output_type": "execute_result"
    }
   ],
   "source": [
    "np.empty((3,2)) #=>Create an empty array (uninitialized so whatever is in mem loc already stays)"
   ]
  },
  {
   "cell_type": "markdown",
   "metadata": {
    "Collapsed": "true"
   },
   "source": [
    "#### Create evenly spaced arrays\n",
    "\n",
    "```python\n",
    "np.arange()  # start, stop, step\n",
    "np.linspace()  # start, stop, num quantities\n",
    "```"
   ]
  },
  {
   "cell_type": "markdown",
   "metadata": {
    "Collapsed": "false"
   },
   "source": [
    "Whats the difference?\n",
    "* `linspace` enables you to control the precise end value\n",
    "* `arange` gives you more direct control over the increments between values"
   ]
  },
  {
   "cell_type": "code",
   "execution_count": 30,
   "metadata": {
    "Collapsed": "false",
    "hidden": true
   },
   "outputs": [
    {
     "name": "stdout",
     "output_type": "stream",
     "text": [
      "Shape: (3,)\n",
      "[10 15 20]\n"
     ]
    }
   ],
   "source": [
    "# Create an array of evenly spaced values (step value)\n",
    "# from 10 to 25 in steps of 5\n",
    "d = np.arange(10, 25, 5)\n",
    "print_a(d)"
   ]
  },
  {
   "cell_type": "code",
   "execution_count": 38,
   "metadata": {
    "Collapsed": "false",
    "hidden": true
   },
   "outputs": [
    {
     "name": "stdout",
     "output_type": "stream",
     "text": [
      "Shape: (9,)\n",
      "[0.   0.25 0.5  0.75 1.   1.25 1.5  1.75 2.  ]\n"
     ]
    }
   ],
   "source": [
    "# Create an array of evenly spaced values (number of samples)\n",
    "# 9 numbers from 0 to 2\n",
    "print_a(np.linspace(0, 2, 9))"
   ]
  },
  {
   "cell_type": "markdown",
   "metadata": {
    "Collapsed": "true"
   },
   "source": [
    "#### Create an identity matrix\n",
    "\n",
    "```python\n",
    "np.eye()\n",
    "```"
   ]
  },
  {
   "cell_type": "code",
   "execution_count": 11,
   "metadata": {
    "Collapsed": "false",
    "hidden": true
   },
   "outputs": [
    {
     "data": {
      "text/plain": [
       "array([[1., 0.],\n",
       "       [0., 1.]])"
      ]
     },
     "execution_count": 11,
     "metadata": {},
     "output_type": "execute_result"
    }
   ],
   "source": [
    "f = np.eye(2); f #=>Create a 2X2 identity matrix"
   ]
  },
  {
   "cell_type": "markdown",
   "metadata": {
    "Collapsed": "true"
   },
   "source": [
    "#### Create a mesh grid\n",
    "\n",
    "```python\n",
    "np.mgrid()\n",
    "```"
   ]
  },
  {
   "cell_type": "code",
   "execution_count": 49,
   "metadata": {
    "Collapsed": "false"
   },
   "outputs": [
    {
     "name": "stdout",
     "output_type": "stream",
     "text": [
      "Shape: (5, 5)\n",
      "[[0 0 0 0 0]\n",
      " [1 1 1 1 1]\n",
      " [2 2 2 2 2]\n",
      " [3 3 3 3 3]\n",
      " [4 4 4 4 4]]\n",
      "Shape: (5, 5)\n",
      "[[0 1 2 3 4]\n",
      " [0 1 2 3 4]\n",
      " [0 1 2 3 4]\n",
      " [0 1 2 3 4]\n",
      " [0 1 2 3 4]]\n"
     ]
    }
   ],
   "source": [
    "# Create a 2 meshgrids with nums from 0 to 5\n",
    "x, y = np.mgrid[0:5, 0:5]\n",
    "print_a(x)\n",
    "print_a(y)"
   ]
  },
  {
   "cell_type": "code",
   "execution_count": 50,
   "metadata": {
    "Collapsed": "false"
   },
   "outputs": [
    {
     "name": "stdout",
     "output_type": "stream",
     "text": [
      "Shape: (5,)\n",
      "[-1.  -0.5  0.   0.5  1. ]\n"
     ]
    }
   ],
   "source": [
    "# Create a meshgrid from -1 to 1 with 5 numbers\n",
    "x = np.mgrid[-1:1:5j]\n",
    "print_a(x)"
   ]
  },
  {
   "cell_type": "markdown",
   "metadata": {
    "Collapsed": "true",
    "heading_collapsed": true,
    "hidden": true
   },
   "source": [
    "## I/O\n",
    "\n",
    "```python\n",
    "np.save()\n",
    "np.load()\n",
    "np.savez()\n",
    "```"
   ]
  },
  {
   "cell_type": "markdown",
   "metadata": {
    "Collapsed": "true",
    "heading_collapsed": true,
    "hidden": true
   },
   "source": [
    "### Saving and Loading on Disk"
   ]
  },
  {
   "cell_type": "markdown",
   "metadata": {
    "Collapsed": "false"
   },
   "source": [
    "Save an array as a .npy file"
   ]
  },
  {
   "cell_type": "code",
   "execution_count": 67,
   "metadata": {
    "Collapsed": "false",
    "hidden": true
   },
   "outputs": [],
   "source": [
    "np.save('my_array', a)"
   ]
  },
  {
   "cell_type": "code",
   "execution_count": 25,
   "metadata": {
    "Collapsed": "false",
    "hidden": true
   },
   "outputs": [
    {
     "data": {
      "text/plain": [
       "array([1, 2, 3])"
      ]
     },
     "execution_count": 25,
     "metadata": {},
     "output_type": "execute_result"
    }
   ],
   "source": [
    "np.load('my_array.npy')"
   ]
  },
  {
   "cell_type": "markdown",
   "metadata": {
    "Collapsed": "false"
   },
   "source": [
    "Save several arrays in an uncompressed .npz file"
   ]
  },
  {
   "cell_type": "code",
   "execution_count": 68,
   "metadata": {
    "Collapsed": "false",
    "hidden": true
   },
   "outputs": [],
   "source": [
    "np.savez('array.npz', array1=a, array2=b)"
   ]
  },
  {
   "cell_type": "code",
   "execution_count": 33,
   "metadata": {
    "Collapsed": "false",
    "hidden": true
   },
   "outputs": [],
   "source": [
    "my_arrays = np.load('array.npz')"
   ]
  },
  {
   "cell_type": "code",
   "execution_count": 34,
   "metadata": {
    "Collapsed": "false",
    "hidden": true
   },
   "outputs": [
    {
     "data": {
      "text/plain": [
       "array([1, 2, 3])"
      ]
     },
     "execution_count": 34,
     "metadata": {},
     "output_type": "execute_result"
    }
   ],
   "source": [
    "my_arrays['array1']"
   ]
  },
  {
   "cell_type": "markdown",
   "metadata": {
    "Collapsed": "true",
    "heading_collapsed": true,
    "hidden": true
   },
   "source": [
    "### Saving and Loading Text Files"
   ]
  },
  {
   "cell_type": "markdown",
   "metadata": {
    "Collapsed": "false"
   },
   "source": [
    "We can also load data from text file (each row must have same # of vals)"
   ]
  },
  {
   "cell_type": "code",
   "execution_count": null,
   "metadata": {
    "Collapsed": "false",
    "hidden": true
   },
   "outputs": [],
   "source": [
    "np.loadtxt(\"myfile.txt\")"
   ]
  },
  {
   "cell_type": "markdown",
   "metadata": {},
   "source": [
    "Or load data from a text file with missing values handled in a specific way"
   ]
  },
  {
   "cell_type": "code",
   "execution_count": null,
   "metadata": {
    "Collapsed": "false",
    "hidden": true
   },
   "outputs": [],
   "source": [
    "np.genfromtxt(\"my_file.csv\", delimiter=',')"
   ]
  },
  {
   "cell_type": "code",
   "execution_count": null,
   "metadata": {
    "Collapsed": "false",
    "hidden": true
   },
   "outputs": [],
   "source": [
    "np.savetxt(\"myarray.txt\", a, delimiter=\" \")"
   ]
  },
  {
   "cell_type": "markdown",
   "metadata": {
    "Collapsed": "true",
    "heading_collapsed": true,
    "hidden": true
   },
   "source": [
    "## Datatypes\n",
    "\n",
    "```python\n",
    "np.int64, np.float32, np.complex, np.bool, np.object, np.string_, np.unicode_\n",
    "```"
   ]
  },
  {
   "cell_type": "code",
   "execution_count": 70,
   "metadata": {
    "Collapsed": "false",
    "hidden": true
   },
   "outputs": [
    {
     "data": {
      "text/plain": [
       "numpy.int64"
      ]
     },
     "execution_count": 70,
     "metadata": {},
     "output_type": "execute_result"
    }
   ],
   "source": [
    "np.int64  # Signed 64-bit integer type"
   ]
  },
  {
   "cell_type": "code",
   "execution_count": 71,
   "metadata": {
    "Collapsed": "false",
    "hidden": true
   },
   "outputs": [
    {
     "data": {
      "text/plain": [
       "numpy.float32"
      ]
     },
     "execution_count": 71,
     "metadata": {},
     "output_type": "execute_result"
    }
   ],
   "source": [
    "np.float32  # Standard double-precision floating point"
   ]
  },
  {
   "cell_type": "code",
   "execution_count": 72,
   "metadata": {
    "Collapsed": "false",
    "hidden": true
   },
   "outputs": [
    {
     "data": {
      "text/plain": [
       "complex"
      ]
     },
     "execution_count": 72,
     "metadata": {},
     "output_type": "execute_result"
    }
   ],
   "source": [
    "np.complex  # Complex numbers represented by 128 floats"
   ]
  },
  {
   "cell_type": "code",
   "execution_count": 73,
   "metadata": {
    "Collapsed": "false",
    "hidden": true
   },
   "outputs": [
    {
     "data": {
      "text/plain": [
       "bool"
      ]
     },
     "execution_count": 73,
     "metadata": {},
     "output_type": "execute_result"
    }
   ],
   "source": [
    "np.bool  # Boolean type storing TRUE and FALSE values"
   ]
  },
  {
   "cell_type": "code",
   "execution_count": 74,
   "metadata": {
    "Collapsed": "false",
    "hidden": true
   },
   "outputs": [
    {
     "data": {
      "text/plain": [
       "object"
      ]
     },
     "execution_count": 74,
     "metadata": {},
     "output_type": "execute_result"
    }
   ],
   "source": [
    "np.object  # Python object type"
   ]
  },
  {
   "cell_type": "code",
   "execution_count": 75,
   "metadata": {
    "Collapsed": "false",
    "hidden": true
   },
   "outputs": [
    {
     "data": {
      "text/plain": [
       "numpy.bytes_"
      ]
     },
     "execution_count": 75,
     "metadata": {},
     "output_type": "execute_result"
    }
   ],
   "source": [
    "np.string_  # Fixed-length string type"
   ]
  },
  {
   "cell_type": "code",
   "execution_count": 76,
   "metadata": {
    "Collapsed": "false",
    "hidden": true
   },
   "outputs": [
    {
     "data": {
      "text/plain": [
       "numpy.str_"
      ]
     },
     "execution_count": 76,
     "metadata": {},
     "output_type": "execute_result"
    }
   ],
   "source": [
    "np.unicode_  # Fixed-length unicode type"
   ]
  },
  {
   "cell_type": "markdown",
   "metadata": {
    "Collapsed": "true",
    "heading_collapsed": true,
    "hidden": true
   },
   "source": [
    "## Inspecting Your Array\n",
    "\n",
    "```python\n",
    "my_array.shape  # array shape\n",
    "my_array.ndim  # num dimensions\n",
    "my_array.size  # num elements\n",
    "len(my_array)  # array length\n",
    "my_array.astype(int)  # convert type\n",
    "```"
   ]
  },
  {
   "cell_type": "code",
   "execution_count": 77,
   "metadata": {
    "Collapsed": "false",
    "hidden": true
   },
   "outputs": [
    {
     "name": "stdout",
     "output_type": "stream",
     "text": [
      "[[0.6171063  0.05290367 0.11975113 0.68710523]\n",
      " [0.84516373 0.67981585 0.75594438 0.90401364]]\n"
     ]
    },
    {
     "data": {
      "text/plain": [
       "(2, 4)"
      ]
     },
     "execution_count": 77,
     "metadata": {},
     "output_type": "execute_result"
    }
   ],
   "source": [
    "print(a)\n",
    "a.shape  # Array dimensions"
   ]
  },
  {
   "cell_type": "code",
   "execution_count": 78,
   "metadata": {
    "Collapsed": "false",
    "hidden": true
   },
   "outputs": [
    {
     "data": {
      "text/plain": [
       "2"
      ]
     },
     "execution_count": 78,
     "metadata": {},
     "output_type": "execute_result"
    }
   ],
   "source": [
    "len(a)  # Length of array"
   ]
  },
  {
   "cell_type": "code",
   "execution_count": 79,
   "metadata": {
    "Collapsed": "false",
    "hidden": true
   },
   "outputs": [
    {
     "name": "stdout",
     "output_type": "stream",
     "text": [
      "[[1.5 2.  3. ]\n",
      " [4.  5.  6. ]]\n"
     ]
    },
    {
     "data": {
      "text/plain": [
       "2"
      ]
     },
     "execution_count": 79,
     "metadata": {},
     "output_type": "execute_result"
    }
   ],
   "source": [
    "print(b)\n",
    "b.ndim  # Number of array dimensions"
   ]
  },
  {
   "cell_type": "code",
   "execution_count": 80,
   "metadata": {
    "Collapsed": "false",
    "hidden": true
   },
   "outputs": [
    {
     "name": "stdout",
     "output_type": "stream",
     "text": [
      "[[7 7]\n",
      " [7 7]]\n"
     ]
    },
    {
     "data": {
      "text/plain": [
       "4"
      ]
     },
     "execution_count": 80,
     "metadata": {},
     "output_type": "execute_result"
    }
   ],
   "source": [
    "print(e)\n",
    "e.size  # Number of array elements"
   ]
  },
  {
   "cell_type": "code",
   "execution_count": 81,
   "metadata": {
    "Collapsed": "false",
    "hidden": true
   },
   "outputs": [
    {
     "data": {
      "text/plain": [
       "dtype('float64')"
      ]
     },
     "execution_count": 81,
     "metadata": {},
     "output_type": "execute_result"
    }
   ],
   "source": [
    "b.dtype  # Data type of array elements"
   ]
  },
  {
   "cell_type": "code",
   "execution_count": 82,
   "metadata": {
    "Collapsed": "false",
    "hidden": true
   },
   "outputs": [
    {
     "data": {
      "text/plain": [
       "'float64'"
      ]
     },
     "execution_count": 82,
     "metadata": {},
     "output_type": "execute_result"
    }
   ],
   "source": [
    "b.dtype.name  # Name of data type"
   ]
  },
  {
   "cell_type": "code",
   "execution_count": 83,
   "metadata": {
    "Collapsed": "false",
    "hidden": true
   },
   "outputs": [
    {
     "data": {
      "text/plain": [
       "array([[1, 2, 3],\n",
       "       [4, 5, 6]])"
      ]
     },
     "execution_count": 83,
     "metadata": {},
     "output_type": "execute_result"
    }
   ],
   "source": [
    "b.astype(int)  # Convert an array to a different type"
   ]
  },
  {
   "cell_type": "markdown",
   "metadata": {
    "Collapsed": "false",
    "heading_collapsed": true,
    "hidden": true
   },
   "source": [
    "## Array Mathematics"
   ]
  },
  {
   "cell_type": "markdown",
   "metadata": {
    "Collapsed": "true",
    "heading_collapsed": true,
    "hidden": true
   },
   "source": [
    "### Arithmetic Ops\n",
    "\n",
    "There is a feature of numpy called **broadcasting**. It allows mathematical array operations to be performed very quickly (in C instead of Python)"
   ]
  },
  {
   "cell_type": "markdown",
   "metadata": {},
   "source": [
    "It is done using four rules:\n",
    "\n",
    "* All input arrays with ndim smaller than the input array of largest ndim, have 1’s prepended to their shapes.\n",
    "\n",
    "* The size in each dimension of the output shape is the maximum of all the input sizes in that dimension.\n",
    "\n",
    "* An input can be used in the calculation if its size in a particular dimension either matches the output size in that dimension, or has value exactly 1.\n",
    "\n",
    "Let's see it in action using the two arrays defined below"
   ]
  },
  {
   "cell_type": "code",
   "execution_count": 87,
   "metadata": {
    "Collapsed": "false"
   },
   "outputs": [
    {
     "name": "stdout",
     "output_type": "stream",
     "text": [
      "Shape: (3,)\n",
      "[1 2 3]\n",
      "Shape: (2, 3)\n",
      "[[1.5 2.  3. ]\n",
      " [4.  5.  6. ]]\n"
     ]
    }
   ],
   "source": [
    "a = np.array([1, 2, 3])\n",
    "b = np.array([[1.5, 2.,  3.], [4.,  5.,  6.]])\n",
    "print_a(a)\n",
    "print_a(b)"
   ]
  },
  {
   "cell_type": "markdown",
   "metadata": {
    "Collapsed": "true",
    "heading_collapsed": true,
    "hidden": true
   },
   "source": [
    "#### Subtraction and Addition"
   ]
  },
  {
   "cell_type": "markdown",
   "metadata": {
    "Collapsed": "false"
   },
   "source": [
    "We can see that the dimension mismatch error doesn't happen b/c array a is broadcast to each from in b"
   ]
  },
  {
   "cell_type": "code",
   "execution_count": 88,
   "metadata": {
    "Collapsed": "false",
    "hidden": true
   },
   "outputs": [
    {
     "name": "stdout",
     "output_type": "stream",
     "text": [
      "Subtraction\n",
      " a - b = g\n",
      "\n",
      " [1 2 3]\n",
      " - \n",
      "[[1.5 2.  3. ]\n",
      " [4.  5.  6. ]]\n",
      " =\n",
      "[[-0.5  0.   0. ]\n",
      " [-3.  -3.  -3. ]]\n"
     ]
    }
   ],
   "source": [
    "g = a - b\n",
    "print('Subtraction\\n a - b = g\\n\\n {}\\n - \\n{}\\n =\\n{}'.format(a, b, g))"
   ]
  },
  {
   "cell_type": "code",
   "execution_count": 90,
   "metadata": {
    "Collapsed": "false",
    "hidden": true
   },
   "outputs": [
    {
     "data": {
      "text/plain": [
       "array([[-0.5,  0. ,  0. ],\n",
       "       [-3. , -3. , -3. ]])"
      ]
     },
     "execution_count": 90,
     "metadata": {},
     "output_type": "execute_result"
    }
   ],
   "source": [
    "np.subtract(a, b)"
   ]
  },
  {
   "cell_type": "code",
   "execution_count": 91,
   "metadata": {
    "Collapsed": "false",
    "hidden": true
   },
   "outputs": [
    {
     "name": "stdout",
     "output_type": "stream",
     "text": [
      "Addition\n",
      " a + b = h\n",
      "\n",
      " [1 2 3]\n",
      " + \n",
      "[[1.5 2.  3. ]\n",
      " [4.  5.  6. ]]\n",
      " =\n",
      "[[2.5 4.  6. ]\n",
      " [5.  7.  9. ]]\n"
     ]
    }
   ],
   "source": [
    "h = b + a\n",
    "print('Addition\\n a + b = h\\n\\n {}\\n + \\n{}\\n =\\n{}'.format(a, b, h))"
   ]
  },
  {
   "cell_type": "code",
   "execution_count": 93,
   "metadata": {
    "Collapsed": "false",
    "hidden": true
   },
   "outputs": [
    {
     "data": {
      "text/plain": [
       "array([[2.5, 4. , 6. ],\n",
       "       [5. , 7. , 9. ]])"
      ]
     },
     "execution_count": 93,
     "metadata": {},
     "output_type": "execute_result"
    }
   ],
   "source": [
    "np.add(b, a)"
   ]
  },
  {
   "cell_type": "markdown",
   "metadata": {
    "Collapsed": "true",
    "heading_collapsed": true,
    "hidden": true
   },
   "source": [
    "#### Division and Multiplication"
   ]
  },
  {
   "cell_type": "code",
   "execution_count": 94,
   "metadata": {
    "Collapsed": "false",
    "hidden": true
   },
   "outputs": [
    {
     "name": "stdout",
     "output_type": "stream",
     "text": [
      "Division\n",
      " a / b = h\n",
      "\n",
      " [1 2 3]\n",
      " / \n",
      "[[1.5 2.  3. ]\n",
      " [4.  5.  6. ]]\n",
      " =\n",
      "[[0.66666667 1.         1.        ]\n",
      " [0.25       0.4        0.5       ]]\n"
     ]
    }
   ],
   "source": [
    "i = a / b\n",
    "print('Division\\n a / b = h\\n\\n {}\\n / \\n{}\\n =\\n{}'.format(a, b, i))"
   ]
  },
  {
   "cell_type": "code",
   "execution_count": 95,
   "metadata": {
    "Collapsed": "false",
    "hidden": true
   },
   "outputs": [
    {
     "data": {
      "text/plain": [
       "array([[0.66666667, 1.        , 1.        ],\n",
       "       [0.25      , 0.4       , 0.5       ]])"
      ]
     },
     "execution_count": 95,
     "metadata": {},
     "output_type": "execute_result"
    },
    {
     "name": "stderr",
     "output_type": "stream",
     "text": [
      "1:12: E231 missing whitespace after ','\n"
     ]
    }
   ],
   "source": [
    "np.divide(a, b)"
   ]
  },
  {
   "cell_type": "code",
   "execution_count": 96,
   "metadata": {
    "Collapsed": "false",
    "hidden": true
   },
   "outputs": [
    {
     "name": "stdout",
     "output_type": "stream",
     "text": [
      "Multiplication\n",
      " a * b = h\n",
      "\n",
      " [1 2 3]\n",
      " * \n",
      "[[1.5 2.  3. ]\n",
      " [4.  5.  6. ]]\n",
      " =\n",
      "[[ 1.5  4.   9. ]\n",
      " [ 4.  10.  18. ]]\n"
     ]
    }
   ],
   "source": [
    "j = a * b\n",
    "print('Multiplication\\n a * b = h\\n\\n {}\\n * \\n{}\\n =\\n{}'.format(a, b, j))"
   ]
  },
  {
   "cell_type": "code",
   "execution_count": 97,
   "metadata": {
    "Collapsed": "false",
    "hidden": true
   },
   "outputs": [
    {
     "data": {
      "text/plain": [
       "array([[ 1.5,  4. ,  9. ],\n",
       "       [ 4. , 10. , 18. ]])"
      ]
     },
     "execution_count": 97,
     "metadata": {},
     "output_type": "execute_result"
    }
   ],
   "source": [
    "np.multiply(a, b)"
   ]
  },
  {
   "cell_type": "markdown",
   "metadata": {
    "Collapsed": "true",
    "heading_collapsed": true,
    "hidden": true
   },
   "source": [
    "#### Other Mathy Stuff\n",
    "\n",
    "Exponentiation, square roots, sin, cos, etc"
   ]
  },
  {
   "cell_type": "code",
   "execution_count": 98,
   "metadata": {
    "Collapsed": "false",
    "hidden": true
   },
   "outputs": [
    {
     "name": "stdout",
     "output_type": "stream",
     "text": [
      "[[1.5 2.  3. ]\n",
      " [4.  5.  6. ]]\n"
     ]
    },
    {
     "data": {
      "text/plain": [
       "array([[  4.48168907,   7.3890561 ,  20.08553692],\n",
       "       [ 54.59815003, 148.4131591 , 403.42879349]])"
      ]
     },
     "execution_count": 98,
     "metadata": {},
     "output_type": "execute_result"
    }
   ],
   "source": [
    "print(b)\n",
    "np.exp(b)  # Exponentiation (ie. e^b)"
   ]
  },
  {
   "cell_type": "code",
   "execution_count": 99,
   "metadata": {
    "Collapsed": "false",
    "hidden": true
   },
   "outputs": [
    {
     "name": "stdout",
     "output_type": "stream",
     "text": [
      "[[1.5 2.  3. ]\n",
      " [4.  5.  6. ]]\n"
     ]
    },
    {
     "data": {
      "text/plain": [
       "array([[1.22474487, 1.41421356, 1.73205081],\n",
       "       [2.        , 2.23606798, 2.44948974]])"
      ]
     },
     "execution_count": 99,
     "metadata": {},
     "output_type": "execute_result"
    }
   ],
   "source": [
    "print(b)\n",
    "np.sqrt(b)  # Square root"
   ]
  },
  {
   "cell_type": "code",
   "execution_count": 100,
   "metadata": {
    "Collapsed": "false",
    "hidden": true
   },
   "outputs": [
    {
     "name": "stdout",
     "output_type": "stream",
     "text": [
      "[1 2 3]\n"
     ]
    },
    {
     "data": {
      "text/plain": [
       "array([0.84147098, 0.90929743, 0.14112001])"
      ]
     },
     "execution_count": 100,
     "metadata": {},
     "output_type": "execute_result"
    }
   ],
   "source": [
    "print(a)\n",
    "np.sin(a)  # Print sines of an array"
   ]
  },
  {
   "cell_type": "code",
   "execution_count": 101,
   "metadata": {
    "Collapsed": "false",
    "hidden": true
   },
   "outputs": [
    {
     "name": "stdout",
     "output_type": "stream",
     "text": [
      "[[1.5 2.  3. ]\n",
      " [4.  5.  6. ]]\n"
     ]
    },
    {
     "data": {
      "text/plain": [
       "array([[ 0.0707372 , -0.41614684, -0.9899925 ],\n",
       "       [-0.65364362,  0.28366219,  0.96017029]])"
      ]
     },
     "execution_count": 101,
     "metadata": {},
     "output_type": "execute_result"
    }
   ],
   "source": [
    "print(b)\n",
    "np.cos(b)  # Element-wise cosine"
   ]
  },
  {
   "cell_type": "code",
   "execution_count": 102,
   "metadata": {
    "Collapsed": "false",
    "hidden": true
   },
   "outputs": [
    {
     "name": "stdout",
     "output_type": "stream",
     "text": [
      "[1 2 3]\n"
     ]
    },
    {
     "data": {
      "text/plain": [
       "array([0.        , 0.69314718, 1.09861229])"
      ]
     },
     "execution_count": 102,
     "metadata": {},
     "output_type": "execute_result"
    }
   ],
   "source": [
    "print(a)\n",
    "np.log(a)  # Element-wise natural logarithm"
   ]
  },
  {
   "cell_type": "markdown",
   "metadata": {
    "Collapsed": "true",
    "heading_collapsed": true,
    "hidden": true
   },
   "source": [
    "### Comparison (element-wise and array-wise)\n",
    "\n",
    "```python\n",
    "array_1 == array_2  # element-wise comp\n",
    "np.array_equal()  # test if same shape, same elements values\n",
    "np.array_equiv()  # test if broadcastable shape, same elements values\n",
    "np.allclose() # test if same shape, elements have close enough values\n",
    "```"
   ]
  },
  {
   "cell_type": "code",
   "execution_count": 106,
   "metadata": {
    "Collapsed": "false",
    "hidden": true
   },
   "outputs": [
    {
     "name": "stdout",
     "output_type": "stream",
     "text": [
      "Shape: (3,)\n",
      "[1 2 3]\n"
     ]
    },
    {
     "data": {
      "text/plain": [
       "array([ True, False, False])"
      ]
     },
     "execution_count": 106,
     "metadata": {},
     "output_type": "execute_result"
    }
   ],
   "source": [
    "print_a(a)\n",
    "a < 2  # Element-wise comparison array([True, False, False], dtype=bool)"
   ]
  },
  {
   "cell_type": "code",
   "execution_count": 105,
   "metadata": {
    "Collapsed": "false",
    "hidden": true
   },
   "outputs": [
    {
     "name": "stdout",
     "output_type": "stream",
     "text": [
      "Shape: (3,)\n",
      "[1 2 3]\n",
      "Shape: (2, 3)\n",
      "[[1.5 2.  3. ]\n",
      " [4.  5.  6. ]]\n"
     ]
    },
    {
     "data": {
      "text/plain": [
       "array([[False,  True,  True],\n",
       "       [False, False, False]])"
      ]
     },
     "execution_count": 105,
     "metadata": {},
     "output_type": "execute_result"
    }
   ],
   "source": [
    "print_a(a)\n",
    "print_a(b)\n",
    "a == b  # Element-wise comparison"
   ]
  },
  {
   "cell_type": "code",
   "execution_count": 116,
   "metadata": {
    "Collapsed": "false",
    "hidden": true
   },
   "outputs": [],
   "source": [
    "a = np.array([1, 2, 3])\n",
    "b = np.array([1, 2, 3])"
   ]
  },
  {
   "cell_type": "code",
   "execution_count": 115,
   "metadata": {
    "Collapsed": "false"
   },
   "outputs": [
    {
     "name": "stdout",
     "output_type": "stream",
     "text": [
      "True\n",
      "True\n",
      "True\n"
     ]
    }
   ],
   "source": [
    "print(np.array_equal(a, b))\n",
    "print(np.array_equiv(a, b))\n",
    "print(np.allclose(a, b))"
   ]
  },
  {
   "cell_type": "code",
   "execution_count": 125,
   "metadata": {
    "Collapsed": "false"
   },
   "outputs": [],
   "source": [
    "a = np.array([1, 2, 3])\n",
    "b = np.array([[1, 2, 3], [1, 2, 3]])"
   ]
  },
  {
   "cell_type": "code",
   "execution_count": 126,
   "metadata": {
    "Collapsed": "false"
   },
   "outputs": [
    {
     "name": "stdout",
     "output_type": "stream",
     "text": [
      "False\n",
      "True\n",
      "True\n"
     ]
    }
   ],
   "source": [
    "print(np.array_equal(a, b))\n",
    "print(np.array_equiv(a, b))\n",
    "print(np.allclose(a, b))"
   ]
  },
  {
   "cell_type": "code",
   "execution_count": 129,
   "metadata": {
    "Collapsed": "false"
   },
   "outputs": [],
   "source": [
    "a = np.array([1e10, 1e-8])\n",
    "b = np.array([1.00001e10, 1e-9])"
   ]
  },
  {
   "cell_type": "code",
   "execution_count": 131,
   "metadata": {
    "Collapsed": "false"
   },
   "outputs": [
    {
     "name": "stdout",
     "output_type": "stream",
     "text": [
      "False\n",
      "False\n",
      "True\n"
     ]
    }
   ],
   "source": [
    "print(np.array_equal(a, b))\n",
    "print(np.array_equiv(a, b))\n",
    "print(np.allclose(a, b))"
   ]
  },
  {
   "cell_type": "markdown",
   "metadata": {
    "Collapsed": "true",
    "heading_collapsed": true,
    "hidden": true
   },
   "source": [
    "### Aggregate Functions\n",
    "\n",
    "```python\n",
    "my_array.sum()\n",
    "my_array.min()\n",
    "my_array.max()\n",
    "my_array.cumsum()\n",
    "my_array.median()\n",
    "my_array.mean()\n",
    "my_array.std()\n",
    "```"
   ]
  },
  {
   "cell_type": "code",
   "execution_count": 137,
   "metadata": {
    "Collapsed": "false"
   },
   "outputs": [],
   "source": [
    "a = np.array([1, 2, 3])\n",
    "b = np.array([[1, 2, 3], [4, 5, 6]])"
   ]
  },
  {
   "cell_type": "code",
   "execution_count": 134,
   "metadata": {
    "Collapsed": "false",
    "hidden": true
   },
   "outputs": [
    {
     "data": {
      "text/plain": [
       "6"
      ]
     },
     "execution_count": 134,
     "metadata": {},
     "output_type": "execute_result"
    }
   ],
   "source": [
    "a.sum()  # Array-wise sum"
   ]
  },
  {
   "cell_type": "code",
   "execution_count": 135,
   "metadata": {
    "Collapsed": "false",
    "hidden": true
   },
   "outputs": [
    {
     "name": "stdout",
     "output_type": "stream",
     "text": [
      "[1 2 3]\n",
      "\n",
      "1\n",
      "3\n"
     ]
    }
   ],
   "source": [
    "print('{}\\n'.format(a))\n",
    "\n",
    "print(a.min())  # Array-wise minimum value\n",
    "print(a.max())  # Array-wise maximum value"
   ]
  },
  {
   "cell_type": "code",
   "execution_count": 138,
   "metadata": {
    "Collapsed": "false",
    "hidden": true
   },
   "outputs": [
    {
     "name": "stdout",
     "output_type": "stream",
     "text": [
      "[[1 2 0]\n",
      " [4 1 6]]\n",
      "\n",
      "[1 1 0]\n",
      "[4 2 6]\n"
     ]
    }
   ],
   "source": [
    "b[0][2] = 0\n",
    "b[1][1] = 1\n",
    "print('{}\\n'.format(b))\n",
    "\n",
    "print(b.min(axis=0))  # Minimum value of an array row (min along axis)\n",
    "print(b.max(axis=0))  # Maximum value of an array row (max along axis)"
   ]
  },
  {
   "cell_type": "code",
   "execution_count": 139,
   "metadata": {
    "Collapsed": "false",
    "hidden": true
   },
   "outputs": [
    {
     "name": "stdout",
     "output_type": "stream",
     "text": [
      "[[1 2 0]\n",
      " [4 1 6]]\n",
      "\n",
      "[0 1]\n",
      "[2 6]\n"
     ]
    }
   ],
   "source": [
    "print('{}\\n'.format(b))\n",
    "\n",
    "print(b.min(axis=1))  # Minimum value of an array row (min along axis)\n",
    "print(b.max(axis=1))  # Maximum value of an array row (max along axis)"
   ]
  },
  {
   "cell_type": "code",
   "execution_count": 140,
   "metadata": {
    "Collapsed": "false",
    "hidden": true
   },
   "outputs": [
    {
     "name": "stdout",
     "output_type": "stream",
     "text": [
      "[[1 2 0]\n",
      " [4 1 6]]\n",
      "\n"
     ]
    },
    {
     "data": {
      "text/plain": [
       "array([[ 1,  3,  3],\n",
       "       [ 4,  5, 11]])"
      ]
     },
     "execution_count": 140,
     "metadata": {},
     "output_type": "execute_result"
    }
   ],
   "source": [
    "print('{}\\n'.format(b))\n",
    "b.cumsum(axis=1)  # Cumulative sum of the elements"
   ]
  },
  {
   "cell_type": "code",
   "execution_count": 141,
   "metadata": {
    "Collapsed": "false",
    "hidden": true
   },
   "outputs": [
    {
     "name": "stdout",
     "output_type": "stream",
     "text": [
      "[1 2 3]\n",
      "\n"
     ]
    },
    {
     "data": {
      "text/plain": [
       "2.0"
      ]
     },
     "execution_count": 141,
     "metadata": {},
     "output_type": "execute_result"
    }
   ],
   "source": [
    "print('{}\\n'.format(a))\n",
    "a.mean()  # Mean"
   ]
  },
  {
   "cell_type": "code",
   "execution_count": 142,
   "metadata": {
    "Collapsed": "false",
    "hidden": true
   },
   "outputs": [
    {
     "name": "stdout",
     "output_type": "stream",
     "text": [
      "[[1 2 0]\n",
      " [4 1 6]]\n",
      "\n"
     ]
    },
    {
     "data": {
      "text/plain": [
       "1.5"
      ]
     },
     "execution_count": 142,
     "metadata": {},
     "output_type": "execute_result"
    }
   ],
   "source": [
    "print('{}\\n'.format(b))\n",
    "np.median(b)  # Median"
   ]
  },
  {
   "cell_type": "code",
   "execution_count": 143,
   "metadata": {
    "Collapsed": "false",
    "hidden": true
   },
   "outputs": [
    {
     "name": "stdout",
     "output_type": "stream",
     "text": [
      "[1 2 3]\n",
      "\n"
     ]
    },
    {
     "data": {
      "text/plain": [
       "1.0"
      ]
     },
     "execution_count": 143,
     "metadata": {},
     "output_type": "execute_result"
    }
   ],
   "source": [
    "print('{}\\n'.format(a))\n",
    "np.corrcoef(a)  # Correlation coefficient"
   ]
  },
  {
   "cell_type": "code",
   "execution_count": 144,
   "metadata": {
    "Collapsed": "false",
    "hidden": true
   },
   "outputs": [
    {
     "name": "stdout",
     "output_type": "stream",
     "text": [
      "[[1 2 0]\n",
      " [4 1 6]]\n",
      "\n"
     ]
    },
    {
     "data": {
      "text/plain": [
       "2.0548046676563256"
      ]
     },
     "execution_count": 144,
     "metadata": {},
     "output_type": "execute_result"
    }
   ],
   "source": [
    "print('{}\\n'.format(b))\n",
    "np.std(b)  # Standard deviation"
   ]
  },
  {
   "cell_type": "markdown",
   "metadata": {
    "Collapsed": "true",
    "heading_collapsed": true,
    "hidden": true
   },
   "source": [
    "## Copying\n",
    "\n",
    "```python\n",
    "my_array.view()\n",
    "my_array.copy()\n",
    "```"
   ]
  },
  {
   "cell_type": "markdown",
   "metadata": {
    "Collapsed": "false"
   },
   "source": [
    "**COPY / DEEP COPY:** When the contents are physically stored in another location, it is called Copy (deep by default). \n",
    "\n",
    "**VIEW / SHALLOW COPY:** If on the other hand, a different view of the same memory content is provided, we call it as View."
   ]
  },
  {
   "cell_type": "code",
   "execution_count": 145,
   "metadata": {
    "Collapsed": "false",
    "hidden": true
   },
   "outputs": [
    {
     "name": "stdout",
     "output_type": "stream",
     "text": [
      "Array: [1 2 3] --> mem loc: (140190773552048, False)\n",
      "\n",
      "Array: [1 2 3] --> mem loc: (140190773552048, False)\n",
      "\n"
     ]
    }
   ],
   "source": [
    "print('Array: {} --> mem loc: {}\\n'.format(a, a.__array_interface__['data']))\n",
    "\n",
    "h = a.view()  # Create a view of the array with the same data\n",
    "\n",
    "print('Array: {} --> mem loc: {}\\n'.format(h, h.__array_interface__['data']))"
   ]
  },
  {
   "cell_type": "code",
   "execution_count": 149,
   "metadata": {
    "Collapsed": "false",
    "hidden": true
   },
   "outputs": [
    {
     "name": "stdout",
     "output_type": "stream",
     "text": [
      "Array: [1 2 3] --> mem loc: (140190773552048, False)\n",
      "\n",
      "Array: [1 2 3] --> mem loc: (140190773429392, False)\n",
      "\n"
     ]
    }
   ],
   "source": [
    "print('Array: {} --> mem loc: {}\\n'.format(a, a.__array_interface__['data']))\n",
    "\n",
    "h = np.copy(a)  # Create a copy of the array\n",
    "\n",
    "print('Array: {} --> mem loc: {}\\n'.format(h, h.__array_interface__['data']))"
   ]
  },
  {
   "cell_type": "code",
   "execution_count": 148,
   "metadata": {
    "Collapsed": "false",
    "hidden": true
   },
   "outputs": [
    {
     "name": "stdout",
     "output_type": "stream",
     "text": [
      "Array: [1 2 3] --> mem loc: (140190773552048, False)\n",
      "\n",
      "Array: [1 2 3] --> mem loc: (140190773577344, False)\n",
      "\n"
     ]
    }
   ],
   "source": [
    "print('Array: {} --> mem loc: {}\\n'.format(a, a.__array_interface__['data']))\n",
    "\n",
    "i = a.copy()  # Create a copy of the array\n",
    "\n",
    "print('Array: {} --> mem loc: {}\\n'.format(h, h.__array_interface__['data']))"
   ]
  },
  {
   "cell_type": "markdown",
   "metadata": {
    "Collapsed": "true",
    "heading_collapsed": true,
    "hidden": true
   },
   "source": [
    "## Sorting\n",
    "\n",
    "```python\n",
    "my_array.sort()\n",
    "```"
   ]
  },
  {
   "cell_type": "code",
   "execution_count": 152,
   "metadata": {
    "Collapsed": "false",
    "hidden": true
   },
   "outputs": [
    {
     "name": "stdout",
     "output_type": "stream",
     "text": [
      "[2 1 4]\n",
      "[1 2 4]\n"
     ]
    }
   ],
   "source": [
    "a = np.array([2, 1, 4])\n",
    "print(a)\n",
    "\n",
    "a.sort()  # Sort an array in place\n",
    "print(a)"
   ]
  },
  {
   "cell_type": "code",
   "execution_count": 154,
   "metadata": {
    "Collapsed": "false",
    "hidden": true
   },
   "outputs": [
    {
     "name": "stdout",
     "output_type": "stream",
     "text": [
      "[[[1 3 1]\n",
      "  [3 2 0]]\n",
      "\n",
      " [[1 7 7]\n",
      "  [2 5 2]]]\n",
      "\n",
      "\n",
      "[[[1 3 1]\n",
      "  [2 2 0]]\n",
      "\n",
      " [[1 7 7]\n",
      "  [3 5 2]]]\n"
     ]
    }
   ],
   "source": [
    "c = np.random.randint(0, 9, (2, 2, 3))\n",
    "print('{}\\n\\n'.format(c))\n",
    "\n",
    "c.sort(axis=0)  # Sort the elements of an array's axis\n",
    "print(c)"
   ]
  },
  {
   "cell_type": "markdown",
   "metadata": {
    "Collapsed": "false",
    "heading_collapsed": true,
    "hidden": true
   },
   "source": [
    "## Subsetting, Slicing, Indexing\n",
    "\n",
    "```python\n",
    "my_array[2]\n",
    "my_array[0][1]\n",
    "my_array[0, 1] \n",
    "my_array[0:2, 1]\n",
    "my_array[0:2, ...]\n",
    "```"
   ]
  },
  {
   "cell_type": "markdown",
   "metadata": {
    "Collapsed": "false"
   },
   "source": [
    "**Subsetting** - selecting specific rows and columns within the data\n",
    "\n",
    "**Slicing** - selecting subsets based on a range of values\n",
    "\n",
    "**Indexing** - selecting specific array values"
   ]
  },
  {
   "cell_type": "code",
   "execution_count": 4,
   "metadata": {
    "Collapsed": "false"
   },
   "outputs": [
    {
     "name": "stdout",
     "output_type": "stream",
     "text": [
      "Shape: (3,)\n",
      "[1 2 4]\n",
      "Shape: (2, 3)\n",
      "[[1 2 0]\n",
      " [4 1 6]]\n"
     ]
    }
   ],
   "source": [
    "a = np.array([1, 2, 4])\n",
    "b = np.array([[1, 2, 0], [4, 1, 6]])\n",
    "print_a(a)\n",
    "print_a(b)"
   ]
  },
  {
   "cell_type": "code",
   "execution_count": 188,
   "metadata": {
    "Collapsed": "false",
    "hidden": true
   },
   "outputs": [
    {
     "data": {
      "text/plain": [
       "4"
      ]
     },
     "execution_count": 188,
     "metadata": {},
     "output_type": "execute_result"
    }
   ],
   "source": [
    "a[2]  # Select the element at the 2nd index"
   ]
  },
  {
   "cell_type": "code",
   "execution_count": 190,
   "metadata": {
    "Collapsed": "false"
   },
   "outputs": [
    {
     "data": {
      "text/plain": [
       "2"
      ]
     },
     "execution_count": 190,
     "metadata": {},
     "output_type": "execute_result"
    }
   ],
   "source": [
    "b[0][1]  # Select the 0th element then the 1st element of the 0th"
   ]
  },
  {
   "cell_type": "code",
   "execution_count": 14,
   "metadata": {
    "Collapsed": "false",
    "hidden": true
   },
   "outputs": [
    {
     "data": {
      "text/plain": [
       "array([1])"
      ]
     },
     "execution_count": 14,
     "metadata": {},
     "output_type": "execute_result"
    }
   ],
   "source": [
    "a[a < 2]  # Select elements less than 2"
   ]
  },
  {
   "cell_type": "code",
   "execution_count": 16,
   "metadata": {
    "Collapsed": "false",
    "hidden": true
   },
   "outputs": [
    {
     "data": {
      "text/plain": [
       "array([4, 2, 6, 1])"
      ]
     },
     "execution_count": 16,
     "metadata": {},
     "output_type": "execute_result"
    }
   ],
   "source": [
    "b[[1, 0, 1, 0], [0, 1, 2, 0]]  # Select elements (1,0),(0,1),(1,2) and (0,0)"
   ]
  },
  {
   "cell_type": "code",
   "execution_count": 20,
   "metadata": {
    "Collapsed": "false",
    "hidden": true
   },
   "outputs": [
    {
     "data": {
      "text/plain": [
       "2"
      ]
     },
     "execution_count": 20,
     "metadata": {},
     "output_type": "execute_result"
    }
   ],
   "source": [
    "b[0, 1]  # Select 0th item in first dim, 1st item in second dim"
   ]
  },
  {
   "cell_type": "code",
   "execution_count": 6,
   "metadata": {
    "Collapsed": "false",
    "hidden": true
   },
   "outputs": [
    {
     "data": {
      "text/plain": [
       "array([1, 2])"
      ]
     },
     "execution_count": 6,
     "metadata": {},
     "output_type": "execute_result"
    }
   ],
   "source": [
    "a[0:2]  # Select items between indices 0 and 2"
   ]
  },
  {
   "cell_type": "code",
   "execution_count": 7,
   "metadata": {
    "Collapsed": "false",
    "hidden": true
   },
   "outputs": [
    {
     "data": {
      "text/plain": [
       "array([2, 1])"
      ]
     },
     "execution_count": 7,
     "metadata": {},
     "output_type": "execute_result"
    }
   ],
   "source": [
    "b[0:2, 1]  # Select items at rows 0 and 1 in column 1"
   ]
  },
  {
   "cell_type": "code",
   "execution_count": 182,
   "metadata": {
    "Collapsed": "false",
    "hidden": true
   },
   "outputs": [
    {
     "data": {
      "text/plain": [
       "array([[1, 2, 0]])"
      ]
     },
     "execution_count": 182,
     "metadata": {},
     "output_type": "execute_result"
    }
   ],
   "source": [
    "b[:1]  # Select all items at row 0"
   ]
  },
  {
   "cell_type": "code",
   "execution_count": 8,
   "metadata": {
    "Collapsed": "false"
   },
   "outputs": [
    {
     "data": {
      "text/plain": [
       "array([[1, 2, 0]])"
      ]
     },
     "execution_count": 8,
     "metadata": {},
     "output_type": "execute_result"
    }
   ],
   "source": [
    "b[0:1, :] # Select all items at row 0"
   ]
  },
  {
   "cell_type": "code",
   "execution_count": 10,
   "metadata": {
    "Collapsed": "false",
    "hidden": true
   },
   "outputs": [
    {
     "data": {
      "text/plain": [
       "array([4, 1, 6])"
      ]
     },
     "execution_count": 10,
     "metadata": {},
     "output_type": "execute_result"
    }
   ],
   "source": [
    "b[1, ...]  # Same as [1,:,:]"
   ]
  },
  {
   "cell_type": "code",
   "execution_count": 23,
   "metadata": {
    "Collapsed": "false",
    "hidden": true
   },
   "outputs": [
    {
     "data": {
      "text/plain": [
       "array([[4, 1, 6, 4],\n",
       "       [1, 2, 0, 1],\n",
       "       [4, 1, 6, 4],\n",
       "       [1, 2, 0, 1]])"
      ]
     },
     "execution_count": 23,
     "metadata": {},
     "output_type": "execute_result"
    }
   ],
   "source": [
    "# Try predicting the output of this one on your own\n",
    "b[[1, 0, 1, 0]][:, [0, 1, 2, 0]]"
   ]
  },
  {
   "cell_type": "markdown",
   "metadata": {
    "Collapsed": "false",
    "heading_collapsed": true,
    "hidden": true
   },
   "source": [
    "## Array Manipulation"
   ]
  },
  {
   "cell_type": "code",
   "execution_count": 63,
   "metadata": {
    "Collapsed": "false"
   },
   "outputs": [],
   "source": [
    "a = np.array([1, 2, 4])\n",
    "b = np.array([[1, 2, 0], [4, 1, 6]])\n",
    "\n",
    "c = np.array([[1], [2], [3]])\n",
    "d = np.array([[[0], [0], [0]], [[0], [0], [0]]])"
   ]
  },
  {
   "cell_type": "markdown",
   "metadata": {
    "Collapsed": "true",
    "hidden": true
   },
   "source": [
    "### Changing Array Shape\n",
    "\n",
    "```python\n",
    "np.transpose()\n",
    "my_array.ravel()\n",
    "my_array.flatten()\n",
    "my_array.reshape()\n",
    "```"
   ]
  },
  {
   "cell_type": "code",
   "execution_count": 28,
   "metadata": {
    "Collapsed": "false",
    "hidden": true
   },
   "outputs": [
    {
     "data": {
      "text/plain": [
       "array([[1, 4],\n",
       "       [2, 1],\n",
       "       [0, 6]])"
      ]
     },
     "execution_count": 28,
     "metadata": {},
     "output_type": "execute_result"
    }
   ],
   "source": [
    "i = np.transpose(b)\n",
    "i"
   ]
  },
  {
   "cell_type": "code",
   "execution_count": 30,
   "metadata": {
    "Collapsed": "false"
   },
   "outputs": [
    {
     "data": {
      "text/plain": [
       "array([[1, 2, 0],\n",
       "       [4, 1, 6]])"
      ]
     },
     "execution_count": 30,
     "metadata": {},
     "output_type": "execute_result"
    }
   ],
   "source": [
    "i.T  # alternative to writing out transpose"
   ]
  },
  {
   "cell_type": "code",
   "execution_count": 31,
   "metadata": {
    "Collapsed": "false"
   },
   "outputs": [
    {
     "data": {
      "text/plain": [
       "array([1, 2, 0, 4, 1, 6])"
      ]
     },
     "execution_count": 31,
     "metadata": {},
     "output_type": "execute_result"
    }
   ],
   "source": [
    "b.ravel()  # flatten out an array\n",
    "# b.flatten() # alternative to ravel"
   ]
  },
  {
   "cell_type": "code",
   "execution_count": 36,
   "metadata": {
    "Collapsed": "false",
    "hidden": true
   },
   "outputs": [
    {
     "data": {
      "text/plain": [
       "array([[1, 2],\n",
       "       [0, 4],\n",
       "       [1, 6]])"
      ]
     },
     "execution_count": 36,
     "metadata": {},
     "output_type": "execute_result"
    }
   ],
   "source": [
    "b.reshape(3, -2)  # reshape an array"
   ]
  },
  {
   "cell_type": "markdown",
   "metadata": {
    "Collapsed": "true",
    "hidden": true
   },
   "source": [
    "### Adding/Removing Elements\n",
    "\n",
    "```python\n",
    "my_array.append()\n",
    "my_array.insert()\n",
    "my_array.delete()\n",
    "```"
   ]
  },
  {
   "cell_type": "code",
   "execution_count": null,
   "metadata": {
    "Collapsed": "false",
    "hidden": true
   },
   "outputs": [],
   "source": [
    "h.resize((2,6)) Return a new array with shape (2,6)\n",
    ">>> np.append(h,g) Append items to an array\n",
    ">>> np.insert(a, 1, 5) Insert items in an array\n",
    ">>> np.delete(a,[1]) Delete items from an array"
   ]
  },
  {
   "cell_type": "markdown",
   "metadata": {
    "Collapsed": "false",
    "hidden": true
   },
   "source": [
    "### Combining Arrays\n",
    "\n",
    "```python\n",
    "np.concatenate()\n",
    "np.vstack()\n",
    "np.hstack()\n",
    "np.column_stack()\n",
    "np.row_stack()\n",
    "```"
   ]
  },
  {
   "cell_type": "code",
   "execution_count": 64,
   "metadata": {
    "Collapsed": "false",
    "hidden": true
   },
   "outputs": [
    {
     "data": {
      "text/plain": [
       "array([1, 2, 4, 1, 2, 4])"
      ]
     },
     "execution_count": 64,
     "metadata": {},
     "output_type": "execute_result"
    }
   ],
   "source": [
    "print(a.shape)\n",
    "np.concatenate((a, a), axis=0)  # Concatenate arrays"
   ]
  },
  {
   "cell_type": "code",
   "execution_count": 61,
   "metadata": {
    "Collapsed": "false"
   },
   "outputs": [
    {
     "ename": "ValueError",
     "evalue": "all the input arrays must have same number of dimensions, but the array at index 0 has 2 dimension(s) and the array at index 1 has 3 dimension(s)",
     "output_type": "error",
     "traceback": [
      "\u001b[0;31m---------------------------------------------------------------------------\u001b[0m",
      "\u001b[0;31mValueError\u001b[0m                                Traceback (most recent call last)",
      "\u001b[0;32m<ipython-input-61-a1835e9bd001>\u001b[0m in \u001b[0;36m<module>\u001b[0;34m\u001b[0m\n\u001b[0;32m----> 1\u001b[0;31m \u001b[0mnp\u001b[0m\u001b[0;34m.\u001b[0m\u001b[0mconcatenate\u001b[0m\u001b[0;34m(\u001b[0m\u001b[0;34m(\u001b[0m\u001b[0mc\u001b[0m\u001b[0;34m,\u001b[0m \u001b[0md\u001b[0m\u001b[0;34m)\u001b[0m\u001b[0;34m)\u001b[0m\u001b[0;34m\u001b[0m\u001b[0;34m\u001b[0m\u001b[0m\n\u001b[0m",
      "\u001b[0;32m<__array_function__ internals>\u001b[0m in \u001b[0;36mconcatenate\u001b[0;34m(*args, **kwargs)\u001b[0m\n",
      "\u001b[0;31mValueError\u001b[0m: all the input arrays must have same number of dimensions, but the array at index 0 has 2 dimension(s) and the array at index 1 has 3 dimension(s)"
     ]
    }
   ],
   "source": [
    "np.concatenate((c, d))"
   ]
  },
  {
   "cell_type": "markdown",
   "metadata": {
    "Collapsed": "false"
   },
   "source": [
    "Stack arrays vertically (row-wise)"
   ]
  },
  {
   "cell_type": "code",
   "execution_count": 53,
   "metadata": {
    "Collapsed": "false"
   },
   "outputs": [
    {
     "data": {
      "text/plain": [
       "array([[1, 2, 4],\n",
       "       [1, 2, 0],\n",
       "       [4, 1, 6]])"
      ]
     },
     "execution_count": 53,
     "metadata": {},
     "output_type": "execute_result"
    }
   ],
   "source": [
    "np.vstack((a, b))"
   ]
  },
  {
   "cell_type": "code",
   "execution_count": 52,
   "metadata": {
    "Collapsed": "false"
   },
   "outputs": [
    {
     "data": {
      "text/plain": [
       "array([[1],\n",
       "       [2],\n",
       "       [3],\n",
       "       [0],\n",
       "       [0],\n",
       "       [0]])"
      ]
     },
     "execution_count": 52,
     "metadata": {},
     "output_type": "execute_result"
    }
   ],
   "source": [
    "np.vstack((c, d))"
   ]
  },
  {
   "cell_type": "markdown",
   "metadata": {
    "Collapsed": "false"
   },
   "source": [
    "Stack arrays horizontally (column-wise)"
   ]
  },
  {
   "cell_type": "code",
   "execution_count": 56,
   "metadata": {
    "Collapsed": "false"
   },
   "outputs": [
    {
     "data": {
      "text/plain": [
       "array([[1, 0],\n",
       "       [2, 0],\n",
       "       [3, 0]])"
      ]
     },
     "execution_count": 56,
     "metadata": {},
     "output_type": "execute_result"
    }
   ],
   "source": [
    "np.hstack((c, d))"
   ]
  },
  {
   "cell_type": "code",
   "execution_count": null,
   "metadata": {
    "Collapsed": "false"
   },
   "outputs": [],
   "source": [
    "np.row_stack"
   ]
  },
  {
   "cell_type": "code",
   "execution_count": 50,
   "metadata": {
    "Collapsed": "false"
   },
   "outputs": [
    {
     "data": {
      "text/plain": [
       "array([[1, 0],\n",
       "       [2, 0],\n",
       "       [3, 0]])"
      ]
     },
     "execution_count": 50,
     "metadata": {},
     "output_type": "execute_result"
    }
   ],
   "source": [
    "np.column_stack((c, d))  # Create stacked column-wise arrays"
   ]
  },
  {
   "cell_type": "code",
   "execution_count": null,
   "metadata": {
    "Collapsed": "false"
   },
   "outputs": [],
   "source": [
    ">>> np.vstack(([1,2,3],[4,5,6]))\n",
    "array([[1, 2, 3],\n",
    "       [4, 5, 6]])\n",
    ">>> np.column_stack(([1,2,3],[4,5,6]))\n",
    "array([[1, 4],\n",
    "       [2, 5],\n",
    "       [3, 6]])\n",
    ">>> np.hstack(([1,2,3],[4,5,6]))\n",
    "array([1, 2, 3, 4, 5, 6])"
   ]
  },
  {
   "cell_type": "code",
   "execution_count": null,
   "metadata": {
    "Collapsed": "false"
   },
   "outputs": [],
   "source": []
  },
  {
   "cell_type": "markdown",
   "metadata": {
    "Collapsed": "false",
    "hidden": true
   },
   "source": [
    "### Splitting Arrays\n",
    "\n",
    "```python\n",
    "np.hsplit()\n",
    "np.vsplit()\n",
    "```"
   ]
  },
  {
   "cell_type": "code",
   "execution_count": null,
   "metadata": {
    "Collapsed": "false"
   },
   "outputs": [],
   "source": []
  },
  {
   "cell_type": "code",
   "execution_count": null,
   "metadata": {
    "Collapsed": "false",
    "hidden": true
   },
   "outputs": [],
   "source": [
    "np.hsplit(a,3) Split the array horizontally at the 3rd\n",
    " [array([1]),array([2]),array([3])] index\n",
    ">>> np.vsplit(c,2) Split the array vertically at the 2nd index\n",
    "[array([[[ 1.5, 2. , 1. ],\n",
    " [ 4. , 5. , 6. ]]]),\n",
    " array([[[ 3., 2., 3.],\n",
    " [ 4., 5., 6.]]])]"
   ]
  },
  {
   "cell_type": "markdown",
   "metadata": {
    "Collapsed": "true",
    "hidden": true
   },
   "source": [
    "# Exercises"
   ]
  },
  {
   "cell_type": "markdown",
   "metadata": {
    "Collapsed": "true"
   },
   "source": [
    "### Exercise #1"
   ]
  },
  {
   "cell_type": "markdown",
   "metadata": {
    "Collapsed": "false"
   },
   "source": [
    "Create a numpy array of tuples with dates from 2019-2030 in the first position followed by 6 random numbers. Do this in the most efficient way.\n",
    "\n",
    "```python\n",
    "date_to_create = [('2019-01-01', 100.  , 104.06,  95.96, 100.34, 22351900, 100.34)\n",
    "                  ('2020-01-01', 101.01, 109.08, 100.5 , 108.31, 11428600, 108.31)\n",
    "                  ('2021-01-01', 110.75, 113.48, 109.05, 109.4 ,  9137200, 109.4 )\n",
    "                  ...\n",
    "                  ('2028-01-01', 313.16, 341.89, 310.3 , 332.  , 10597800, 332.  )\n",
    "                  ('2029-01-01', 355.79, 381.95, 345.75, 381.02,  8905500, 381.02)\n",
    "                  ('2030-01-01', 393.53, 394.5 , 357.  , 362.71,  7784800, 362.71)]\n",
    "```"
   ]
  },
  {
   "cell_type": "markdown",
   "metadata": {
    "Collapsed": "true"
   },
   "source": [
    "### Exercise #2"
   ]
  },
  {
   "cell_type": "markdown",
   "metadata": {
    "Collapsed": "false"
   },
   "source": [
    "Create a numpy array ..."
   ]
  },
  {
   "cell_type": "code",
   "execution_count": null,
   "metadata": {
    "Collapsed": "false"
   },
   "outputs": [],
   "source": [
    "# Complete the exercise here"
   ]
  },
  {
   "cell_type": "markdown",
   "metadata": {
    "Collapsed": "true"
   },
   "source": [
    "# Answers"
   ]
  }
 ],
 "metadata": {
  "kernelspec": {
   "display_name": "Python 3",
   "language": "python",
   "name": "python3"
  },
  "language_info": {
   "codemirror_mode": {
    "name": "ipython",
    "version": 3
   },
   "file_extension": ".py",
   "mimetype": "text/x-python",
   "name": "python",
   "nbconvert_exporter": "python",
   "pygments_lexer": "ipython3",
   "version": "3.7.5"
  },
  "latex_envs": {
   "LaTeX_envs_menu_present": true,
   "autoclose": false,
   "autocomplete": true,
   "bibliofile": "biblio.bib",
   "cite_by": "apalike",
   "current_citInitial": 1,
   "eqLabelWithNumbers": true,
   "eqNumInitial": 1,
   "hotkeys": {
    "equation": "Ctrl-E",
    "itemize": "Ctrl-I"
   },
   "labels_anchors": false,
   "latex_user_defs": false,
   "report_style_numbering": false,
   "user_envs_cfg": false
  }
 },
 "nbformat": 4,
 "nbformat_minor": 4
}
