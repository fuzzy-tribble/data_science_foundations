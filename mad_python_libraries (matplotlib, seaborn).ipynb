{
 "cells": [
  {
   "cell_type": "markdown",
   "metadata": {},
   "source": [
    "# M.A.D. Helper Libraries (matplotlib, seaborn)\n",
    "**M.A.D.** => **M**achine **L**earning **a**nd **D**ata Science\n",
    "\n",
    "The purpose of this notebook is to get you comfortable with some really common helper libraries that machine learning and data science practitioners use."
   ]
  },
  {
   "cell_type": "markdown",
   "metadata": {},
   "source": [
    "# [`matplotlib`](https://matplotlib.org/)\n",
    "\n",
    "`matplotlib` is a 2D plotting library but there are add-on toolkits (mplot3d) that allow for more complex plots."
   ]
  },
  {
   "cell_type": "markdown",
   "metadata": {},
   "source": [
    "# [`seaborn`](https://seaborn.pydata.org/)\n",
    "\n",
    "`seaborn` is a data visualization library based on matplotlib that allows you to make prettier and more complex graphics."
   ]
  }
 ],
 "metadata": {
  "kernelspec": {
   "display_name": "Python 3",
   "language": "python",
   "name": "python3"
  },
  "language_info": {
   "codemirror_mode": {
    "name": "ipython",
    "version": 3
   },
   "file_extension": ".py",
   "mimetype": "text/x-python",
   "name": "python",
   "nbconvert_exporter": "python",
   "pygments_lexer": "ipython3",
   "version": "3.7.5"
  },
  "latex_envs": {
   "LaTeX_envs_menu_present": true,
   "autoclose": false,
   "autocomplete": true,
   "bibliofile": "biblio.bib",
   "cite_by": "apalike",
   "current_citInitial": 1,
   "eqLabelWithNumbers": true,
   "eqNumInitial": 1,
   "hotkeys": {
    "equation": "Ctrl-E",
    "itemize": "Ctrl-I"
   },
   "labels_anchors": false,
   "latex_user_defs": false,
   "report_style_numbering": false,
   "user_envs_cfg": false
  }
 },
 "nbformat": 4,
 "nbformat_minor": 2
}
